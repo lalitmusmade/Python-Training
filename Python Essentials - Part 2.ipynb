{
 "cells": [
  {
   "cell_type": "markdown",
   "metadata": {},
   "source": [
    "# Table of Contents:\n",
    "1. Conditionals and Booleans Statements\n",
    "2. Loops and Iterations\n",
    "3. Comprehension\n",
    "6. Functions"
   ]
  },
  {
   "cell_type": "markdown",
   "metadata": {
    "collapsed": true
   },
   "source": [
    "### Conditionals and Booleans Statements"
   ]
  },
  {
   "cell_type": "code",
   "execution_count": null,
   "metadata": {},
   "outputs": [],
   "source": [
    "## True and False are the Boolean datatype used in python\n",
    "if True:\n",
    "     print('Condition is True')      ## Change it to False ## Doesnt print out the statment in the if block"
   ]
  },
  {
   "cell_type": "code",
   "execution_count": null,
   "metadata": {
    "collapsed": true
   },
   "outputs": [],
   "source": [
    "## if statement\n",
    "team = 'SAC'\n",
    "\n",
    "if team == 'SAC':                     ## '==' is the comparision operator and '=' is assignment operator\n",
    "    print('Condition is True')"
   ]
  },
  {
   "cell_type": "code",
   "execution_count": null,
   "metadata": {},
   "outputs": [],
   "source": [
    "## else statment\n",
    "team = 'SAC'\n",
    "\n",
    "if team == 'SAC':\n",
    "    print('Team is SAC')\n",
    "else:                                 ## Notice the indentation and white spaces\n",
    "    print('No match')\n",
    "\n",
    "# team = 'RD&E'\n",
    "\n",
    "# if team == 'SAC':\n",
    "#     print('Team is SAC')\n",
    "# else:                                 \n",
    "#     print('No match')"
   ]
  },
  {
   "cell_type": "code",
   "execution_count": null,
   "metadata": {},
   "outputs": [],
   "source": [
    "## elif statment\n",
    "team = 'RD&E'\n",
    "\n",
    "if team == 'SAC':\n",
    "    print('Team is SAC')\n",
    "    \n",
    "elif team == 'RD&E':\n",
    "    print('Team is RD&E')\n",
    "    \n",
    "else:                                 \n",
    "    print('No match')"
   ]
  },
  {
   "cell_type": "code",
   "execution_count": null,
   "metadata": {},
   "outputs": [],
   "source": [
    "## Adding more test cases ##\n",
    "team = 'HR'\n",
    "\n",
    "if team == 'SAC':\n",
    "    print('Team is SAC')\n",
    "    \n",
    "elif team == 'RD&E':\n",
    "    print('Team is RD&E')\n",
    "    \n",
    "elif team == 'HR':\n",
    "    print('Team is HR')\n",
    "    \n",
    "else:                                 \n",
    "    print('No match')"
   ]
  },
  {
   "cell_type": "code",
   "execution_count": null,
   "metadata": {},
   "outputs": [],
   "source": [
    "## boolean operations\n",
    "## and, or, not are the boolean operators\n",
    "\n",
    "user = 'Ecolab employee'\n",
    "logged_in = True                            ## Change it to False\n",
    "\n",
    "if user == 'Ecolab employee' and logged_in:\n",
    "    print('Ecolab Page')\n",
    "else:\n",
    "    print('Invalid Cred')"
   ]
  },
  {
   "cell_type": "code",
   "execution_count": null,
   "metadata": {},
   "outputs": [],
   "source": [
    "user = 'Ecolab employee'\n",
    "logged_in = False                           \n",
    "\n",
    "if user == 'Ecolab employee' and logged_in:            #### for 'and' both the conditions should be true\n",
    "    print('Ecolab Page')\n",
    "else:\n",
    "    print('Invalid Cred')"
   ]
  },
  {
   "cell_type": "code",
   "execution_count": null,
   "metadata": {},
   "outputs": [],
   "source": [
    "user = 'Ecolab employee'\n",
    "logged_in = False                           \n",
    "\n",
    "if user == 'Ecolab employee' or logged_in:             ## for 'or' any  of the one condition need to be true\n",
    "    print('Ecolab Page')\n",
    "else:\n",
    "    print('Invalid Cred')"
   ]
  },
  {
   "cell_type": "code",
   "execution_count": null,
   "metadata": {},
   "outputs": [],
   "source": [
    "## not operation is to switch a boolean from True to False and vice-versa\n",
    "user = 'Ecolab employee'\n",
    "logged_in = False\n",
    "\n",
    "if not logged_in:                    ## 'not logged_in' will evaluate to be True\n",
    "    print('Please login')\n",
    "else:\n",
    "    print('Welcome')"
   ]
  },
  {
   "cell_type": "markdown",
   "metadata": {},
   "source": [
    "#### '==' and 'is' operator "
   ]
  },
  {
   "cell_type": "code",
   "execution_count": null,
   "metadata": {},
   "outputs": [],
   "source": [
    "list_1 = ['SAC', 'RD&E', 'SCA', 'HR']\n",
    "list_2 = list_1\n",
    "print(list_1)\n",
    "print(list_2)"
   ]
  },
  {
   "cell_type": "code",
   "execution_count": null,
   "metadata": {},
   "outputs": [],
   "source": [
    "list_1[0] = 'Finance'\n",
    "\n",
    "print(list_1)\n",
    "print(list_2)"
   ]
  },
  {
   "cell_type": "code",
   "execution_count": null,
   "metadata": {},
   "outputs": [],
   "source": [
    "print(id(list_1))\n",
    "print(id(list_2))\n",
    "print(list_1 == list_2)\n",
    "print(list_1 is list_2)"
   ]
  },
  {
   "cell_type": "code",
   "execution_count": null,
   "metadata": {
    "collapsed": true
   },
   "outputs": [],
   "source": [
    "list_1 = ['SAC', 'RD&E', 'SCA', 'HR']\n",
    "list_2 = ['SAC', 'RD&E', 'SCA', 'HR']"
   ]
  },
  {
   "cell_type": "code",
   "execution_count": null,
   "metadata": {},
   "outputs": [],
   "source": [
    "list_1[0] = 'Finance'\n",
    "\n",
    "print(list_1)\n",
    "print(list_2)"
   ]
  },
  {
   "cell_type": "code",
   "execution_count": null,
   "metadata": {},
   "outputs": [],
   "source": [
    "list_1 = ['SAC', 'RD&E', 'SCA', 'HR']\n",
    "list_2 = ['SAC', 'RD&E', 'SCA', 'HR']\n",
    "print(id(list_1))\n",
    "print(id(list_2))\n",
    "print(list_1 == list_2)           ## Returns True #list are equal\n",
    "print(list_1 is list_2)           ## Returns False # Coz they are two differnet objects in Memory"
   ]
  },
  {
   "cell_type": "code",
   "execution_count": null,
   "metadata": {},
   "outputs": [],
   "source": [
    "## Conditions evaluated as True or False by Python\n",
    "# False Values:\n",
    "    # False\n",
    "    # None\n",
    "    # Zero of any numeric type\n",
    "    # Any empty sequence. For example, '', (), [].\n",
    "    # Any empty mapping. For example, {}.\n",
    "    \n",
    "condition = False\n",
    "\n",
    "if condition:\n",
    "    print('Evaluated to True')\n",
    "else:\n",
    "    print('Evaluated to False')"
   ]
  },
  {
   "cell_type": "markdown",
   "metadata": {
    "collapsed": true
   },
   "source": [
    "### Loops and Iterations ##"
   ]
  },
  {
   "cell_type": "code",
   "execution_count": null,
   "metadata": {
    "collapsed": true
   },
   "outputs": [],
   "source": [
    "nums = [1,2,3,4,5]\n",
    "\n",
    "for num in nums:\n",
    "    print(num)           ## iterate through the list and print all the numbers\n",
    "    \n",
    "# for num in nums:\n",
    "#     if num == 3:\n",
    "#         print('Found')\n",
    "#         break            ## break before 3     \n",
    "#     print(num)\n",
    "    \n",
    "# for num in nums:\n",
    "#     if num == 3:\n",
    "#         print('Found')\n",
    "#         continue            ## Continue  after statment   \n",
    "#     print(num)"
   ]
  },
  {
   "cell_type": "code",
   "execution_count": null,
   "metadata": {
    "collapsed": true
   },
   "outputs": [],
   "source": [
    "## loop with for\n",
    "nums = [1,2,3,4,5]\n",
    "for num in nums:\n",
    "    for letter in 'abc':\n",
    "        print(num, letter)     ## Give every combination of numbers and character"
   ]
  },
  {
   "cell_type": "code",
   "execution_count": null,
   "metadata": {
    "collapsed": true
   },
   "outputs": [],
   "source": [
    "## Range function \n",
    "for num in range(3):\n",
    "    print(num)           ## returns 0, 1, 2\n",
    "\n",
    "# for num in range(1,3):\n",
    "#     print(num)           ## return 1,2"
   ]
  },
  {
   "cell_type": "code",
   "execution_count": null,
   "metadata": {
    "collapsed": true
   },
   "outputs": [],
   "source": [
    "range()"
   ]
  },
  {
   "cell_type": "code",
   "execution_count": null,
   "metadata": {},
   "outputs": [],
   "source": [
    "## while loop\n",
    "x = 0\n",
    "while x < 5:\n",
    "    print(x)\n",
    "    x +=1                     ## returns 0 to 4\n",
    "\n",
    "\n",
    "\n",
    "# x = 0\n",
    "# while x < 5:\n",
    "#     if x == 3:\n",
    "#         break\n",
    "#     print(x)                   ## returns 0 to 2 \n",
    "#     x +=1\n",
    "    \n"
   ]
  },
  {
   "cell_type": "markdown",
   "metadata": {},
   "source": [
    "### Excercise with Blocks about Conditionals Statements"
   ]
  },
  {
   "cell_type": "code",
   "execution_count": null,
   "metadata": {
    "collapsed": true
   },
   "outputs": [],
   "source": [
    "from ipythonblocks import BlockGrid, colors, show_color, show_color_triple"
   ]
  },
  {
   "cell_type": "code",
   "execution_count": null,
   "metadata": {},
   "outputs": [],
   "source": [
    "colors.Black"
   ]
  },
  {
   "cell_type": "code",
   "execution_count": null,
   "metadata": {},
   "outputs": [],
   "source": [
    "grid = BlockGrid(width=5, height=5, fill=colors.Blue)\n",
    "grid"
   ]
  },
  {
   "cell_type": "markdown",
   "metadata": {},
   "source": [
    "### Exercise \n",
    "\n",
    "For the created `grid` variable,select all the `block` in the 2 row by `block.row`. Assign colour Black to this block using `block.rgb` and print the new grid"
   ]
  },
  {
   "cell_type": "code",
   "execution_count": null,
   "metadata": {},
   "outputs": [],
   "source": [
    "for block in grid.animate():\n",
    "    if block.row == 2:\n",
    "        block.rgb = colors.Black"
   ]
  },
  {
   "cell_type": "markdown",
   "metadata": {},
   "source": [
    "### Exercise \n",
    "\n",
    "For the created `grid` variable,select all the `block` in the 3 column by `block.col`. Assign colour Red to this block using `block.rgb` and print the new grid"
   ]
  },
  {
   "cell_type": "code",
   "execution_count": null,
   "metadata": {},
   "outputs": [],
   "source": [
    "for block in grid.animate():\n",
    "    if block.col == 3:\n",
    "        block.rgb = colors.Red"
   ]
  },
  {
   "cell_type": "markdown",
   "metadata": {},
   "source": [
    "### Exercise \n",
    "\n",
    "For the created `grid` variable,select all the `block` in the 0 row by `block.row` or select all the `block` in the 1 col by `block.col`. Assign colour Red to this block using `block.rgb` and print the new grid"
   ]
  },
  {
   "cell_type": "code",
   "execution_count": null,
   "metadata": {},
   "outputs": [],
   "source": [
    "for block in grid.animate():\n",
    "    if block.row == 0 or block.rgb == colors.Red:\n",
    "        block.rgb = colors.Black"
   ]
  },
  {
   "cell_type": "markdown",
   "metadata": {},
   "source": [
    "### Exercise \n",
    "\n",
    "For the created `grid` variable,select all the `block` in the 3 row by `block.row` and select all the `block` in the 1 col by `block.col`. Assign colour Black to this block using `block.rgb` and print the new grid"
   ]
  },
  {
   "cell_type": "code",
   "execution_count": null,
   "metadata": {},
   "outputs": [],
   "source": [
    "for block in grid.animate():\n",
    "    if block.col == 3 and block.rgb == colors.Black:\n",
    "        block.rgb = colors.Blue"
   ]
  },
  {
   "cell_type": "markdown",
   "metadata": {},
   "source": [
    "### Exercise \n",
    "\n",
    "For the created `grid` variable,select all the `block` in the 0 row by `block.row` and assign colour Blue, select all the `block` in the 2 row and assign colour Wheat, select all the remaining `block` and assign colour Gold.      "
   ]
  },
  {
   "cell_type": "code",
   "execution_count": null,
   "metadata": {},
   "outputs": [],
   "source": [
    "for block in grid.animate():\n",
    "    if block.row == 0:\n",
    "        block.rgb = colors.Blue\n",
    "    elif block.row == 2:\n",
    "        block.rgb = colors.Wheat\n",
    "    else:\n",
    "        block.rgb = colors.Gold"
   ]
  },
  {
   "cell_type": "markdown",
   "metadata": {},
   "source": [
    "### Exercise \n",
    "\n",
    "For the created `grid` variable,select all the `block` in the 1 row by `block.row` and assign colour Red, select all the `block` in the 2 row and assign colour Green, select all the remaining `block` and assign colour Gold.  "
   ]
  },
  {
   "cell_type": "code",
   "execution_count": null,
   "metadata": {},
   "outputs": [],
   "source": [
    "for block in grid.animate():\n",
    "    if block.row == 1:\n",
    "        block.rgb = colors.Red\n",
    "    elif block.row == 2:\n",
    "        block.rgb = colors.Green\n",
    "    else:\n",
    "        block.rgb = colors.Gold"
   ]
  },
  {
   "cell_type": "markdown",
   "metadata": {},
   "source": [
    "### Comprehension"
   ]
  },
  {
   "cell_type": "markdown",
   "metadata": {},
   "source": [
    "#### List Comprehension"
   ]
  },
  {
   "cell_type": "code",
   "execution_count": null,
   "metadata": {
    "collapsed": true
   },
   "outputs": [],
   "source": [
    "# for loop to create a list of squares\n",
    "nums = [1, 2, 3, 4, 5]\n",
    "squares = []\n",
    "for num in nums:\n",
    "    squares.append(num**2)\n",
    "print(squares)\n",
    "\n",
    "##I want 'num**2' for each 'num' in nums\n",
    "##equivalent list comprehension\n",
    "# squares = [num**2 for num in nums]\n",
    "# print(squares)"
   ]
  },
  {
   "cell_type": "code",
   "execution_count": null,
   "metadata": {
    "collapsed": true
   },
   "outputs": [],
   "source": [
    "# # for loop to create a list of squares of even numbers\n",
    "squares_of_even = []\n",
    "for num in nums:\n",
    "    if num % 2 == 0:\n",
    "        squares_of_even.append(num**2)\n",
    "print(squares_of_even)\n",
    "\n",
    "# # equivalent list comprehension\n",
    "# #I want 'num**2' for each 'num' in nums if n is even\n",
    "# squares_of_even = [num**2 for num in nums if num % 2 == 0 ]\n",
    "# print(squares_of_even)"
   ]
  },
  {
   "cell_type": "code",
   "execution_count": null,
   "metadata": {
    "collapsed": true
   },
   "outputs": [],
   "source": [
    "# # I want a (letter, num) pair for each letter in 'abcd' and each number in '0123'\n",
    "my_list = []\n",
    "for letter in 'abcd':\n",
    "    for num in range(4):\n",
    "        my_list.append((letter,num))\n",
    "print(my_list)\n",
    "\n",
    "# my_list = [(letter, num) for letter in 'abcd' for num in range(4)]\n",
    "# print(my_list)"
   ]
  },
  {
   "cell_type": "code",
   "execution_count": null,
   "metadata": {
    "collapsed": true
   },
   "outputs": [],
   "source": [
    "# # for loop to cube even numbers and square odd numbers\n",
    "cubes_and_squares = []\n",
    "for num in nums:\n",
    "    if num % 2 == 0:\n",
    "        cubes_and_squares.append(num**3)\n",
    "    else:\n",
    "        cubes_and_squares.append(num**2)\n",
    "\n",
    "# # equivalent list comprehension (using a ternary expression)\n",
    "# # syntax: [true_condition if condition else false_condition for variable in iterable]\n",
    "# cubes_and_squares = [num**3 if num % 2 == 0 else num**2 for num in nums]\n",
    "# print(cubes_and_squares)"
   ]
  },
  {
   "cell_type": "markdown",
   "metadata": {},
   "source": [
    "#### Dictionary Comprehension"
   ]
  },
  {
   "cell_type": "code",
   "execution_count": null,
   "metadata": {
    "collapsed": true
   },
   "outputs": [],
   "source": [
    "fruits = ['apple', 'banana', 'cherry']\n",
    "fruit_lengths = {fruit:len(fruit) for fruit in fruits}\n",
    "print(fruit_lengths)\n",
    "\n",
    "# fruit_lengths = {fruit:len(fruit) for fruit in fruits if fruit != 'cherry'}\n",
    "# print(fruit_lengths)"
   ]
  },
  {
   "cell_type": "code",
   "execution_count": null,
   "metadata": {
    "collapsed": true
   },
   "outputs": [],
   "source": [
    "### Dict comprehension from two list\n",
    "list1 = ['a', 'b', 'c']\n",
    "list2 = [1, 2, 3]\n",
    "dict_list = {key:value for (key,value) in zip(list1,list2)}\n",
    "print(dict_list)\n",
    "\n",
    "# ## Dict comrehension from two tuples\n",
    "# tup1  = ('a','b','c')\n",
    "# tup2 = (1,2,3)\n",
    "# dict_tuple = {key:value for (key,value) in zip(tup1,tup2)}"
   ]
  },
  {
   "cell_type": "code",
   "execution_count": null,
   "metadata": {
    "collapsed": true
   },
   "outputs": [],
   "source": [
    "# Set Comprehensions\n",
    "nums = [1,1,2,1,3,4,3,4,5,5,6,7,8,7,9,9]\n",
    "my_set = set()\n",
    "for num in nums:\n",
    "    my_set.add(num)\n",
    "print(my_set)\n",
    "\n",
    "# my_set = {num for num in nums}\n",
    "# print(my_set)"
   ]
  },
  {
   "cell_type": "markdown",
   "metadata": {},
   "source": [
    "### Functions"
   ]
  },
  {
   "cell_type": "code",
   "execution_count": null,
   "metadata": {
    "collapsed": true
   },
   "outputs": [],
   "source": [
    "##define a function with no arguments and no return values\n",
    "\n",
    "def hello_func():\n",
    "    pass\n",
    "print(hello_func)   ## Print function object\n",
    "print(hello_func())"
   ]
  },
  {
   "cell_type": "code",
   "execution_count": null,
   "metadata": {
    "collapsed": true
   },
   "outputs": [],
   "source": [
    "## What happens if no return value\n",
    "def hello_func():\n",
    "    print('this is text')\n",
    "# call the function\n",
    "#hello_func()\n",
    "value_function = hello_func()\n",
    "print(value_function)"
   ]
  },
  {
   "cell_type": "code",
   "execution_count": null,
   "metadata": {
    "collapsed": true
   },
   "outputs": [],
   "source": [
    "## define a function with no arguments and one return values\n",
    "\n",
    "def hello_func():\n",
    "    return 'this is text'\n",
    "# call the function\n",
    "hello_func()\n",
    "value_function = hello_func()\n",
    "print(value_function)\n",
    "\n",
    "\n",
    "def hello_func():\n",
    "    return 'this is text'\n",
    "\n",
    "print(hello_func().upper())"
   ]
  },
  {
   "cell_type": "code",
   "execution_count": null,
   "metadata": {
    "collapsed": true
   },
   "outputs": [],
   "source": [
    "## define a function with one arguments and one return values\n",
    "\n",
    "def hello_func(greeting):\n",
    "    return '{} Ecolab!'.format(greeting)\n",
    "#print(hello_func())      ## Error message for passing argument\n",
    "print(hello_func('Hi'))"
   ]
  },
  {
   "cell_type": "code",
   "execution_count": null,
   "metadata": {
    "collapsed": true
   },
   "outputs": [],
   "source": [
    "# #define a function with one 'positional arguments' (no default values) and one 'keyword argument' (has a default value)\n",
    "# def hello_func(greeting, name='Ecolab!'):\n",
    "#     #print(greeting)\n",
    "#     return '{} {}'.format(greeting, name)\n",
    "# print(hello_func('Hi'))\n",
    "\n",
    "\n",
    "def hello_func(greeting, name='Ecolab!'):\n",
    "    return '{} {}'.format(greeting, name)\n",
    "print(hello_func('Hi', name='SAC!'))"
   ]
  },
  {
   "cell_type": "code",
   "execution_count": null,
   "metadata": {
    "collapsed": true
   },
   "outputs": [],
   "source": [
    "### ANONYMOUS (LAMBDA) FUNCTIONS ###\n",
    "## primarily used to temporarily define a function for use by another function\n",
    "\n",
    "## define a function the \"usual\" way\n",
    "def squared(x):\n",
    "    return x**2\n",
    "print(squared(2))\n",
    "\n",
    "## define an identical function using lambda\n",
    "squared = (lambda x: x**2)\n",
    "print(squared(2))\n",
    "\n",
    "#Creating variable using existing dataframe\n",
    "#train_df[\"Year\"] = train_df[\"Date\"].apply(lambda x: x.year)"
   ]
  },
  {
   "cell_type": "code",
   "execution_count": null,
   "metadata": {
    "collapsed": true
   },
   "outputs": [],
   "source": [
    "## pass many positional arguments and keyword arguments\n",
    "def student_info(*args, **kwargs):\n",
    "    print(args)\n",
    "    print(kwargs)\n",
    "    \n",
    "student_info('Math', 'Art', name ='Bikash', age= '22' )"
   ]
  },
  {
   "cell_type": "code",
   "execution_count": null,
   "metadata": {},
   "outputs": [],
   "source": [
    "def student_info(*args, **kwargs):\n",
    "    print(args)\n",
    "    print(kwargs)\n",
    "\n",
    "    \n",
    "courses = ['Math', 'Art']\n",
    "info = {'name': 'Bikash', 'age': '22'}\n",
    "#student_info(courses, info)\n",
    "student_info(*courses, **info)"
   ]
  },
  {
   "cell_type": "markdown",
   "metadata": {},
   "source": [
    "### Exercise \n",
    "\n",
    "Create a function is_even which take in number as argument and return True if number is even and False otherwise."
   ]
  },
  {
   "cell_type": "code",
   "execution_count": null,
   "metadata": {
    "collapsed": true
   },
   "outputs": [],
   "source": [
    "def is_even(number):\n",
    "    if number % 2 == 0:\n",
    "        return True \n",
    "    return False"
   ]
  },
  {
   "cell_type": "code",
   "execution_count": null,
   "metadata": {},
   "outputs": [],
   "source": [
    "print(is_even(20))\n",
    "print(is_even(21))"
   ]
  },
  {
   "cell_type": "code",
   "execution_count": null,
   "metadata": {
    "collapsed": true
   },
   "outputs": [],
   "source": []
  }
 ],
 "metadata": {
  "kernelspec": {
   "display_name": "Python 3",
   "language": "python",
   "name": "python3"
  },
  "language_info": {
   "codemirror_mode": {
    "name": "ipython",
    "version": 3
   },
   "file_extension": ".py",
   "mimetype": "text/x-python",
   "name": "python",
   "nbconvert_exporter": "python",
   "pygments_lexer": "ipython3",
   "version": "3.6.3"
  }
 },
 "nbformat": 4,
 "nbformat_minor": 1
}
