{
 "cells": [
  {
   "cell_type": "markdown",
   "metadata": {},
   "source": [
    "# Table of Contents:\n",
    "1. Python Datatypes\n",
    "2. Data structures\n",
    "    1. List\n",
    "    2. Tuples\n",
    "    3. Sets\n",
    "    4. Dictionaries\n",
    "3. Conditional Statements\n",
    "4. Loops and Iterations\n",
    "5. Comprehension\n",
    "6. Functions"
   ]
  },
  {
   "cell_type": "markdown",
   "metadata": {},
   "source": [
    "## Python Datatypes\n",
    "1. Strings\n",
    "2. Float\n",
    "3. Integers\n",
    "4. Boolean\n",
    "5. Nonetype"
   ]
  },
  {
   "cell_type": "markdown",
   "metadata": {},
   "source": [
    "### Strings\n",
    "properties: iterable, immutable"
   ]
  },
  {
   "cell_type": "code",
   "execution_count": 67,
   "metadata": {},
   "outputs": [
    {
     "name": "stdout",
     "output_type": "stream",
     "text": [
      "Hello Ecolab\n"
     ]
    }
   ],
   "source": [
    "message = 'Hello Ecolab'    ## create a variable 'message' ## conventions for variables\n",
    "print(message)              ## Comments in Python"
   ]
  },
  {
   "cell_type": "code",
   "execution_count": 40,
   "metadata": {},
   "outputs": [
    {
     "data": {
      "text/plain": [
       "'Hello'"
      ]
     },
     "execution_count": 40,
     "metadata": {},
     "output_type": "execute_result"
    }
   ],
   "source": [
    "## Examine string\n",
    "len(message)      ## returns 12\n",
    "message[0]        ## starts with 0 ## returns 'H'\n",
    "message[11]       ## returns 'b' ## last character\n",
    "message[0:5]      ## returns 'Hello' ## first index is inclusive and second is not \n",
    "# message[:5]       ## returns 'Hello'\n",
    "# message[6:]       ## returns 'Ecolab'"
   ]
  },
  {
   "cell_type": "markdown",
   "metadata": {},
   "source": [
    "All of the data types are going to have certain methods available to us that give us access to a lot of useful functionality.<br> \n",
    "Functions and methods are basically the same thing a method is just a function that belongs to a class"
   ]
  },
  {
   "cell_type": "code",
   "execution_count": 78,
   "metadata": {},
   "outputs": [
    {
     "data": {
      "text/plain": [
       "'Hello Pune'"
      ]
     },
     "execution_count": 78,
     "metadata": {},
     "output_type": "execute_result"
    }
   ],
   "source": [
    "## string methods (does not modify the original string) ## Access method using dot method and parentheses\n",
    "message.lower()           # returns 'hello world'\n",
    "message.upper()           # returns 'HELLO WORLD'\n",
    "message.count('Hello')    # retuns 1\n",
    "message.find('Ecolab')      # returns index of first occurrence (6), but doesn't support regex\n",
    "message.find('Pune')      # returns -1 since not found\n",
    "message.replace('Ecolab','Pune')    # replaces all instances of 'world' with 'universe'"
   ]
  },
  {
   "cell_type": "code",
   "execution_count": 81,
   "metadata": {},
   "outputs": [
    {
     "data": {
      "text/plain": [
       "'Hello, Ecolab. Wassup!'"
      ]
     },
     "execution_count": 81,
     "metadata": {},
     "output_type": "execute_result"
    }
   ],
   "source": [
    "# concatenate strings and string fromatting\n",
    "\n",
    "greeting = 'Hello'\n",
    "name = 'Ecolab'\n",
    "message = greeting + name            ## doesn't have a space \n",
    "message = greeting + ', ' + name\n",
    "message = greeting + ', '+ name + '. Wassup!'        ## hard to keep track of whitespaces and plus signs\n",
    "message = '{}, {}. Wassup!'.format(greeting, name)  ## formatted strings\n",
    "#message = f'{greeting}, {name}. Wassup!'\n",
    "#message = f'{greeting}, {name.upper()}. Wassup!'\n",
    "message"
   ]
  },
  {
   "cell_type": "code",
   "execution_count": 12,
   "metadata": {},
   "outputs": [
    {
     "name": "stdout",
     "output_type": "stream",
     "text": [
      "Help on method_descriptor:\n",
      "\n",
      "lower(...)\n",
      "    S.lower() -> str\n",
      "    \n",
      "    Return a copy of the string S converted to lowercase.\n",
      "\n"
     ]
    }
   ],
   "source": [
    "## See attributes and methods\n",
    "dir(name)\n",
    "#help(str)\n",
    "help(str.lower)"
   ]
  },
  {
   "cell_type": "markdown",
   "metadata": {},
   "source": [
    "### FLOAT AND INTEGERS ##"
   ]
  },
  {
   "cell_type": "code",
   "execution_count": 13,
   "metadata": {},
   "outputs": [
    {
     "name": "stdout",
     "output_type": "stream",
     "text": [
      "<class 'float'>\n"
     ]
    }
   ],
   "source": [
    "#num = 3\n",
    "num = 3.14\n",
    "print(type(num))"
   ]
  },
  {
   "cell_type": "code",
   "execution_count": 14,
   "metadata": {},
   "outputs": [
    {
     "data": {
      "text/plain": [
       "1"
      ]
     },
     "execution_count": 14,
     "metadata": {},
     "output_type": "execute_result"
    }
   ],
   "source": [
    "#Arithmetic Operators: \n",
    "# 10 + 4          # add (returns 14)\n",
    "# 10 - 4          # subtract (returns 6)\n",
    "# 10 * 4          # multiply (returns 40)\n",
    "#10 ** 4          # exponent (returns 10000)\n",
    "#10 / 4            # division (returns 2 because both types are 'int')\n",
    "#10 // 4         # floor divide (returns 2.5)\n",
    "5 % 4           # modulo (returns 1) - also known as the remainder"
   ]
  },
  {
   "cell_type": "code",
   "execution_count": 15,
   "metadata": {},
   "outputs": [
    {
     "data": {
      "text/plain": [
       "3"
      ]
     },
     "execution_count": 15,
     "metadata": {},
     "output_type": "execute_result"
    }
   ],
   "source": [
    "## Methods associated with floats and integers\n",
    "abs(-3)\n",
    "round(3.14)"
   ]
  },
  {
   "cell_type": "markdown",
   "metadata": {},
   "source": [
    "#### Comparisons:\n",
    " Equal:            3 == 2 <br>\n",
    " Not Equal:        3 != 2 <br>\n",
    " Greater Than:     3 > 2 <br>\n",
    " Less Than:        3 < 2 <br>\n",
    " Greater or Equal: 3 >= 2 <br>\n",
    " Less or Equal:    3 <= 2 <br>"
   ]
  },
  {
   "cell_type": "code",
   "execution_count": 16,
   "metadata": {},
   "outputs": [
    {
     "data": {
      "text/plain": [
       "True"
      ]
     },
     "execution_count": 16,
     "metadata": {},
     "output_type": "execute_result"
    }
   ],
   "source": [
    "num1 = 3\n",
    "num2 = 2\n",
    "num1 != num2"
   ]
  },
  {
   "cell_type": "code",
   "execution_count": 17,
   "metadata": {},
   "outputs": [
    {
     "data": {
      "text/plain": [
       "'100200'"
      ]
     },
     "execution_count": 17,
     "metadata": {},
     "output_type": "execute_result"
    }
   ],
   "source": [
    "## Casting\n",
    "num1 = '100'\n",
    "num2 = '200'\n",
    "\n",
    "num1 + num2\n",
    "# num1 = int(num1)\n",
    "# num2 = int(num2)\n",
    "num1 + num2"
   ]
  },
  {
   "cell_type": "markdown",
   "metadata": {},
   "source": [
    "### Excercise with Blocks"
   ]
  },
  {
   "cell_type": "code",
   "execution_count": 18,
   "metadata": {
    "collapsed": true
   },
   "outputs": [],
   "source": [
    "from ipythonblocks import BlockGrid, colors, show_color, show_color_triple"
   ]
  },
  {
   "cell_type": "code",
   "execution_count": 41,
   "metadata": {},
   "outputs": [
    {
     "data": {
      "text/html": [
       "<style type=\"text/css\">table.blockgrid {border: none;} .blockgrid tr {border: none;} .blockgrid td {padding: 0px;} #blocksc5692442-4a82-4520-bc7b-b7688dfea40b td {border: 1px solid white;}</style><table id=\"blocksc5692442-4a82-4520-bc7b-b7688dfea40b\" class=\"blockgrid\"><tbody><tr><td title=\"Index: [0, 0]&#10;Color: (0, 139, 139)\" style=\"width: 20px; height: 20px;background-color: rgb(0, 139, 139);\"></td><td title=\"Index: [0, 1]&#10;Color: (0, 139, 139)\" style=\"width: 20px; height: 20px;background-color: rgb(0, 139, 139);\"></td><td title=\"Index: [0, 2]&#10;Color: (0, 139, 139)\" style=\"width: 20px; height: 20px;background-color: rgb(0, 139, 139);\"></td><td title=\"Index: [0, 3]&#10;Color: (0, 139, 139)\" style=\"width: 20px; height: 20px;background-color: rgb(0, 139, 139);\"></td><td title=\"Index: [0, 4]&#10;Color: (0, 139, 139)\" style=\"width: 20px; height: 20px;background-color: rgb(0, 139, 139);\"></td></tr><tr><td title=\"Index: [1, 0]&#10;Color: (0, 139, 139)\" style=\"width: 20px; height: 20px;background-color: rgb(0, 139, 139);\"></td><td title=\"Index: [1, 1]&#10;Color: (0, 139, 139)\" style=\"width: 20px; height: 20px;background-color: rgb(0, 139, 139);\"></td><td title=\"Index: [1, 2]&#10;Color: (0, 139, 139)\" style=\"width: 20px; height: 20px;background-color: rgb(0, 139, 139);\"></td><td title=\"Index: [1, 3]&#10;Color: (0, 139, 139)\" style=\"width: 20px; height: 20px;background-color: rgb(0, 139, 139);\"></td><td title=\"Index: [1, 4]&#10;Color: (0, 139, 139)\" style=\"width: 20px; height: 20px;background-color: rgb(0, 139, 139);\"></td></tr><tr><td title=\"Index: [2, 0]&#10;Color: (0, 139, 139)\" style=\"width: 20px; height: 20px;background-color: rgb(0, 139, 139);\"></td><td title=\"Index: [2, 1]&#10;Color: (0, 139, 139)\" style=\"width: 20px; height: 20px;background-color: rgb(0, 139, 139);\"></td><td title=\"Index: [2, 2]&#10;Color: (0, 139, 139)\" style=\"width: 20px; height: 20px;background-color: rgb(0, 139, 139);\"></td><td title=\"Index: [2, 3]&#10;Color: (0, 139, 139)\" style=\"width: 20px; height: 20px;background-color: rgb(0, 139, 139);\"></td><td title=\"Index: [2, 4]&#10;Color: (0, 139, 139)\" style=\"width: 20px; height: 20px;background-color: rgb(0, 139, 139);\"></td></tr><tr><td title=\"Index: [3, 0]&#10;Color: (0, 139, 139)\" style=\"width: 20px; height: 20px;background-color: rgb(0, 139, 139);\"></td><td title=\"Index: [3, 1]&#10;Color: (0, 139, 139)\" style=\"width: 20px; height: 20px;background-color: rgb(0, 139, 139);\"></td><td title=\"Index: [3, 2]&#10;Color: (0, 139, 139)\" style=\"width: 20px; height: 20px;background-color: rgb(0, 139, 139);\"></td><td title=\"Index: [3, 3]&#10;Color: (0, 139, 139)\" style=\"width: 20px; height: 20px;background-color: rgb(0, 139, 139);\"></td><td title=\"Index: [3, 4]&#10;Color: (0, 139, 139)\" style=\"width: 20px; height: 20px;background-color: rgb(0, 139, 139);\"></td></tr><tr><td title=\"Index: [4, 0]&#10;Color: (0, 139, 139)\" style=\"width: 20px; height: 20px;background-color: rgb(0, 139, 139);\"></td><td title=\"Index: [4, 1]&#10;Color: (0, 139, 139)\" style=\"width: 20px; height: 20px;background-color: rgb(0, 139, 139);\"></td><td title=\"Index: [4, 2]&#10;Color: (0, 139, 139)\" style=\"width: 20px; height: 20px;background-color: rgb(0, 139, 139);\"></td><td title=\"Index: [4, 3]&#10;Color: (0, 139, 139)\" style=\"width: 20px; height: 20px;background-color: rgb(0, 139, 139);\"></td><td title=\"Index: [4, 4]&#10;Color: (0, 139, 139)\" style=\"width: 20px; height: 20px;background-color: rgb(0, 139, 139);\"></td></tr></tbody></table>"
      ],
      "text/plain": [
       "<ipythonblocks.BlockGrid at 0x1eb44644240>"
      ]
     },
     "execution_count": 41,
     "metadata": {},
     "output_type": "execute_result"
    }
   ],
   "source": [
    "BlockGrid(width=5, height=5, fill=colors.DarkCyan)"
   ]
  },
  {
   "cell_type": "code",
   "execution_count": 42,
   "metadata": {},
   "outputs": [
    {
     "data": {
      "text/html": [
       "<style type=\"text/css\">table.blockgrid {border: none;} .blockgrid tr {border: none;} .blockgrid td {padding: 0px;} #blockse4f8a777-df92-4f06-a341-672ffbfb8ecc td {border: 1px solid white;}</style><table id=\"blockse4f8a777-df92-4f06-a341-672ffbfb8ecc\" class=\"blockgrid\"><tbody><tr><td title=\"Index: [0, 0]&#10;Color: (0, 139, 139)\" style=\"width: 20px; height: 20px;background-color: rgb(0, 139, 139);\"></td><td title=\"Index: [0, 1]&#10;Color: (0, 139, 139)\" style=\"width: 20px; height: 20px;background-color: rgb(0, 139, 139);\"></td><td title=\"Index: [0, 2]&#10;Color: (0, 139, 139)\" style=\"width: 20px; height: 20px;background-color: rgb(0, 139, 139);\"></td><td title=\"Index: [0, 3]&#10;Color: (0, 139, 139)\" style=\"width: 20px; height: 20px;background-color: rgb(0, 139, 139);\"></td><td title=\"Index: [0, 4]&#10;Color: (0, 139, 139)\" style=\"width: 20px; height: 20px;background-color: rgb(0, 139, 139);\"></td></tr><tr><td title=\"Index: [1, 0]&#10;Color: (0, 139, 139)\" style=\"width: 20px; height: 20px;background-color: rgb(0, 139, 139);\"></td><td title=\"Index: [1, 1]&#10;Color: (0, 139, 139)\" style=\"width: 20px; height: 20px;background-color: rgb(0, 139, 139);\"></td><td title=\"Index: [1, 2]&#10;Color: (0, 139, 139)\" style=\"width: 20px; height: 20px;background-color: rgb(0, 139, 139);\"></td><td title=\"Index: [1, 3]&#10;Color: (0, 139, 139)\" style=\"width: 20px; height: 20px;background-color: rgb(0, 139, 139);\"></td><td title=\"Index: [1, 4]&#10;Color: (0, 139, 139)\" style=\"width: 20px; height: 20px;background-color: rgb(0, 139, 139);\"></td></tr><tr><td title=\"Index: [2, 0]&#10;Color: (0, 139, 139)\" style=\"width: 20px; height: 20px;background-color: rgb(0, 139, 139);\"></td><td title=\"Index: [2, 1]&#10;Color: (0, 139, 139)\" style=\"width: 20px; height: 20px;background-color: rgb(0, 139, 139);\"></td><td title=\"Index: [2, 2]&#10;Color: (0, 139, 139)\" style=\"width: 20px; height: 20px;background-color: rgb(0, 139, 139);\"></td><td title=\"Index: [2, 3]&#10;Color: (0, 139, 139)\" style=\"width: 20px; height: 20px;background-color: rgb(0, 139, 139);\"></td><td title=\"Index: [2, 4]&#10;Color: (0, 139, 139)\" style=\"width: 20px; height: 20px;background-color: rgb(0, 139, 139);\"></td></tr><tr><td title=\"Index: [3, 0]&#10;Color: (0, 139, 139)\" style=\"width: 20px; height: 20px;background-color: rgb(0, 139, 139);\"></td><td title=\"Index: [3, 1]&#10;Color: (0, 139, 139)\" style=\"width: 20px; height: 20px;background-color: rgb(0, 139, 139);\"></td><td title=\"Index: [3, 2]&#10;Color: (0, 139, 139)\" style=\"width: 20px; height: 20px;background-color: rgb(0, 139, 139);\"></td><td title=\"Index: [3, 3]&#10;Color: (0, 139, 139)\" style=\"width: 20px; height: 20px;background-color: rgb(0, 139, 139);\"></td><td title=\"Index: [3, 4]&#10;Color: (0, 139, 139)\" style=\"width: 20px; height: 20px;background-color: rgb(0, 139, 139);\"></td></tr><tr><td title=\"Index: [4, 0]&#10;Color: (0, 139, 139)\" style=\"width: 20px; height: 20px;background-color: rgb(0, 139, 139);\"></td><td title=\"Index: [4, 1]&#10;Color: (0, 139, 139)\" style=\"width: 20px; height: 20px;background-color: rgb(0, 139, 139);\"></td><td title=\"Index: [4, 2]&#10;Color: (0, 139, 139)\" style=\"width: 20px; height: 20px;background-color: rgb(0, 139, 139);\"></td><td title=\"Index: [4, 3]&#10;Color: (0, 139, 139)\" style=\"width: 20px; height: 20px;background-color: rgb(0, 139, 139);\"></td><td title=\"Index: [4, 4]&#10;Color: (0, 139, 139)\" style=\"width: 20px; height: 20px;background-color: rgb(0, 139, 139);\"></td></tr></tbody></table>"
      ],
      "text/plain": [
       "<ipythonblocks.BlockGrid at 0x1eb44644a90>"
      ]
     },
     "execution_count": 42,
     "metadata": {},
     "output_type": "execute_result"
    }
   ],
   "source": [
    "grid = BlockGrid(width=5, height=5, fill=colors.DarkCyan)   ## assigning variable\n",
    "grid"
   ]
  },
  {
   "cell_type": "code",
   "execution_count": 21,
   "metadata": {
    "collapsed": true
   },
   "outputs": [],
   "source": [
    "grid?"
   ]
  },
  {
   "cell_type": "code",
   "execution_count": 43,
   "metadata": {},
   "outputs": [
    {
     "data": {
      "text/html": [
       "<style type=\"text/css\">table.blockgrid {border: none;} .blockgrid tr {border: none;} .blockgrid td {padding: 0px;} #blocksf8e740b4-2ebb-4819-99ff-1cabcdb3e479 td {border: 1px solid white;}</style><table id=\"blocksf8e740b4-2ebb-4819-99ff-1cabcdb3e479\" class=\"blockgrid\"><tbody><tr><td title=\"Index: [0, 0]&#10;Color: (0, 139, 139)\" style=\"width: 20px; height: 20px;background-color: rgb(0, 139, 139);\"></td><td title=\"Index: [0, 1]&#10;Color: (0, 139, 139)\" style=\"width: 20px; height: 20px;background-color: rgb(0, 139, 139);\"></td><td title=\"Index: [0, 2]&#10;Color: (0, 139, 139)\" style=\"width: 20px; height: 20px;background-color: rgb(0, 139, 139);\"></td><td title=\"Index: [0, 3]&#10;Color: (0, 139, 139)\" style=\"width: 20px; height: 20px;background-color: rgb(0, 139, 139);\"></td><td title=\"Index: [0, 4]&#10;Color: (0, 139, 139)\" style=\"width: 20px; height: 20px;background-color: rgb(0, 139, 139);\"></td></tr><tr><td title=\"Index: [1, 0]&#10;Color: (0, 139, 139)\" style=\"width: 20px; height: 20px;background-color: rgb(0, 139, 139);\"></td><td title=\"Index: [1, 1]&#10;Color: (0, 139, 139)\" style=\"width: 20px; height: 20px;background-color: rgb(0, 139, 139);\"></td><td title=\"Index: [1, 2]&#10;Color: (0, 139, 139)\" style=\"width: 20px; height: 20px;background-color: rgb(0, 139, 139);\"></td><td title=\"Index: [1, 3]&#10;Color: (0, 139, 139)\" style=\"width: 20px; height: 20px;background-color: rgb(0, 139, 139);\"></td><td title=\"Index: [1, 4]&#10;Color: (0, 139, 139)\" style=\"width: 20px; height: 20px;background-color: rgb(0, 139, 139);\"></td></tr><tr><td title=\"Index: [2, 0]&#10;Color: (0, 139, 139)\" style=\"width: 20px; height: 20px;background-color: rgb(0, 139, 139);\"></td><td title=\"Index: [2, 1]&#10;Color: (0, 139, 139)\" style=\"width: 20px; height: 20px;background-color: rgb(0, 139, 139);\"></td><td title=\"Index: [2, 2]&#10;Color: (0, 139, 139)\" style=\"width: 20px; height: 20px;background-color: rgb(0, 139, 139);\"></td><td title=\"Index: [2, 3]&#10;Color: (0, 0, 0)\" style=\"width: 20px; height: 20px;background-color: rgb(0, 0, 0);\"></td><td title=\"Index: [2, 4]&#10;Color: (0, 139, 139)\" style=\"width: 20px; height: 20px;background-color: rgb(0, 139, 139);\"></td></tr><tr><td title=\"Index: [3, 0]&#10;Color: (0, 139, 139)\" style=\"width: 20px; height: 20px;background-color: rgb(0, 139, 139);\"></td><td title=\"Index: [3, 1]&#10;Color: (0, 139, 139)\" style=\"width: 20px; height: 20px;background-color: rgb(0, 139, 139);\"></td><td title=\"Index: [3, 2]&#10;Color: (0, 139, 139)\" style=\"width: 20px; height: 20px;background-color: rgb(0, 139, 139);\"></td><td title=\"Index: [3, 3]&#10;Color: (0, 139, 139)\" style=\"width: 20px; height: 20px;background-color: rgb(0, 139, 139);\"></td><td title=\"Index: [3, 4]&#10;Color: (0, 139, 139)\" style=\"width: 20px; height: 20px;background-color: rgb(0, 139, 139);\"></td></tr><tr><td title=\"Index: [4, 0]&#10;Color: (0, 139, 139)\" style=\"width: 20px; height: 20px;background-color: rgb(0, 139, 139);\"></td><td title=\"Index: [4, 1]&#10;Color: (0, 139, 139)\" style=\"width: 20px; height: 20px;background-color: rgb(0, 139, 139);\"></td><td title=\"Index: [4, 2]&#10;Color: (0, 139, 139)\" style=\"width: 20px; height: 20px;background-color: rgb(0, 139, 139);\"></td><td title=\"Index: [4, 3]&#10;Color: (0, 139, 139)\" style=\"width: 20px; height: 20px;background-color: rgb(0, 139, 139);\"></td><td title=\"Index: [4, 4]&#10;Color: (0, 139, 139)\" style=\"width: 20px; height: 20px;background-color: rgb(0, 139, 139);\"></td></tr></tbody></table>"
      ],
      "text/plain": [
       "<ipythonblocks.BlockGrid at 0x1eb44644a90>"
      ]
     },
     "execution_count": 43,
     "metadata": {},
     "output_type": "execute_result"
    }
   ],
   "source": [
    "#grid_select =[2,3]                 ## Calling BlockGrid using list\n",
    "row =2\n",
    "column =3\n",
    "block = grid[row,column]\n",
    "block.rgb = colors.Black\n",
    "grid"
   ]
  },
  {
   "cell_type": "code",
   "execution_count": 23,
   "metadata": {},
   "outputs": [
    {
     "data": {
      "text/html": [
       "<style type=\"text/css\">table.blockgrid {border: none;} .blockgrid tr {border: none;} .blockgrid td {padding: 0px;} #blocksc8ede092-1a03-4e05-bcea-321e0f16a301 td {border: 0px solid white;}</style><table id=\"blocksc8ede092-1a03-4e05-bcea-321e0f16a301\" class=\"blockgrid\"><tbody><tr><td title=\"Index: [2, 3]&#10;Color: (0, 0, 0)\" style=\"width: 20px; height: 20px;background-color: rgb(0, 0, 0);\"></td></tr></tbody></table>"
      ],
      "text/plain": [
       "Block(0, 0, 0, size=20)"
      ]
     },
     "execution_count": 23,
     "metadata": {},
     "output_type": "execute_result"
    }
   ],
   "source": [
    "block"
   ]
  },
  {
   "cell_type": "code",
   "execution_count": null,
   "metadata": {
    "collapsed": true
   },
   "outputs": [],
   "source": [
    "block.rgb"
   ]
  },
  {
   "cell_type": "markdown",
   "metadata": {},
   "source": [
    "## Data structures"
   ]
  },
  {
   "cell_type": "markdown",
   "metadata": {},
   "source": [
    "### LISTS ###\n",
    "properties: ordered, iterable, mutable, can contain multiple data types"
   ]
  },
  {
   "cell_type": "code",
   "execution_count": 44,
   "metadata": {},
   "outputs": [
    {
     "data": {
      "text/plain": [
       "['SAC', 'RD&E', 'SCA', 'HR']"
      ]
     },
     "execution_count": 44,
     "metadata": {},
     "output_type": "execute_result"
    }
   ],
   "source": [
    "teams = ['SAC', 'RD&E', 'SCA', 'HR']\n",
    "teams\n",
    "# len(teams)      ## returns length 4\n",
    "# teams[3]\n",
    "# teams[-1]\n"
   ]
  },
  {
   "cell_type": "code",
   "execution_count": 25,
   "metadata": {},
   "outputs": [
    {
     "data": {
      "text/plain": [
       "['SCA', 'HR']"
      ]
     },
     "execution_count": 25,
     "metadata": {},
     "output_type": "execute_result"
    }
   ],
   "source": [
    "## List slicing ##\n",
    "#teams[0:2]  ## returns ['SAC', 'RD&E'] ##the first index is inclusive but the second index is not\n",
    "#teams[:2]\n",
    "teams[2:]  ## returns ['SCA', 'HR'] ## "
   ]
  },
  {
   "cell_type": "code",
   "execution_count": 26,
   "metadata": {},
   "outputs": [
    {
     "data": {
      "text/plain": [
       "['Finance', 'SAC', 'RD&E', 'SCA', 'HR', 'Finance']"
      ]
     },
     "execution_count": 26,
     "metadata": {},
     "output_type": "execute_result"
    }
   ],
   "source": [
    "# Methods associted with list\n",
    "teams.append('Finance')     ## # append element to end\n",
    "teams.insert(0, 'Finance')  ## # insert element at index 0 (shifts everything right)\n",
    "teams"
   ]
  },
  {
   "cell_type": "code",
   "execution_count": null,
   "metadata": {
    "collapsed": true
   },
   "outputs": [],
   "source": [
    "teams.append()"
   ]
  },
  {
   "cell_type": "code",
   "execution_count": null,
   "metadata": {
    "collapsed": true
   },
   "outputs": [],
   "source": [
    "## Remove the values\n",
    "#teams.remove('Finance')     # searches for first instance and removes it\n",
    "#teams.pop()                  ##  # default removes last element also take index as argument to remove specific item\n",
    "del teams[3]                  ## removes the element and doesnt return it  \n",
    "teams\n",
    "#print(teams)"
   ]
  },
  {
   "cell_type": "code",
   "execution_count": null,
   "metadata": {
    "collapsed": true
   },
   "outputs": [],
   "source": [
    "teams = ['SAC', 'RD&E', 'SCA', 'HR']\n",
    "teams\n",
    "# teams.index('SAC')             ## find the index of the element in the list\n",
    "# teams.index('Finance')         ## ValueError: 'Finance' is not in list\n",
    "\n",
    "## Check the value using in operator\n",
    "# 'Finance' in teams            ## in operator\n",
    "# 'SAC' in teams\n",
    "\n"
   ]
  },
  {
   "cell_type": "code",
   "execution_count": 55,
   "metadata": {},
   "outputs": [
    {
     "name": "stdout",
     "output_type": "stream",
     "text": [
      "SAC\n",
      "RD&E\n",
      "SCA\n",
      "HR\n"
     ]
    }
   ],
   "source": [
    "teams = ['SAC', 'RD&E', 'SCA', 'HR']\n",
    "for team in teams:\n",
    "    print(team)                                        ## team is temprory variable # Explain indentation and whitespaces"
   ]
  },
  {
   "cell_type": "code",
   "execution_count": null,
   "metadata": {
    "collapsed": true
   },
   "outputs": [],
   "source": [
    "teams.extend()"
   ]
  },
  {
   "cell_type": "markdown",
   "metadata": {},
   "source": [
    "### Excercise with Blocks about list slicing and iteration"
   ]
  },
  {
   "cell_type": "code",
   "execution_count": 28,
   "metadata": {},
   "outputs": [
    {
     "data": {
      "text/html": [
       "<style type=\"text/css\">table.blockgrid {border: none;} .blockgrid tr {border: none;} .blockgrid td {padding: 0px;} #blocks1186bf6e-1b9e-4309-8fe6-4db05e1cf58c td {border: 1px solid white;}</style><table id=\"blocks1186bf6e-1b9e-4309-8fe6-4db05e1cf58c\" class=\"blockgrid\"><tbody><tr><td title=\"Index: [0, 0]&#10;Color: (0, 139, 139)\" style=\"width: 20px; height: 20px;background-color: rgb(0, 139, 139);\"></td><td title=\"Index: [0, 1]&#10;Color: (0, 139, 139)\" style=\"width: 20px; height: 20px;background-color: rgb(0, 139, 139);\"></td><td title=\"Index: [0, 2]&#10;Color: (0, 139, 139)\" style=\"width: 20px; height: 20px;background-color: rgb(0, 139, 139);\"></td><td title=\"Index: [0, 3]&#10;Color: (0, 139, 139)\" style=\"width: 20px; height: 20px;background-color: rgb(0, 139, 139);\"></td><td title=\"Index: [0, 4]&#10;Color: (0, 139, 139)\" style=\"width: 20px; height: 20px;background-color: rgb(0, 139, 139);\"></td></tr><tr><td title=\"Index: [1, 0]&#10;Color: (0, 139, 139)\" style=\"width: 20px; height: 20px;background-color: rgb(0, 139, 139);\"></td><td title=\"Index: [1, 1]&#10;Color: (0, 139, 139)\" style=\"width: 20px; height: 20px;background-color: rgb(0, 139, 139);\"></td><td title=\"Index: [1, 2]&#10;Color: (0, 139, 139)\" style=\"width: 20px; height: 20px;background-color: rgb(0, 139, 139);\"></td><td title=\"Index: [1, 3]&#10;Color: (0, 139, 139)\" style=\"width: 20px; height: 20px;background-color: rgb(0, 139, 139);\"></td><td title=\"Index: [1, 4]&#10;Color: (0, 139, 139)\" style=\"width: 20px; height: 20px;background-color: rgb(0, 139, 139);\"></td></tr><tr><td title=\"Index: [2, 0]&#10;Color: (0, 139, 139)\" style=\"width: 20px; height: 20px;background-color: rgb(0, 139, 139);\"></td><td title=\"Index: [2, 1]&#10;Color: (0, 139, 139)\" style=\"width: 20px; height: 20px;background-color: rgb(0, 139, 139);\"></td><td title=\"Index: [2, 2]&#10;Color: (0, 139, 139)\" style=\"width: 20px; height: 20px;background-color: rgb(0, 139, 139);\"></td><td title=\"Index: [2, 3]&#10;Color: (0, 0, 0)\" style=\"width: 20px; height: 20px;background-color: rgb(0, 0, 0);\"></td><td title=\"Index: [2, 4]&#10;Color: (0, 139, 139)\" style=\"width: 20px; height: 20px;background-color: rgb(0, 139, 139);\"></td></tr><tr><td title=\"Index: [3, 0]&#10;Color: (0, 139, 139)\" style=\"width: 20px; height: 20px;background-color: rgb(0, 139, 139);\"></td><td title=\"Index: [3, 1]&#10;Color: (0, 139, 139)\" style=\"width: 20px; height: 20px;background-color: rgb(0, 139, 139);\"></td><td title=\"Index: [3, 2]&#10;Color: (0, 139, 139)\" style=\"width: 20px; height: 20px;background-color: rgb(0, 139, 139);\"></td><td title=\"Index: [3, 3]&#10;Color: (0, 139, 139)\" style=\"width: 20px; height: 20px;background-color: rgb(0, 139, 139);\"></td><td title=\"Index: [3, 4]&#10;Color: (0, 139, 139)\" style=\"width: 20px; height: 20px;background-color: rgb(0, 139, 139);\"></td></tr><tr><td title=\"Index: [4, 0]&#10;Color: (0, 139, 139)\" style=\"width: 20px; height: 20px;background-color: rgb(0, 139, 139);\"></td><td title=\"Index: [4, 1]&#10;Color: (0, 139, 139)\" style=\"width: 20px; height: 20px;background-color: rgb(0, 139, 139);\"></td><td title=\"Index: [4, 2]&#10;Color: (0, 139, 139)\" style=\"width: 20px; height: 20px;background-color: rgb(0, 139, 139);\"></td><td title=\"Index: [4, 3]&#10;Color: (0, 139, 139)\" style=\"width: 20px; height: 20px;background-color: rgb(0, 139, 139);\"></td><td title=\"Index: [4, 4]&#10;Color: (0, 139, 139)\" style=\"width: 20px; height: 20px;background-color: rgb(0, 139, 139);\"></td></tr></tbody></table>"
      ],
      "text/plain": [
       "<ipythonblocks.BlockGrid at 0x1eb4461eb70>"
      ]
     },
     "execution_count": 28,
     "metadata": {},
     "output_type": "execute_result"
    }
   ],
   "source": [
    "grid"
   ]
  },
  {
   "cell_type": "code",
   "execution_count": 29,
   "metadata": {},
   "outputs": [
    {
     "data": {
      "text/html": [
       "<style type=\"text/css\">table.blockgrid {border: none;} .blockgrid tr {border: none;} .blockgrid td {padding: 0px;} #blocksa678ec51-2d97-4d76-a7f2-8061819d0d03 td {border: 1px solid white;}</style><table id=\"blocksa678ec51-2d97-4d76-a7f2-8061819d0d03\" class=\"blockgrid\"><tbody><tr><td title=\"Index: [0, 0]&#10;Color: (0, 0, 255)\" style=\"width: 20px; height: 20px;background-color: rgb(0, 0, 255);\"></td><td title=\"Index: [0, 1]&#10;Color: (0, 0, 255)\" style=\"width: 20px; height: 20px;background-color: rgb(0, 0, 255);\"></td><td title=\"Index: [0, 2]&#10;Color: (0, 0, 255)\" style=\"width: 20px; height: 20px;background-color: rgb(0, 0, 255);\"></td><td title=\"Index: [0, 3]&#10;Color: (0, 0, 255)\" style=\"width: 20px; height: 20px;background-color: rgb(0, 0, 255);\"></td><td title=\"Index: [0, 4]&#10;Color: (0, 0, 255)\" style=\"width: 20px; height: 20px;background-color: rgb(0, 0, 255);\"></td></tr><tr><td title=\"Index: [1, 0]&#10;Color: (0, 0, 255)\" style=\"width: 20px; height: 20px;background-color: rgb(0, 0, 255);\"></td><td title=\"Index: [1, 1]&#10;Color: (0, 0, 255)\" style=\"width: 20px; height: 20px;background-color: rgb(0, 0, 255);\"></td><td title=\"Index: [1, 2]&#10;Color: (0, 0, 255)\" style=\"width: 20px; height: 20px;background-color: rgb(0, 0, 255);\"></td><td title=\"Index: [1, 3]&#10;Color: (0, 0, 255)\" style=\"width: 20px; height: 20px;background-color: rgb(0, 0, 255);\"></td><td title=\"Index: [1, 4]&#10;Color: (0, 0, 255)\" style=\"width: 20px; height: 20px;background-color: rgb(0, 0, 255);\"></td></tr><tr><td title=\"Index: [2, 0]&#10;Color: (0, 139, 139)\" style=\"width: 20px; height: 20px;background-color: rgb(0, 139, 139);\"></td><td title=\"Index: [2, 1]&#10;Color: (0, 139, 139)\" style=\"width: 20px; height: 20px;background-color: rgb(0, 139, 139);\"></td><td title=\"Index: [2, 2]&#10;Color: (0, 139, 139)\" style=\"width: 20px; height: 20px;background-color: rgb(0, 139, 139);\"></td><td title=\"Index: [2, 3]&#10;Color: (0, 0, 0)\" style=\"width: 20px; height: 20px;background-color: rgb(0, 0, 0);\"></td><td title=\"Index: [2, 4]&#10;Color: (0, 139, 139)\" style=\"width: 20px; height: 20px;background-color: rgb(0, 139, 139);\"></td></tr><tr><td title=\"Index: [3, 0]&#10;Color: (0, 139, 139)\" style=\"width: 20px; height: 20px;background-color: rgb(0, 139, 139);\"></td><td title=\"Index: [3, 1]&#10;Color: (0, 139, 139)\" style=\"width: 20px; height: 20px;background-color: rgb(0, 139, 139);\"></td><td title=\"Index: [3, 2]&#10;Color: (0, 139, 139)\" style=\"width: 20px; height: 20px;background-color: rgb(0, 139, 139);\"></td><td title=\"Index: [3, 3]&#10;Color: (0, 139, 139)\" style=\"width: 20px; height: 20px;background-color: rgb(0, 139, 139);\"></td><td title=\"Index: [3, 4]&#10;Color: (0, 139, 139)\" style=\"width: 20px; height: 20px;background-color: rgb(0, 139, 139);\"></td></tr><tr><td title=\"Index: [4, 0]&#10;Color: (0, 139, 139)\" style=\"width: 20px; height: 20px;background-color: rgb(0, 139, 139);\"></td><td title=\"Index: [4, 1]&#10;Color: (0, 139, 139)\" style=\"width: 20px; height: 20px;background-color: rgb(0, 139, 139);\"></td><td title=\"Index: [4, 2]&#10;Color: (0, 139, 139)\" style=\"width: 20px; height: 20px;background-color: rgb(0, 139, 139);\"></td><td title=\"Index: [4, 3]&#10;Color: (0, 139, 139)\" style=\"width: 20px; height: 20px;background-color: rgb(0, 139, 139);\"></td><td title=\"Index: [4, 4]&#10;Color: (0, 139, 139)\" style=\"width: 20px; height: 20px;background-color: rgb(0, 139, 139);\"></td></tr></tbody></table>"
      ],
      "text/plain": [
       "<ipythonblocks.BlockGrid at 0x1eb4461eb70>"
      ]
     },
     "execution_count": 29,
     "metadata": {},
     "output_type": "execute_result"
    }
   ],
   "source": [
    "grid[0:2] = colors.Blue\n",
    "grid[:2]\n",
    "grid"
   ]
  },
  {
   "cell_type": "code",
   "execution_count": 30,
   "metadata": {},
   "outputs": [
    {
     "data": {
      "text/html": [
       "<style type=\"text/css\">table.blockgrid {border: none;} .blockgrid tr {border: none;} .blockgrid td {padding: 0px;} #blocks8bd49d1b-da74-4494-8841-9cd745e4b9eb td {border: 1px solid white;}</style><table id=\"blocks8bd49d1b-da74-4494-8841-9cd745e4b9eb\" class=\"blockgrid\"><tbody><tr><td title=\"Index: [0, 0]&#10;Color: (0, 0, 255)\" style=\"width: 20px; height: 20px;background-color: rgb(0, 0, 255);\"></td><td title=\"Index: [0, 1]&#10;Color: (0, 0, 255)\" style=\"width: 20px; height: 20px;background-color: rgb(0, 0, 255);\"></td><td title=\"Index: [0, 2]&#10;Color: (0, 0, 255)\" style=\"width: 20px; height: 20px;background-color: rgb(0, 0, 255);\"></td><td title=\"Index: [0, 3]&#10;Color: (0, 0, 255)\" style=\"width: 20px; height: 20px;background-color: rgb(0, 0, 255);\"></td><td title=\"Index: [0, 4]&#10;Color: (0, 0, 255)\" style=\"width: 20px; height: 20px;background-color: rgb(0, 0, 255);\"></td></tr><tr><td title=\"Index: [1, 0]&#10;Color: (0, 0, 255)\" style=\"width: 20px; height: 20px;background-color: rgb(0, 0, 255);\"></td><td title=\"Index: [1, 1]&#10;Color: (0, 0, 255)\" style=\"width: 20px; height: 20px;background-color: rgb(0, 0, 255);\"></td><td title=\"Index: [1, 2]&#10;Color: (0, 0, 255)\" style=\"width: 20px; height: 20px;background-color: rgb(0, 0, 255);\"></td><td title=\"Index: [1, 3]&#10;Color: (0, 0, 255)\" style=\"width: 20px; height: 20px;background-color: rgb(0, 0, 255);\"></td><td title=\"Index: [1, 4]&#10;Color: (0, 0, 255)\" style=\"width: 20px; height: 20px;background-color: rgb(0, 0, 255);\"></td></tr><tr><td title=\"Index: [2, 0]&#10;Color: (0, 139, 139)\" style=\"width: 20px; height: 20px;background-color: rgb(0, 139, 139);\"></td><td title=\"Index: [2, 1]&#10;Color: (0, 139, 139)\" style=\"width: 20px; height: 20px;background-color: rgb(0, 139, 139);\"></td><td title=\"Index: [2, 2]&#10;Color: (0, 139, 139)\" style=\"width: 20px; height: 20px;background-color: rgb(0, 139, 139);\"></td><td title=\"Index: [2, 3]&#10;Color: (0, 0, 0)\" style=\"width: 20px; height: 20px;background-color: rgb(0, 0, 0);\"></td><td title=\"Index: [2, 4]&#10;Color: (0, 139, 139)\" style=\"width: 20px; height: 20px;background-color: rgb(0, 139, 139);\"></td></tr><tr><td title=\"Index: [3, 0]&#10;Color: (0, 139, 139)\" style=\"width: 20px; height: 20px;background-color: rgb(0, 139, 139);\"></td><td title=\"Index: [3, 1]&#10;Color: (0, 139, 139)\" style=\"width: 20px; height: 20px;background-color: rgb(0, 139, 139);\"></td><td title=\"Index: [3, 2]&#10;Color: (0, 139, 139)\" style=\"width: 20px; height: 20px;background-color: rgb(0, 139, 139);\"></td><td title=\"Index: [3, 3]&#10;Color: (0, 139, 139)\" style=\"width: 20px; height: 20px;background-color: rgb(0, 139, 139);\"></td><td title=\"Index: [3, 4]&#10;Color: (0, 139, 139)\" style=\"width: 20px; height: 20px;background-color: rgb(0, 139, 139);\"></td></tr><tr><td title=\"Index: [4, 0]&#10;Color: (0, 139, 139)\" style=\"width: 20px; height: 20px;background-color: rgb(0, 139, 139);\"></td><td title=\"Index: [4, 1]&#10;Color: (0, 139, 139)\" style=\"width: 20px; height: 20px;background-color: rgb(0, 139, 139);\"></td><td title=\"Index: [4, 2]&#10;Color: (0, 139, 139)\" style=\"width: 20px; height: 20px;background-color: rgb(0, 139, 139);\"></td><td title=\"Index: [4, 3]&#10;Color: (0, 139, 139)\" style=\"width: 20px; height: 20px;background-color: rgb(0, 139, 139);\"></td><td title=\"Index: [4, 4]&#10;Color: (255, 0, 0)\" style=\"width: 20px; height: 20px;background-color: rgb(255, 0, 0);\"></td></tr></tbody></table>"
      ],
      "text/plain": [
       "<ipythonblocks.BlockGrid at 0x1eb4461eb70>"
      ]
     },
     "execution_count": 30,
     "metadata": {},
     "output_type": "execute_result"
    }
   ],
   "source": [
    "grid[4, 4] = colors.Red\n",
    "grid"
   ]
  },
  {
   "cell_type": "code",
   "execution_count": 31,
   "metadata": {},
   "outputs": [
    {
     "data": {
      "text/html": [
       "<style type=\"text/css\">table.blockgrid {border: none;} .blockgrid tr {border: none;} .blockgrid td {padding: 0px;} #blocks692f4f11-c918-4365-b794-19c95090649f td {border: 1px solid white;}</style><table id=\"blocks692f4f11-c918-4365-b794-19c95090649f\" class=\"blockgrid\"><tbody><tr><td title=\"Index: [0, 0]&#10;Color: (0, 0, 255)\" style=\"width: 20px; height: 20px;background-color: rgb(0, 0, 255);\"></td><td title=\"Index: [0, 1]&#10;Color: (0, 0, 255)\" style=\"width: 20px; height: 20px;background-color: rgb(0, 0, 255);\"></td><td title=\"Index: [0, 2]&#10;Color: (0, 0, 255)\" style=\"width: 20px; height: 20px;background-color: rgb(0, 0, 255);\"></td><td title=\"Index: [0, 3]&#10;Color: (0, 0, 255)\" style=\"width: 20px; height: 20px;background-color: rgb(0, 0, 255);\"></td><td title=\"Index: [0, 4]&#10;Color: (0, 0, 255)\" style=\"width: 20px; height: 20px;background-color: rgb(0, 0, 255);\"></td></tr><tr><td title=\"Index: [1, 0]&#10;Color: (0, 0, 255)\" style=\"width: 20px; height: 20px;background-color: rgb(0, 0, 255);\"></td><td title=\"Index: [1, 1]&#10;Color: (0, 0, 255)\" style=\"width: 20px; height: 20px;background-color: rgb(0, 0, 255);\"></td><td title=\"Index: [1, 2]&#10;Color: (0, 0, 255)\" style=\"width: 20px; height: 20px;background-color: rgb(0, 0, 255);\"></td><td title=\"Index: [1, 3]&#10;Color: (0, 0, 255)\" style=\"width: 20px; height: 20px;background-color: rgb(0, 0, 255);\"></td><td title=\"Index: [1, 4]&#10;Color: (0, 0, 255)\" style=\"width: 20px; height: 20px;background-color: rgb(0, 0, 255);\"></td></tr><tr><td title=\"Index: [2, 0]&#10;Color: (0, 139, 139)\" style=\"width: 20px; height: 20px;background-color: rgb(0, 139, 139);\"></td><td title=\"Index: [2, 1]&#10;Color: (0, 139, 139)\" style=\"width: 20px; height: 20px;background-color: rgb(0, 139, 139);\"></td><td title=\"Index: [2, 2]&#10;Color: (0, 139, 139)\" style=\"width: 20px; height: 20px;background-color: rgb(0, 139, 139);\"></td><td title=\"Index: [2, 3]&#10;Color: (0, 0, 0)\" style=\"width: 20px; height: 20px;background-color: rgb(0, 0, 0);\"></td><td title=\"Index: [2, 4]&#10;Color: (0, 139, 139)\" style=\"width: 20px; height: 20px;background-color: rgb(0, 139, 139);\"></td></tr><tr><td title=\"Index: [3, 0]&#10;Color: (0, 139, 139)\" style=\"width: 20px; height: 20px;background-color: rgb(0, 139, 139);\"></td><td title=\"Index: [3, 1]&#10;Color: (0, 139, 139)\" style=\"width: 20px; height: 20px;background-color: rgb(0, 139, 139);\"></td><td title=\"Index: [3, 2]&#10;Color: (0, 139, 139)\" style=\"width: 20px; height: 20px;background-color: rgb(0, 139, 139);\"></td><td title=\"Index: [3, 3]&#10;Color: (0, 139, 139)\" style=\"width: 20px; height: 20px;background-color: rgb(0, 139, 139);\"></td><td title=\"Index: [3, 4]&#10;Color: (0, 139, 139)\" style=\"width: 20px; height: 20px;background-color: rgb(0, 139, 139);\"></td></tr><tr><td title=\"Index: [4, 0]&#10;Color: (0, 139, 139)\" style=\"width: 20px; height: 20px;background-color: rgb(0, 139, 139);\"></td><td title=\"Index: [4, 1]&#10;Color: (0, 139, 139)\" style=\"width: 20px; height: 20px;background-color: rgb(0, 139, 139);\"></td><td title=\"Index: [4, 2]&#10;Color: (0, 139, 139)\" style=\"width: 20px; height: 20px;background-color: rgb(0, 139, 139);\"></td><td title=\"Index: [4, 3]&#10;Color: (0, 139, 139)\" style=\"width: 20px; height: 20px;background-color: rgb(0, 139, 139);\"></td><td title=\"Index: [4, 4]&#10;Color: (0, 0, 0)\" style=\"width: 20px; height: 20px;background-color: rgb(0, 0, 0);\"></td></tr></tbody></table>"
      ],
      "text/plain": [
       "<ipythonblocks.BlockGrid at 0x1eb4461eb70>"
      ]
     },
     "execution_count": 31,
     "metadata": {},
     "output_type": "execute_result"
    }
   ],
   "source": [
    "grid[-1, -1] = colors.Black\n",
    "grid"
   ]
  },
  {
   "cell_type": "code",
   "execution_count": 56,
   "metadata": {},
   "outputs": [
    {
     "data": {
      "text/html": [
       "<style type=\"text/css\">table.blockgrid {border: none;} .blockgrid tr {border: none;} .blockgrid td {padding: 0px;} #blocks1272ad00-3eef-4554-8441-e1b7cd601551 td {border: 1px solid white;}</style><table id=\"blocks1272ad00-3eef-4554-8441-e1b7cd601551\" class=\"blockgrid\"><tbody><tr><td title=\"Index: [0, 0]&#10;Color: (0, 0, 0)\" style=\"width: 20px; height: 20px;background-color: rgb(0, 0, 0);\"></td><td title=\"Index: [0, 1]&#10;Color: (0, 0, 0)\" style=\"width: 20px; height: 20px;background-color: rgb(0, 0, 0);\"></td><td title=\"Index: [0, 2]&#10;Color: (0, 0, 0)\" style=\"width: 20px; height: 20px;background-color: rgb(0, 0, 0);\"></td><td title=\"Index: [0, 3]&#10;Color: (0, 0, 0)\" style=\"width: 20px; height: 20px;background-color: rgb(0, 0, 0);\"></td><td title=\"Index: [0, 4]&#10;Color: (0, 0, 0)\" style=\"width: 20px; height: 20px;background-color: rgb(0, 0, 0);\"></td></tr><tr><td title=\"Index: [1, 0]&#10;Color: (0, 0, 0)\" style=\"width: 20px; height: 20px;background-color: rgb(0, 0, 0);\"></td><td title=\"Index: [1, 1]&#10;Color: (0, 0, 0)\" style=\"width: 20px; height: 20px;background-color: rgb(0, 0, 0);\"></td><td title=\"Index: [1, 2]&#10;Color: (0, 0, 0)\" style=\"width: 20px; height: 20px;background-color: rgb(0, 0, 0);\"></td><td title=\"Index: [1, 3]&#10;Color: (0, 0, 0)\" style=\"width: 20px; height: 20px;background-color: rgb(0, 0, 0);\"></td><td title=\"Index: [1, 4]&#10;Color: (0, 0, 0)\" style=\"width: 20px; height: 20px;background-color: rgb(0, 0, 0);\"></td></tr><tr><td title=\"Index: [2, 0]&#10;Color: (0, 0, 0)\" style=\"width: 20px; height: 20px;background-color: rgb(0, 0, 0);\"></td><td title=\"Index: [2, 1]&#10;Color: (0, 0, 0)\" style=\"width: 20px; height: 20px;background-color: rgb(0, 0, 0);\"></td><td title=\"Index: [2, 2]&#10;Color: (0, 0, 0)\" style=\"width: 20px; height: 20px;background-color: rgb(0, 0, 0);\"></td><td title=\"Index: [2, 3]&#10;Color: (0, 0, 0)\" style=\"width: 20px; height: 20px;background-color: rgb(0, 0, 0);\"></td><td title=\"Index: [2, 4]&#10;Color: (0, 0, 0)\" style=\"width: 20px; height: 20px;background-color: rgb(0, 0, 0);\"></td></tr><tr><td title=\"Index: [3, 0]&#10;Color: (0, 0, 0)\" style=\"width: 20px; height: 20px;background-color: rgb(0, 0, 0);\"></td><td title=\"Index: [3, 1]&#10;Color: (0, 0, 0)\" style=\"width: 20px; height: 20px;background-color: rgb(0, 0, 0);\"></td><td title=\"Index: [3, 2]&#10;Color: (0, 0, 0)\" style=\"width: 20px; height: 20px;background-color: rgb(0, 0, 0);\"></td><td title=\"Index: [3, 3]&#10;Color: (0, 0, 0)\" style=\"width: 20px; height: 20px;background-color: rgb(0, 0, 0);\"></td><td title=\"Index: [3, 4]&#10;Color: (0, 0, 0)\" style=\"width: 20px; height: 20px;background-color: rgb(0, 0, 0);\"></td></tr><tr><td title=\"Index: [4, 0]&#10;Color: (0, 0, 0)\" style=\"width: 20px; height: 20px;background-color: rgb(0, 0, 0);\"></td><td title=\"Index: [4, 1]&#10;Color: (0, 0, 0)\" style=\"width: 20px; height: 20px;background-color: rgb(0, 0, 0);\"></td><td title=\"Index: [4, 2]&#10;Color: (0, 0, 0)\" style=\"width: 20px; height: 20px;background-color: rgb(0, 0, 0);\"></td><td title=\"Index: [4, 3]&#10;Color: (0, 0, 0)\" style=\"width: 20px; height: 20px;background-color: rgb(0, 0, 0);\"></td><td title=\"Index: [4, 4]&#10;Color: (0, 0, 0)\" style=\"width: 20px; height: 20px;background-color: rgb(0, 0, 0);\"></td></tr></tbody></table>"
      ],
      "text/plain": [
       "<ipythonblocks.BlockGrid at 0x1eb44644a90>"
      ]
     },
     "execution_count": 56,
     "metadata": {},
     "output_type": "execute_result"
    }
   ],
   "source": [
    "for block in grid:\n",
    "    block.rgb = colors.Black\n",
    "grid"
   ]
  },
  {
   "cell_type": "code",
   "execution_count": 57,
   "metadata": {},
   "outputs": [
    {
     "data": {
      "text/html": [
       "<style type=\"text/css\">table.blockgrid {border: none;} .blockgrid tr {border: none;} .blockgrid td {padding: 0px;} #blocks2643a13e-ef59-4989-aefd-944bade4b13e td {border: 1px solid white;}</style><table id=\"blocks2643a13e-ef59-4989-aefd-944bade4b13e\" class=\"blockgrid\"><tbody><tr><td title=\"Index: [0, 0]&#10;Color: (0, 139, 139)\" style=\"width: 20px; height: 20px;background-color: rgb(0, 139, 139);\"></td><td title=\"Index: [0, 1]&#10;Color: (0, 139, 139)\" style=\"width: 20px; height: 20px;background-color: rgb(0, 139, 139);\"></td><td title=\"Index: [0, 2]&#10;Color: (0, 139, 139)\" style=\"width: 20px; height: 20px;background-color: rgb(0, 139, 139);\"></td><td title=\"Index: [0, 3]&#10;Color: (0, 139, 139)\" style=\"width: 20px; height: 20px;background-color: rgb(0, 139, 139);\"></td><td title=\"Index: [0, 4]&#10;Color: (0, 139, 139)\" style=\"width: 20px; height: 20px;background-color: rgb(0, 139, 139);\"></td></tr><tr><td title=\"Index: [1, 0]&#10;Color: (0, 139, 139)\" style=\"width: 20px; height: 20px;background-color: rgb(0, 139, 139);\"></td><td title=\"Index: [1, 1]&#10;Color: (0, 139, 139)\" style=\"width: 20px; height: 20px;background-color: rgb(0, 139, 139);\"></td><td title=\"Index: [1, 2]&#10;Color: (0, 139, 139)\" style=\"width: 20px; height: 20px;background-color: rgb(0, 139, 139);\"></td><td title=\"Index: [1, 3]&#10;Color: (0, 139, 139)\" style=\"width: 20px; height: 20px;background-color: rgb(0, 139, 139);\"></td><td title=\"Index: [1, 4]&#10;Color: (0, 139, 139)\" style=\"width: 20px; height: 20px;background-color: rgb(0, 139, 139);\"></td></tr><tr><td title=\"Index: [2, 0]&#10;Color: (0, 139, 139)\" style=\"width: 20px; height: 20px;background-color: rgb(0, 139, 139);\"></td><td title=\"Index: [2, 1]&#10;Color: (0, 139, 139)\" style=\"width: 20px; height: 20px;background-color: rgb(0, 139, 139);\"></td><td title=\"Index: [2, 2]&#10;Color: (0, 139, 139)\" style=\"width: 20px; height: 20px;background-color: rgb(0, 139, 139);\"></td><td title=\"Index: [2, 3]&#10;Color: (0, 139, 139)\" style=\"width: 20px; height: 20px;background-color: rgb(0, 139, 139);\"></td><td title=\"Index: [2, 4]&#10;Color: (0, 139, 139)\" style=\"width: 20px; height: 20px;background-color: rgb(0, 139, 139);\"></td></tr><tr><td title=\"Index: [3, 0]&#10;Color: (0, 139, 139)\" style=\"width: 20px; height: 20px;background-color: rgb(0, 139, 139);\"></td><td title=\"Index: [3, 1]&#10;Color: (0, 139, 139)\" style=\"width: 20px; height: 20px;background-color: rgb(0, 139, 139);\"></td><td title=\"Index: [3, 2]&#10;Color: (0, 139, 139)\" style=\"width: 20px; height: 20px;background-color: rgb(0, 139, 139);\"></td><td title=\"Index: [3, 3]&#10;Color: (0, 139, 139)\" style=\"width: 20px; height: 20px;background-color: rgb(0, 139, 139);\"></td><td title=\"Index: [3, 4]&#10;Color: (0, 139, 139)\" style=\"width: 20px; height: 20px;background-color: rgb(0, 139, 139);\"></td></tr><tr><td title=\"Index: [4, 0]&#10;Color: (0, 139, 139)\" style=\"width: 20px; height: 20px;background-color: rgb(0, 139, 139);\"></td><td title=\"Index: [4, 1]&#10;Color: (0, 139, 139)\" style=\"width: 20px; height: 20px;background-color: rgb(0, 139, 139);\"></td><td title=\"Index: [4, 2]&#10;Color: (0, 139, 139)\" style=\"width: 20px; height: 20px;background-color: rgb(0, 139, 139);\"></td><td title=\"Index: [4, 3]&#10;Color: (0, 139, 139)\" style=\"width: 20px; height: 20px;background-color: rgb(0, 139, 139);\"></td><td title=\"Index: [4, 4]&#10;Color: (0, 139, 139)\" style=\"width: 20px; height: 20px;background-color: rgb(0, 139, 139);\"></td></tr></tbody></table>"
      ],
      "text/plain": [
       "<IPython.core.display.HTML object>"
      ]
     },
     "metadata": {},
     "output_type": "display_data"
    }
   ],
   "source": [
    "for block in grid.animate():\n",
    "    block.rgb = colors.DarkCyan  "
   ]
  },
  {
   "cell_type": "markdown",
   "metadata": {},
   "source": [
    "### Tuples\n",
    "like lists, but they don't change size. <br>\n",
    "properties: ordered, iterable, immutable, can contain multiple data types"
   ]
  },
  {
   "cell_type": "code",
   "execution_count": null,
   "metadata": {
    "collapsed": true
   },
   "outputs": [],
   "source": [
    "# Mutable\n",
    "list_1 = ['SAC', 'RD&E', 'SCA', 'HR']\n",
    "list_2 = list_1\n",
    "\n",
    "print(list_1)\n",
    "print(list_2)"
   ]
  },
  {
   "cell_type": "code",
   "execution_count": null,
   "metadata": {
    "collapsed": true
   },
   "outputs": [],
   "source": [
    "list_1[0] = 'Finance'\n",
    "\n",
    "print(list_1)\n",
    "print(list_2)"
   ]
  },
  {
   "cell_type": "code",
   "execution_count": null,
   "metadata": {
    "collapsed": true
   },
   "outputs": [],
   "source": [
    "type(list_1)"
   ]
  },
  {
   "cell_type": "code",
   "execution_count": null,
   "metadata": {
    "collapsed": true
   },
   "outputs": [],
   "source": [
    "# Immutable\n",
    "tuple_1 = ('SAC', 'RD&E', 'SCA', 'HR')\n",
    "#tuple_2 = tuple_1\n",
    "\n",
    "print(tuple_1)\n",
    "#print(tuple_2)"
   ]
  },
  {
   "cell_type": "code",
   "execution_count": null,
   "metadata": {
    "collapsed": true
   },
   "outputs": [],
   "source": [
    "tuple_1[0] = 'Finance'                     ##TypeError: 'tuple' object does not support item assignment  \n",
    "\n",
    "print(tuple_1)\n",
    "#print(tuple_2)"
   ]
  },
  {
   "cell_type": "markdown",
   "metadata": {},
   "source": [
    "### SETS ###\n",
    " like dictionaries, but with keys only (no values). <br>\n",
    " properties: unordered, iterable, mutable, only unique values, can contain multiple data types"
   ]
  },
  {
   "cell_type": "code",
   "execution_count": null,
   "metadata": {
    "collapsed": true
   },
   "outputs": [],
   "source": [
    "teams = {'SAC', 'RD&E', 'SCA', 'HR'}\n",
    "teams\n",
    "\n",
    "#Remove duplicate values\n",
    "teams = {'SAC', 'RD&E', 'SCA', 'HR', 'SAC'}\n",
    "teams\n",
    "'SAC' in teams                ## Test value is part of the set, set are optimized for this compared to list and tuples "
   ]
  },
  {
   "cell_type": "code",
   "execution_count": null,
   "metadata": {
    "collapsed": true
   },
   "outputs": [],
   "source": [
    "team1 = {'SAC', 'RD&E', 'SCA', 'HR'}\n",
    "team2 = {'SAC', 'RD&E', 'SCA', 'Finance'}\n",
    "team1.intersection(team2)\n",
    "team1.difference(team2)\n",
    "team1.union(team2)"
   ]
  },
  {
   "cell_type": "code",
   "execution_count": null,
   "metadata": {
    "collapsed": true
   },
   "outputs": [],
   "source": [
    "team1."
   ]
  },
  {
   "cell_type": "markdown",
   "metadata": {},
   "source": [
    "### DICTIONARIES ###\n",
    " properties: unordered, iterable, mutable, can contain multiple data types. <br>\n",
    " made up of key-value pairs. <br>\n",
    " keys must be unique, and can be strings, numbers, or tuples. <br>\n",
    " values can be any type."
   ]
  },
  {
   "cell_type": "code",
   "execution_count": null,
   "metadata": {
    "collapsed": true
   },
   "outputs": [],
   "source": [
    "Ecolab = {'Headquarters':'Saint Paul', 'Founded':1923, 'Regions':['North America','Asia Pacific','Europe']}\n",
    "Ecolab\n",
    "\n",
    "# # accessing values more safely with 'get'\n",
    "Ecolab['Headquarters']                      # returns 'Saint Paul'\n",
    "Ecolab.get('Headquarters')                  # same thing\n",
    "#Ecolab['teams']                    # throws an error\n",
    "print(Ecolab.get('teams'))         # returns None\n",
    "Ecolab.get('teams', 'not found')    # returns 'not found' (the default)"
   ]
  },
  {
   "cell_type": "code",
   "execution_count": null,
   "metadata": {
    "collapsed": true
   },
   "outputs": [],
   "source": [
    "# ## # modify a dictionary \n",
    "Ecolab['teams'] = ['SAC', 'RD&E', 'SCA', 'HR']\n",
    "Ecolab\n",
    "\n",
    "Ecolab['Regions'] = ['North America','Asia Pacific','Europe', 'Middle East and Africa'] \n",
    "Ecolab\n",
    "\n",
    "del Ecolab['Founded']\n",
    "Ecolab"
   ]
  },
  {
   "cell_type": "code",
   "execution_count": null,
   "metadata": {
    "collapsed": true
   },
   "outputs": [],
   "source": [
    "## examine a dictionary\n",
    "\n",
    "len(Ecolab)\n",
    "Ecolab.keys()       # returns list: ['Headquarters', 'Regions', 'teams']\n",
    "Ecolab.values()     # returns list of all values\n",
    "Ecolab.items()      # returns list of tuples of key: values\n",
    "\n",
    "## Looping through dictionary\n",
    "# for key in Ecolab:\n",
    "#     print(key)                 ## Will only loop through keys\n",
    "    \n",
    "for key, value in Ecolab.items():  ## iterate through key and values using items()\n",
    "    print(key, value)"
   ]
  },
  {
   "cell_type": "code",
   "execution_count": null,
   "metadata": {
    "collapsed": true
   },
   "outputs": [],
   "source": []
  }
 ],
 "metadata": {
  "kernelspec": {
   "display_name": "Python 3",
   "language": "python",
   "name": "python3"
  },
  "language_info": {
   "codemirror_mode": {
    "name": "ipython",
    "version": 3
   },
   "file_extension": ".py",
   "mimetype": "text/x-python",
   "name": "python",
   "nbconvert_exporter": "python",
   "pygments_lexer": "ipython3",
   "version": "3.6.3"
  }
 },
 "nbformat": 4,
 "nbformat_minor": 1
}
