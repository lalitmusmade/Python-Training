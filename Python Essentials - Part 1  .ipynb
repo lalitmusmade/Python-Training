{
 "cells": [
  {
   "cell_type": "markdown",
   "metadata": {},
   "source": [
    "# Table of Contents:\n",
    "1. Python Datatypes\n",
    "2. Data structures\n",
    "    1. List\n",
    "    2. Tuples\n",
    "    3. Sets\n",
    "    4. Dictionaries\n",
    "3. Conditional Statements and Loops\n"
   ]
  },
  {
   "cell_type": "markdown",
   "metadata": {},
   "source": [
    "## Python Datatypes\n",
    "1. Strings\n",
    "2. Float\n",
    "3. Integers\n",
    "4. Boolean\n",
    "5. Nonetype"
   ]
  },
  {
   "cell_type": "markdown",
   "metadata": {},
   "source": [
    "### Strings\n",
    "properties: iterable, immutable"
   ]
  },
  {
   "cell_type": "code",
   "execution_count": null,
   "metadata": {},
   "outputs": [],
   "source": [
    "message = 'Hello Ecolab'    ## create a variable 'message' ## conventions for variables\n",
    "message              ## Comments in Python"
   ]
  },
  {
   "cell_type": "markdown",
   "metadata": {},
   "source": [
    "### Ways to run the code\n",
    "1. Uncomment the code\n",
    "2. Write the code in new cell"
   ]
  },
  {
   "cell_type": "code",
   "execution_count": null,
   "metadata": {},
   "outputs": [],
   "source": [
    "## Examine string\n",
    "len(message)      ## returns 12\n",
    "#message[0]        ## starts with 0 ## returns 'H'\n",
    "#message[11]       ## returns 'b' ## last character\n",
    "#message[0:5]      ## returns 'Hello' ## first index is inclusive and second is not \n",
    "#message[:5]       ## returns 'Hello'\n",
    "#message[6:]       ## returns 'Ecolab'"
   ]
  },
  {
   "cell_type": "markdown",
   "metadata": {},
   "source": [
    "All of the data types are going to have certain methods available to us that give us access to a lot of useful functionality.<br> \n",
    "Functions and methods are basically the same thing a method is just a function that belongs to a class"
   ]
  },
  {
   "cell_type": "code",
   "execution_count": null,
   "metadata": {},
   "outputs": [],
   "source": [
    "## string methods (does not modify the original string) ## Access method using dot method and parentheses\n",
    "message.lower()           # returns 'hello world'\n",
    "#message.upper()           # returns 'HELLO WORLD'\n",
    "#message.count('Hello')    # retuns 1\n",
    "#message.find('Ecolab')      # returns index of first occurrence (6), but doesn't support regex\n",
    "#message.find('Pune')      # returns -1 since not found\n",
    "#message.replace('Ecolab','Pune')    # replaces all instances of 'world' with 'universe'"
   ]
  },
  {
   "cell_type": "code",
   "execution_count": null,
   "metadata": {},
   "outputs": [],
   "source": [
    "# concatenate strings and string fromatting\n",
    "\n",
    "greeting = 'Hello'\n",
    "name = 'Ecolab'\n",
    "message = greeting + name            ## doesn't have a space \n",
    "#message = greeting + ', ' + name\n",
    "#message = greeting + ', '+ name + '. Wassup!'        ## hard to keep track of whitespaces and plus signs\n",
    "#message = '{}, {}. Wassup!'.format(greeting, name)  ## formatted strings\n",
    "#message = f'{greeting}, {name}. Wassup!'\n",
    "#message = f'{greeting}, {name.upper()}. Wassup!'\n",
    "message"
   ]
  },
  {
   "cell_type": "code",
   "execution_count": null,
   "metadata": {},
   "outputs": [],
   "source": [
    "## See attributes and methods\n",
    "dir(name)\n",
    "#help(str)\n",
    "help(str.lower)"
   ]
  },
  {
   "cell_type": "markdown",
   "metadata": {},
   "source": [
    "### FLOAT AND INTEGERS ##"
   ]
  },
  {
   "cell_type": "code",
   "execution_count": null,
   "metadata": {},
   "outputs": [],
   "source": [
    "num = 3\n",
    "#num = 3.14\n",
    "print(type(num))"
   ]
  },
  {
   "cell_type": "code",
   "execution_count": null,
   "metadata": {},
   "outputs": [],
   "source": [
    "#Arithmetic Operators: \n",
    "#10 + 4          # add (returns 14)\n",
    "#10 - 4          # subtract (returns 6)\n",
    "#10 * 4          # multiply (returns 40)\n",
    "#10 ** 4          # exponent (returns 10000)\n",
    "#10 / 4            # floor divide (returns 2.5)\n",
    "#5 % 4           # modulo (returns 1) - also known as the remainder"
   ]
  },
  {
   "cell_type": "code",
   "execution_count": null,
   "metadata": {},
   "outputs": [],
   "source": [
    "## Methods associated with floats and integers\n",
    "abs(-3)\n",
    "#round(3.14)"
   ]
  },
  {
   "cell_type": "markdown",
   "metadata": {},
   "source": [
    "#### Comparisons:\n",
    " Equal:            3 == 2 <br>\n",
    " Not Equal:        3 != 2 <br>\n",
    " Greater Than:     3 > 2 <br>\n",
    " Less Than:        3 < 2 <br>\n",
    " Greater or Equal: 3 >= 2 <br>\n",
    " Less or Equal:    3 <= 2 <br>"
   ]
  },
  {
   "cell_type": "code",
   "execution_count": null,
   "metadata": {},
   "outputs": [],
   "source": [
    "num1 = 3\n",
    "num2 = 2\n",
    "num1 != num2  ## Boolean "
   ]
  },
  {
   "cell_type": "code",
   "execution_count": null,
   "metadata": {},
   "outputs": [],
   "source": [
    "## Casting\n",
    "num1 = '100'\n",
    "num2 = '200'\n",
    "num1 + num2\n",
    "\n",
    "#num1 = int(num1)\n",
    "#num2 = int(num2)\n",
    "#num1 + num2          "
   ]
  },
  {
   "cell_type": "markdown",
   "metadata": {},
   "source": [
    "### Excercise with Blocks"
   ]
  },
  {
   "cell_type": "code",
   "execution_count": null,
   "metadata": {
    "collapsed": true
   },
   "outputs": [],
   "source": [
    "from ipythonblocks import BlockGrid, colors, show_color, show_color_triple"
   ]
  },
  {
   "cell_type": "code",
   "execution_count": null,
   "metadata": {},
   "outputs": [],
   "source": [
    "BlockGrid(width=5, height=5, fill=colors.DarkCyan)"
   ]
  },
  {
   "cell_type": "markdown",
   "metadata": {},
   "source": [
    "### Exercise \n",
    "\n",
    "Make a 5x5 `BlockGrid` with your favorite color (from the \"Colors\" notebook)\n",
    "and assign it to a variable called `grid`."
   ]
  },
  {
   "cell_type": "code",
   "execution_count": null,
   "metadata": {},
   "outputs": [],
   "source": []
  },
  {
   "cell_type": "markdown",
   "metadata": {},
   "source": [
    "### Exercise \n",
    "\n",
    "For the given `BlockGrid`  assign variable row =2 and column =3, denoting a block in the grid. Assign colour black to this block\n",
    "and print the new grid"
   ]
  },
  {
   "cell_type": "code",
   "execution_count": null,
   "metadata": {},
   "outputs": [],
   "source": [
    "row =\n",
    "column =\n",
    "block = grid[row,column]\n",
    "block.rgb = \n",
    "grid                              ## 2-D indexing for tabular data"
   ]
  },
  {
   "cell_type": "markdown",
   "metadata": {},
   "source": [
    "## Python Data structures\n",
    "1. Lists\n",
    "2. Tuples\n",
    "3. Sets\n",
    "4. Dictionaries"
   ]
  },
  {
   "cell_type": "markdown",
   "metadata": {},
   "source": [
    "### LISTS ###\n",
    "properties: ordered, iterable, mutable, can contain multiple data types"
   ]
  },
  {
   "cell_type": "code",
   "execution_count": null,
   "metadata": {},
   "outputs": [],
   "source": [
    "teams = ['SAC', 'RD&E', 'SCA', 'HR']\n",
    "teams\n",
    "#len(teams)      ## returns length 4\n",
    "#teams[3]\n",
    "#teams[-1]\n"
   ]
  },
  {
   "cell_type": "code",
   "execution_count": null,
   "metadata": {},
   "outputs": [],
   "source": [
    "## List slicing ##\n",
    "teams[0:2]  ## returns ['SAC', 'RD&E'] ##the first index is inclusive but the second index is not\n",
    "#teams[:2]\n",
    "#teams[2:]  ## returns ['SCA', 'HR'] ## "
   ]
  },
  {
   "cell_type": "code",
   "execution_count": null,
   "metadata": {},
   "outputs": [],
   "source": [
    "# Methods associted with list\n",
    "teams.append('Finance')     ## # append element to end\n",
    "#teams.insert(0, 'Finance')  ## # insert element at index 0 (shifts everything right)\n",
    "teams"
   ]
  },
  {
   "cell_type": "code",
   "execution_count": null,
   "metadata": {
    "collapsed": true
   },
   "outputs": [],
   "source": [
    "## Info about other methods associated with list\n",
    "teams.append()"
   ]
  },
  {
   "cell_type": "code",
   "execution_count": null,
   "metadata": {
    "collapsed": true
   },
   "outputs": [],
   "source": [
    "## Remove the values\n",
    "teams.remove('Finance')     # searches for first instance and removes it\n",
    "#teams.pop()                  ##  # default removes last element also take index as argument to remove specific item\n",
    "#del teams[3]                  ## removes the element and doesnt return it  \n",
    "teams\n",
    "#print(teams)"
   ]
  },
  {
   "cell_type": "code",
   "execution_count": null,
   "metadata": {
    "collapsed": true
   },
   "outputs": [],
   "source": [
    "teams = ['SAC', 'RD&E', 'SCA', 'HR']\n",
    "teams\n",
    "#teams.index('SAC')             ## find the index of the element in the list\n",
    "#teams.index('Finance')         ## ValueError: 'Finance' is not in list\n",
    "\n",
    "## Check the value using in operator\n",
    "# 'Finance' in teams            ## in operator\n",
    "# 'SAC' in teams\n",
    "\n"
   ]
  },
  {
   "cell_type": "code",
   "execution_count": null,
   "metadata": {},
   "outputs": [],
   "source": [
    "teams = ['SAC', 'RD&E', 'SCA', 'HR']\n",
    "for team in teams:\n",
    "    print(team)                                        ## team is temprory variable # Explain indentation and whitespaces"
   ]
  },
  {
   "cell_type": "markdown",
   "metadata": {},
   "source": [
    "### Excercise with Blocks about list slicing and iteration"
   ]
  },
  {
   "cell_type": "code",
   "execution_count": null,
   "metadata": {},
   "outputs": [],
   "source": [
    "grid"
   ]
  },
  {
   "cell_type": "markdown",
   "metadata": {},
   "source": [
    "### Exercise \n",
    "\n",
    "For the created `grid` variable, pass index1 as 0  and index2 as 2. Assign colour blue to this block and print the new grid"
   ]
  },
  {
   "cell_type": "code",
   "execution_count": null,
   "metadata": {},
   "outputs": [],
   "source": [
    "#grid[index1:index2]\n",
    "grid[:] = \n",
    "grid"
   ]
  },
  {
   "cell_type": "markdown",
   "metadata": {},
   "source": [
    "### Exercise \n",
    "\n",
    "For the created `grid` variable, pass row index as 4  and column index as 4. Assign colour red to this block and print the new grid"
   ]
  },
  {
   "cell_type": "code",
   "execution_count": null,
   "metadata": {},
   "outputs": [],
   "source": [
    "grid[,] =\n",
    "grid"
   ]
  },
  {
   "cell_type": "markdown",
   "metadata": {},
   "source": [
    "### Exercise \n",
    "\n",
    "For the created `grid` variable, pass row index as -1 and column index as -1. Assign colour Black to this block and print the new grid"
   ]
  },
  {
   "cell_type": "code",
   "execution_count": null,
   "metadata": {},
   "outputs": [],
   "source": [
    "grid[,] = \n",
    "grid"
   ]
  },
  {
   "cell_type": "markdown",
   "metadata": {},
   "source": [
    "### Exercise \n",
    "Use for loop and iterate through each `block` in the `grid`.Assign colour Black to this block and print the new grid\n"
   ]
  },
  {
   "cell_type": "code",
   "execution_count": null,
   "metadata": {},
   "outputs": [],
   "source": [
    "for  in grid:\n",
    "    \n",
    "grid"
   ]
  },
  {
   "cell_type": "code",
   "execution_count": null,
   "metadata": {},
   "outputs": [],
   "source": [
    "for block in grid.animate():\n",
    "    block.rgb = colors.DarkCyan  "
   ]
  },
  {
   "cell_type": "markdown",
   "metadata": {},
   "source": [
    "### Exercise \n",
    "Use for loop and iterate through each `block` in the `grid`and animate the colour change to your liking"
   ]
  },
  {
   "cell_type": "code",
   "execution_count": null,
   "metadata": {
    "collapsed": true
   },
   "outputs": [],
   "source": [
    "for block in grid.animate():\n",
    "    block.rgb = colors.DarkCyan      ## Change the colour"
   ]
  },
  {
   "cell_type": "markdown",
   "metadata": {},
   "source": [
    "### Tuples\n",
    "like lists, but they don't change size. <br>\n",
    "properties: ordered, iterable, immutable, can contain multiple data types"
   ]
  },
  {
   "cell_type": "code",
   "execution_count": null,
   "metadata": {
    "collapsed": true
   },
   "outputs": [],
   "source": [
    "# Mutable\n",
    "list_1 = ['SAC', 'RD&E', 'SCA', 'HR']\n",
    "list_2 = list_1\n",
    "\n",
    "print(list_1)\n",
    "print(list_2)"
   ]
  },
  {
   "cell_type": "code",
   "execution_count": null,
   "metadata": {
    "collapsed": true
   },
   "outputs": [],
   "source": [
    "list_1[0] = 'Finance'\n",
    "\n",
    "print(list_1)\n",
    "print(list_2)"
   ]
  },
  {
   "cell_type": "code",
   "execution_count": null,
   "metadata": {
    "collapsed": true
   },
   "outputs": [],
   "source": [
    "type(list_1)"
   ]
  },
  {
   "cell_type": "code",
   "execution_count": null,
   "metadata": {
    "collapsed": true
   },
   "outputs": [],
   "source": [
    "# Immutable\n",
    "tuple_1 = ('SAC', 'RD&E', 'SCA', 'HR')\n",
    "tuple_2 = tuple_1\n",
    "\n",
    "print(tuple_1)\n",
    "print(tuple_2)"
   ]
  },
  {
   "cell_type": "code",
   "execution_count": null,
   "metadata": {
    "collapsed": true
   },
   "outputs": [],
   "source": [
    "tuple_1[0] = 'Finance'                     ##TypeError: 'tuple' object does not support item assignment  \n",
    "\n",
    "print(tuple_1)\n",
    "print(tuple_2)"
   ]
  },
  {
   "cell_type": "markdown",
   "metadata": {},
   "source": [
    "### SETS ###\n",
    " like dictionaries, but with keys only (no values). <br>\n",
    " properties: unordered, iterable, mutable, only unique values, can contain multiple data types"
   ]
  },
  {
   "cell_type": "code",
   "execution_count": null,
   "metadata": {
    "collapsed": true
   },
   "outputs": [],
   "source": [
    "teams = {'SAC', 'RD&E', 'SCA', 'HR'}\n",
    "teams\n",
    "\n",
    "#Remove duplicate values\n",
    "#teams = {'SAC', 'RD&E', 'SCA', 'HR', 'SAC'}\n",
    "#teams\n",
    "#'SAC' in teams                ## Test value is part of the set, set are optimized for this compared to list and tuples "
   ]
  },
  {
   "cell_type": "code",
   "execution_count": null,
   "metadata": {
    "collapsed": true
   },
   "outputs": [],
   "source": [
    "team1 = {'SAC', 'RD&E', 'SCA', 'HR'}\n",
    "team2 = {'SAC', 'RD&E', 'SCA', 'Finance'}\n",
    "team1.intersection(team2)\n",
    "team1.difference(team2)\n",
    "team1.union(team2)"
   ]
  },
  {
   "cell_type": "code",
   "execution_count": null,
   "metadata": {
    "collapsed": true
   },
   "outputs": [],
   "source": [
    "## Methods associated with sets\n",
    "team1."
   ]
  },
  {
   "cell_type": "markdown",
   "metadata": {},
   "source": [
    "### DICTIONARIES ###\n",
    " properties: unordered, iterable, mutable, can contain multiple data types. <br>\n",
    " made up of key-value pairs. <br>\n",
    " keys must be unique, and can be strings, numbers, or tuples. <br>\n",
    " values can be any type."
   ]
  },
  {
   "cell_type": "code",
   "execution_count": null,
   "metadata": {
    "collapsed": true
   },
   "outputs": [],
   "source": [
    "Ecolab = {'Headquarters':'Saint Paul', 'Founded':1923, 'Regions':['North America','Asia Pacific','Europe']}\n",
    "Ecolab\n",
    "\n",
    "## accessing values more safely with 'get'\n",
    "#Ecolab['Headquarters']                      # returns 'Saint Paul'\n",
    "#Ecolab.get('Headquarters')                  # same thing\n",
    "#Ecolab['teams']                    # throws an error\n",
    "#print(Ecolab.get('teams'))         # returns None\n",
    "#Ecolab.get('teams', 'not found')    # returns 'not found' (the default)"
   ]
  },
  {
   "cell_type": "code",
   "execution_count": null,
   "metadata": {
    "collapsed": true
   },
   "outputs": [],
   "source": [
    "# ## # modify a dictionary \n",
    "Ecolab['teams'] = ['SAC', 'RD&E', 'SCA', 'HR']\n",
    "Ecolab\n",
    "\n",
    "#Ecolab['Regions'] = ['North America','Asia Pacific','Europe', 'Middle East and Africa'] \n",
    "#Ecolab\n",
    "\n",
    "#del Ecolab['Founded']\n",
    "#Ecolab"
   ]
  },
  {
   "cell_type": "code",
   "execution_count": null,
   "metadata": {
    "collapsed": true
   },
   "outputs": [],
   "source": [
    "## examine a dictionary\n",
    "\n",
    "len(Ecolab)\n",
    "#Ecolab.keys()       # returns list: ['Headquarters', 'Regions', 'teams']\n",
    "#Ecolab.values()     # returns list of all values\n",
    "#Ecolab.items()      # returns list of tuples of key: values\n",
    "\n",
    "## Looping through dictionary\n",
    "# for key in Ecolab:\n",
    "#     print(key)                 ## Will only loop through keys\n",
    "    \n",
    "#for key, value in Ecolab.items():  ## iterate through key and values using items()\n",
    "    #print(key, value)"
   ]
  },
  {
   "cell_type": "code",
   "execution_count": null,
   "metadata": {
    "collapsed": true
   },
   "outputs": [],
   "source": []
  }
 ],
 "metadata": {
  "kernelspec": {
   "display_name": "Python 3",
   "language": "python",
   "name": "python3"
  },
  "language_info": {
   "codemirror_mode": {
    "name": "ipython",
    "version": 3
   },
   "file_extension": ".py",
   "mimetype": "text/x-python",
   "name": "python",
   "nbconvert_exporter": "python",
   "pygments_lexer": "ipython3",
   "version": "3.6.3"
  }
 },
 "nbformat": 4,
 "nbformat_minor": 1
}
