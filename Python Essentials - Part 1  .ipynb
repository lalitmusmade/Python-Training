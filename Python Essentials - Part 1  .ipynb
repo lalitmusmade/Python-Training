{
 "cells": [
  {
   "cell_type": "markdown",
   "metadata": {},
   "source": [
    "# Table of Contents:\n",
    "1. Python Datatypes\n",
    "2. Data structures\n",
    "    1. List\n",
    "    2. Tuples\n",
    "    3. Sets\n",
    "    4. Dictionaries\n",
    "3. Conditional Statements\n",
    "4. Loops and Iterations\n",
    "5. Comprehension\n",
    "6. Functions"
   ]
  },
  {
   "cell_type": "markdown",
   "metadata": {},
   "source": [
    "## Python Datatypes\n",
    "1. Strings\n",
    "2. Float\n",
    "3. Integers\n",
    "4. Boolean\n",
    "5. Nonetype"
   ]
  },
  {
   "cell_type": "markdown",
   "metadata": {},
   "source": [
    "### Strings\n",
    "properties: iterable, immutable"
   ]
  },
  {
   "cell_type": "code",
   "execution_count": 188,
   "metadata": {},
   "outputs": [
    {
     "name": "stdout",
     "output_type": "stream",
     "text": [
      "Hello world\n"
     ]
    }
   ],
   "source": [
    "message = 'Hello world'    ## create a variable 'message' ## conventions for variables\n",
    "print(message)"
   ]
  },
  {
   "cell_type": "code",
   "execution_count": 189,
   "metadata": {},
   "outputs": [
    {
     "data": {
      "text/plain": [
       "'world'"
      ]
     },
     "execution_count": 189,
     "metadata": {},
     "output_type": "execute_result"
    }
   ],
   "source": [
    "## Examine string\n",
    "len(message)      ## returns 11\n",
    "message[0]        ## starts with 0 ## returns 'H'\n",
    "message[10]       ## returns 'd' ## last character\n",
    "message[0:5]      ## returns 'Hello' ## first index is inclusive and second is not \n",
    "message[:5]       ## returns 'Hello'\n",
    "message[6:]       ## returns 'world'"
   ]
  },
  {
   "cell_type": "markdown",
   "metadata": {},
   "source": [
    "All of the data types are going to have certain methods available to us that give us access to a lot of useful functionality.<br> \n",
    "Functions and methods are basically the same thing a method is just a function that belongs to a class"
   ]
  },
  {
   "cell_type": "code",
   "execution_count": 190,
   "metadata": {},
   "outputs": [
    {
     "data": {
      "text/plain": [
       "'Hello universe'"
      ]
     },
     "execution_count": 190,
     "metadata": {},
     "output_type": "execute_result"
    }
   ],
   "source": [
    "## string methods (does not modify the original string) ## Access method using dot method and parentheses\n",
    "message.lower()           # returns 'hello world'\n",
    "message.upper()           # returns 'HELLO WORLD'\n",
    "message.count('Hello')    # retuns 1\n",
    "message.find('world')      # returns index of first occurrence (6), but doesn't support regex\n",
    "message.find('universe')      # returns -1 since not found\n",
    "message.replace('world','universe')    # replaces all instances of 'world' with 'universe'"
   ]
  },
  {
   "cell_type": "code",
   "execution_count": 191,
   "metadata": {},
   "outputs": [
    {
     "data": {
      "text/plain": [
       "'Hello, Ecolab. Wassup!'"
      ]
     },
     "execution_count": 191,
     "metadata": {},
     "output_type": "execute_result"
    }
   ],
   "source": [
    "# concatenate strings and string fromatting\n",
    "\n",
    "greeting = 'Hello'\n",
    "name = 'Ecolab'\n",
    "#message = greeting + name            ## doesn't have a space \n",
    "#message = greeting + ', ' + name\n",
    "message = greeting + ', '+ name + '. Wassup!'        ## hard to keep track of whitespaces and plus signs\n",
    "# message = '{}, {}. Wassup!'.format(greeting, name)  ## formatted strings\n",
    "#message = f'{greeting}, {name}. Wassup!'\n",
    "#message = f'{greeting}, {name.upper()}. Wassup!'\n",
    "message"
   ]
  },
  {
   "cell_type": "code",
   "execution_count": 192,
   "metadata": {},
   "outputs": [
    {
     "name": "stdout",
     "output_type": "stream",
     "text": [
      "Help on method_descriptor:\n",
      "\n",
      "lower(...)\n",
      "    S.lower() -> str\n",
      "    \n",
      "    Return a copy of the string S converted to lowercase.\n",
      "\n"
     ]
    }
   ],
   "source": [
    "## See attributes and methods\n",
    "dir(name)\n",
    "#help(str)\n",
    "help(str.lower)"
   ]
  },
  {
   "cell_type": "markdown",
   "metadata": {},
   "source": [
    "### FLOAT AND INTEGERS ##"
   ]
  },
  {
   "cell_type": "code",
   "execution_count": 193,
   "metadata": {},
   "outputs": [
    {
     "name": "stdout",
     "output_type": "stream",
     "text": [
      "<class 'float'>\n"
     ]
    }
   ],
   "source": [
    "#num = 3\n",
    "num = 3.14\n",
    "print(type(num))"
   ]
  },
  {
   "cell_type": "code",
   "execution_count": 194,
   "metadata": {},
   "outputs": [
    {
     "data": {
      "text/plain": [
       "1"
      ]
     },
     "execution_count": 194,
     "metadata": {},
     "output_type": "execute_result"
    }
   ],
   "source": [
    "#Arithmetic Operators: \n",
    "# 10 + 4          # add (returns 14)\n",
    "# 10 - 4          # subtract (returns 6)\n",
    "# 10 * 4          # multiply (returns 40)\n",
    "#10 ** 4          # exponent (returns 10000)\n",
    "#10 / 4            # division (returns 2 because both types are 'int')\n",
    "#10 // 4         # floor divide (returns 2.5)\n",
    "5 % 4           # modulo (returns 1) - also known as the remainder"
   ]
  },
  {
   "cell_type": "code",
   "execution_count": 195,
   "metadata": {},
   "outputs": [
    {
     "data": {
      "text/plain": [
       "12"
      ]
     },
     "execution_count": 195,
     "metadata": {},
     "output_type": "execute_result"
    }
   ],
   "source": [
    "## Increment\n",
    "num = 4\n",
    "num = num + 4\n",
    "num += 4\n",
    "#num *=10\n",
    "num"
   ]
  },
  {
   "cell_type": "code",
   "execution_count": 196,
   "metadata": {},
   "outputs": [
    {
     "data": {
      "text/plain": [
       "3"
      ]
     },
     "execution_count": 196,
     "metadata": {},
     "output_type": "execute_result"
    }
   ],
   "source": [
    "## Methods associated with floats and integers\n",
    "abs(-3)\n",
    "round(3.14)"
   ]
  },
  {
   "cell_type": "markdown",
   "metadata": {},
   "source": [
    "#### Comparisons:\n",
    " Equal:            3 == 2 <br>\n",
    " Not Equal:        3 != 2 <br>\n",
    " Greater Than:     3 > 2 <br>\n",
    " Less Than:        3 < 2 <br>\n",
    " Greater or Equal: 3 >= 2 <br>\n",
    " Less or Equal:    3 <= 2 <br>"
   ]
  },
  {
   "cell_type": "code",
   "execution_count": 198,
   "metadata": {},
   "outputs": [
    {
     "data": {
      "text/plain": [
       "True"
      ]
     },
     "execution_count": 198,
     "metadata": {},
     "output_type": "execute_result"
    }
   ],
   "source": [
    "num1 = 3\n",
    "num2 = 2\n",
    "num1 != num2"
   ]
  },
  {
   "cell_type": "code",
   "execution_count": 199,
   "metadata": {},
   "outputs": [
    {
     "data": {
      "text/plain": [
       "'100200'"
      ]
     },
     "execution_count": 199,
     "metadata": {},
     "output_type": "execute_result"
    }
   ],
   "source": [
    "## Casting\n",
    "num1 = '100'\n",
    "num2 = '200'\n",
    "\n",
    "num1 + num2\n",
    "# num1 = int(num1)\n",
    "# num2 = int(num2)\n",
    "num1 + num2"
   ]
  },
  {
   "cell_type": "markdown",
   "metadata": {},
   "source": [
    "### Excercise with Blocks"
   ]
  },
  {
   "cell_type": "code",
   "execution_count": 41,
   "metadata": {
    "collapsed": true
   },
   "outputs": [],
   "source": [
    "from ipythonblocks import BlockGrid, colors, show_color, show_color_triple"
   ]
  },
  {
   "cell_type": "code",
   "execution_count": 42,
   "metadata": {},
   "outputs": [
    {
     "data": {
      "text/html": [
       "<style type=\"text/css\">table.blockgrid {border: none;} .blockgrid tr {border: none;} .blockgrid td {padding: 0px;} #blockse22962f0-d469-4912-8429-5921296005ea td {border: 1px solid white;}</style><table id=\"blockse22962f0-d469-4912-8429-5921296005ea\" class=\"blockgrid\"><tbody><tr><td title=\"Index: [0, 0]&#10;Color: (0, 139, 139)\" style=\"width: 20px; height: 20px;background-color: rgb(0, 139, 139);\"></td><td title=\"Index: [0, 1]&#10;Color: (0, 139, 139)\" style=\"width: 20px; height: 20px;background-color: rgb(0, 139, 139);\"></td><td title=\"Index: [0, 2]&#10;Color: (0, 139, 139)\" style=\"width: 20px; height: 20px;background-color: rgb(0, 139, 139);\"></td><td title=\"Index: [0, 3]&#10;Color: (0, 139, 139)\" style=\"width: 20px; height: 20px;background-color: rgb(0, 139, 139);\"></td><td title=\"Index: [0, 4]&#10;Color: (0, 139, 139)\" style=\"width: 20px; height: 20px;background-color: rgb(0, 139, 139);\"></td></tr><tr><td title=\"Index: [1, 0]&#10;Color: (0, 139, 139)\" style=\"width: 20px; height: 20px;background-color: rgb(0, 139, 139);\"></td><td title=\"Index: [1, 1]&#10;Color: (0, 139, 139)\" style=\"width: 20px; height: 20px;background-color: rgb(0, 139, 139);\"></td><td title=\"Index: [1, 2]&#10;Color: (0, 139, 139)\" style=\"width: 20px; height: 20px;background-color: rgb(0, 139, 139);\"></td><td title=\"Index: [1, 3]&#10;Color: (0, 139, 139)\" style=\"width: 20px; height: 20px;background-color: rgb(0, 139, 139);\"></td><td title=\"Index: [1, 4]&#10;Color: (0, 139, 139)\" style=\"width: 20px; height: 20px;background-color: rgb(0, 139, 139);\"></td></tr><tr><td title=\"Index: [2, 0]&#10;Color: (0, 139, 139)\" style=\"width: 20px; height: 20px;background-color: rgb(0, 139, 139);\"></td><td title=\"Index: [2, 1]&#10;Color: (0, 139, 139)\" style=\"width: 20px; height: 20px;background-color: rgb(0, 139, 139);\"></td><td title=\"Index: [2, 2]&#10;Color: (0, 139, 139)\" style=\"width: 20px; height: 20px;background-color: rgb(0, 139, 139);\"></td><td title=\"Index: [2, 3]&#10;Color: (0, 139, 139)\" style=\"width: 20px; height: 20px;background-color: rgb(0, 139, 139);\"></td><td title=\"Index: [2, 4]&#10;Color: (0, 139, 139)\" style=\"width: 20px; height: 20px;background-color: rgb(0, 139, 139);\"></td></tr><tr><td title=\"Index: [3, 0]&#10;Color: (0, 139, 139)\" style=\"width: 20px; height: 20px;background-color: rgb(0, 139, 139);\"></td><td title=\"Index: [3, 1]&#10;Color: (0, 139, 139)\" style=\"width: 20px; height: 20px;background-color: rgb(0, 139, 139);\"></td><td title=\"Index: [3, 2]&#10;Color: (0, 139, 139)\" style=\"width: 20px; height: 20px;background-color: rgb(0, 139, 139);\"></td><td title=\"Index: [3, 3]&#10;Color: (0, 139, 139)\" style=\"width: 20px; height: 20px;background-color: rgb(0, 139, 139);\"></td><td title=\"Index: [3, 4]&#10;Color: (0, 139, 139)\" style=\"width: 20px; height: 20px;background-color: rgb(0, 139, 139);\"></td></tr><tr><td title=\"Index: [4, 0]&#10;Color: (0, 139, 139)\" style=\"width: 20px; height: 20px;background-color: rgb(0, 139, 139);\"></td><td title=\"Index: [4, 1]&#10;Color: (0, 139, 139)\" style=\"width: 20px; height: 20px;background-color: rgb(0, 139, 139);\"></td><td title=\"Index: [4, 2]&#10;Color: (0, 139, 139)\" style=\"width: 20px; height: 20px;background-color: rgb(0, 139, 139);\"></td><td title=\"Index: [4, 3]&#10;Color: (0, 139, 139)\" style=\"width: 20px; height: 20px;background-color: rgb(0, 139, 139);\"></td><td title=\"Index: [4, 4]&#10;Color: (0, 139, 139)\" style=\"width: 20px; height: 20px;background-color: rgb(0, 139, 139);\"></td></tr></tbody></table>"
      ],
      "text/plain": [
       "<ipythonblocks.BlockGrid at 0x1e0957ccef0>"
      ]
     },
     "execution_count": 42,
     "metadata": {},
     "output_type": "execute_result"
    }
   ],
   "source": [
    "BlockGrid(width=5, height=5, fill=colors.DarkCyan)"
   ]
  },
  {
   "cell_type": "code",
   "execution_count": 43,
   "metadata": {},
   "outputs": [
    {
     "data": {
      "text/html": [
       "<style type=\"text/css\">table.blockgrid {border: none;} .blockgrid tr {border: none;} .blockgrid td {padding: 0px;} #blocks51b16e49-3ecc-48e6-9353-2b2cc07d2278 td {border: 1px solid white;}</style><table id=\"blocks51b16e49-3ecc-48e6-9353-2b2cc07d2278\" class=\"blockgrid\"><tbody><tr><td title=\"Index: [0, 0]&#10;Color: (0, 139, 139)\" style=\"width: 20px; height: 20px;background-color: rgb(0, 139, 139);\"></td><td title=\"Index: [0, 1]&#10;Color: (0, 139, 139)\" style=\"width: 20px; height: 20px;background-color: rgb(0, 139, 139);\"></td><td title=\"Index: [0, 2]&#10;Color: (0, 139, 139)\" style=\"width: 20px; height: 20px;background-color: rgb(0, 139, 139);\"></td><td title=\"Index: [0, 3]&#10;Color: (0, 139, 139)\" style=\"width: 20px; height: 20px;background-color: rgb(0, 139, 139);\"></td><td title=\"Index: [0, 4]&#10;Color: (0, 139, 139)\" style=\"width: 20px; height: 20px;background-color: rgb(0, 139, 139);\"></td></tr><tr><td title=\"Index: [1, 0]&#10;Color: (0, 139, 139)\" style=\"width: 20px; height: 20px;background-color: rgb(0, 139, 139);\"></td><td title=\"Index: [1, 1]&#10;Color: (0, 139, 139)\" style=\"width: 20px; height: 20px;background-color: rgb(0, 139, 139);\"></td><td title=\"Index: [1, 2]&#10;Color: (0, 139, 139)\" style=\"width: 20px; height: 20px;background-color: rgb(0, 139, 139);\"></td><td title=\"Index: [1, 3]&#10;Color: (0, 139, 139)\" style=\"width: 20px; height: 20px;background-color: rgb(0, 139, 139);\"></td><td title=\"Index: [1, 4]&#10;Color: (0, 139, 139)\" style=\"width: 20px; height: 20px;background-color: rgb(0, 139, 139);\"></td></tr><tr><td title=\"Index: [2, 0]&#10;Color: (0, 139, 139)\" style=\"width: 20px; height: 20px;background-color: rgb(0, 139, 139);\"></td><td title=\"Index: [2, 1]&#10;Color: (0, 139, 139)\" style=\"width: 20px; height: 20px;background-color: rgb(0, 139, 139);\"></td><td title=\"Index: [2, 2]&#10;Color: (0, 139, 139)\" style=\"width: 20px; height: 20px;background-color: rgb(0, 139, 139);\"></td><td title=\"Index: [2, 3]&#10;Color: (0, 139, 139)\" style=\"width: 20px; height: 20px;background-color: rgb(0, 139, 139);\"></td><td title=\"Index: [2, 4]&#10;Color: (0, 139, 139)\" style=\"width: 20px; height: 20px;background-color: rgb(0, 139, 139);\"></td></tr><tr><td title=\"Index: [3, 0]&#10;Color: (0, 139, 139)\" style=\"width: 20px; height: 20px;background-color: rgb(0, 139, 139);\"></td><td title=\"Index: [3, 1]&#10;Color: (0, 139, 139)\" style=\"width: 20px; height: 20px;background-color: rgb(0, 139, 139);\"></td><td title=\"Index: [3, 2]&#10;Color: (0, 139, 139)\" style=\"width: 20px; height: 20px;background-color: rgb(0, 139, 139);\"></td><td title=\"Index: [3, 3]&#10;Color: (0, 139, 139)\" style=\"width: 20px; height: 20px;background-color: rgb(0, 139, 139);\"></td><td title=\"Index: [3, 4]&#10;Color: (0, 139, 139)\" style=\"width: 20px; height: 20px;background-color: rgb(0, 139, 139);\"></td></tr><tr><td title=\"Index: [4, 0]&#10;Color: (0, 139, 139)\" style=\"width: 20px; height: 20px;background-color: rgb(0, 139, 139);\"></td><td title=\"Index: [4, 1]&#10;Color: (0, 139, 139)\" style=\"width: 20px; height: 20px;background-color: rgb(0, 139, 139);\"></td><td title=\"Index: [4, 2]&#10;Color: (0, 139, 139)\" style=\"width: 20px; height: 20px;background-color: rgb(0, 139, 139);\"></td><td title=\"Index: [4, 3]&#10;Color: (0, 139, 139)\" style=\"width: 20px; height: 20px;background-color: rgb(0, 139, 139);\"></td><td title=\"Index: [4, 4]&#10;Color: (0, 139, 139)\" style=\"width: 20px; height: 20px;background-color: rgb(0, 139, 139);\"></td></tr></tbody></table>"
      ],
      "text/plain": [
       "<ipythonblocks.BlockGrid at 0x1e0957d1048>"
      ]
     },
     "execution_count": 43,
     "metadata": {},
     "output_type": "execute_result"
    }
   ],
   "source": [
    "grid = BlockGrid(width=5, height=5, fill=colors.DarkCyan)   ## assigning variable\n",
    "grid"
   ]
  },
  {
   "cell_type": "code",
   "execution_count": 45,
   "metadata": {},
   "outputs": [],
   "source": [
    "grid?"
   ]
  },
  {
   "cell_type": "code",
   "execution_count": 26,
   "metadata": {},
   "outputs": [
    {
     "data": {
      "text/html": [
       "<style type=\"text/css\">table.blockgrid {border: none;} .blockgrid tr {border: none;} .blockgrid td {padding: 0px;} #blocksda9b61f5-5c86-4b65-9f0b-97166402b62f td {border: 1px solid white;}</style><table id=\"blocksda9b61f5-5c86-4b65-9f0b-97166402b62f\" class=\"blockgrid\"><tbody><tr><td title=\"Index: [0, 0]&#10;Color: (0, 139, 139)\" style=\"width: 20px; height: 20px;background-color: rgb(0, 139, 139);\"></td><td title=\"Index: [0, 1]&#10;Color: (0, 139, 139)\" style=\"width: 20px; height: 20px;background-color: rgb(0, 139, 139);\"></td><td title=\"Index: [0, 2]&#10;Color: (0, 139, 139)\" style=\"width: 20px; height: 20px;background-color: rgb(0, 139, 139);\"></td><td title=\"Index: [0, 3]&#10;Color: (0, 139, 139)\" style=\"width: 20px; height: 20px;background-color: rgb(0, 139, 139);\"></td><td title=\"Index: [0, 4]&#10;Color: (0, 139, 139)\" style=\"width: 20px; height: 20px;background-color: rgb(0, 139, 139);\"></td></tr><tr><td title=\"Index: [1, 0]&#10;Color: (0, 139, 139)\" style=\"width: 20px; height: 20px;background-color: rgb(0, 139, 139);\"></td><td title=\"Index: [1, 1]&#10;Color: (0, 139, 139)\" style=\"width: 20px; height: 20px;background-color: rgb(0, 139, 139);\"></td><td title=\"Index: [1, 2]&#10;Color: (0, 139, 139)\" style=\"width: 20px; height: 20px;background-color: rgb(0, 139, 139);\"></td><td title=\"Index: [1, 3]&#10;Color: (0, 139, 139)\" style=\"width: 20px; height: 20px;background-color: rgb(0, 139, 139);\"></td><td title=\"Index: [1, 4]&#10;Color: (0, 139, 139)\" style=\"width: 20px; height: 20px;background-color: rgb(0, 139, 139);\"></td></tr><tr><td title=\"Index: [2, 0]&#10;Color: (0, 139, 139)\" style=\"width: 20px; height: 20px;background-color: rgb(0, 139, 139);\"></td><td title=\"Index: [2, 1]&#10;Color: (0, 139, 139)\" style=\"width: 20px; height: 20px;background-color: rgb(0, 139, 139);\"></td><td title=\"Index: [2, 2]&#10;Color: (0, 139, 139)\" style=\"width: 20px; height: 20px;background-color: rgb(0, 139, 139);\"></td><td title=\"Index: [2, 3]&#10;Color: (189, 183, 107)\" style=\"width: 20px; height: 20px;background-color: rgb(189, 183, 107);\"></td><td title=\"Index: [2, 4]&#10;Color: (0, 139, 139)\" style=\"width: 20px; height: 20px;background-color: rgb(0, 139, 139);\"></td></tr><tr><td title=\"Index: [3, 0]&#10;Color: (0, 139, 139)\" style=\"width: 20px; height: 20px;background-color: rgb(0, 139, 139);\"></td><td title=\"Index: [3, 1]&#10;Color: (0, 139, 139)\" style=\"width: 20px; height: 20px;background-color: rgb(0, 139, 139);\"></td><td title=\"Index: [3, 2]&#10;Color: (0, 139, 139)\" style=\"width: 20px; height: 20px;background-color: rgb(0, 139, 139);\"></td><td title=\"Index: [3, 3]&#10;Color: (0, 139, 139)\" style=\"width: 20px; height: 20px;background-color: rgb(0, 139, 139);\"></td><td title=\"Index: [3, 4]&#10;Color: (0, 139, 139)\" style=\"width: 20px; height: 20px;background-color: rgb(0, 139, 139);\"></td></tr><tr><td title=\"Index: [4, 0]&#10;Color: (0, 139, 139)\" style=\"width: 20px; height: 20px;background-color: rgb(0, 139, 139);\"></td><td title=\"Index: [4, 1]&#10;Color: (0, 139, 139)\" style=\"width: 20px; height: 20px;background-color: rgb(0, 139, 139);\"></td><td title=\"Index: [4, 2]&#10;Color: (0, 139, 139)\" style=\"width: 20px; height: 20px;background-color: rgb(0, 139, 139);\"></td><td title=\"Index: [4, 3]&#10;Color: (0, 139, 139)\" style=\"width: 20px; height: 20px;background-color: rgb(0, 139, 139);\"></td><td title=\"Index: [4, 4]&#10;Color: (0, 139, 139)\" style=\"width: 20px; height: 20px;background-color: rgb(0, 139, 139);\"></td></tr></tbody></table>"
      ],
      "text/plain": [
       "<ipythonblocks.BlockGrid at 0x1e0957f06d8>"
      ]
     },
     "execution_count": 26,
     "metadata": {},
     "output_type": "execute_result"
    }
   ],
   "source": [
    "\n",
    "# block = grid[2, 3]\n",
    "# block.rgb = colors.Black\n",
    "# grid\n",
    "\n",
    "grid_select =[2,3]                 ## Calling BlockGrid using list\n",
    "#block = grid[[grid_select]]\n",
    "row =2\n",
    "column =3\n",
    "block = grid[row,column]\n",
    "block.rgb = colors.DarkKhaki\n",
    "grid"
   ]
  },
  {
   "cell_type": "code",
   "execution_count": 28,
   "metadata": {},
   "outputs": [
    {
     "data": {
      "text/html": [
       "<style type=\"text/css\">table.blockgrid {border: none;} .blockgrid tr {border: none;} .blockgrid td {padding: 0px;} #blockscebab879-b7b9-47ed-a05c-167f52f7e78b td {border: 0px solid white;}</style><table id=\"blockscebab879-b7b9-47ed-a05c-167f52f7e78b\" class=\"blockgrid\"><tbody><tr><td title=\"Index: [2, 3]&#10;Color: (189, 183, 107)\" style=\"width: 20px; height: 20px;background-color: rgb(189, 183, 107);\"></td></tr></tbody></table>"
      ],
      "text/plain": [
       "Block(189, 183, 107, size=20)"
      ]
     },
     "execution_count": 28,
     "metadata": {},
     "output_type": "execute_result"
    }
   ],
   "source": [
    "block"
   ]
  },
  {
   "cell_type": "code",
   "execution_count": 29,
   "metadata": {},
   "outputs": [
    {
     "data": {
      "text/plain": [
       "(189, 183, 107)"
      ]
     },
     "execution_count": 29,
     "metadata": {},
     "output_type": "execute_result"
    }
   ],
   "source": [
    "block.rgb"
   ]
  },
  {
   "cell_type": "markdown",
   "metadata": {},
   "source": [
    "## Data structures"
   ]
  },
  {
   "cell_type": "markdown",
   "metadata": {},
   "source": [
    "### LISTS ###\n",
    "properties: ordered, iterable, mutable, can contain multiple data types"
   ]
  },
  {
   "cell_type": "code",
   "execution_count": 203,
   "metadata": {},
   "outputs": [
    {
     "data": {
      "text/plain": [
       "['SAC', 'RD&E', 'SCA', 'HR']"
      ]
     },
     "execution_count": 203,
     "metadata": {},
     "output_type": "execute_result"
    }
   ],
   "source": [
    "teams = ['SAC', 'RD&E', 'SCA', 'HR']\n",
    "teams\n",
    "# len(teams)      ## returns length 4\n",
    "# teams[3]\n",
    "# teams[-1]\n"
   ]
  },
  {
   "cell_type": "code",
   "execution_count": 142,
   "metadata": {},
   "outputs": [
    {
     "data": {
      "text/plain": [
       "['Finance', 'SAC', 'RD&E', 'SCA', 'HR', 'Finance', 'Finance', 'Finance']"
      ]
     },
     "execution_count": 142,
     "metadata": {},
     "output_type": "execute_result"
    }
   ],
   "source": [
    "## List slicing ##\n",
    "#teams[0:2]  ## returns ['SAC', 'RD&E'] ##the first index is inclusive but the second index is not\n",
    "#teams[:2]\n",
    "#teams[2:]  ## returns ['SCA', 'HR'] ## \n",
    "\n",
    "# Methods associted with list\n",
    "teams.append('Finance')     ## # append element to end\n",
    "teams.insert(0, 'Finance')  ## # insert element at index 0 (shifts everything right)\n",
    "teams"
   ]
  },
  {
   "cell_type": "code",
   "execution_count": null,
   "metadata": {
    "collapsed": true
   },
   "outputs": [],
   "source": [
    "teams.append()"
   ]
  },
  {
   "cell_type": "code",
   "execution_count": 145,
   "metadata": {},
   "outputs": [
    {
     "data": {
      "text/plain": [
       "['SAC', 'RD&E', 'SCA', 'Finance', 'Finance']"
      ]
     },
     "execution_count": 145,
     "metadata": {},
     "output_type": "execute_result"
    }
   ],
   "source": [
    "## Remove the values\n",
    "#teams.remove('Finance')     # searches for first instance and removes it\n",
    "#teams.pop()                  ##  # default removes last element also take index as argument to remove specific item\n",
    "del teams[3]                  ## removes the element and doesnt return it  \n",
    "teams\n",
    "#print(teams)"
   ]
  },
  {
   "cell_type": "code",
   "execution_count": 151,
   "metadata": {},
   "outputs": [
    {
     "data": {
      "text/plain": [
       "True"
      ]
     },
     "execution_count": 151,
     "metadata": {},
     "output_type": "execute_result"
    }
   ],
   "source": [
    "teams = ['SAC', 'RD&E', 'SCA', 'HR']\n",
    "teams\n",
    "# teams.index('SAC')             ## find the index of the element in the list\n",
    "# teams.index('Finance')         ## ValueError: 'Finance' is not in list\n",
    "# 'Finance' in teams            ## in operator\n",
    "# 'SAC' in teams\n",
    "\n"
   ]
  },
  {
   "cell_type": "code",
   "execution_count": 153,
   "metadata": {},
   "outputs": [
    {
     "name": "stdout",
     "output_type": "stream",
     "text": [
      "SAC\n",
      "RD&E\n",
      "SCA\n",
      "HR\n"
     ]
    }
   ],
   "source": [
    "teams = ['SAC', 'RD&E', 'SCA', 'HR']\n",
    "for team in teams:\n",
    "    print(team)                                        ## team is temprory variable # Explain indentation and whitespaces"
   ]
  },
  {
   "cell_type": "code",
   "execution_count": 200,
   "metadata": {},
   "outputs": [
    {
     "ename": "AttributeError",
     "evalue": "'set' object has no attribute 'extend'",
     "output_type": "error",
     "traceback": [
      "\u001b[1;31m---------------------------------------------------------------------------\u001b[0m",
      "\u001b[1;31mAttributeError\u001b[0m                            Traceback (most recent call last)",
      "\u001b[1;32m<ipython-input-200-02c91128969a>\u001b[0m in \u001b[0;36m<module>\u001b[1;34m()\u001b[0m\n\u001b[1;32m----> 1\u001b[1;33m \u001b[0mteams\u001b[0m\u001b[1;33m.\u001b[0m\u001b[0mextend\u001b[0m\u001b[1;33m(\u001b[0m\u001b[1;33m)\u001b[0m\u001b[1;33m\u001b[0m\u001b[0m\n\u001b[0m",
      "\u001b[1;31mAttributeError\u001b[0m: 'set' object has no attribute 'extend'"
     ]
    }
   ],
   "source": [
    "teams.extend()"
   ]
  },
  {
   "cell_type": "code",
   "execution_count": 89,
   "metadata": {},
   "outputs": [
    {
     "data": {
      "text/html": [
       "<style type=\"text/css\">table.blockgrid {border: none;} .blockgrid tr {border: none;} .blockgrid td {padding: 0px;} #blocks6801a653-650c-40b2-8fb0-caffcad72116 td {border: 1px solid white;}</style><table id=\"blocks6801a653-650c-40b2-8fb0-caffcad72116\" class=\"blockgrid\"><tbody><tr><td title=\"Index: [0, 0]&#10;Color: (0, 139, 139)\" style=\"width: 20px; height: 20px;background-color: rgb(0, 139, 139);\"></td><td title=\"Index: [0, 1]&#10;Color: (0, 139, 139)\" style=\"width: 20px; height: 20px;background-color: rgb(0, 139, 139);\"></td><td title=\"Index: [0, 2]&#10;Color: (0, 139, 139)\" style=\"width: 20px; height: 20px;background-color: rgb(0, 139, 139);\"></td><td title=\"Index: [0, 3]&#10;Color: (0, 139, 139)\" style=\"width: 20px; height: 20px;background-color: rgb(0, 139, 139);\"></td><td title=\"Index: [0, 4]&#10;Color: (0, 139, 139)\" style=\"width: 20px; height: 20px;background-color: rgb(0, 139, 139);\"></td></tr><tr><td title=\"Index: [1, 0]&#10;Color: (0, 139, 139)\" style=\"width: 20px; height: 20px;background-color: rgb(0, 139, 139);\"></td><td title=\"Index: [1, 1]&#10;Color: (0, 139, 139)\" style=\"width: 20px; height: 20px;background-color: rgb(0, 139, 139);\"></td><td title=\"Index: [1, 2]&#10;Color: (0, 139, 139)\" style=\"width: 20px; height: 20px;background-color: rgb(0, 139, 139);\"></td><td title=\"Index: [1, 3]&#10;Color: (0, 139, 139)\" style=\"width: 20px; height: 20px;background-color: rgb(0, 139, 139);\"></td><td title=\"Index: [1, 4]&#10;Color: (0, 139, 139)\" style=\"width: 20px; height: 20px;background-color: rgb(0, 139, 139);\"></td></tr><tr><td title=\"Index: [2, 0]&#10;Color: (0, 139, 139)\" style=\"width: 20px; height: 20px;background-color: rgb(0, 139, 139);\"></td><td title=\"Index: [2, 1]&#10;Color: (0, 139, 139)\" style=\"width: 20px; height: 20px;background-color: rgb(0, 139, 139);\"></td><td title=\"Index: [2, 2]&#10;Color: (0, 139, 139)\" style=\"width: 20px; height: 20px;background-color: rgb(0, 139, 139);\"></td><td title=\"Index: [2, 3]&#10;Color: (0, 139, 139)\" style=\"width: 20px; height: 20px;background-color: rgb(0, 139, 139);\"></td><td title=\"Index: [2, 4]&#10;Color: (0, 139, 139)\" style=\"width: 20px; height: 20px;background-color: rgb(0, 139, 139);\"></td></tr><tr><td title=\"Index: [3, 0]&#10;Color: (0, 139, 139)\" style=\"width: 20px; height: 20px;background-color: rgb(0, 139, 139);\"></td><td title=\"Index: [3, 1]&#10;Color: (0, 139, 139)\" style=\"width: 20px; height: 20px;background-color: rgb(0, 139, 139);\"></td><td title=\"Index: [3, 2]&#10;Color: (0, 139, 139)\" style=\"width: 20px; height: 20px;background-color: rgb(0, 139, 139);\"></td><td title=\"Index: [3, 3]&#10;Color: (0, 139, 139)\" style=\"width: 20px; height: 20px;background-color: rgb(0, 139, 139);\"></td><td title=\"Index: [3, 4]&#10;Color: (0, 139, 139)\" style=\"width: 20px; height: 20px;background-color: rgb(0, 139, 139);\"></td></tr><tr><td title=\"Index: [4, 0]&#10;Color: (0, 139, 139)\" style=\"width: 20px; height: 20px;background-color: rgb(0, 139, 139);\"></td><td title=\"Index: [4, 1]&#10;Color: (0, 139, 139)\" style=\"width: 20px; height: 20px;background-color: rgb(0, 139, 139);\"></td><td title=\"Index: [4, 2]&#10;Color: (0, 139, 139)\" style=\"width: 20px; height: 20px;background-color: rgb(0, 139, 139);\"></td><td title=\"Index: [4, 3]&#10;Color: (0, 139, 139)\" style=\"width: 20px; height: 20px;background-color: rgb(0, 139, 139);\"></td><td title=\"Index: [4, 4]&#10;Color: (0, 139, 139)\" style=\"width: 20px; height: 20px;background-color: rgb(0, 139, 139);\"></td></tr></tbody></table>"
      ],
      "text/plain": [
       "<ipythonblocks.BlockGrid at 0x1e0957d1048>"
      ]
     },
     "execution_count": 89,
     "metadata": {},
     "output_type": "execute_result"
    }
   ],
   "source": [
    "grid"
   ]
  },
  {
   "cell_type": "code",
   "execution_count": 94,
   "metadata": {},
   "outputs": [
    {
     "data": {
      "text/html": [
       "<style type=\"text/css\">table.blockgrid {border: none;} .blockgrid tr {border: none;} .blockgrid td {padding: 0px;} #blocks07ca777c-bccd-45b5-b6ca-9e139364fa81 td {border: 1px solid white;}</style><table id=\"blocks07ca777c-bccd-45b5-b6ca-9e139364fa81\" class=\"blockgrid\"><tbody><tr><td title=\"Index: [0, 0]&#10;Color: (0, 0, 255)\" style=\"width: 20px; height: 20px;background-color: rgb(0, 0, 255);\"></td><td title=\"Index: [0, 1]&#10;Color: (0, 0, 255)\" style=\"width: 20px; height: 20px;background-color: rgb(0, 0, 255);\"></td><td title=\"Index: [0, 2]&#10;Color: (0, 0, 255)\" style=\"width: 20px; height: 20px;background-color: rgb(0, 0, 255);\"></td><td title=\"Index: [0, 3]&#10;Color: (0, 0, 255)\" style=\"width: 20px; height: 20px;background-color: rgb(0, 0, 255);\"></td><td title=\"Index: [0, 4]&#10;Color: (0, 0, 255)\" style=\"width: 20px; height: 20px;background-color: rgb(0, 0, 255);\"></td></tr><tr><td title=\"Index: [1, 0]&#10;Color: (0, 0, 255)\" style=\"width: 20px; height: 20px;background-color: rgb(0, 0, 255);\"></td><td title=\"Index: [1, 1]&#10;Color: (0, 0, 255)\" style=\"width: 20px; height: 20px;background-color: rgb(0, 0, 255);\"></td><td title=\"Index: [1, 2]&#10;Color: (0, 0, 255)\" style=\"width: 20px; height: 20px;background-color: rgb(0, 0, 255);\"></td><td title=\"Index: [1, 3]&#10;Color: (0, 0, 255)\" style=\"width: 20px; height: 20px;background-color: rgb(0, 0, 255);\"></td><td title=\"Index: [1, 4]&#10;Color: (0, 0, 255)\" style=\"width: 20px; height: 20px;background-color: rgb(0, 0, 255);\"></td></tr><tr><td title=\"Index: [2, 0]&#10;Color: (0, 0, 255)\" style=\"width: 20px; height: 20px;background-color: rgb(0, 0, 255);\"></td><td title=\"Index: [2, 1]&#10;Color: (0, 0, 255)\" style=\"width: 20px; height: 20px;background-color: rgb(0, 0, 255);\"></td><td title=\"Index: [2, 2]&#10;Color: (0, 0, 255)\" style=\"width: 20px; height: 20px;background-color: rgb(0, 0, 255);\"></td><td title=\"Index: [2, 3]&#10;Color: (0, 0, 255)\" style=\"width: 20px; height: 20px;background-color: rgb(0, 0, 255);\"></td><td title=\"Index: [2, 4]&#10;Color: (0, 0, 255)\" style=\"width: 20px; height: 20px;background-color: rgb(0, 0, 255);\"></td></tr><tr><td title=\"Index: [3, 0]&#10;Color: (0, 139, 139)\" style=\"width: 20px; height: 20px;background-color: rgb(0, 139, 139);\"></td><td title=\"Index: [3, 1]&#10;Color: (0, 139, 139)\" style=\"width: 20px; height: 20px;background-color: rgb(0, 139, 139);\"></td><td title=\"Index: [3, 2]&#10;Color: (0, 139, 139)\" style=\"width: 20px; height: 20px;background-color: rgb(0, 139, 139);\"></td><td title=\"Index: [3, 3]&#10;Color: (0, 139, 139)\" style=\"width: 20px; height: 20px;background-color: rgb(0, 139, 139);\"></td><td title=\"Index: [3, 4]&#10;Color: (0, 139, 139)\" style=\"width: 20px; height: 20px;background-color: rgb(0, 139, 139);\"></td></tr><tr><td title=\"Index: [4, 0]&#10;Color: (0, 139, 139)\" style=\"width: 20px; height: 20px;background-color: rgb(0, 139, 139);\"></td><td title=\"Index: [4, 1]&#10;Color: (0, 139, 139)\" style=\"width: 20px; height: 20px;background-color: rgb(0, 139, 139);\"></td><td title=\"Index: [4, 2]&#10;Color: (0, 139, 139)\" style=\"width: 20px; height: 20px;background-color: rgb(0, 139, 139);\"></td><td title=\"Index: [4, 3]&#10;Color: (0, 139, 139)\" style=\"width: 20px; height: 20px;background-color: rgb(0, 139, 139);\"></td><td title=\"Index: [4, 4]&#10;Color: (0, 139, 139)\" style=\"width: 20px; height: 20px;background-color: rgb(0, 139, 139);\"></td></tr></tbody></table>"
      ],
      "text/plain": [
       "<ipythonblocks.BlockGrid at 0x1e0957d1048>"
      ]
     },
     "execution_count": 94,
     "metadata": {},
     "output_type": "execute_result"
    }
   ],
   "source": [
    "grid[0:2] = colors.Blue\n",
    "grid[:2]\n",
    "grid"
   ]
  },
  {
   "cell_type": "code",
   "execution_count": 30,
   "metadata": {},
   "outputs": [
    {
     "data": {
      "text/html": [
       "<style type=\"text/css\">table.blockgrid {border: none;} .blockgrid tr {border: none;} .blockgrid td {padding: 0px;} #blocksf854080f-3776-4b27-bdd2-210cb4bd3d78 td {border: 1px solid white;}</style><table id=\"blocksf854080f-3776-4b27-bdd2-210cb4bd3d78\" class=\"blockgrid\"><tbody><tr><td title=\"Index: [0, 0]&#10;Color: (0, 139, 139)\" style=\"width: 20px; height: 20px;background-color: rgb(0, 139, 139);\"></td><td title=\"Index: [0, 1]&#10;Color: (0, 139, 139)\" style=\"width: 20px; height: 20px;background-color: rgb(0, 139, 139);\"></td><td title=\"Index: [0, 2]&#10;Color: (0, 139, 139)\" style=\"width: 20px; height: 20px;background-color: rgb(0, 139, 139);\"></td><td title=\"Index: [0, 3]&#10;Color: (0, 139, 139)\" style=\"width: 20px; height: 20px;background-color: rgb(0, 139, 139);\"></td><td title=\"Index: [0, 4]&#10;Color: (0, 139, 139)\" style=\"width: 20px; height: 20px;background-color: rgb(0, 139, 139);\"></td></tr><tr><td title=\"Index: [1, 0]&#10;Color: (0, 139, 139)\" style=\"width: 20px; height: 20px;background-color: rgb(0, 139, 139);\"></td><td title=\"Index: [1, 1]&#10;Color: (0, 139, 139)\" style=\"width: 20px; height: 20px;background-color: rgb(0, 139, 139);\"></td><td title=\"Index: [1, 2]&#10;Color: (0, 139, 139)\" style=\"width: 20px; height: 20px;background-color: rgb(0, 139, 139);\"></td><td title=\"Index: [1, 3]&#10;Color: (0, 139, 139)\" style=\"width: 20px; height: 20px;background-color: rgb(0, 139, 139);\"></td><td title=\"Index: [1, 4]&#10;Color: (0, 139, 139)\" style=\"width: 20px; height: 20px;background-color: rgb(0, 139, 139);\"></td></tr><tr><td title=\"Index: [2, 0]&#10;Color: (0, 139, 139)\" style=\"width: 20px; height: 20px;background-color: rgb(0, 139, 139);\"></td><td title=\"Index: [2, 1]&#10;Color: (0, 139, 139)\" style=\"width: 20px; height: 20px;background-color: rgb(0, 139, 139);\"></td><td title=\"Index: [2, 2]&#10;Color: (0, 139, 139)\" style=\"width: 20px; height: 20px;background-color: rgb(0, 139, 139);\"></td><td title=\"Index: [2, 3]&#10;Color: (189, 183, 107)\" style=\"width: 20px; height: 20px;background-color: rgb(189, 183, 107);\"></td><td title=\"Index: [2, 4]&#10;Color: (0, 139, 139)\" style=\"width: 20px; height: 20px;background-color: rgb(0, 139, 139);\"></td></tr><tr><td title=\"Index: [3, 0]&#10;Color: (0, 139, 139)\" style=\"width: 20px; height: 20px;background-color: rgb(0, 139, 139);\"></td><td title=\"Index: [3, 1]&#10;Color: (0, 139, 139)\" style=\"width: 20px; height: 20px;background-color: rgb(0, 139, 139);\"></td><td title=\"Index: [3, 2]&#10;Color: (0, 139, 139)\" style=\"width: 20px; height: 20px;background-color: rgb(0, 139, 139);\"></td><td title=\"Index: [3, 3]&#10;Color: (0, 139, 139)\" style=\"width: 20px; height: 20px;background-color: rgb(0, 139, 139);\"></td><td title=\"Index: [3, 4]&#10;Color: (0, 139, 139)\" style=\"width: 20px; height: 20px;background-color: rgb(0, 139, 139);\"></td></tr><tr><td title=\"Index: [4, 0]&#10;Color: (0, 139, 139)\" style=\"width: 20px; height: 20px;background-color: rgb(0, 139, 139);\"></td><td title=\"Index: [4, 1]&#10;Color: (0, 139, 139)\" style=\"width: 20px; height: 20px;background-color: rgb(0, 139, 139);\"></td><td title=\"Index: [4, 2]&#10;Color: (0, 139, 139)\" style=\"width: 20px; height: 20px;background-color: rgb(0, 139, 139);\"></td><td title=\"Index: [4, 3]&#10;Color: (0, 139, 139)\" style=\"width: 20px; height: 20px;background-color: rgb(0, 139, 139);\"></td><td title=\"Index: [4, 4]&#10;Color: (255, 0, 0)\" style=\"width: 20px; height: 20px;background-color: rgb(255, 0, 0);\"></td></tr></tbody></table>"
      ],
      "text/plain": [
       "<ipythonblocks.BlockGrid at 0x1e0957f06d8>"
      ]
     },
     "execution_count": 30,
     "metadata": {},
     "output_type": "execute_result"
    }
   ],
   "source": [
    "grid[4, 4] = colors.Red\n",
    "grid"
   ]
  },
  {
   "cell_type": "code",
   "execution_count": 95,
   "metadata": {},
   "outputs": [
    {
     "data": {
      "text/html": [
       "<style type=\"text/css\">table.blockgrid {border: none;} .blockgrid tr {border: none;} .blockgrid td {padding: 0px;} #blocksdeb99793-9504-4a24-9c61-b237b7792d59 td {border: 1px solid white;}</style><table id=\"blocksdeb99793-9504-4a24-9c61-b237b7792d59\" class=\"blockgrid\"><tbody><tr><td title=\"Index: [0, 0]&#10;Color: (0, 0, 255)\" style=\"width: 20px; height: 20px;background-color: rgb(0, 0, 255);\"></td><td title=\"Index: [0, 1]&#10;Color: (0, 0, 255)\" style=\"width: 20px; height: 20px;background-color: rgb(0, 0, 255);\"></td><td title=\"Index: [0, 2]&#10;Color: (0, 0, 255)\" style=\"width: 20px; height: 20px;background-color: rgb(0, 0, 255);\"></td><td title=\"Index: [0, 3]&#10;Color: (0, 0, 255)\" style=\"width: 20px; height: 20px;background-color: rgb(0, 0, 255);\"></td><td title=\"Index: [0, 4]&#10;Color: (0, 0, 255)\" style=\"width: 20px; height: 20px;background-color: rgb(0, 0, 255);\"></td></tr><tr><td title=\"Index: [1, 0]&#10;Color: (0, 0, 255)\" style=\"width: 20px; height: 20px;background-color: rgb(0, 0, 255);\"></td><td title=\"Index: [1, 1]&#10;Color: (0, 0, 255)\" style=\"width: 20px; height: 20px;background-color: rgb(0, 0, 255);\"></td><td title=\"Index: [1, 2]&#10;Color: (0, 0, 255)\" style=\"width: 20px; height: 20px;background-color: rgb(0, 0, 255);\"></td><td title=\"Index: [1, 3]&#10;Color: (0, 0, 255)\" style=\"width: 20px; height: 20px;background-color: rgb(0, 0, 255);\"></td><td title=\"Index: [1, 4]&#10;Color: (0, 0, 255)\" style=\"width: 20px; height: 20px;background-color: rgb(0, 0, 255);\"></td></tr><tr><td title=\"Index: [2, 0]&#10;Color: (0, 0, 255)\" style=\"width: 20px; height: 20px;background-color: rgb(0, 0, 255);\"></td><td title=\"Index: [2, 1]&#10;Color: (0, 0, 255)\" style=\"width: 20px; height: 20px;background-color: rgb(0, 0, 255);\"></td><td title=\"Index: [2, 2]&#10;Color: (0, 0, 255)\" style=\"width: 20px; height: 20px;background-color: rgb(0, 0, 255);\"></td><td title=\"Index: [2, 3]&#10;Color: (0, 0, 255)\" style=\"width: 20px; height: 20px;background-color: rgb(0, 0, 255);\"></td><td title=\"Index: [2, 4]&#10;Color: (0, 0, 255)\" style=\"width: 20px; height: 20px;background-color: rgb(0, 0, 255);\"></td></tr><tr><td title=\"Index: [3, 0]&#10;Color: (0, 139, 139)\" style=\"width: 20px; height: 20px;background-color: rgb(0, 139, 139);\"></td><td title=\"Index: [3, 1]&#10;Color: (0, 139, 139)\" style=\"width: 20px; height: 20px;background-color: rgb(0, 139, 139);\"></td><td title=\"Index: [3, 2]&#10;Color: (0, 139, 139)\" style=\"width: 20px; height: 20px;background-color: rgb(0, 139, 139);\"></td><td title=\"Index: [3, 3]&#10;Color: (0, 139, 139)\" style=\"width: 20px; height: 20px;background-color: rgb(0, 139, 139);\"></td><td title=\"Index: [3, 4]&#10;Color: (0, 139, 139)\" style=\"width: 20px; height: 20px;background-color: rgb(0, 139, 139);\"></td></tr><tr><td title=\"Index: [4, 0]&#10;Color: (0, 139, 139)\" style=\"width: 20px; height: 20px;background-color: rgb(0, 139, 139);\"></td><td title=\"Index: [4, 1]&#10;Color: (0, 139, 139)\" style=\"width: 20px; height: 20px;background-color: rgb(0, 139, 139);\"></td><td title=\"Index: [4, 2]&#10;Color: (0, 139, 139)\" style=\"width: 20px; height: 20px;background-color: rgb(0, 139, 139);\"></td><td title=\"Index: [4, 3]&#10;Color: (0, 139, 139)\" style=\"width: 20px; height: 20px;background-color: rgb(0, 139, 139);\"></td><td title=\"Index: [4, 4]&#10;Color: (0, 0, 0)\" style=\"width: 20px; height: 20px;background-color: rgb(0, 0, 0);\"></td></tr></tbody></table>"
      ],
      "text/plain": [
       "<ipythonblocks.BlockGrid at 0x1e0957d1048>"
      ]
     },
     "execution_count": 95,
     "metadata": {},
     "output_type": "execute_result"
    }
   ],
   "source": [
    "grid[-1, -1] = colors.Black\n",
    "grid"
   ]
  },
  {
   "cell_type": "code",
   "execution_count": 37,
   "metadata": {},
   "outputs": [
    {
     "data": {
      "text/html": [
       "<style type=\"text/css\">table.blockgrid {border: none;} .blockgrid tr {border: none;} .blockgrid td {padding: 0px;} #blocks49e2968b-754d-43e3-b0eb-cc0c7d12bae5 td {border: 1px solid white;}</style><table id=\"blocks49e2968b-754d-43e3-b0eb-cc0c7d12bae5\" class=\"blockgrid\"><tbody><tr><td title=\"Index: [0, 0]&#10;Color: (0, 139, 139)\" style=\"width: 20px; height: 20px;background-color: rgb(0, 139, 139);\"></td><td title=\"Index: [0, 1]&#10;Color: (0, 139, 139)\" style=\"width: 20px; height: 20px;background-color: rgb(0, 139, 139);\"></td><td title=\"Index: [0, 2]&#10;Color: (0, 139, 139)\" style=\"width: 20px; height: 20px;background-color: rgb(0, 139, 139);\"></td><td title=\"Index: [0, 3]&#10;Color: (0, 139, 139)\" style=\"width: 20px; height: 20px;background-color: rgb(0, 139, 139);\"></td><td title=\"Index: [0, 4]&#10;Color: (0, 139, 139)\" style=\"width: 20px; height: 20px;background-color: rgb(0, 139, 139);\"></td></tr><tr><td title=\"Index: [1, 0]&#10;Color: (0, 139, 139)\" style=\"width: 20px; height: 20px;background-color: rgb(0, 139, 139);\"></td><td title=\"Index: [1, 1]&#10;Color: (0, 139, 139)\" style=\"width: 20px; height: 20px;background-color: rgb(0, 139, 139);\"></td><td title=\"Index: [1, 2]&#10;Color: (0, 139, 139)\" style=\"width: 20px; height: 20px;background-color: rgb(0, 139, 139);\"></td><td title=\"Index: [1, 3]&#10;Color: (0, 139, 139)\" style=\"width: 20px; height: 20px;background-color: rgb(0, 139, 139);\"></td><td title=\"Index: [1, 4]&#10;Color: (0, 139, 139)\" style=\"width: 20px; height: 20px;background-color: rgb(0, 139, 139);\"></td></tr><tr><td title=\"Index: [2, 0]&#10;Color: (0, 139, 139)\" style=\"width: 20px; height: 20px;background-color: rgb(0, 139, 139);\"></td><td title=\"Index: [2, 1]&#10;Color: (0, 139, 139)\" style=\"width: 20px; height: 20px;background-color: rgb(0, 139, 139);\"></td><td title=\"Index: [2, 2]&#10;Color: (0, 139, 139)\" style=\"width: 20px; height: 20px;background-color: rgb(0, 139, 139);\"></td><td title=\"Index: [2, 3]&#10;Color: (0, 139, 139)\" style=\"width: 20px; height: 20px;background-color: rgb(0, 139, 139);\"></td><td title=\"Index: [2, 4]&#10;Color: (0, 139, 139)\" style=\"width: 20px; height: 20px;background-color: rgb(0, 139, 139);\"></td></tr><tr><td title=\"Index: [3, 0]&#10;Color: (0, 139, 139)\" style=\"width: 20px; height: 20px;background-color: rgb(0, 139, 139);\"></td><td title=\"Index: [3, 1]&#10;Color: (0, 139, 139)\" style=\"width: 20px; height: 20px;background-color: rgb(0, 139, 139);\"></td><td title=\"Index: [3, 2]&#10;Color: (0, 139, 139)\" style=\"width: 20px; height: 20px;background-color: rgb(0, 139, 139);\"></td><td title=\"Index: [3, 3]&#10;Color: (0, 139, 139)\" style=\"width: 20px; height: 20px;background-color: rgb(0, 139, 139);\"></td><td title=\"Index: [3, 4]&#10;Color: (0, 139, 139)\" style=\"width: 20px; height: 20px;background-color: rgb(0, 139, 139);\"></td></tr><tr><td title=\"Index: [4, 0]&#10;Color: (0, 139, 139)\" style=\"width: 20px; height: 20px;background-color: rgb(0, 139, 139);\"></td><td title=\"Index: [4, 1]&#10;Color: (0, 139, 139)\" style=\"width: 20px; height: 20px;background-color: rgb(0, 139, 139);\"></td><td title=\"Index: [4, 2]&#10;Color: (0, 0, 0)\" style=\"width: 20px; height: 20px;background-color: rgb(0, 0, 0);\"></td><td title=\"Index: [4, 3]&#10;Color: (0, 0, 0)\" style=\"width: 20px; height: 20px;background-color: rgb(0, 0, 0);\"></td><td title=\"Index: [4, 4]&#10;Color: (0, 139, 139)\" style=\"width: 20px; height: 20px;background-color: rgb(0, 139, 139);\"></td></tr></tbody></table>"
      ],
      "text/plain": [
       "<ipythonblocks.BlockGrid at 0x1e09574d6d8>"
      ]
     },
     "execution_count": 37,
     "metadata": {},
     "output_type": "execute_result"
    }
   ],
   "source": [
    "grid[-1, -3:-1] = colors.Black\n",
    "grid"
   ]
  },
  {
   "cell_type": "code",
   "execution_count": 8,
   "metadata": {},
   "outputs": [
    {
     "data": {
      "text/html": [
       "<style type=\"text/css\">table.blockgrid {border: none;} .blockgrid tr {border: none;} .blockgrid td {padding: 0px;} #blocksdb3fe796-03df-4df5-9aa6-f3857a81604d td {border: 1px solid white;}</style><table id=\"blocksdb3fe796-03df-4df5-9aa6-f3857a81604d\" class=\"blockgrid\"><tbody><tr><td title=\"Index: [0, 0]&#10;Color: (0, 139, 139)\" style=\"width: 20px; height: 20px;background-color: rgb(0, 139, 139);\"></td><td title=\"Index: [0, 1]&#10;Color: (0, 139, 139)\" style=\"width: 20px; height: 20px;background-color: rgb(0, 139, 139);\"></td><td title=\"Index: [0, 2]&#10;Color: (0, 139, 139)\" style=\"width: 20px; height: 20px;background-color: rgb(0, 139, 139);\"></td><td title=\"Index: [0, 3]&#10;Color: (0, 139, 139)\" style=\"width: 20px; height: 20px;background-color: rgb(0, 139, 139);\"></td><td title=\"Index: [0, 4]&#10;Color: (0, 139, 139)\" style=\"width: 20px; height: 20px;background-color: rgb(0, 139, 139);\"></td></tr><tr><td title=\"Index: [1, 0]&#10;Color: (0, 0, 255)\" style=\"width: 20px; height: 20px;background-color: rgb(0, 0, 255);\"></td><td title=\"Index: [1, 1]&#10;Color: (0, 139, 139)\" style=\"width: 20px; height: 20px;background-color: rgb(0, 139, 139);\"></td><td title=\"Index: [1, 2]&#10;Color: (0, 139, 139)\" style=\"width: 20px; height: 20px;background-color: rgb(0, 139, 139);\"></td><td title=\"Index: [1, 3]&#10;Color: (0, 139, 139)\" style=\"width: 20px; height: 20px;background-color: rgb(0, 139, 139);\"></td><td title=\"Index: [1, 4]&#10;Color: (0, 139, 139)\" style=\"width: 20px; height: 20px;background-color: rgb(0, 139, 139);\"></td></tr><tr><td title=\"Index: [2, 0]&#10;Color: (0, 139, 139)\" style=\"width: 20px; height: 20px;background-color: rgb(0, 139, 139);\"></td><td title=\"Index: [2, 1]&#10;Color: (0, 139, 139)\" style=\"width: 20px; height: 20px;background-color: rgb(0, 139, 139);\"></td><td title=\"Index: [2, 2]&#10;Color: (0, 139, 139)\" style=\"width: 20px; height: 20px;background-color: rgb(0, 139, 139);\"></td><td title=\"Index: [2, 3]&#10;Color: (0, 0, 0)\" style=\"width: 20px; height: 20px;background-color: rgb(0, 0, 0);\"></td><td title=\"Index: [2, 4]&#10;Color: (0, 139, 139)\" style=\"width: 20px; height: 20px;background-color: rgb(0, 139, 139);\"></td></tr><tr><td title=\"Index: [3, 0]&#10;Color: (0, 139, 139)\" style=\"width: 20px; height: 20px;background-color: rgb(0, 139, 139);\"></td><td title=\"Index: [3, 1]&#10;Color: (0, 139, 139)\" style=\"width: 20px; height: 20px;background-color: rgb(0, 139, 139);\"></td><td title=\"Index: [3, 2]&#10;Color: (0, 139, 139)\" style=\"width: 20px; height: 20px;background-color: rgb(0, 139, 139);\"></td><td title=\"Index: [3, 3]&#10;Color: (0, 139, 139)\" style=\"width: 20px; height: 20px;background-color: rgb(0, 139, 139);\"></td><td title=\"Index: [3, 4]&#10;Color: (0, 139, 139)\" style=\"width: 20px; height: 20px;background-color: rgb(0, 139, 139);\"></td></tr><tr><td title=\"Index: [4, 0]&#10;Color: (0, 139, 139)\" style=\"width: 20px; height: 20px;background-color: rgb(0, 139, 139);\"></td><td title=\"Index: [4, 1]&#10;Color: (0, 139, 139)\" style=\"width: 20px; height: 20px;background-color: rgb(0, 139, 139);\"></td><td title=\"Index: [4, 2]&#10;Color: (0, 139, 139)\" style=\"width: 20px; height: 20px;background-color: rgb(0, 139, 139);\"></td><td title=\"Index: [4, 3]&#10;Color: (0, 139, 139)\" style=\"width: 20px; height: 20px;background-color: rgb(0, 139, 139);\"></td><td title=\"Index: [4, 4]&#10;Color: (0, 0, 255)\" style=\"width: 20px; height: 20px;background-color: rgb(0, 0, 255);\"></td></tr></tbody></table>"
      ],
      "text/plain": [
       "<ipythonblocks.BlockGrid at 0x110241780>"
      ]
     },
     "execution_count": 8,
     "metadata": {},
     "output_type": "execute_result"
    }
   ],
   "source": [
    "grid[-4, -5] = colors.Blue\n",
    "grid"
   ]
  },
  {
   "cell_type": "code",
   "execution_count": 201,
   "metadata": {},
   "outputs": [
    {
     "data": {
      "text/html": [
       "<style type=\"text/css\">table.blockgrid {border: none;} .blockgrid tr {border: none;} .blockgrid td {padding: 0px;} #blocksecd2042f-434a-4143-89c4-73e730ec2429 td {border: 1px solid white;}</style><table id=\"blocksecd2042f-434a-4143-89c4-73e730ec2429\" class=\"blockgrid\"><tbody><tr><td title=\"Index: [0, 0]&#10;Color: (0, 0, 0)\" style=\"width: 20px; height: 20px;background-color: rgb(0, 0, 0);\"></td><td title=\"Index: [0, 1]&#10;Color: (0, 0, 0)\" style=\"width: 20px; height: 20px;background-color: rgb(0, 0, 0);\"></td><td title=\"Index: [0, 2]&#10;Color: (0, 0, 0)\" style=\"width: 20px; height: 20px;background-color: rgb(0, 0, 0);\"></td><td title=\"Index: [0, 3]&#10;Color: (0, 0, 0)\" style=\"width: 20px; height: 20px;background-color: rgb(0, 0, 0);\"></td><td title=\"Index: [0, 4]&#10;Color: (0, 0, 0)\" style=\"width: 20px; height: 20px;background-color: rgb(0, 0, 0);\"></td></tr><tr><td title=\"Index: [1, 0]&#10;Color: (0, 0, 0)\" style=\"width: 20px; height: 20px;background-color: rgb(0, 0, 0);\"></td><td title=\"Index: [1, 1]&#10;Color: (0, 0, 0)\" style=\"width: 20px; height: 20px;background-color: rgb(0, 0, 0);\"></td><td title=\"Index: [1, 2]&#10;Color: (0, 0, 0)\" style=\"width: 20px; height: 20px;background-color: rgb(0, 0, 0);\"></td><td title=\"Index: [1, 3]&#10;Color: (0, 0, 0)\" style=\"width: 20px; height: 20px;background-color: rgb(0, 0, 0);\"></td><td title=\"Index: [1, 4]&#10;Color: (0, 0, 0)\" style=\"width: 20px; height: 20px;background-color: rgb(0, 0, 0);\"></td></tr><tr><td title=\"Index: [2, 0]&#10;Color: (0, 0, 0)\" style=\"width: 20px; height: 20px;background-color: rgb(0, 0, 0);\"></td><td title=\"Index: [2, 1]&#10;Color: (0, 0, 0)\" style=\"width: 20px; height: 20px;background-color: rgb(0, 0, 0);\"></td><td title=\"Index: [2, 2]&#10;Color: (0, 0, 0)\" style=\"width: 20px; height: 20px;background-color: rgb(0, 0, 0);\"></td><td title=\"Index: [2, 3]&#10;Color: (0, 0, 0)\" style=\"width: 20px; height: 20px;background-color: rgb(0, 0, 0);\"></td><td title=\"Index: [2, 4]&#10;Color: (0, 0, 0)\" style=\"width: 20px; height: 20px;background-color: rgb(0, 0, 0);\"></td></tr><tr><td title=\"Index: [3, 0]&#10;Color: (0, 0, 0)\" style=\"width: 20px; height: 20px;background-color: rgb(0, 0, 0);\"></td><td title=\"Index: [3, 1]&#10;Color: (0, 0, 0)\" style=\"width: 20px; height: 20px;background-color: rgb(0, 0, 0);\"></td><td title=\"Index: [3, 2]&#10;Color: (0, 0, 0)\" style=\"width: 20px; height: 20px;background-color: rgb(0, 0, 0);\"></td><td title=\"Index: [3, 3]&#10;Color: (0, 0, 0)\" style=\"width: 20px; height: 20px;background-color: rgb(0, 0, 0);\"></td><td title=\"Index: [3, 4]&#10;Color: (0, 0, 0)\" style=\"width: 20px; height: 20px;background-color: rgb(0, 0, 0);\"></td></tr><tr><td title=\"Index: [4, 0]&#10;Color: (0, 0, 0)\" style=\"width: 20px; height: 20px;background-color: rgb(0, 0, 0);\"></td><td title=\"Index: [4, 1]&#10;Color: (0, 0, 0)\" style=\"width: 20px; height: 20px;background-color: rgb(0, 0, 0);\"></td><td title=\"Index: [4, 2]&#10;Color: (0, 0, 0)\" style=\"width: 20px; height: 20px;background-color: rgb(0, 0, 0);\"></td><td title=\"Index: [4, 3]&#10;Color: (0, 0, 0)\" style=\"width: 20px; height: 20px;background-color: rgb(0, 0, 0);\"></td><td title=\"Index: [4, 4]&#10;Color: (0, 0, 0)\" style=\"width: 20px; height: 20px;background-color: rgb(0, 0, 0);\"></td></tr></tbody></table>"
      ],
      "text/plain": [
       "<ipythonblocks.BlockGrid at 0x1e0957d1048>"
      ]
     },
     "execution_count": 201,
     "metadata": {},
     "output_type": "execute_result"
    }
   ],
   "source": [
    "## Exercise\n",
    "for block in grid:\n",
    "    block.rgb = colors.Black\n",
    "grid"
   ]
  },
  {
   "cell_type": "code",
   "execution_count": 202,
   "metadata": {},
   "outputs": [
    {
     "data": {
      "text/html": [
       "<style type=\"text/css\">table.blockgrid {border: none;} .blockgrid tr {border: none;} .blockgrid td {padding: 0px;} #blocks12c5cc2a-b584-4317-979c-01d3a87acf6d td {border: 1px solid white;}</style><table id=\"blocks12c5cc2a-b584-4317-979c-01d3a87acf6d\" class=\"blockgrid\"><tbody><tr><td title=\"Index: [0, 0]&#10;Color: (0, 139, 139)\" style=\"width: 20px; height: 20px;background-color: rgb(0, 139, 139);\"></td><td title=\"Index: [0, 1]&#10;Color: (0, 139, 139)\" style=\"width: 20px; height: 20px;background-color: rgb(0, 139, 139);\"></td><td title=\"Index: [0, 2]&#10;Color: (0, 139, 139)\" style=\"width: 20px; height: 20px;background-color: rgb(0, 139, 139);\"></td><td title=\"Index: [0, 3]&#10;Color: (0, 139, 139)\" style=\"width: 20px; height: 20px;background-color: rgb(0, 139, 139);\"></td><td title=\"Index: [0, 4]&#10;Color: (0, 139, 139)\" style=\"width: 20px; height: 20px;background-color: rgb(0, 139, 139);\"></td></tr><tr><td title=\"Index: [1, 0]&#10;Color: (0, 139, 139)\" style=\"width: 20px; height: 20px;background-color: rgb(0, 139, 139);\"></td><td title=\"Index: [1, 1]&#10;Color: (0, 139, 139)\" style=\"width: 20px; height: 20px;background-color: rgb(0, 139, 139);\"></td><td title=\"Index: [1, 2]&#10;Color: (0, 139, 139)\" style=\"width: 20px; height: 20px;background-color: rgb(0, 139, 139);\"></td><td title=\"Index: [1, 3]&#10;Color: (0, 139, 139)\" style=\"width: 20px; height: 20px;background-color: rgb(0, 139, 139);\"></td><td title=\"Index: [1, 4]&#10;Color: (0, 139, 139)\" style=\"width: 20px; height: 20px;background-color: rgb(0, 139, 139);\"></td></tr><tr><td title=\"Index: [2, 0]&#10;Color: (0, 139, 139)\" style=\"width: 20px; height: 20px;background-color: rgb(0, 139, 139);\"></td><td title=\"Index: [2, 1]&#10;Color: (0, 139, 139)\" style=\"width: 20px; height: 20px;background-color: rgb(0, 139, 139);\"></td><td title=\"Index: [2, 2]&#10;Color: (0, 139, 139)\" style=\"width: 20px; height: 20px;background-color: rgb(0, 139, 139);\"></td><td title=\"Index: [2, 3]&#10;Color: (0, 139, 139)\" style=\"width: 20px; height: 20px;background-color: rgb(0, 139, 139);\"></td><td title=\"Index: [2, 4]&#10;Color: (0, 139, 139)\" style=\"width: 20px; height: 20px;background-color: rgb(0, 139, 139);\"></td></tr><tr><td title=\"Index: [3, 0]&#10;Color: (0, 139, 139)\" style=\"width: 20px; height: 20px;background-color: rgb(0, 139, 139);\"></td><td title=\"Index: [3, 1]&#10;Color: (0, 139, 139)\" style=\"width: 20px; height: 20px;background-color: rgb(0, 139, 139);\"></td><td title=\"Index: [3, 2]&#10;Color: (0, 139, 139)\" style=\"width: 20px; height: 20px;background-color: rgb(0, 139, 139);\"></td><td title=\"Index: [3, 3]&#10;Color: (0, 139, 139)\" style=\"width: 20px; height: 20px;background-color: rgb(0, 139, 139);\"></td><td title=\"Index: [3, 4]&#10;Color: (0, 139, 139)\" style=\"width: 20px; height: 20px;background-color: rgb(0, 139, 139);\"></td></tr><tr><td title=\"Index: [4, 0]&#10;Color: (0, 139, 139)\" style=\"width: 20px; height: 20px;background-color: rgb(0, 139, 139);\"></td><td title=\"Index: [4, 1]&#10;Color: (0, 139, 139)\" style=\"width: 20px; height: 20px;background-color: rgb(0, 139, 139);\"></td><td title=\"Index: [4, 2]&#10;Color: (0, 139, 139)\" style=\"width: 20px; height: 20px;background-color: rgb(0, 139, 139);\"></td><td title=\"Index: [4, 3]&#10;Color: (0, 139, 139)\" style=\"width: 20px; height: 20px;background-color: rgb(0, 139, 139);\"></td><td title=\"Index: [4, 4]&#10;Color: (0, 139, 139)\" style=\"width: 20px; height: 20px;background-color: rgb(0, 139, 139);\"></td></tr></tbody></table>"
      ],
      "text/plain": [
       "<IPython.core.display.HTML object>"
      ]
     },
     "metadata": {},
     "output_type": "display_data"
    }
   ],
   "source": [
    "# comment\n",
    "for block in grid.animate():\n",
    "    block.rgb = colors.DarkCyan  # another comment"
   ]
  },
  {
   "cell_type": "markdown",
   "metadata": {},
   "source": [
    "Writing some text."
   ]
  },
  {
   "cell_type": "markdown",
   "metadata": {},
   "source": [
    "### Tuples\n",
    "like lists, but they don't change size. <br>\n",
    "properties: ordered, iterable, immutable, can contain multiple data types"
   ]
  },
  {
   "cell_type": "code",
   "execution_count": 176,
   "metadata": {},
   "outputs": [
    {
     "name": "stdout",
     "output_type": "stream",
     "text": [
      "['SAC', 'RD&E', 'SCA', 'HR']\n",
      "['SAC', 'RD&E', 'SCA', 'HR']\n"
     ]
    }
   ],
   "source": [
    "# Mutable\n",
    "list_1 = ['SAC', 'RD&E', 'SCA', 'HR']\n",
    "list_2 = list_1\n",
    "\n",
    "print(list_1)\n",
    "print(list_2)"
   ]
  },
  {
   "cell_type": "code",
   "execution_count": 177,
   "metadata": {},
   "outputs": [
    {
     "name": "stdout",
     "output_type": "stream",
     "text": [
      "2064090964616\n",
      "2064090964616\n"
     ]
    }
   ],
   "source": [
    "print(id(list_1))\n",
    "print(id(list_2))"
   ]
  },
  {
   "cell_type": "code",
   "execution_count": 157,
   "metadata": {},
   "outputs": [
    {
     "name": "stdout",
     "output_type": "stream",
     "text": [
      "['Finance', 'RD&E', 'SCA', 'HR']\n",
      "['Finance', 'RD&E', 'SCA', 'HR']\n"
     ]
    }
   ],
   "source": [
    "list_1[0] = 'Finance'\n",
    "\n",
    "print(list_1)\n",
    "print(list_2)"
   ]
  },
  {
   "cell_type": "code",
   "execution_count": 158,
   "metadata": {},
   "outputs": [
    {
     "data": {
      "text/plain": [
       "list"
      ]
     },
     "execution_count": 158,
     "metadata": {},
     "output_type": "execute_result"
    }
   ],
   "source": [
    "type(list_1)"
   ]
  },
  {
   "cell_type": "code",
   "execution_count": 170,
   "metadata": {},
   "outputs": [
    {
     "name": "stdout",
     "output_type": "stream",
     "text": [
      "('SAC', 'RD&E', 'SCA', 'HR')\n"
     ]
    }
   ],
   "source": [
    "# Immutable\n",
    "tuple_1 = ('SAC', 'RD&E', 'SCA', 'HR')\n",
    "#tuple_2 = tuple_1\n",
    "\n",
    "print(tuple_1)\n",
    "#print(tuple_2)"
   ]
  },
  {
   "cell_type": "code",
   "execution_count": 171,
   "metadata": {},
   "outputs": [
    {
     "ename": "TypeError",
     "evalue": "'tuple' object does not support item assignment",
     "output_type": "error",
     "traceback": [
      "\u001b[1;31m---------------------------------------------------------------------------\u001b[0m",
      "\u001b[1;31mTypeError\u001b[0m                                 Traceback (most recent call last)",
      "\u001b[1;32m<ipython-input-171-86f619a5f818>\u001b[0m in \u001b[0;36m<module>\u001b[1;34m()\u001b[0m\n\u001b[1;32m----> 1\u001b[1;33m \u001b[0mtuple_1\u001b[0m\u001b[1;33m[\u001b[0m\u001b[1;36m0\u001b[0m\u001b[1;33m]\u001b[0m \u001b[1;33m=\u001b[0m \u001b[1;34m'Finance'\u001b[0m                     \u001b[1;31m##TypeError: 'tuple' object does not support item assignment\u001b[0m\u001b[1;33m\u001b[0m\u001b[0m\n\u001b[0m\u001b[0;32m      2\u001b[0m \u001b[1;33m\u001b[0m\u001b[0m\n\u001b[0;32m      3\u001b[0m \u001b[0mprint\u001b[0m\u001b[1;33m(\u001b[0m\u001b[0mtuple_1\u001b[0m\u001b[1;33m)\u001b[0m\u001b[1;33m\u001b[0m\u001b[0m\n\u001b[0;32m      4\u001b[0m \u001b[1;31m#print(tuple_2)\u001b[0m\u001b[1;33m\u001b[0m\u001b[1;33m\u001b[0m\u001b[0m\n",
      "\u001b[1;31mTypeError\u001b[0m: 'tuple' object does not support item assignment"
     ]
    }
   ],
   "source": [
    "tuple_1[0] = 'Finance'                     ##TypeError: 'tuple' object does not support item assignment  \n",
    "\n",
    "print(tuple_1)\n",
    "#print(tuple_2)"
   ]
  },
  {
   "cell_type": "markdown",
   "metadata": {},
   "source": [
    "### SETS ###\n",
    " like dictionaries, but with keys only (no values). <br>\n",
    " properties: unordered, iterable, mutable, only unique values, can contain multiple data types"
   ]
  },
  {
   "cell_type": "code",
   "execution_count": 180,
   "metadata": {},
   "outputs": [
    {
     "data": {
      "text/plain": [
       "True"
      ]
     },
     "execution_count": 180,
     "metadata": {},
     "output_type": "execute_result"
    }
   ],
   "source": [
    "teams = {'SAC', 'RD&E', 'SCA', 'HR'}\n",
    "teams\n",
    "\n",
    "#Remove duplicate values\n",
    "teams = {'SAC', 'RD&E', 'SCA', 'HR', 'SAC'}\n",
    "teams\n",
    "'SAC' in teams                ## Test value is part of the set, set are optimized for this compared to list and tuples "
   ]
  },
  {
   "cell_type": "code",
   "execution_count": 181,
   "metadata": {},
   "outputs": [
    {
     "data": {
      "text/plain": [
       "{'Finance', 'HR', 'RD&E', 'SAC', 'SCA'}"
      ]
     },
     "execution_count": 181,
     "metadata": {},
     "output_type": "execute_result"
    }
   ],
   "source": [
    "team1 = {'SAC', 'RD&E', 'SCA', 'HR'}\n",
    "team2 = {'SAC', 'RD&E', 'SCA', 'Finance'}\n",
    "team1.intersection(team2)\n",
    "team1.difference(team2)\n",
    "team1.union(team2)"
   ]
  },
  {
   "cell_type": "code",
   "execution_count": null,
   "metadata": {
    "collapsed": true
   },
   "outputs": [],
   "source": [
    "team1."
   ]
  },
  {
   "cell_type": "markdown",
   "metadata": {},
   "source": [
    "### DICTIONARIES ###\n",
    " properties: unordered, iterable, mutable, can contain multiple data types. <br>\n",
    " made up of key-value pairs. <br>\n",
    " keys must be unique, and can be strings, numbers, or tuples. <br>\n",
    " values can be any type."
   ]
  },
  {
   "cell_type": "code",
   "execution_count": 169,
   "metadata": {},
   "outputs": [
    {
     "name": "stdout",
     "output_type": "stream",
     "text": [
      "None\n"
     ]
    },
    {
     "data": {
      "text/plain": [
       "'not found'"
      ]
     },
     "execution_count": 169,
     "metadata": {},
     "output_type": "execute_result"
    }
   ],
   "source": [
    "Ecolab = {'Headquarters':'Saint Paul', 'Founded':1923, 'Regions':['North America','Asia Pacific','Europe']}\n",
    "Ecolab\n",
    "\n",
    "# # accessing values more safely with 'get'\n",
    "Ecolab['Headquarters']                      # returns 'Saint Paul'\n",
    "Ecolab.get('Headquarters')                  # same thing\n",
    "#Ecolab['teams']                    # throws an error\n",
    "print(Ecolab.get('teams'))         # returns None\n",
    "Ecolab.get('teams', 'not found')    # returns 'not found' (the default)"
   ]
  },
  {
   "cell_type": "code",
   "execution_count": 119,
   "metadata": {},
   "outputs": [
    {
     "data": {
      "text/plain": [
       "{'Headquarters': 'Saint Paul',\n",
       " 'Regions': ['North America',\n",
       "  'Asia Pacific',\n",
       "  'Europe',\n",
       "  'Middle East and Africa'],\n",
       " 'teams': ['SAC', 'RD&E', 'SCA', 'HR']}"
      ]
     },
     "execution_count": 119,
     "metadata": {},
     "output_type": "execute_result"
    }
   ],
   "source": [
    "# ## # modify a dictionary \n",
    "Ecolab['teams'] = ['SAC', 'RD&E', 'SCA', 'HR']\n",
    "Ecolab\n",
    "\n",
    "Ecolab['Regions'] = ['North America','Asia Pacific','Europe', 'Middle East and Africa'] \n",
    "Ecolab\n",
    "\n",
    "del Ecolab['Founded']\n",
    "Ecolab"
   ]
  },
  {
   "cell_type": "code",
   "execution_count": 128,
   "metadata": {},
   "outputs": [
    {
     "name": "stdout",
     "output_type": "stream",
     "text": [
      "Headquarters Saint Paul\n",
      "Regions ['North America', 'Asia Pacific', 'Europe', 'Middle East and Africa']\n",
      "teams ['SAC', 'RD&E', 'SCA', 'HR']\n"
     ]
    }
   ],
   "source": [
    "## examine a dictionary\n",
    "\n",
    "len(Ecolab)\n",
    "Ecolab.keys()       # returns list: ['Headquarters', 'Regions', 'teams']\n",
    "Ecolab.values()     # returns list of all values\n",
    "Ecolab.items()      # returns list of tuples of key: values\n",
    "\n",
    "## Looping through dictionary\n",
    "# for key in Ecolab:\n",
    "#     print(key)                 ## Will only loop through keys\n",
    "    \n",
    "for key, value in Ecolab.items():  ## iterate through key and values using items()\n",
    "    print(key, value)"
   ]
  },
  {
   "cell_type": "code",
   "execution_count": null,
   "metadata": {
    "collapsed": true
   },
   "outputs": [],
   "source": []
  },
  {
   "cell_type": "code",
   "execution_count": null,
   "metadata": {
    "collapsed": true
   },
   "outputs": [],
   "source": []
  },
  {
   "cell_type": "code",
   "execution_count": null,
   "metadata": {
    "collapsed": true
   },
   "outputs": [],
   "source": []
  },
  {
   "cell_type": "code",
   "execution_count": null,
   "metadata": {
    "collapsed": true
   },
   "outputs": [],
   "source": []
  },
  {
   "cell_type": "code",
   "execution_count": null,
   "metadata": {
    "collapsed": true
   },
   "outputs": [],
   "source": []
  },
  {
   "cell_type": "code",
   "execution_count": 14,
   "metadata": {},
   "outputs": [
    {
     "data": {
      "text/html": [
       "<style type=\"text/css\">table.blockgrid {border: none;} .blockgrid tr {border: none;} .blockgrid td {padding: 0px;} #blocksfb5f2d38-184e-4771-98db-d7e01aa7e3d1 td {border: 1px solid white;}</style><table id=\"blocksfb5f2d38-184e-4771-98db-d7e01aa7e3d1\" class=\"blockgrid\"><tbody><tr><td title=\"Index: [0, 0]&#10;Color: (0, 139, 139)\" style=\"width: 20px; height: 20px;background-color: rgb(0, 139, 139);\"></td><td title=\"Index: [0, 1]&#10;Color: (0, 139, 139)\" style=\"width: 20px; height: 20px;background-color: rgb(0, 139, 139);\"></td><td title=\"Index: [0, 2]&#10;Color: (0, 139, 139)\" style=\"width: 20px; height: 20px;background-color: rgb(0, 139, 139);\"></td><td title=\"Index: [0, 3]&#10;Color: (0, 139, 139)\" style=\"width: 20px; height: 20px;background-color: rgb(0, 139, 139);\"></td><td title=\"Index: [0, 4]&#10;Color: (0, 139, 139)\" style=\"width: 20px; height: 20px;background-color: rgb(0, 139, 139);\"></td></tr><tr><td title=\"Index: [1, 0]&#10;Color: (0, 139, 139)\" style=\"width: 20px; height: 20px;background-color: rgb(0, 139, 139);\"></td><td title=\"Index: [1, 1]&#10;Color: (0, 139, 139)\" style=\"width: 20px; height: 20px;background-color: rgb(0, 139, 139);\"></td><td title=\"Index: [1, 2]&#10;Color: (0, 139, 139)\" style=\"width: 20px; height: 20px;background-color: rgb(0, 139, 139);\"></td><td title=\"Index: [1, 3]&#10;Color: (0, 139, 139)\" style=\"width: 20px; height: 20px;background-color: rgb(0, 139, 139);\"></td><td title=\"Index: [1, 4]&#10;Color: (0, 139, 139)\" style=\"width: 20px; height: 20px;background-color: rgb(0, 139, 139);\"></td></tr><tr><td title=\"Index: [2, 0]&#10;Color: (0, 0, 0)\" style=\"width: 20px; height: 20px;background-color: rgb(0, 0, 0);\"></td><td title=\"Index: [2, 1]&#10;Color: (0, 0, 0)\" style=\"width: 20px; height: 20px;background-color: rgb(0, 0, 0);\"></td><td title=\"Index: [2, 2]&#10;Color: (0, 0, 0)\" style=\"width: 20px; height: 20px;background-color: rgb(0, 0, 0);\"></td><td title=\"Index: [2, 3]&#10;Color: (0, 0, 0)\" style=\"width: 20px; height: 20px;background-color: rgb(0, 0, 0);\"></td><td title=\"Index: [2, 4]&#10;Color: (0, 0, 0)\" style=\"width: 20px; height: 20px;background-color: rgb(0, 0, 0);\"></td></tr><tr><td title=\"Index: [3, 0]&#10;Color: (0, 139, 139)\" style=\"width: 20px; height: 20px;background-color: rgb(0, 139, 139);\"></td><td title=\"Index: [3, 1]&#10;Color: (0, 139, 139)\" style=\"width: 20px; height: 20px;background-color: rgb(0, 139, 139);\"></td><td title=\"Index: [3, 2]&#10;Color: (0, 139, 139)\" style=\"width: 20px; height: 20px;background-color: rgb(0, 139, 139);\"></td><td title=\"Index: [3, 3]&#10;Color: (0, 139, 139)\" style=\"width: 20px; height: 20px;background-color: rgb(0, 139, 139);\"></td><td title=\"Index: [3, 4]&#10;Color: (0, 139, 139)\" style=\"width: 20px; height: 20px;background-color: rgb(0, 139, 139);\"></td></tr><tr><td title=\"Index: [4, 0]&#10;Color: (0, 139, 139)\" style=\"width: 20px; height: 20px;background-color: rgb(0, 139, 139);\"></td><td title=\"Index: [4, 1]&#10;Color: (0, 139, 139)\" style=\"width: 20px; height: 20px;background-color: rgb(0, 139, 139);\"></td><td title=\"Index: [4, 2]&#10;Color: (0, 139, 139)\" style=\"width: 20px; height: 20px;background-color: rgb(0, 139, 139);\"></td><td title=\"Index: [4, 3]&#10;Color: (0, 139, 139)\" style=\"width: 20px; height: 20px;background-color: rgb(0, 139, 139);\"></td><td title=\"Index: [4, 4]&#10;Color: (0, 139, 139)\" style=\"width: 20px; height: 20px;background-color: rgb(0, 139, 139);\"></td></tr></tbody></table>"
      ],
      "text/plain": [
       "<IPython.core.display.HTML object>"
      ]
     },
     "metadata": {},
     "output_type": "display_data"
    }
   ],
   "source": [
    "for block in grid.animate():\n",
    "    if block.row == 2:\n",
    "        block.rgb = colors.Black"
   ]
  },
  {
   "cell_type": "code",
   "execution_count": 15,
   "metadata": {},
   "outputs": [
    {
     "data": {
      "text/html": [
       "<style type=\"text/css\">table.blockgrid {border: none;} .blockgrid tr {border: none;} .blockgrid td {padding: 0px;} #blocksb81f6e24-663e-412b-bfbb-7c8ddac1f092 td {border: 1px solid white;}</style><table id=\"blocksb81f6e24-663e-412b-bfbb-7c8ddac1f092\" class=\"blockgrid\"><tbody><tr><td title=\"Index: [0, 0]&#10;Color: (0, 139, 139)\" style=\"width: 20px; height: 20px;background-color: rgb(0, 139, 139);\"></td><td title=\"Index: [0, 1]&#10;Color: (0, 139, 139)\" style=\"width: 20px; height: 20px;background-color: rgb(0, 139, 139);\"></td><td title=\"Index: [0, 2]&#10;Color: (0, 139, 139)\" style=\"width: 20px; height: 20px;background-color: rgb(0, 139, 139);\"></td><td title=\"Index: [0, 3]&#10;Color: (0, 139, 139)\" style=\"width: 20px; height: 20px;background-color: rgb(0, 139, 139);\"></td><td title=\"Index: [0, 4]&#10;Color: (0, 139, 139)\" style=\"width: 20px; height: 20px;background-color: rgb(0, 139, 139);\"></td></tr><tr><td title=\"Index: [1, 0]&#10;Color: (0, 139, 139)\" style=\"width: 20px; height: 20px;background-color: rgb(0, 139, 139);\"></td><td title=\"Index: [1, 1]&#10;Color: (0, 139, 139)\" style=\"width: 20px; height: 20px;background-color: rgb(0, 139, 139);\"></td><td title=\"Index: [1, 2]&#10;Color: (0, 139, 139)\" style=\"width: 20px; height: 20px;background-color: rgb(0, 139, 139);\"></td><td title=\"Index: [1, 3]&#10;Color: (0, 139, 139)\" style=\"width: 20px; height: 20px;background-color: rgb(0, 139, 139);\"></td><td title=\"Index: [1, 4]&#10;Color: (0, 139, 139)\" style=\"width: 20px; height: 20px;background-color: rgb(0, 139, 139);\"></td></tr><tr><td title=\"Index: [2, 0]&#10;Color: (255, 0, 0)\" style=\"width: 20px; height: 20px;background-color: rgb(255, 0, 0);\"></td><td title=\"Index: [2, 1]&#10;Color: (255, 0, 0)\" style=\"width: 20px; height: 20px;background-color: rgb(255, 0, 0);\"></td><td title=\"Index: [2, 2]&#10;Color: (255, 0, 0)\" style=\"width: 20px; height: 20px;background-color: rgb(255, 0, 0);\"></td><td title=\"Index: [2, 3]&#10;Color: (255, 0, 0)\" style=\"width: 20px; height: 20px;background-color: rgb(255, 0, 0);\"></td><td title=\"Index: [2, 4]&#10;Color: (255, 0, 0)\" style=\"width: 20px; height: 20px;background-color: rgb(255, 0, 0);\"></td></tr><tr><td title=\"Index: [3, 0]&#10;Color: (255, 0, 0)\" style=\"width: 20px; height: 20px;background-color: rgb(255, 0, 0);\"></td><td title=\"Index: [3, 1]&#10;Color: (255, 0, 0)\" style=\"width: 20px; height: 20px;background-color: rgb(255, 0, 0);\"></td><td title=\"Index: [3, 2]&#10;Color: (255, 0, 0)\" style=\"width: 20px; height: 20px;background-color: rgb(255, 0, 0);\"></td><td title=\"Index: [3, 3]&#10;Color: (255, 0, 0)\" style=\"width: 20px; height: 20px;background-color: rgb(255, 0, 0);\"></td><td title=\"Index: [3, 4]&#10;Color: (255, 0, 0)\" style=\"width: 20px; height: 20px;background-color: rgb(255, 0, 0);\"></td></tr><tr><td title=\"Index: [4, 0]&#10;Color: (0, 139, 139)\" style=\"width: 20px; height: 20px;background-color: rgb(0, 139, 139);\"></td><td title=\"Index: [4, 1]&#10;Color: (0, 139, 139)\" style=\"width: 20px; height: 20px;background-color: rgb(0, 139, 139);\"></td><td title=\"Index: [4, 2]&#10;Color: (0, 139, 139)\" style=\"width: 20px; height: 20px;background-color: rgb(0, 139, 139);\"></td><td title=\"Index: [4, 3]&#10;Color: (0, 139, 139)\" style=\"width: 20px; height: 20px;background-color: rgb(0, 139, 139);\"></td><td title=\"Index: [4, 4]&#10;Color: (0, 139, 139)\" style=\"width: 20px; height: 20px;background-color: rgb(0, 139, 139);\"></td></tr></tbody></table>"
      ],
      "text/plain": [
       "<IPython.core.display.HTML object>"
      ]
     },
     "metadata": {},
     "output_type": "display_data"
    }
   ],
   "source": [
    "for block in grid.animate():\n",
    "    if block.row in (2, 3):\n",
    "        block.rgb = colors.Red"
   ]
  },
  {
   "cell_type": "code",
   "execution_count": 13,
   "metadata": {},
   "outputs": [
    {
     "data": {
      "text/html": [
       "<style type=\"text/css\">table.blockgrid {border: none;} .blockgrid tr {border: none;} .blockgrid td {padding: 0px;} #blocksc70e54a2-084f-4fcf-9cab-a5d985e43855 td {border: 1px solid white;}</style><table id=\"blocksc70e54a2-084f-4fcf-9cab-a5d985e43855\" class=\"blockgrid\"><tbody><tr><td title=\"Index: [0, 0]&#10;Color: (0, 139, 139)\" style=\"width: 20px; height: 20px;background-color: rgb(0, 139, 139);\"></td><td title=\"Index: [0, 1]&#10;Color: (0, 139, 139)\" style=\"width: 20px; height: 20px;background-color: rgb(0, 139, 139);\"></td><td title=\"Index: [0, 2]&#10;Color: (0, 139, 139)\" style=\"width: 20px; height: 20px;background-color: rgb(0, 139, 139);\"></td><td title=\"Index: [0, 3]&#10;Color: (255, 0, 0)\" style=\"width: 20px; height: 20px;background-color: rgb(255, 0, 0);\"></td><td title=\"Index: [0, 4]&#10;Color: (0, 139, 139)\" style=\"width: 20px; height: 20px;background-color: rgb(0, 139, 139);\"></td></tr><tr><td title=\"Index: [1, 0]&#10;Color: (0, 139, 139)\" style=\"width: 20px; height: 20px;background-color: rgb(0, 139, 139);\"></td><td title=\"Index: [1, 1]&#10;Color: (0, 139, 139)\" style=\"width: 20px; height: 20px;background-color: rgb(0, 139, 139);\"></td><td title=\"Index: [1, 2]&#10;Color: (0, 139, 139)\" style=\"width: 20px; height: 20px;background-color: rgb(0, 139, 139);\"></td><td title=\"Index: [1, 3]&#10;Color: (255, 0, 0)\" style=\"width: 20px; height: 20px;background-color: rgb(255, 0, 0);\"></td><td title=\"Index: [1, 4]&#10;Color: (0, 139, 139)\" style=\"width: 20px; height: 20px;background-color: rgb(0, 139, 139);\"></td></tr><tr><td title=\"Index: [2, 0]&#10;Color: (255, 0, 0)\" style=\"width: 20px; height: 20px;background-color: rgb(255, 0, 0);\"></td><td title=\"Index: [2, 1]&#10;Color: (255, 0, 0)\" style=\"width: 20px; height: 20px;background-color: rgb(255, 0, 0);\"></td><td title=\"Index: [2, 2]&#10;Color: (255, 0, 0)\" style=\"width: 20px; height: 20px;background-color: rgb(255, 0, 0);\"></td><td title=\"Index: [2, 3]&#10;Color: (255, 0, 0)\" style=\"width: 20px; height: 20px;background-color: rgb(255, 0, 0);\"></td><td title=\"Index: [2, 4]&#10;Color: (255, 0, 0)\" style=\"width: 20px; height: 20px;background-color: rgb(255, 0, 0);\"></td></tr><tr><td title=\"Index: [3, 0]&#10;Color: (255, 0, 0)\" style=\"width: 20px; height: 20px;background-color: rgb(255, 0, 0);\"></td><td title=\"Index: [3, 1]&#10;Color: (255, 0, 0)\" style=\"width: 20px; height: 20px;background-color: rgb(255, 0, 0);\"></td><td title=\"Index: [3, 2]&#10;Color: (255, 0, 0)\" style=\"width: 20px; height: 20px;background-color: rgb(255, 0, 0);\"></td><td title=\"Index: [3, 3]&#10;Color: (255, 0, 0)\" style=\"width: 20px; height: 20px;background-color: rgb(255, 0, 0);\"></td><td title=\"Index: [3, 4]&#10;Color: (255, 0, 0)\" style=\"width: 20px; height: 20px;background-color: rgb(255, 0, 0);\"></td></tr><tr><td title=\"Index: [4, 0]&#10;Color: (0, 139, 139)\" style=\"width: 20px; height: 20px;background-color: rgb(0, 139, 139);\"></td><td title=\"Index: [4, 1]&#10;Color: (0, 139, 139)\" style=\"width: 20px; height: 20px;background-color: rgb(0, 139, 139);\"></td><td title=\"Index: [4, 2]&#10;Color: (0, 139, 139)\" style=\"width: 20px; height: 20px;background-color: rgb(0, 139, 139);\"></td><td title=\"Index: [4, 3]&#10;Color: (255, 0, 0)\" style=\"width: 20px; height: 20px;background-color: rgb(255, 0, 0);\"></td><td title=\"Index: [4, 4]&#10;Color: (0, 139, 139)\" style=\"width: 20px; height: 20px;background-color: rgb(0, 139, 139);\"></td></tr></tbody></table>"
      ],
      "text/plain": [
       "<IPython.core.display.HTML object>"
      ]
     },
     "metadata": {},
     "output_type": "display_data"
    }
   ],
   "source": [
    "for block in grid.animate():\n",
    "    if block.col == 3:\n",
    "        block.rgb = colors.Red"
   ]
  },
  {
   "cell_type": "code",
   "execution_count": 14,
   "metadata": {},
   "outputs": [
    {
     "data": {
      "text/html": [
       "<style type=\"text/css\">table.blockgrid {border: none;} .blockgrid tr {border: none;} .blockgrid td {padding: 0px;} #blocksbfa202d4-fa68-4451-a5e4-77883bed1246 td {border: 1px solid white;}</style><table id=\"blocksbfa202d4-fa68-4451-a5e4-77883bed1246\" class=\"blockgrid\"><tbody><tr><td title=\"Index: [0, 0]&#10;Color: (0, 0, 0)\" style=\"width: 20px; height: 20px;background-color: rgb(0, 0, 0);\"></td><td title=\"Index: [0, 1]&#10;Color: (0, 0, 0)\" style=\"width: 20px; height: 20px;background-color: rgb(0, 0, 0);\"></td><td title=\"Index: [0, 2]&#10;Color: (0, 0, 0)\" style=\"width: 20px; height: 20px;background-color: rgb(0, 0, 0);\"></td><td title=\"Index: [0, 3]&#10;Color: (0, 0, 0)\" style=\"width: 20px; height: 20px;background-color: rgb(0, 0, 0);\"></td><td title=\"Index: [0, 4]&#10;Color: (0, 0, 0)\" style=\"width: 20px; height: 20px;background-color: rgb(0, 0, 0);\"></td></tr><tr><td title=\"Index: [1, 0]&#10;Color: (0, 0, 0)\" style=\"width: 20px; height: 20px;background-color: rgb(0, 0, 0);\"></td><td title=\"Index: [1, 1]&#10;Color: (0, 0, 0)\" style=\"width: 20px; height: 20px;background-color: rgb(0, 0, 0);\"></td><td title=\"Index: [1, 2]&#10;Color: (0, 0, 0)\" style=\"width: 20px; height: 20px;background-color: rgb(0, 0, 0);\"></td><td title=\"Index: [1, 3]&#10;Color: (0, 0, 0)\" style=\"width: 20px; height: 20px;background-color: rgb(0, 0, 0);\"></td><td title=\"Index: [1, 4]&#10;Color: (0, 0, 0)\" style=\"width: 20px; height: 20px;background-color: rgb(0, 0, 0);\"></td></tr><tr><td title=\"Index: [2, 0]&#10;Color: (255, 0, 0)\" style=\"width: 20px; height: 20px;background-color: rgb(255, 0, 0);\"></td><td title=\"Index: [2, 1]&#10;Color: (255, 0, 0)\" style=\"width: 20px; height: 20px;background-color: rgb(255, 0, 0);\"></td><td title=\"Index: [2, 2]&#10;Color: (255, 0, 0)\" style=\"width: 20px; height: 20px;background-color: rgb(255, 0, 0);\"></td><td title=\"Index: [2, 3]&#10;Color: (255, 0, 0)\" style=\"width: 20px; height: 20px;background-color: rgb(255, 0, 0);\"></td><td title=\"Index: [2, 4]&#10;Color: (255, 0, 0)\" style=\"width: 20px; height: 20px;background-color: rgb(255, 0, 0);\"></td></tr><tr><td title=\"Index: [3, 0]&#10;Color: (255, 0, 0)\" style=\"width: 20px; height: 20px;background-color: rgb(255, 0, 0);\"></td><td title=\"Index: [3, 1]&#10;Color: (255, 0, 0)\" style=\"width: 20px; height: 20px;background-color: rgb(255, 0, 0);\"></td><td title=\"Index: [3, 2]&#10;Color: (255, 0, 0)\" style=\"width: 20px; height: 20px;background-color: rgb(255, 0, 0);\"></td><td title=\"Index: [3, 3]&#10;Color: (255, 0, 0)\" style=\"width: 20px; height: 20px;background-color: rgb(255, 0, 0);\"></td><td title=\"Index: [3, 4]&#10;Color: (255, 0, 0)\" style=\"width: 20px; height: 20px;background-color: rgb(255, 0, 0);\"></td></tr><tr><td title=\"Index: [4, 0]&#10;Color: (0, 139, 139)\" style=\"width: 20px; height: 20px;background-color: rgb(0, 139, 139);\"></td><td title=\"Index: [4, 1]&#10;Color: (0, 139, 139)\" style=\"width: 20px; height: 20px;background-color: rgb(0, 139, 139);\"></td><td title=\"Index: [4, 2]&#10;Color: (0, 139, 139)\" style=\"width: 20px; height: 20px;background-color: rgb(0, 139, 139);\"></td><td title=\"Index: [4, 3]&#10;Color: (255, 0, 0)\" style=\"width: 20px; height: 20px;background-color: rgb(255, 0, 0);\"></td><td title=\"Index: [4, 4]&#10;Color: (0, 139, 139)\" style=\"width: 20px; height: 20px;background-color: rgb(0, 139, 139);\"></td></tr></tbody></table>"
      ],
      "text/plain": [
       "<IPython.core.display.HTML object>"
      ]
     },
     "metadata": {},
     "output_type": "display_data"
    }
   ],
   "source": [
    "for block in grid.animate():\n",
    "    if block.row == 0 or block.row == 1:\n",
    "        block.rgb = colors.Black"
   ]
  },
  {
   "cell_type": "code",
   "execution_count": 15,
   "metadata": {},
   "outputs": [
    {
     "data": {
      "text/html": [
       "<style type=\"text/css\">table.blockgrid {border: none;} .blockgrid tr {border: none;} .blockgrid td {padding: 0px;} #blocks6a7609fb-9088-41c4-845e-687a47bad907 td {border: 1px solid white;}</style><table id=\"blocks6a7609fb-9088-41c4-845e-687a47bad907\" class=\"blockgrid\"><tbody><tr><td title=\"Index: [0, 0]&#10;Color: (0, 0, 255)\" style=\"width: 20px; height: 20px;background-color: rgb(0, 0, 255);\"></td><td title=\"Index: [0, 1]&#10;Color: (0, 0, 255)\" style=\"width: 20px; height: 20px;background-color: rgb(0, 0, 255);\"></td><td title=\"Index: [0, 2]&#10;Color: (0, 0, 255)\" style=\"width: 20px; height: 20px;background-color: rgb(0, 0, 255);\"></td><td title=\"Index: [0, 3]&#10;Color: (0, 0, 255)\" style=\"width: 20px; height: 20px;background-color: rgb(0, 0, 255);\"></td><td title=\"Index: [0, 4]&#10;Color: (0, 0, 255)\" style=\"width: 20px; height: 20px;background-color: rgb(0, 0, 255);\"></td></tr><tr><td title=\"Index: [1, 0]&#10;Color: (255, 215, 0)\" style=\"width: 20px; height: 20px;background-color: rgb(255, 215, 0);\"></td><td title=\"Index: [1, 1]&#10;Color: (255, 215, 0)\" style=\"width: 20px; height: 20px;background-color: rgb(255, 215, 0);\"></td><td title=\"Index: [1, 2]&#10;Color: (255, 215, 0)\" style=\"width: 20px; height: 20px;background-color: rgb(255, 215, 0);\"></td><td title=\"Index: [1, 3]&#10;Color: (255, 215, 0)\" style=\"width: 20px; height: 20px;background-color: rgb(255, 215, 0);\"></td><td title=\"Index: [1, 4]&#10;Color: (255, 215, 0)\" style=\"width: 20px; height: 20px;background-color: rgb(255, 215, 0);\"></td></tr><tr><td title=\"Index: [2, 0]&#10;Color: (245, 222, 179)\" style=\"width: 20px; height: 20px;background-color: rgb(245, 222, 179);\"></td><td title=\"Index: [2, 1]&#10;Color: (245, 222, 179)\" style=\"width: 20px; height: 20px;background-color: rgb(245, 222, 179);\"></td><td title=\"Index: [2, 2]&#10;Color: (245, 222, 179)\" style=\"width: 20px; height: 20px;background-color: rgb(245, 222, 179);\"></td><td title=\"Index: [2, 3]&#10;Color: (245, 222, 179)\" style=\"width: 20px; height: 20px;background-color: rgb(245, 222, 179);\"></td><td title=\"Index: [2, 4]&#10;Color: (245, 222, 179)\" style=\"width: 20px; height: 20px;background-color: rgb(245, 222, 179);\"></td></tr><tr><td title=\"Index: [3, 0]&#10;Color: (255, 215, 0)\" style=\"width: 20px; height: 20px;background-color: rgb(255, 215, 0);\"></td><td title=\"Index: [3, 1]&#10;Color: (255, 215, 0)\" style=\"width: 20px; height: 20px;background-color: rgb(255, 215, 0);\"></td><td title=\"Index: [3, 2]&#10;Color: (255, 215, 0)\" style=\"width: 20px; height: 20px;background-color: rgb(255, 215, 0);\"></td><td title=\"Index: [3, 3]&#10;Color: (255, 215, 0)\" style=\"width: 20px; height: 20px;background-color: rgb(255, 215, 0);\"></td><td title=\"Index: [3, 4]&#10;Color: (255, 215, 0)\" style=\"width: 20px; height: 20px;background-color: rgb(255, 215, 0);\"></td></tr><tr><td title=\"Index: [4, 0]&#10;Color: (255, 215, 0)\" style=\"width: 20px; height: 20px;background-color: rgb(255, 215, 0);\"></td><td title=\"Index: [4, 1]&#10;Color: (255, 215, 0)\" style=\"width: 20px; height: 20px;background-color: rgb(255, 215, 0);\"></td><td title=\"Index: [4, 2]&#10;Color: (255, 215, 0)\" style=\"width: 20px; height: 20px;background-color: rgb(255, 215, 0);\"></td><td title=\"Index: [4, 3]&#10;Color: (255, 215, 0)\" style=\"width: 20px; height: 20px;background-color: rgb(255, 215, 0);\"></td><td title=\"Index: [4, 4]&#10;Color: (255, 215, 0)\" style=\"width: 20px; height: 20px;background-color: rgb(255, 215, 0);\"></td></tr></tbody></table>"
      ],
      "text/plain": [
       "<IPython.core.display.HTML object>"
      ]
     },
     "metadata": {},
     "output_type": "display_data"
    }
   ],
   "source": [
    "for block in grid.animate():\n",
    "    if block.row == 0:\n",
    "        block.rgb = colors.Blue\n",
    "    elif block.row == 2:\n",
    "        block.rgb = colors.Wheat\n",
    "    else:\n",
    "        block.rgb = colors.Gold"
   ]
  },
  {
   "cell_type": "code",
   "execution_count": 16,
   "metadata": {},
   "outputs": [
    {
     "data": {
      "text/html": [
       "<style type=\"text/css\">table.blockgrid {border: none;} .blockgrid tr {border: none;} .blockgrid td {padding: 0px;} #blocks7ccfbae1-0949-4212-bb22-9b3ba5bc7f84 td {border: 1px solid white;}</style><table id=\"blocks7ccfbae1-0949-4212-bb22-9b3ba5bc7f84\" class=\"blockgrid\"><tbody><tr><td title=\"Index: [0, 0]&#10;Color: (255, 215, 0)\" style=\"width: 20px; height: 20px;background-color: rgb(255, 215, 0);\"></td><td title=\"Index: [0, 1]&#10;Color: (255, 215, 0)\" style=\"width: 20px; height: 20px;background-color: rgb(255, 215, 0);\"></td><td title=\"Index: [0, 2]&#10;Color: (255, 215, 0)\" style=\"width: 20px; height: 20px;background-color: rgb(255, 215, 0);\"></td><td title=\"Index: [0, 3]&#10;Color: (255, 215, 0)\" style=\"width: 20px; height: 20px;background-color: rgb(255, 215, 0);\"></td><td title=\"Index: [0, 4]&#10;Color: (255, 215, 0)\" style=\"width: 20px; height: 20px;background-color: rgb(255, 215, 0);\"></td></tr><tr><td title=\"Index: [1, 0]&#10;Color: (255, 0, 0)\" style=\"width: 20px; height: 20px;background-color: rgb(255, 0, 0);\"></td><td title=\"Index: [1, 1]&#10;Color: (255, 0, 0)\" style=\"width: 20px; height: 20px;background-color: rgb(255, 0, 0);\"></td><td title=\"Index: [1, 2]&#10;Color: (255, 0, 0)\" style=\"width: 20px; height: 20px;background-color: rgb(255, 0, 0);\"></td><td title=\"Index: [1, 3]&#10;Color: (255, 0, 0)\" style=\"width: 20px; height: 20px;background-color: rgb(255, 0, 0);\"></td><td title=\"Index: [1, 4]&#10;Color: (255, 0, 0)\" style=\"width: 20px; height: 20px;background-color: rgb(255, 0, 0);\"></td></tr><tr><td title=\"Index: [2, 0]&#10;Color: (0, 128, 0)\" style=\"width: 20px; height: 20px;background-color: rgb(0, 128, 0);\"></td><td title=\"Index: [2, 1]&#10;Color: (0, 128, 0)\" style=\"width: 20px; height: 20px;background-color: rgb(0, 128, 0);\"></td><td title=\"Index: [2, 2]&#10;Color: (0, 128, 0)\" style=\"width: 20px; height: 20px;background-color: rgb(0, 128, 0);\"></td><td title=\"Index: [2, 3]&#10;Color: (0, 128, 0)\" style=\"width: 20px; height: 20px;background-color: rgb(0, 128, 0);\"></td><td title=\"Index: [2, 4]&#10;Color: (0, 128, 0)\" style=\"width: 20px; height: 20px;background-color: rgb(0, 128, 0);\"></td></tr><tr><td title=\"Index: [3, 0]&#10;Color: (255, 215, 0)\" style=\"width: 20px; height: 20px;background-color: rgb(255, 215, 0);\"></td><td title=\"Index: [3, 1]&#10;Color: (255, 215, 0)\" style=\"width: 20px; height: 20px;background-color: rgb(255, 215, 0);\"></td><td title=\"Index: [3, 2]&#10;Color: (255, 215, 0)\" style=\"width: 20px; height: 20px;background-color: rgb(255, 215, 0);\"></td><td title=\"Index: [3, 3]&#10;Color: (255, 215, 0)\" style=\"width: 20px; height: 20px;background-color: rgb(255, 215, 0);\"></td><td title=\"Index: [3, 4]&#10;Color: (255, 215, 0)\" style=\"width: 20px; height: 20px;background-color: rgb(255, 215, 0);\"></td></tr><tr><td title=\"Index: [4, 0]&#10;Color: (255, 215, 0)\" style=\"width: 20px; height: 20px;background-color: rgb(255, 215, 0);\"></td><td title=\"Index: [4, 1]&#10;Color: (255, 215, 0)\" style=\"width: 20px; height: 20px;background-color: rgb(255, 215, 0);\"></td><td title=\"Index: [4, 2]&#10;Color: (255, 215, 0)\" style=\"width: 20px; height: 20px;background-color: rgb(255, 215, 0);\"></td><td title=\"Index: [4, 3]&#10;Color: (255, 215, 0)\" style=\"width: 20px; height: 20px;background-color: rgb(255, 215, 0);\"></td><td title=\"Index: [4, 4]&#10;Color: (255, 215, 0)\" style=\"width: 20px; height: 20px;background-color: rgb(255, 215, 0);\"></td></tr></tbody></table>"
      ],
      "text/plain": [
       "<IPython.core.display.HTML object>"
      ]
     },
     "metadata": {},
     "output_type": "display_data"
    }
   ],
   "source": [
    "for block in grid.animate():\n",
    "    if block.row == 1:\n",
    "        block.rgb = colors.Red\n",
    "    elif block.row == 2:\n",
    "        block.rgb = colors.Green\n",
    "    else:\n",
    "        block.rgb = colors.Gold"
   ]
  },
  {
   "cell_type": "code",
   "execution_count": 17,
   "metadata": {},
   "outputs": [
    {
     "data": {
      "text/html": [
       "<style type=\"text/css\">table.blockgrid {border: none;} .blockgrid tr {border: none;} .blockgrid td {padding: 0px;} #blocks6fc0aa07-fcea-4a0e-b5d0-3e175be4ed96 td {border: 1px solid white;}</style><table id=\"blocks6fc0aa07-fcea-4a0e-b5d0-3e175be4ed96\" class=\"blockgrid\"><tbody><tr><td title=\"Index: [0, 0]&#10;Color: (0, 0, 0)\" style=\"width: 20px; height: 20px;background-color: rgb(0, 0, 0);\"></td><td title=\"Index: [0, 1]&#10;Color: (0, 0, 0)\" style=\"width: 20px; height: 20px;background-color: rgb(0, 0, 0);\"></td><td title=\"Index: [0, 2]&#10;Color: (0, 0, 0)\" style=\"width: 20px; height: 20px;background-color: rgb(0, 0, 0);\"></td><td title=\"Index: [0, 3]&#10;Color: (0, 0, 0)\" style=\"width: 20px; height: 20px;background-color: rgb(0, 0, 0);\"></td><td title=\"Index: [0, 4]&#10;Color: (0, 0, 0)\" style=\"width: 20px; height: 20px;background-color: rgb(0, 0, 0);\"></td></tr><tr><td title=\"Index: [1, 0]&#10;Color: (255, 0, 0)\" style=\"width: 20px; height: 20px;background-color: rgb(255, 0, 0);\"></td><td title=\"Index: [1, 1]&#10;Color: (255, 0, 0)\" style=\"width: 20px; height: 20px;background-color: rgb(255, 0, 0);\"></td><td title=\"Index: [1, 2]&#10;Color: (255, 0, 0)\" style=\"width: 20px; height: 20px;background-color: rgb(255, 0, 0);\"></td><td title=\"Index: [1, 3]&#10;Color: (255, 0, 0)\" style=\"width: 20px; height: 20px;background-color: rgb(255, 0, 0);\"></td><td title=\"Index: [1, 4]&#10;Color: (255, 0, 0)\" style=\"width: 20px; height: 20px;background-color: rgb(255, 0, 0);\"></td></tr><tr><td title=\"Index: [2, 0]&#10;Color: (0, 128, 0)\" style=\"width: 20px; height: 20px;background-color: rgb(0, 128, 0);\"></td><td title=\"Index: [2, 1]&#10;Color: (0, 128, 0)\" style=\"width: 20px; height: 20px;background-color: rgb(0, 128, 0);\"></td><td title=\"Index: [2, 2]&#10;Color: (0, 128, 0)\" style=\"width: 20px; height: 20px;background-color: rgb(0, 128, 0);\"></td><td title=\"Index: [2, 3]&#10;Color: (0, 128, 0)\" style=\"width: 20px; height: 20px;background-color: rgb(0, 128, 0);\"></td><td title=\"Index: [2, 4]&#10;Color: (0, 128, 0)\" style=\"width: 20px; height: 20px;background-color: rgb(0, 128, 0);\"></td></tr><tr><td title=\"Index: [3, 0]&#10;Color: (255, 215, 0)\" style=\"width: 20px; height: 20px;background-color: rgb(255, 215, 0);\"></td><td title=\"Index: [3, 1]&#10;Color: (255, 215, 0)\" style=\"width: 20px; height: 20px;background-color: rgb(255, 215, 0);\"></td><td title=\"Index: [3, 2]&#10;Color: (255, 215, 0)\" style=\"width: 20px; height: 20px;background-color: rgb(255, 215, 0);\"></td><td title=\"Index: [3, 3]&#10;Color: (255, 215, 0)\" style=\"width: 20px; height: 20px;background-color: rgb(255, 215, 0);\"></td><td title=\"Index: [3, 4]&#10;Color: (255, 215, 0)\" style=\"width: 20px; height: 20px;background-color: rgb(255, 215, 0);\"></td></tr><tr><td title=\"Index: [4, 0]&#10;Color: (0, 0, 0)\" style=\"width: 20px; height: 20px;background-color: rgb(0, 0, 0);\"></td><td title=\"Index: [4, 1]&#10;Color: (0, 0, 0)\" style=\"width: 20px; height: 20px;background-color: rgb(0, 0, 0);\"></td><td title=\"Index: [4, 2]&#10;Color: (0, 0, 0)\" style=\"width: 20px; height: 20px;background-color: rgb(0, 0, 0);\"></td><td title=\"Index: [4, 3]&#10;Color: (0, 0, 0)\" style=\"width: 20px; height: 20px;background-color: rgb(0, 0, 0);\"></td><td title=\"Index: [4, 4]&#10;Color: (0, 0, 0)\" style=\"width: 20px; height: 20px;background-color: rgb(0, 0, 0);\"></td></tr></tbody></table>"
      ],
      "text/plain": [
       "<IPython.core.display.HTML object>"
      ]
     },
     "metadata": {},
     "output_type": "display_data"
    }
   ],
   "source": [
    "for block in grid.animate():\n",
    "    if block.row == 0 or block.row == 4:\n",
    "        block.rgb = colors.Black"
   ]
  },
  {
   "cell_type": "code",
   "execution_count": 18,
   "metadata": {},
   "outputs": [
    {
     "data": {
      "text/html": [
       "<style type=\"text/css\">table.blockgrid {border: none;} .blockgrid tr {border: none;} .blockgrid td {padding: 0px;} #blocks8c4efc7c-dfd9-4908-9529-3286096abbd1 td {border: 1px solid white;}</style><table id=\"blocks8c4efc7c-dfd9-4908-9529-3286096abbd1\" class=\"blockgrid\"><tbody><tr><td title=\"Index: [0, 0]&#10;Color: (0, 0, 0)\" style=\"width: 20px; height: 20px;background-color: rgb(0, 0, 0);\"></td><td title=\"Index: [0, 1]&#10;Color: (0, 0, 0)\" style=\"width: 20px; height: 20px;background-color: rgb(0, 0, 0);\"></td><td title=\"Index: [0, 2]&#10;Color: (0, 0, 0)\" style=\"width: 20px; height: 20px;background-color: rgb(0, 0, 0);\"></td><td title=\"Index: [0, 3]&#10;Color: (0, 0, 255)\" style=\"width: 20px; height: 20px;background-color: rgb(0, 0, 255);\"></td><td title=\"Index: [0, 4]&#10;Color: (0, 0, 0)\" style=\"width: 20px; height: 20px;background-color: rgb(0, 0, 0);\"></td></tr><tr><td title=\"Index: [1, 0]&#10;Color: (255, 0, 0)\" style=\"width: 20px; height: 20px;background-color: rgb(255, 0, 0);\"></td><td title=\"Index: [1, 1]&#10;Color: (255, 0, 0)\" style=\"width: 20px; height: 20px;background-color: rgb(255, 0, 0);\"></td><td title=\"Index: [1, 2]&#10;Color: (255, 0, 0)\" style=\"width: 20px; height: 20px;background-color: rgb(255, 0, 0);\"></td><td title=\"Index: [1, 3]&#10;Color: (255, 0, 0)\" style=\"width: 20px; height: 20px;background-color: rgb(255, 0, 0);\"></td><td title=\"Index: [1, 4]&#10;Color: (255, 0, 0)\" style=\"width: 20px; height: 20px;background-color: rgb(255, 0, 0);\"></td></tr><tr><td title=\"Index: [2, 0]&#10;Color: (0, 128, 0)\" style=\"width: 20px; height: 20px;background-color: rgb(0, 128, 0);\"></td><td title=\"Index: [2, 1]&#10;Color: (0, 128, 0)\" style=\"width: 20px; height: 20px;background-color: rgb(0, 128, 0);\"></td><td title=\"Index: [2, 2]&#10;Color: (0, 128, 0)\" style=\"width: 20px; height: 20px;background-color: rgb(0, 128, 0);\"></td><td title=\"Index: [2, 3]&#10;Color: (0, 128, 0)\" style=\"width: 20px; height: 20px;background-color: rgb(0, 128, 0);\"></td><td title=\"Index: [2, 4]&#10;Color: (0, 128, 0)\" style=\"width: 20px; height: 20px;background-color: rgb(0, 128, 0);\"></td></tr><tr><td title=\"Index: [3, 0]&#10;Color: (255, 215, 0)\" style=\"width: 20px; height: 20px;background-color: rgb(255, 215, 0);\"></td><td title=\"Index: [3, 1]&#10;Color: (255, 215, 0)\" style=\"width: 20px; height: 20px;background-color: rgb(255, 215, 0);\"></td><td title=\"Index: [3, 2]&#10;Color: (255, 215, 0)\" style=\"width: 20px; height: 20px;background-color: rgb(255, 215, 0);\"></td><td title=\"Index: [3, 3]&#10;Color: (255, 215, 0)\" style=\"width: 20px; height: 20px;background-color: rgb(255, 215, 0);\"></td><td title=\"Index: [3, 4]&#10;Color: (255, 215, 0)\" style=\"width: 20px; height: 20px;background-color: rgb(255, 215, 0);\"></td></tr><tr><td title=\"Index: [4, 0]&#10;Color: (0, 0, 0)\" style=\"width: 20px; height: 20px;background-color: rgb(0, 0, 0);\"></td><td title=\"Index: [4, 1]&#10;Color: (0, 0, 0)\" style=\"width: 20px; height: 20px;background-color: rgb(0, 0, 0);\"></td><td title=\"Index: [4, 2]&#10;Color: (0, 0, 0)\" style=\"width: 20px; height: 20px;background-color: rgb(0, 0, 0);\"></td><td title=\"Index: [4, 3]&#10;Color: (0, 0, 255)\" style=\"width: 20px; height: 20px;background-color: rgb(0, 0, 255);\"></td><td title=\"Index: [4, 4]&#10;Color: (0, 0, 0)\" style=\"width: 20px; height: 20px;background-color: rgb(0, 0, 0);\"></td></tr></tbody></table>"
      ],
      "text/plain": [
       "<IPython.core.display.HTML object>"
      ]
     },
     "metadata": {},
     "output_type": "display_data"
    }
   ],
   "source": [
    "for block in grid.animate():\n",
    "    if block.col == 3 and block.rgb == colors.Black:\n",
    "        block.rgb = colors.Blue"
   ]
  },
  {
   "cell_type": "code",
   "execution_count": 19,
   "metadata": {},
   "outputs": [
    {
     "data": {
      "text/plain": [
       "range(0, 5)"
      ]
     },
     "execution_count": 19,
     "metadata": {},
     "output_type": "execute_result"
    }
   ],
   "source": [
    "range(5)"
   ]
  },
  {
   "cell_type": "code",
   "execution_count": 20,
   "metadata": {},
   "outputs": [
    {
     "data": {
      "text/plain": [
       "[0, 1, 2, 3, 4]"
      ]
     },
     "execution_count": 20,
     "metadata": {},
     "output_type": "execute_result"
    }
   ],
   "source": [
    "list(range(5))"
   ]
  },
  {
   "cell_type": "code",
   "execution_count": 21,
   "metadata": {},
   "outputs": [
    {
     "data": {
      "text/plain": [
       "[5, 6, 7, 8, 9]"
      ]
     },
     "execution_count": 21,
     "metadata": {},
     "output_type": "execute_result"
    }
   ],
   "source": [
    "list(range(5, 10))"
   ]
  },
  {
   "cell_type": "code",
   "execution_count": 22,
   "metadata": {},
   "outputs": [
    {
     "data": {
      "text/plain": [
       "[5, 7, 9]"
      ]
     },
     "execution_count": 22,
     "metadata": {},
     "output_type": "execute_result"
    }
   ],
   "source": [
    "list(range(5, 10, 2))"
   ]
  },
  {
   "cell_type": "code",
   "execution_count": 23,
   "metadata": {},
   "outputs": [
    {
     "data": {
      "text/html": [
       "<style type=\"text/css\">table.blockgrid {border: none;} .blockgrid tr {border: none;} .blockgrid td {padding: 0px;} #blocks83e6175a-1e2c-4b5b-a4a3-08da870d1737 td {border: 1px solid white;}</style><table id=\"blocks83e6175a-1e2c-4b5b-a4a3-08da870d1737\" class=\"blockgrid\"><tbody><tr><td title=\"Index: [0, 0]&#10;Color: (0, 0, 0)\" style=\"width: 20px; height: 20px;background-color: rgb(0, 0, 0);\"></td><td title=\"Index: [0, 1]&#10;Color: (0, 0, 0)\" style=\"width: 20px; height: 20px;background-color: rgb(0, 0, 0);\"></td><td title=\"Index: [0, 2]&#10;Color: (0, 0, 0)\" style=\"width: 20px; height: 20px;background-color: rgb(0, 0, 0);\"></td><td title=\"Index: [0, 3]&#10;Color: (0, 0, 255)\" style=\"width: 20px; height: 20px;background-color: rgb(0, 0, 255);\"></td><td title=\"Index: [0, 4]&#10;Color: (0, 0, 0)\" style=\"width: 20px; height: 20px;background-color: rgb(0, 0, 0);\"></td></tr><tr><td title=\"Index: [1, 0]&#10;Color: (255, 99, 71)\" style=\"width: 20px; height: 20px;background-color: rgb(255, 99, 71);\"></td><td title=\"Index: [1, 1]&#10;Color: (255, 99, 71)\" style=\"width: 20px; height: 20px;background-color: rgb(255, 99, 71);\"></td><td title=\"Index: [1, 2]&#10;Color: (255, 99, 71)\" style=\"width: 20px; height: 20px;background-color: rgb(255, 99, 71);\"></td><td title=\"Index: [1, 3]&#10;Color: (255, 99, 71)\" style=\"width: 20px; height: 20px;background-color: rgb(255, 99, 71);\"></td><td title=\"Index: [1, 4]&#10;Color: (255, 99, 71)\" style=\"width: 20px; height: 20px;background-color: rgb(255, 99, 71);\"></td></tr><tr><td title=\"Index: [2, 0]&#10;Color: (0, 128, 0)\" style=\"width: 20px; height: 20px;background-color: rgb(0, 128, 0);\"></td><td title=\"Index: [2, 1]&#10;Color: (0, 128, 0)\" style=\"width: 20px; height: 20px;background-color: rgb(0, 128, 0);\"></td><td title=\"Index: [2, 2]&#10;Color: (0, 128, 0)\" style=\"width: 20px; height: 20px;background-color: rgb(0, 128, 0);\"></td><td title=\"Index: [2, 3]&#10;Color: (0, 128, 0)\" style=\"width: 20px; height: 20px;background-color: rgb(0, 128, 0);\"></td><td title=\"Index: [2, 4]&#10;Color: (0, 128, 0)\" style=\"width: 20px; height: 20px;background-color: rgb(0, 128, 0);\"></td></tr><tr><td title=\"Index: [3, 0]&#10;Color: (255, 215, 0)\" style=\"width: 20px; height: 20px;background-color: rgb(255, 215, 0);\"></td><td title=\"Index: [3, 1]&#10;Color: (255, 215, 0)\" style=\"width: 20px; height: 20px;background-color: rgb(255, 215, 0);\"></td><td title=\"Index: [3, 2]&#10;Color: (255, 215, 0)\" style=\"width: 20px; height: 20px;background-color: rgb(255, 215, 0);\"></td><td title=\"Index: [3, 3]&#10;Color: (255, 215, 0)\" style=\"width: 20px; height: 20px;background-color: rgb(255, 215, 0);\"></td><td title=\"Index: [3, 4]&#10;Color: (255, 215, 0)\" style=\"width: 20px; height: 20px;background-color: rgb(255, 215, 0);\"></td></tr><tr><td title=\"Index: [4, 0]&#10;Color: (0, 0, 0)\" style=\"width: 20px; height: 20px;background-color: rgb(0, 0, 0);\"></td><td title=\"Index: [4, 1]&#10;Color: (0, 0, 0)\" style=\"width: 20px; height: 20px;background-color: rgb(0, 0, 0);\"></td><td title=\"Index: [4, 2]&#10;Color: (0, 0, 0)\" style=\"width: 20px; height: 20px;background-color: rgb(0, 0, 0);\"></td><td title=\"Index: [4, 3]&#10;Color: (0, 0, 255)\" style=\"width: 20px; height: 20px;background-color: rgb(0, 0, 255);\"></td><td title=\"Index: [4, 4]&#10;Color: (0, 0, 0)\" style=\"width: 20px; height: 20px;background-color: rgb(0, 0, 0);\"></td></tr></tbody></table>"
      ],
      "text/plain": [
       "<ipythonblocks.BlockGrid at 0x110241780>"
      ]
     },
     "execution_count": 23,
     "metadata": {},
     "output_type": "execute_result"
    }
   ],
   "source": [
    "for column in range(grid.width):\n",
    "    grid[1, column] = colors.Tomato\n",
    "grid"
   ]
  },
  {
   "cell_type": "code",
   "execution_count": 4,
   "metadata": {},
   "outputs": [
    {
     "data": {
      "text/html": [
       "<style type=\"text/css\">table.blockgrid {border: none;} .blockgrid tr {border: none;} .blockgrid td {padding: 0px;} #blocks867ff436-5d92-4397-9885-2c3fc9b6ab57 td {border: 1px solid white;}</style><table id=\"blocks867ff436-5d92-4397-9885-2c3fc9b6ab57\" class=\"blockgrid\"><tbody><tr><td title=\"Index: [0, 0]&#10;Color: (0, 139, 139)\" style=\"width: 10px; height: 10px;background-color: rgb(0, 139, 139);\"></td><td title=\"Index: [0, 1]&#10;Color: (0, 139, 139)\" style=\"width: 10px; height: 10px;background-color: rgb(0, 139, 139);\"></td><td title=\"Index: [0, 2]&#10;Color: (0, 139, 139)\" style=\"width: 10px; height: 10px;background-color: rgb(0, 139, 139);\"></td><td title=\"Index: [0, 3]&#10;Color: (0, 139, 139)\" style=\"width: 10px; height: 10px;background-color: rgb(0, 139, 139);\"></td><td title=\"Index: [0, 4]&#10;Color: (0, 139, 139)\" style=\"width: 10px; height: 10px;background-color: rgb(0, 139, 139);\"></td><td title=\"Index: [0, 5]&#10;Color: (0, 139, 139)\" style=\"width: 10px; height: 10px;background-color: rgb(0, 139, 139);\"></td><td title=\"Index: [0, 6]&#10;Color: (0, 139, 139)\" style=\"width: 10px; height: 10px;background-color: rgb(0, 139, 139);\"></td><td title=\"Index: [0, 7]&#10;Color: (0, 139, 139)\" style=\"width: 10px; height: 10px;background-color: rgb(0, 139, 139);\"></td><td title=\"Index: [0, 8]&#10;Color: (0, 139, 139)\" style=\"width: 10px; height: 10px;background-color: rgb(0, 139, 139);\"></td><td title=\"Index: [0, 9]&#10;Color: (0, 139, 139)\" style=\"width: 10px; height: 10px;background-color: rgb(0, 139, 139);\"></td><td title=\"Index: [0, 10]&#10;Color: (0, 139, 139)\" style=\"width: 10px; height: 10px;background-color: rgb(0, 139, 139);\"></td><td title=\"Index: [0, 11]&#10;Color: (0, 139, 139)\" style=\"width: 10px; height: 10px;background-color: rgb(0, 139, 139);\"></td><td title=\"Index: [0, 12]&#10;Color: (0, 139, 139)\" style=\"width: 10px; height: 10px;background-color: rgb(0, 139, 139);\"></td><td title=\"Index: [0, 13]&#10;Color: (0, 139, 139)\" style=\"width: 10px; height: 10px;background-color: rgb(0, 139, 139);\"></td><td title=\"Index: [0, 14]&#10;Color: (0, 139, 139)\" style=\"width: 10px; height: 10px;background-color: rgb(0, 139, 139);\"></td><td title=\"Index: [0, 15]&#10;Color: (0, 139, 139)\" style=\"width: 10px; height: 10px;background-color: rgb(0, 139, 139);\"></td><td title=\"Index: [0, 16]&#10;Color: (0, 139, 139)\" style=\"width: 10px; height: 10px;background-color: rgb(0, 139, 139);\"></td><td title=\"Index: [0, 17]&#10;Color: (0, 139, 139)\" style=\"width: 10px; height: 10px;background-color: rgb(0, 139, 139);\"></td><td title=\"Index: [0, 18]&#10;Color: (0, 139, 139)\" style=\"width: 10px; height: 10px;background-color: rgb(0, 139, 139);\"></td><td title=\"Index: [0, 19]&#10;Color: (0, 139, 139)\" style=\"width: 10px; height: 10px;background-color: rgb(0, 139, 139);\"></td></tr><tr><td title=\"Index: [1, 0]&#10;Color: (0, 139, 139)\" style=\"width: 10px; height: 10px;background-color: rgb(0, 139, 139);\"></td><td title=\"Index: [1, 1]&#10;Color: (0, 139, 139)\" style=\"width: 10px; height: 10px;background-color: rgb(0, 139, 139);\"></td><td title=\"Index: [1, 2]&#10;Color: (0, 139, 139)\" style=\"width: 10px; height: 10px;background-color: rgb(0, 139, 139);\"></td><td title=\"Index: [1, 3]&#10;Color: (0, 139, 139)\" style=\"width: 10px; height: 10px;background-color: rgb(0, 139, 139);\"></td><td title=\"Index: [1, 4]&#10;Color: (0, 139, 139)\" style=\"width: 10px; height: 10px;background-color: rgb(0, 139, 139);\"></td><td title=\"Index: [1, 5]&#10;Color: (0, 139, 139)\" style=\"width: 10px; height: 10px;background-color: rgb(0, 139, 139);\"></td><td title=\"Index: [1, 6]&#10;Color: (0, 139, 139)\" style=\"width: 10px; height: 10px;background-color: rgb(0, 139, 139);\"></td><td title=\"Index: [1, 7]&#10;Color: (0, 139, 139)\" style=\"width: 10px; height: 10px;background-color: rgb(0, 139, 139);\"></td><td title=\"Index: [1, 8]&#10;Color: (0, 139, 139)\" style=\"width: 10px; height: 10px;background-color: rgb(0, 139, 139);\"></td><td title=\"Index: [1, 9]&#10;Color: (0, 139, 139)\" style=\"width: 10px; height: 10px;background-color: rgb(0, 139, 139);\"></td><td title=\"Index: [1, 10]&#10;Color: (0, 139, 139)\" style=\"width: 10px; height: 10px;background-color: rgb(0, 139, 139);\"></td><td title=\"Index: [1, 11]&#10;Color: (0, 139, 139)\" style=\"width: 10px; height: 10px;background-color: rgb(0, 139, 139);\"></td><td title=\"Index: [1, 12]&#10;Color: (0, 139, 139)\" style=\"width: 10px; height: 10px;background-color: rgb(0, 139, 139);\"></td><td title=\"Index: [1, 13]&#10;Color: (0, 139, 139)\" style=\"width: 10px; height: 10px;background-color: rgb(0, 139, 139);\"></td><td title=\"Index: [1, 14]&#10;Color: (0, 139, 139)\" style=\"width: 10px; height: 10px;background-color: rgb(0, 139, 139);\"></td><td title=\"Index: [1, 15]&#10;Color: (0, 139, 139)\" style=\"width: 10px; height: 10px;background-color: rgb(0, 139, 139);\"></td><td title=\"Index: [1, 16]&#10;Color: (0, 139, 139)\" style=\"width: 10px; height: 10px;background-color: rgb(0, 139, 139);\"></td><td title=\"Index: [1, 17]&#10;Color: (0, 139, 139)\" style=\"width: 10px; height: 10px;background-color: rgb(0, 139, 139);\"></td><td title=\"Index: [1, 18]&#10;Color: (0, 139, 139)\" style=\"width: 10px; height: 10px;background-color: rgb(0, 139, 139);\"></td><td title=\"Index: [1, 19]&#10;Color: (0, 139, 139)\" style=\"width: 10px; height: 10px;background-color: rgb(0, 139, 139);\"></td></tr><tr><td title=\"Index: [2, 0]&#10;Color: (0, 139, 139)\" style=\"width: 10px; height: 10px;background-color: rgb(0, 139, 139);\"></td><td title=\"Index: [2, 1]&#10;Color: (0, 139, 139)\" style=\"width: 10px; height: 10px;background-color: rgb(0, 139, 139);\"></td><td title=\"Index: [2, 2]&#10;Color: (0, 139, 139)\" style=\"width: 10px; height: 10px;background-color: rgb(0, 139, 139);\"></td><td title=\"Index: [2, 3]&#10;Color: (0, 139, 139)\" style=\"width: 10px; height: 10px;background-color: rgb(0, 139, 139);\"></td><td title=\"Index: [2, 4]&#10;Color: (0, 139, 139)\" style=\"width: 10px; height: 10px;background-color: rgb(0, 139, 139);\"></td><td title=\"Index: [2, 5]&#10;Color: (0, 139, 139)\" style=\"width: 10px; height: 10px;background-color: rgb(0, 139, 139);\"></td><td title=\"Index: [2, 6]&#10;Color: (0, 139, 139)\" style=\"width: 10px; height: 10px;background-color: rgb(0, 139, 139);\"></td><td title=\"Index: [2, 7]&#10;Color: (0, 139, 139)\" style=\"width: 10px; height: 10px;background-color: rgb(0, 139, 139);\"></td><td title=\"Index: [2, 8]&#10;Color: (0, 139, 139)\" style=\"width: 10px; height: 10px;background-color: rgb(0, 139, 139);\"></td><td title=\"Index: [2, 9]&#10;Color: (0, 139, 139)\" style=\"width: 10px; height: 10px;background-color: rgb(0, 139, 139);\"></td><td title=\"Index: [2, 10]&#10;Color: (0, 139, 139)\" style=\"width: 10px; height: 10px;background-color: rgb(0, 139, 139);\"></td><td title=\"Index: [2, 11]&#10;Color: (0, 139, 139)\" style=\"width: 10px; height: 10px;background-color: rgb(0, 139, 139);\"></td><td title=\"Index: [2, 12]&#10;Color: (0, 139, 139)\" style=\"width: 10px; height: 10px;background-color: rgb(0, 139, 139);\"></td><td title=\"Index: [2, 13]&#10;Color: (0, 139, 139)\" style=\"width: 10px; height: 10px;background-color: rgb(0, 139, 139);\"></td><td title=\"Index: [2, 14]&#10;Color: (0, 139, 139)\" style=\"width: 10px; height: 10px;background-color: rgb(0, 139, 139);\"></td><td title=\"Index: [2, 15]&#10;Color: (0, 139, 139)\" style=\"width: 10px; height: 10px;background-color: rgb(0, 139, 139);\"></td><td title=\"Index: [2, 16]&#10;Color: (0, 139, 139)\" style=\"width: 10px; height: 10px;background-color: rgb(0, 139, 139);\"></td><td title=\"Index: [2, 17]&#10;Color: (0, 139, 139)\" style=\"width: 10px; height: 10px;background-color: rgb(0, 139, 139);\"></td><td title=\"Index: [2, 18]&#10;Color: (0, 139, 139)\" style=\"width: 10px; height: 10px;background-color: rgb(0, 139, 139);\"></td><td title=\"Index: [2, 19]&#10;Color: (0, 139, 139)\" style=\"width: 10px; height: 10px;background-color: rgb(0, 139, 139);\"></td></tr><tr><td title=\"Index: [3, 0]&#10;Color: (0, 139, 139)\" style=\"width: 10px; height: 10px;background-color: rgb(0, 139, 139);\"></td><td title=\"Index: [3, 1]&#10;Color: (0, 139, 139)\" style=\"width: 10px; height: 10px;background-color: rgb(0, 139, 139);\"></td><td title=\"Index: [3, 2]&#10;Color: (0, 139, 139)\" style=\"width: 10px; height: 10px;background-color: rgb(0, 139, 139);\"></td><td title=\"Index: [3, 3]&#10;Color: (0, 139, 139)\" style=\"width: 10px; height: 10px;background-color: rgb(0, 139, 139);\"></td><td title=\"Index: [3, 4]&#10;Color: (0, 139, 139)\" style=\"width: 10px; height: 10px;background-color: rgb(0, 139, 139);\"></td><td title=\"Index: [3, 5]&#10;Color: (0, 139, 139)\" style=\"width: 10px; height: 10px;background-color: rgb(0, 139, 139);\"></td><td title=\"Index: [3, 6]&#10;Color: (0, 139, 139)\" style=\"width: 10px; height: 10px;background-color: rgb(0, 139, 139);\"></td><td title=\"Index: [3, 7]&#10;Color: (0, 139, 139)\" style=\"width: 10px; height: 10px;background-color: rgb(0, 139, 139);\"></td><td title=\"Index: [3, 8]&#10;Color: (0, 139, 139)\" style=\"width: 10px; height: 10px;background-color: rgb(0, 139, 139);\"></td><td title=\"Index: [3, 9]&#10;Color: (0, 139, 139)\" style=\"width: 10px; height: 10px;background-color: rgb(0, 139, 139);\"></td><td title=\"Index: [3, 10]&#10;Color: (0, 139, 139)\" style=\"width: 10px; height: 10px;background-color: rgb(0, 139, 139);\"></td><td title=\"Index: [3, 11]&#10;Color: (0, 139, 139)\" style=\"width: 10px; height: 10px;background-color: rgb(0, 139, 139);\"></td><td title=\"Index: [3, 12]&#10;Color: (0, 139, 139)\" style=\"width: 10px; height: 10px;background-color: rgb(0, 139, 139);\"></td><td title=\"Index: [3, 13]&#10;Color: (0, 139, 139)\" style=\"width: 10px; height: 10px;background-color: rgb(0, 139, 139);\"></td><td title=\"Index: [3, 14]&#10;Color: (0, 139, 139)\" style=\"width: 10px; height: 10px;background-color: rgb(0, 139, 139);\"></td><td title=\"Index: [3, 15]&#10;Color: (0, 139, 139)\" style=\"width: 10px; height: 10px;background-color: rgb(0, 139, 139);\"></td><td title=\"Index: [3, 16]&#10;Color: (0, 139, 139)\" style=\"width: 10px; height: 10px;background-color: rgb(0, 139, 139);\"></td><td title=\"Index: [3, 17]&#10;Color: (0, 139, 139)\" style=\"width: 10px; height: 10px;background-color: rgb(0, 139, 139);\"></td><td title=\"Index: [3, 18]&#10;Color: (0, 139, 139)\" style=\"width: 10px; height: 10px;background-color: rgb(0, 139, 139);\"></td><td title=\"Index: [3, 19]&#10;Color: (0, 139, 139)\" style=\"width: 10px; height: 10px;background-color: rgb(0, 139, 139);\"></td></tr><tr><td title=\"Index: [4, 0]&#10;Color: (0, 139, 139)\" style=\"width: 10px; height: 10px;background-color: rgb(0, 139, 139);\"></td><td title=\"Index: [4, 1]&#10;Color: (0, 139, 139)\" style=\"width: 10px; height: 10px;background-color: rgb(0, 139, 139);\"></td><td title=\"Index: [4, 2]&#10;Color: (0, 139, 139)\" style=\"width: 10px; height: 10px;background-color: rgb(0, 139, 139);\"></td><td title=\"Index: [4, 3]&#10;Color: (0, 139, 139)\" style=\"width: 10px; height: 10px;background-color: rgb(0, 139, 139);\"></td><td title=\"Index: [4, 4]&#10;Color: (0, 139, 139)\" style=\"width: 10px; height: 10px;background-color: rgb(0, 139, 139);\"></td><td title=\"Index: [4, 5]&#10;Color: (0, 139, 139)\" style=\"width: 10px; height: 10px;background-color: rgb(0, 139, 139);\"></td><td title=\"Index: [4, 6]&#10;Color: (0, 139, 139)\" style=\"width: 10px; height: 10px;background-color: rgb(0, 139, 139);\"></td><td title=\"Index: [4, 7]&#10;Color: (0, 139, 139)\" style=\"width: 10px; height: 10px;background-color: rgb(0, 139, 139);\"></td><td title=\"Index: [4, 8]&#10;Color: (0, 139, 139)\" style=\"width: 10px; height: 10px;background-color: rgb(0, 139, 139);\"></td><td title=\"Index: [4, 9]&#10;Color: (0, 139, 139)\" style=\"width: 10px; height: 10px;background-color: rgb(0, 139, 139);\"></td><td title=\"Index: [4, 10]&#10;Color: (0, 139, 139)\" style=\"width: 10px; height: 10px;background-color: rgb(0, 139, 139);\"></td><td title=\"Index: [4, 11]&#10;Color: (0, 139, 139)\" style=\"width: 10px; height: 10px;background-color: rgb(0, 139, 139);\"></td><td title=\"Index: [4, 12]&#10;Color: (0, 139, 139)\" style=\"width: 10px; height: 10px;background-color: rgb(0, 139, 139);\"></td><td title=\"Index: [4, 13]&#10;Color: (0, 139, 139)\" style=\"width: 10px; height: 10px;background-color: rgb(0, 139, 139);\"></td><td title=\"Index: [4, 14]&#10;Color: (0, 139, 139)\" style=\"width: 10px; height: 10px;background-color: rgb(0, 139, 139);\"></td><td title=\"Index: [4, 15]&#10;Color: (0, 139, 139)\" style=\"width: 10px; height: 10px;background-color: rgb(0, 139, 139);\"></td><td title=\"Index: [4, 16]&#10;Color: (0, 139, 139)\" style=\"width: 10px; height: 10px;background-color: rgb(0, 139, 139);\"></td><td title=\"Index: [4, 17]&#10;Color: (0, 139, 139)\" style=\"width: 10px; height: 10px;background-color: rgb(0, 139, 139);\"></td><td title=\"Index: [4, 18]&#10;Color: (0, 139, 139)\" style=\"width: 10px; height: 10px;background-color: rgb(0, 139, 139);\"></td><td title=\"Index: [4, 19]&#10;Color: (0, 139, 139)\" style=\"width: 10px; height: 10px;background-color: rgb(0, 139, 139);\"></td></tr><tr><td title=\"Index: [5, 0]&#10;Color: (0, 139, 139)\" style=\"width: 10px; height: 10px;background-color: rgb(0, 139, 139);\"></td><td title=\"Index: [5, 1]&#10;Color: (0, 139, 139)\" style=\"width: 10px; height: 10px;background-color: rgb(0, 139, 139);\"></td><td title=\"Index: [5, 2]&#10;Color: (0, 139, 139)\" style=\"width: 10px; height: 10px;background-color: rgb(0, 139, 139);\"></td><td title=\"Index: [5, 3]&#10;Color: (0, 139, 139)\" style=\"width: 10px; height: 10px;background-color: rgb(0, 139, 139);\"></td><td title=\"Index: [5, 4]&#10;Color: (0, 139, 139)\" style=\"width: 10px; height: 10px;background-color: rgb(0, 139, 139);\"></td><td title=\"Index: [5, 5]&#10;Color: (0, 139, 139)\" style=\"width: 10px; height: 10px;background-color: rgb(0, 139, 139);\"></td><td title=\"Index: [5, 6]&#10;Color: (0, 139, 139)\" style=\"width: 10px; height: 10px;background-color: rgb(0, 139, 139);\"></td><td title=\"Index: [5, 7]&#10;Color: (0, 139, 139)\" style=\"width: 10px; height: 10px;background-color: rgb(0, 139, 139);\"></td><td title=\"Index: [5, 8]&#10;Color: (0, 139, 139)\" style=\"width: 10px; height: 10px;background-color: rgb(0, 139, 139);\"></td><td title=\"Index: [5, 9]&#10;Color: (0, 139, 139)\" style=\"width: 10px; height: 10px;background-color: rgb(0, 139, 139);\"></td><td title=\"Index: [5, 10]&#10;Color: (0, 139, 139)\" style=\"width: 10px; height: 10px;background-color: rgb(0, 139, 139);\"></td><td title=\"Index: [5, 11]&#10;Color: (0, 139, 139)\" style=\"width: 10px; height: 10px;background-color: rgb(0, 139, 139);\"></td><td title=\"Index: [5, 12]&#10;Color: (0, 139, 139)\" style=\"width: 10px; height: 10px;background-color: rgb(0, 139, 139);\"></td><td title=\"Index: [5, 13]&#10;Color: (0, 139, 139)\" style=\"width: 10px; height: 10px;background-color: rgb(0, 139, 139);\"></td><td title=\"Index: [5, 14]&#10;Color: (0, 139, 139)\" style=\"width: 10px; height: 10px;background-color: rgb(0, 139, 139);\"></td><td title=\"Index: [5, 15]&#10;Color: (0, 139, 139)\" style=\"width: 10px; height: 10px;background-color: rgb(0, 139, 139);\"></td><td title=\"Index: [5, 16]&#10;Color: (0, 139, 139)\" style=\"width: 10px; height: 10px;background-color: rgb(0, 139, 139);\"></td><td title=\"Index: [5, 17]&#10;Color: (0, 139, 139)\" style=\"width: 10px; height: 10px;background-color: rgb(0, 139, 139);\"></td><td title=\"Index: [5, 18]&#10;Color: (0, 139, 139)\" style=\"width: 10px; height: 10px;background-color: rgb(0, 139, 139);\"></td><td title=\"Index: [5, 19]&#10;Color: (0, 139, 139)\" style=\"width: 10px; height: 10px;background-color: rgb(0, 139, 139);\"></td></tr><tr><td title=\"Index: [6, 0]&#10;Color: (0, 139, 139)\" style=\"width: 10px; height: 10px;background-color: rgb(0, 139, 139);\"></td><td title=\"Index: [6, 1]&#10;Color: (0, 139, 139)\" style=\"width: 10px; height: 10px;background-color: rgb(0, 139, 139);\"></td><td title=\"Index: [6, 2]&#10;Color: (0, 139, 139)\" style=\"width: 10px; height: 10px;background-color: rgb(0, 139, 139);\"></td><td title=\"Index: [6, 3]&#10;Color: (0, 139, 139)\" style=\"width: 10px; height: 10px;background-color: rgb(0, 139, 139);\"></td><td title=\"Index: [6, 4]&#10;Color: (0, 139, 139)\" style=\"width: 10px; height: 10px;background-color: rgb(0, 139, 139);\"></td><td title=\"Index: [6, 5]&#10;Color: (0, 139, 139)\" style=\"width: 10px; height: 10px;background-color: rgb(0, 139, 139);\"></td><td title=\"Index: [6, 6]&#10;Color: (0, 139, 139)\" style=\"width: 10px; height: 10px;background-color: rgb(0, 139, 139);\"></td><td title=\"Index: [6, 7]&#10;Color: (0, 139, 139)\" style=\"width: 10px; height: 10px;background-color: rgb(0, 139, 139);\"></td><td title=\"Index: [6, 8]&#10;Color: (0, 139, 139)\" style=\"width: 10px; height: 10px;background-color: rgb(0, 139, 139);\"></td><td title=\"Index: [6, 9]&#10;Color: (0, 139, 139)\" style=\"width: 10px; height: 10px;background-color: rgb(0, 139, 139);\"></td><td title=\"Index: [6, 10]&#10;Color: (0, 139, 139)\" style=\"width: 10px; height: 10px;background-color: rgb(0, 139, 139);\"></td><td title=\"Index: [6, 11]&#10;Color: (0, 139, 139)\" style=\"width: 10px; height: 10px;background-color: rgb(0, 139, 139);\"></td><td title=\"Index: [6, 12]&#10;Color: (0, 139, 139)\" style=\"width: 10px; height: 10px;background-color: rgb(0, 139, 139);\"></td><td title=\"Index: [6, 13]&#10;Color: (0, 139, 139)\" style=\"width: 10px; height: 10px;background-color: rgb(0, 139, 139);\"></td><td title=\"Index: [6, 14]&#10;Color: (0, 139, 139)\" style=\"width: 10px; height: 10px;background-color: rgb(0, 139, 139);\"></td><td title=\"Index: [6, 15]&#10;Color: (0, 139, 139)\" style=\"width: 10px; height: 10px;background-color: rgb(0, 139, 139);\"></td><td title=\"Index: [6, 16]&#10;Color: (0, 139, 139)\" style=\"width: 10px; height: 10px;background-color: rgb(0, 139, 139);\"></td><td title=\"Index: [6, 17]&#10;Color: (0, 139, 139)\" style=\"width: 10px; height: 10px;background-color: rgb(0, 139, 139);\"></td><td title=\"Index: [6, 18]&#10;Color: (0, 139, 139)\" style=\"width: 10px; height: 10px;background-color: rgb(0, 139, 139);\"></td><td title=\"Index: [6, 19]&#10;Color: (0, 139, 139)\" style=\"width: 10px; height: 10px;background-color: rgb(0, 139, 139);\"></td></tr><tr><td title=\"Index: [7, 0]&#10;Color: (0, 139, 139)\" style=\"width: 10px; height: 10px;background-color: rgb(0, 139, 139);\"></td><td title=\"Index: [7, 1]&#10;Color: (0, 139, 139)\" style=\"width: 10px; height: 10px;background-color: rgb(0, 139, 139);\"></td><td title=\"Index: [7, 2]&#10;Color: (0, 139, 139)\" style=\"width: 10px; height: 10px;background-color: rgb(0, 139, 139);\"></td><td title=\"Index: [7, 3]&#10;Color: (0, 139, 139)\" style=\"width: 10px; height: 10px;background-color: rgb(0, 139, 139);\"></td><td title=\"Index: [7, 4]&#10;Color: (0, 139, 139)\" style=\"width: 10px; height: 10px;background-color: rgb(0, 139, 139);\"></td><td title=\"Index: [7, 5]&#10;Color: (0, 139, 139)\" style=\"width: 10px; height: 10px;background-color: rgb(0, 139, 139);\"></td><td title=\"Index: [7, 6]&#10;Color: (0, 139, 139)\" style=\"width: 10px; height: 10px;background-color: rgb(0, 139, 139);\"></td><td title=\"Index: [7, 7]&#10;Color: (0, 139, 139)\" style=\"width: 10px; height: 10px;background-color: rgb(0, 139, 139);\"></td><td title=\"Index: [7, 8]&#10;Color: (0, 139, 139)\" style=\"width: 10px; height: 10px;background-color: rgb(0, 139, 139);\"></td><td title=\"Index: [7, 9]&#10;Color: (0, 139, 139)\" style=\"width: 10px; height: 10px;background-color: rgb(0, 139, 139);\"></td><td title=\"Index: [7, 10]&#10;Color: (0, 139, 139)\" style=\"width: 10px; height: 10px;background-color: rgb(0, 139, 139);\"></td><td title=\"Index: [7, 11]&#10;Color: (0, 139, 139)\" style=\"width: 10px; height: 10px;background-color: rgb(0, 139, 139);\"></td><td title=\"Index: [7, 12]&#10;Color: (0, 139, 139)\" style=\"width: 10px; height: 10px;background-color: rgb(0, 139, 139);\"></td><td title=\"Index: [7, 13]&#10;Color: (0, 139, 139)\" style=\"width: 10px; height: 10px;background-color: rgb(0, 139, 139);\"></td><td title=\"Index: [7, 14]&#10;Color: (0, 139, 139)\" style=\"width: 10px; height: 10px;background-color: rgb(0, 139, 139);\"></td><td title=\"Index: [7, 15]&#10;Color: (0, 139, 139)\" style=\"width: 10px; height: 10px;background-color: rgb(0, 139, 139);\"></td><td title=\"Index: [7, 16]&#10;Color: (0, 139, 139)\" style=\"width: 10px; height: 10px;background-color: rgb(0, 139, 139);\"></td><td title=\"Index: [7, 17]&#10;Color: (0, 139, 139)\" style=\"width: 10px; height: 10px;background-color: rgb(0, 139, 139);\"></td><td title=\"Index: [7, 18]&#10;Color: (0, 139, 139)\" style=\"width: 10px; height: 10px;background-color: rgb(0, 139, 139);\"></td><td title=\"Index: [7, 19]&#10;Color: (0, 139, 139)\" style=\"width: 10px; height: 10px;background-color: rgb(0, 139, 139);\"></td></tr><tr><td title=\"Index: [8, 0]&#10;Color: (0, 139, 139)\" style=\"width: 10px; height: 10px;background-color: rgb(0, 139, 139);\"></td><td title=\"Index: [8, 1]&#10;Color: (0, 139, 139)\" style=\"width: 10px; height: 10px;background-color: rgb(0, 139, 139);\"></td><td title=\"Index: [8, 2]&#10;Color: (0, 139, 139)\" style=\"width: 10px; height: 10px;background-color: rgb(0, 139, 139);\"></td><td title=\"Index: [8, 3]&#10;Color: (0, 139, 139)\" style=\"width: 10px; height: 10px;background-color: rgb(0, 139, 139);\"></td><td title=\"Index: [8, 4]&#10;Color: (0, 139, 139)\" style=\"width: 10px; height: 10px;background-color: rgb(0, 139, 139);\"></td><td title=\"Index: [8, 5]&#10;Color: (0, 139, 139)\" style=\"width: 10px; height: 10px;background-color: rgb(0, 139, 139);\"></td><td title=\"Index: [8, 6]&#10;Color: (0, 139, 139)\" style=\"width: 10px; height: 10px;background-color: rgb(0, 139, 139);\"></td><td title=\"Index: [8, 7]&#10;Color: (0, 139, 139)\" style=\"width: 10px; height: 10px;background-color: rgb(0, 139, 139);\"></td><td title=\"Index: [8, 8]&#10;Color: (0, 139, 139)\" style=\"width: 10px; height: 10px;background-color: rgb(0, 139, 139);\"></td><td title=\"Index: [8, 9]&#10;Color: (0, 139, 139)\" style=\"width: 10px; height: 10px;background-color: rgb(0, 139, 139);\"></td><td title=\"Index: [8, 10]&#10;Color: (0, 139, 139)\" style=\"width: 10px; height: 10px;background-color: rgb(0, 139, 139);\"></td><td title=\"Index: [8, 11]&#10;Color: (0, 139, 139)\" style=\"width: 10px; height: 10px;background-color: rgb(0, 139, 139);\"></td><td title=\"Index: [8, 12]&#10;Color: (0, 139, 139)\" style=\"width: 10px; height: 10px;background-color: rgb(0, 139, 139);\"></td><td title=\"Index: [8, 13]&#10;Color: (0, 139, 139)\" style=\"width: 10px; height: 10px;background-color: rgb(0, 139, 139);\"></td><td title=\"Index: [8, 14]&#10;Color: (0, 139, 139)\" style=\"width: 10px; height: 10px;background-color: rgb(0, 139, 139);\"></td><td title=\"Index: [8, 15]&#10;Color: (0, 139, 139)\" style=\"width: 10px; height: 10px;background-color: rgb(0, 139, 139);\"></td><td title=\"Index: [8, 16]&#10;Color: (0, 139, 139)\" style=\"width: 10px; height: 10px;background-color: rgb(0, 139, 139);\"></td><td title=\"Index: [8, 17]&#10;Color: (0, 139, 139)\" style=\"width: 10px; height: 10px;background-color: rgb(0, 139, 139);\"></td><td title=\"Index: [8, 18]&#10;Color: (0, 139, 139)\" style=\"width: 10px; height: 10px;background-color: rgb(0, 139, 139);\"></td><td title=\"Index: [8, 19]&#10;Color: (0, 139, 139)\" style=\"width: 10px; height: 10px;background-color: rgb(0, 139, 139);\"></td></tr><tr><td title=\"Index: [9, 0]&#10;Color: (0, 139, 139)\" style=\"width: 10px; height: 10px;background-color: rgb(0, 139, 139);\"></td><td title=\"Index: [9, 1]&#10;Color: (0, 139, 139)\" style=\"width: 10px; height: 10px;background-color: rgb(0, 139, 139);\"></td><td title=\"Index: [9, 2]&#10;Color: (0, 139, 139)\" style=\"width: 10px; height: 10px;background-color: rgb(0, 139, 139);\"></td><td title=\"Index: [9, 3]&#10;Color: (0, 139, 139)\" style=\"width: 10px; height: 10px;background-color: rgb(0, 139, 139);\"></td><td title=\"Index: [9, 4]&#10;Color: (0, 139, 139)\" style=\"width: 10px; height: 10px;background-color: rgb(0, 139, 139);\"></td><td title=\"Index: [9, 5]&#10;Color: (0, 139, 139)\" style=\"width: 10px; height: 10px;background-color: rgb(0, 139, 139);\"></td><td title=\"Index: [9, 6]&#10;Color: (0, 139, 139)\" style=\"width: 10px; height: 10px;background-color: rgb(0, 139, 139);\"></td><td title=\"Index: [9, 7]&#10;Color: (0, 139, 139)\" style=\"width: 10px; height: 10px;background-color: rgb(0, 139, 139);\"></td><td title=\"Index: [9, 8]&#10;Color: (0, 139, 139)\" style=\"width: 10px; height: 10px;background-color: rgb(0, 139, 139);\"></td><td title=\"Index: [9, 9]&#10;Color: (0, 139, 139)\" style=\"width: 10px; height: 10px;background-color: rgb(0, 139, 139);\"></td><td title=\"Index: [9, 10]&#10;Color: (0, 139, 139)\" style=\"width: 10px; height: 10px;background-color: rgb(0, 139, 139);\"></td><td title=\"Index: [9, 11]&#10;Color: (0, 139, 139)\" style=\"width: 10px; height: 10px;background-color: rgb(0, 139, 139);\"></td><td title=\"Index: [9, 12]&#10;Color: (0, 139, 139)\" style=\"width: 10px; height: 10px;background-color: rgb(0, 139, 139);\"></td><td title=\"Index: [9, 13]&#10;Color: (0, 139, 139)\" style=\"width: 10px; height: 10px;background-color: rgb(0, 139, 139);\"></td><td title=\"Index: [9, 14]&#10;Color: (0, 139, 139)\" style=\"width: 10px; height: 10px;background-color: rgb(0, 139, 139);\"></td><td title=\"Index: [9, 15]&#10;Color: (0, 139, 139)\" style=\"width: 10px; height: 10px;background-color: rgb(0, 139, 139);\"></td><td title=\"Index: [9, 16]&#10;Color: (0, 139, 139)\" style=\"width: 10px; height: 10px;background-color: rgb(0, 139, 139);\"></td><td title=\"Index: [9, 17]&#10;Color: (0, 139, 139)\" style=\"width: 10px; height: 10px;background-color: rgb(0, 139, 139);\"></td><td title=\"Index: [9, 18]&#10;Color: (0, 139, 139)\" style=\"width: 10px; height: 10px;background-color: rgb(0, 139, 139);\"></td><td title=\"Index: [9, 19]&#10;Color: (0, 139, 139)\" style=\"width: 10px; height: 10px;background-color: rgb(0, 139, 139);\"></td></tr><tr><td title=\"Index: [10, 0]&#10;Color: (0, 139, 139)\" style=\"width: 10px; height: 10px;background-color: rgb(0, 139, 139);\"></td><td title=\"Index: [10, 1]&#10;Color: (0, 139, 139)\" style=\"width: 10px; height: 10px;background-color: rgb(0, 139, 139);\"></td><td title=\"Index: [10, 2]&#10;Color: (0, 139, 139)\" style=\"width: 10px; height: 10px;background-color: rgb(0, 139, 139);\"></td><td title=\"Index: [10, 3]&#10;Color: (0, 139, 139)\" style=\"width: 10px; height: 10px;background-color: rgb(0, 139, 139);\"></td><td title=\"Index: [10, 4]&#10;Color: (0, 139, 139)\" style=\"width: 10px; height: 10px;background-color: rgb(0, 139, 139);\"></td><td title=\"Index: [10, 5]&#10;Color: (0, 139, 139)\" style=\"width: 10px; height: 10px;background-color: rgb(0, 139, 139);\"></td><td title=\"Index: [10, 6]&#10;Color: (0, 139, 139)\" style=\"width: 10px; height: 10px;background-color: rgb(0, 139, 139);\"></td><td title=\"Index: [10, 7]&#10;Color: (0, 139, 139)\" style=\"width: 10px; height: 10px;background-color: rgb(0, 139, 139);\"></td><td title=\"Index: [10, 8]&#10;Color: (0, 139, 139)\" style=\"width: 10px; height: 10px;background-color: rgb(0, 139, 139);\"></td><td title=\"Index: [10, 9]&#10;Color: (0, 139, 139)\" style=\"width: 10px; height: 10px;background-color: rgb(0, 139, 139);\"></td><td title=\"Index: [10, 10]&#10;Color: (0, 139, 139)\" style=\"width: 10px; height: 10px;background-color: rgb(0, 139, 139);\"></td><td title=\"Index: [10, 11]&#10;Color: (0, 139, 139)\" style=\"width: 10px; height: 10px;background-color: rgb(0, 139, 139);\"></td><td title=\"Index: [10, 12]&#10;Color: (0, 139, 139)\" style=\"width: 10px; height: 10px;background-color: rgb(0, 139, 139);\"></td><td title=\"Index: [10, 13]&#10;Color: (0, 139, 139)\" style=\"width: 10px; height: 10px;background-color: rgb(0, 139, 139);\"></td><td title=\"Index: [10, 14]&#10;Color: (0, 139, 139)\" style=\"width: 10px; height: 10px;background-color: rgb(0, 139, 139);\"></td><td title=\"Index: [10, 15]&#10;Color: (0, 139, 139)\" style=\"width: 10px; height: 10px;background-color: rgb(0, 139, 139);\"></td><td title=\"Index: [10, 16]&#10;Color: (0, 139, 139)\" style=\"width: 10px; height: 10px;background-color: rgb(0, 139, 139);\"></td><td title=\"Index: [10, 17]&#10;Color: (0, 139, 139)\" style=\"width: 10px; height: 10px;background-color: rgb(0, 139, 139);\"></td><td title=\"Index: [10, 18]&#10;Color: (0, 139, 139)\" style=\"width: 10px; height: 10px;background-color: rgb(0, 139, 139);\"></td><td title=\"Index: [10, 19]&#10;Color: (0, 139, 139)\" style=\"width: 10px; height: 10px;background-color: rgb(0, 139, 139);\"></td></tr><tr><td title=\"Index: [11, 0]&#10;Color: (0, 139, 139)\" style=\"width: 10px; height: 10px;background-color: rgb(0, 139, 139);\"></td><td title=\"Index: [11, 1]&#10;Color: (0, 139, 139)\" style=\"width: 10px; height: 10px;background-color: rgb(0, 139, 139);\"></td><td title=\"Index: [11, 2]&#10;Color: (0, 139, 139)\" style=\"width: 10px; height: 10px;background-color: rgb(0, 139, 139);\"></td><td title=\"Index: [11, 3]&#10;Color: (0, 139, 139)\" style=\"width: 10px; height: 10px;background-color: rgb(0, 139, 139);\"></td><td title=\"Index: [11, 4]&#10;Color: (0, 139, 139)\" style=\"width: 10px; height: 10px;background-color: rgb(0, 139, 139);\"></td><td title=\"Index: [11, 5]&#10;Color: (0, 139, 139)\" style=\"width: 10px; height: 10px;background-color: rgb(0, 139, 139);\"></td><td title=\"Index: [11, 6]&#10;Color: (0, 139, 139)\" style=\"width: 10px; height: 10px;background-color: rgb(0, 139, 139);\"></td><td title=\"Index: [11, 7]&#10;Color: (0, 139, 139)\" style=\"width: 10px; height: 10px;background-color: rgb(0, 139, 139);\"></td><td title=\"Index: [11, 8]&#10;Color: (0, 139, 139)\" style=\"width: 10px; height: 10px;background-color: rgb(0, 139, 139);\"></td><td title=\"Index: [11, 9]&#10;Color: (0, 139, 139)\" style=\"width: 10px; height: 10px;background-color: rgb(0, 139, 139);\"></td><td title=\"Index: [11, 10]&#10;Color: (0, 139, 139)\" style=\"width: 10px; height: 10px;background-color: rgb(0, 139, 139);\"></td><td title=\"Index: [11, 11]&#10;Color: (0, 139, 139)\" style=\"width: 10px; height: 10px;background-color: rgb(0, 139, 139);\"></td><td title=\"Index: [11, 12]&#10;Color: (0, 139, 139)\" style=\"width: 10px; height: 10px;background-color: rgb(0, 139, 139);\"></td><td title=\"Index: [11, 13]&#10;Color: (0, 139, 139)\" style=\"width: 10px; height: 10px;background-color: rgb(0, 139, 139);\"></td><td title=\"Index: [11, 14]&#10;Color: (0, 139, 139)\" style=\"width: 10px; height: 10px;background-color: rgb(0, 139, 139);\"></td><td title=\"Index: [11, 15]&#10;Color: (0, 139, 139)\" style=\"width: 10px; height: 10px;background-color: rgb(0, 139, 139);\"></td><td title=\"Index: [11, 16]&#10;Color: (0, 139, 139)\" style=\"width: 10px; height: 10px;background-color: rgb(0, 139, 139);\"></td><td title=\"Index: [11, 17]&#10;Color: (0, 139, 139)\" style=\"width: 10px; height: 10px;background-color: rgb(0, 139, 139);\"></td><td title=\"Index: [11, 18]&#10;Color: (0, 139, 139)\" style=\"width: 10px; height: 10px;background-color: rgb(0, 139, 139);\"></td><td title=\"Index: [11, 19]&#10;Color: (0, 139, 139)\" style=\"width: 10px; height: 10px;background-color: rgb(0, 139, 139);\"></td></tr><tr><td title=\"Index: [12, 0]&#10;Color: (0, 139, 139)\" style=\"width: 10px; height: 10px;background-color: rgb(0, 139, 139);\"></td><td title=\"Index: [12, 1]&#10;Color: (0, 139, 139)\" style=\"width: 10px; height: 10px;background-color: rgb(0, 139, 139);\"></td><td title=\"Index: [12, 2]&#10;Color: (0, 139, 139)\" style=\"width: 10px; height: 10px;background-color: rgb(0, 139, 139);\"></td><td title=\"Index: [12, 3]&#10;Color: (0, 139, 139)\" style=\"width: 10px; height: 10px;background-color: rgb(0, 139, 139);\"></td><td title=\"Index: [12, 4]&#10;Color: (0, 139, 139)\" style=\"width: 10px; height: 10px;background-color: rgb(0, 139, 139);\"></td><td title=\"Index: [12, 5]&#10;Color: (0, 139, 139)\" style=\"width: 10px; height: 10px;background-color: rgb(0, 139, 139);\"></td><td title=\"Index: [12, 6]&#10;Color: (0, 139, 139)\" style=\"width: 10px; height: 10px;background-color: rgb(0, 139, 139);\"></td><td title=\"Index: [12, 7]&#10;Color: (0, 139, 139)\" style=\"width: 10px; height: 10px;background-color: rgb(0, 139, 139);\"></td><td title=\"Index: [12, 8]&#10;Color: (0, 139, 139)\" style=\"width: 10px; height: 10px;background-color: rgb(0, 139, 139);\"></td><td title=\"Index: [12, 9]&#10;Color: (0, 139, 139)\" style=\"width: 10px; height: 10px;background-color: rgb(0, 139, 139);\"></td><td title=\"Index: [12, 10]&#10;Color: (0, 139, 139)\" style=\"width: 10px; height: 10px;background-color: rgb(0, 139, 139);\"></td><td title=\"Index: [12, 11]&#10;Color: (0, 139, 139)\" style=\"width: 10px; height: 10px;background-color: rgb(0, 139, 139);\"></td><td title=\"Index: [12, 12]&#10;Color: (0, 139, 139)\" style=\"width: 10px; height: 10px;background-color: rgb(0, 139, 139);\"></td><td title=\"Index: [12, 13]&#10;Color: (0, 139, 139)\" style=\"width: 10px; height: 10px;background-color: rgb(0, 139, 139);\"></td><td title=\"Index: [12, 14]&#10;Color: (0, 139, 139)\" style=\"width: 10px; height: 10px;background-color: rgb(0, 139, 139);\"></td><td title=\"Index: [12, 15]&#10;Color: (0, 139, 139)\" style=\"width: 10px; height: 10px;background-color: rgb(0, 139, 139);\"></td><td title=\"Index: [12, 16]&#10;Color: (0, 139, 139)\" style=\"width: 10px; height: 10px;background-color: rgb(0, 139, 139);\"></td><td title=\"Index: [12, 17]&#10;Color: (0, 139, 139)\" style=\"width: 10px; height: 10px;background-color: rgb(0, 139, 139);\"></td><td title=\"Index: [12, 18]&#10;Color: (0, 139, 139)\" style=\"width: 10px; height: 10px;background-color: rgb(0, 139, 139);\"></td><td title=\"Index: [12, 19]&#10;Color: (0, 139, 139)\" style=\"width: 10px; height: 10px;background-color: rgb(0, 139, 139);\"></td></tr><tr><td title=\"Index: [13, 0]&#10;Color: (0, 139, 139)\" style=\"width: 10px; height: 10px;background-color: rgb(0, 139, 139);\"></td><td title=\"Index: [13, 1]&#10;Color: (0, 139, 139)\" style=\"width: 10px; height: 10px;background-color: rgb(0, 139, 139);\"></td><td title=\"Index: [13, 2]&#10;Color: (0, 139, 139)\" style=\"width: 10px; height: 10px;background-color: rgb(0, 139, 139);\"></td><td title=\"Index: [13, 3]&#10;Color: (0, 139, 139)\" style=\"width: 10px; height: 10px;background-color: rgb(0, 139, 139);\"></td><td title=\"Index: [13, 4]&#10;Color: (0, 139, 139)\" style=\"width: 10px; height: 10px;background-color: rgb(0, 139, 139);\"></td><td title=\"Index: [13, 5]&#10;Color: (0, 139, 139)\" style=\"width: 10px; height: 10px;background-color: rgb(0, 139, 139);\"></td><td title=\"Index: [13, 6]&#10;Color: (0, 139, 139)\" style=\"width: 10px; height: 10px;background-color: rgb(0, 139, 139);\"></td><td title=\"Index: [13, 7]&#10;Color: (0, 139, 139)\" style=\"width: 10px; height: 10px;background-color: rgb(0, 139, 139);\"></td><td title=\"Index: [13, 8]&#10;Color: (0, 139, 139)\" style=\"width: 10px; height: 10px;background-color: rgb(0, 139, 139);\"></td><td title=\"Index: [13, 9]&#10;Color: (0, 139, 139)\" style=\"width: 10px; height: 10px;background-color: rgb(0, 139, 139);\"></td><td title=\"Index: [13, 10]&#10;Color: (0, 139, 139)\" style=\"width: 10px; height: 10px;background-color: rgb(0, 139, 139);\"></td><td title=\"Index: [13, 11]&#10;Color: (0, 139, 139)\" style=\"width: 10px; height: 10px;background-color: rgb(0, 139, 139);\"></td><td title=\"Index: [13, 12]&#10;Color: (0, 139, 139)\" style=\"width: 10px; height: 10px;background-color: rgb(0, 139, 139);\"></td><td title=\"Index: [13, 13]&#10;Color: (0, 139, 139)\" style=\"width: 10px; height: 10px;background-color: rgb(0, 139, 139);\"></td><td title=\"Index: [13, 14]&#10;Color: (0, 139, 139)\" style=\"width: 10px; height: 10px;background-color: rgb(0, 139, 139);\"></td><td title=\"Index: [13, 15]&#10;Color: (0, 139, 139)\" style=\"width: 10px; height: 10px;background-color: rgb(0, 139, 139);\"></td><td title=\"Index: [13, 16]&#10;Color: (0, 139, 139)\" style=\"width: 10px; height: 10px;background-color: rgb(0, 139, 139);\"></td><td title=\"Index: [13, 17]&#10;Color: (0, 139, 139)\" style=\"width: 10px; height: 10px;background-color: rgb(0, 139, 139);\"></td><td title=\"Index: [13, 18]&#10;Color: (0, 139, 139)\" style=\"width: 10px; height: 10px;background-color: rgb(0, 139, 139);\"></td><td title=\"Index: [13, 19]&#10;Color: (0, 139, 139)\" style=\"width: 10px; height: 10px;background-color: rgb(0, 139, 139);\"></td></tr><tr><td title=\"Index: [14, 0]&#10;Color: (0, 139, 139)\" style=\"width: 10px; height: 10px;background-color: rgb(0, 139, 139);\"></td><td title=\"Index: [14, 1]&#10;Color: (0, 139, 139)\" style=\"width: 10px; height: 10px;background-color: rgb(0, 139, 139);\"></td><td title=\"Index: [14, 2]&#10;Color: (0, 139, 139)\" style=\"width: 10px; height: 10px;background-color: rgb(0, 139, 139);\"></td><td title=\"Index: [14, 3]&#10;Color: (0, 139, 139)\" style=\"width: 10px; height: 10px;background-color: rgb(0, 139, 139);\"></td><td title=\"Index: [14, 4]&#10;Color: (0, 139, 139)\" style=\"width: 10px; height: 10px;background-color: rgb(0, 139, 139);\"></td><td title=\"Index: [14, 5]&#10;Color: (0, 139, 139)\" style=\"width: 10px; height: 10px;background-color: rgb(0, 139, 139);\"></td><td title=\"Index: [14, 6]&#10;Color: (0, 139, 139)\" style=\"width: 10px; height: 10px;background-color: rgb(0, 139, 139);\"></td><td title=\"Index: [14, 7]&#10;Color: (0, 139, 139)\" style=\"width: 10px; height: 10px;background-color: rgb(0, 139, 139);\"></td><td title=\"Index: [14, 8]&#10;Color: (0, 139, 139)\" style=\"width: 10px; height: 10px;background-color: rgb(0, 139, 139);\"></td><td title=\"Index: [14, 9]&#10;Color: (0, 139, 139)\" style=\"width: 10px; height: 10px;background-color: rgb(0, 139, 139);\"></td><td title=\"Index: [14, 10]&#10;Color: (0, 139, 139)\" style=\"width: 10px; height: 10px;background-color: rgb(0, 139, 139);\"></td><td title=\"Index: [14, 11]&#10;Color: (0, 139, 139)\" style=\"width: 10px; height: 10px;background-color: rgb(0, 139, 139);\"></td><td title=\"Index: [14, 12]&#10;Color: (0, 139, 139)\" style=\"width: 10px; height: 10px;background-color: rgb(0, 139, 139);\"></td><td title=\"Index: [14, 13]&#10;Color: (0, 139, 139)\" style=\"width: 10px; height: 10px;background-color: rgb(0, 139, 139);\"></td><td title=\"Index: [14, 14]&#10;Color: (0, 139, 139)\" style=\"width: 10px; height: 10px;background-color: rgb(0, 139, 139);\"></td><td title=\"Index: [14, 15]&#10;Color: (0, 139, 139)\" style=\"width: 10px; height: 10px;background-color: rgb(0, 139, 139);\"></td><td title=\"Index: [14, 16]&#10;Color: (0, 139, 139)\" style=\"width: 10px; height: 10px;background-color: rgb(0, 139, 139);\"></td><td title=\"Index: [14, 17]&#10;Color: (0, 139, 139)\" style=\"width: 10px; height: 10px;background-color: rgb(0, 139, 139);\"></td><td title=\"Index: [14, 18]&#10;Color: (0, 139, 139)\" style=\"width: 10px; height: 10px;background-color: rgb(0, 139, 139);\"></td><td title=\"Index: [14, 19]&#10;Color: (0, 139, 139)\" style=\"width: 10px; height: 10px;background-color: rgb(0, 139, 139);\"></td></tr><tr><td title=\"Index: [15, 0]&#10;Color: (0, 139, 139)\" style=\"width: 10px; height: 10px;background-color: rgb(0, 139, 139);\"></td><td title=\"Index: [15, 1]&#10;Color: (0, 139, 139)\" style=\"width: 10px; height: 10px;background-color: rgb(0, 139, 139);\"></td><td title=\"Index: [15, 2]&#10;Color: (0, 139, 139)\" style=\"width: 10px; height: 10px;background-color: rgb(0, 139, 139);\"></td><td title=\"Index: [15, 3]&#10;Color: (0, 139, 139)\" style=\"width: 10px; height: 10px;background-color: rgb(0, 139, 139);\"></td><td title=\"Index: [15, 4]&#10;Color: (0, 139, 139)\" style=\"width: 10px; height: 10px;background-color: rgb(0, 139, 139);\"></td><td title=\"Index: [15, 5]&#10;Color: (0, 139, 139)\" style=\"width: 10px; height: 10px;background-color: rgb(0, 139, 139);\"></td><td title=\"Index: [15, 6]&#10;Color: (0, 139, 139)\" style=\"width: 10px; height: 10px;background-color: rgb(0, 139, 139);\"></td><td title=\"Index: [15, 7]&#10;Color: (0, 139, 139)\" style=\"width: 10px; height: 10px;background-color: rgb(0, 139, 139);\"></td><td title=\"Index: [15, 8]&#10;Color: (0, 139, 139)\" style=\"width: 10px; height: 10px;background-color: rgb(0, 139, 139);\"></td><td title=\"Index: [15, 9]&#10;Color: (0, 139, 139)\" style=\"width: 10px; height: 10px;background-color: rgb(0, 139, 139);\"></td><td title=\"Index: [15, 10]&#10;Color: (0, 139, 139)\" style=\"width: 10px; height: 10px;background-color: rgb(0, 139, 139);\"></td><td title=\"Index: [15, 11]&#10;Color: (0, 139, 139)\" style=\"width: 10px; height: 10px;background-color: rgb(0, 139, 139);\"></td><td title=\"Index: [15, 12]&#10;Color: (0, 139, 139)\" style=\"width: 10px; height: 10px;background-color: rgb(0, 139, 139);\"></td><td title=\"Index: [15, 13]&#10;Color: (0, 139, 139)\" style=\"width: 10px; height: 10px;background-color: rgb(0, 139, 139);\"></td><td title=\"Index: [15, 14]&#10;Color: (0, 139, 139)\" style=\"width: 10px; height: 10px;background-color: rgb(0, 139, 139);\"></td><td title=\"Index: [15, 15]&#10;Color: (0, 139, 139)\" style=\"width: 10px; height: 10px;background-color: rgb(0, 139, 139);\"></td><td title=\"Index: [15, 16]&#10;Color: (0, 139, 139)\" style=\"width: 10px; height: 10px;background-color: rgb(0, 139, 139);\"></td><td title=\"Index: [15, 17]&#10;Color: (0, 139, 139)\" style=\"width: 10px; height: 10px;background-color: rgb(0, 139, 139);\"></td><td title=\"Index: [15, 18]&#10;Color: (0, 139, 139)\" style=\"width: 10px; height: 10px;background-color: rgb(0, 139, 139);\"></td><td title=\"Index: [15, 19]&#10;Color: (0, 139, 139)\" style=\"width: 10px; height: 10px;background-color: rgb(0, 139, 139);\"></td></tr><tr><td title=\"Index: [16, 0]&#10;Color: (0, 139, 139)\" style=\"width: 10px; height: 10px;background-color: rgb(0, 139, 139);\"></td><td title=\"Index: [16, 1]&#10;Color: (0, 139, 139)\" style=\"width: 10px; height: 10px;background-color: rgb(0, 139, 139);\"></td><td title=\"Index: [16, 2]&#10;Color: (0, 139, 139)\" style=\"width: 10px; height: 10px;background-color: rgb(0, 139, 139);\"></td><td title=\"Index: [16, 3]&#10;Color: (0, 139, 139)\" style=\"width: 10px; height: 10px;background-color: rgb(0, 139, 139);\"></td><td title=\"Index: [16, 4]&#10;Color: (0, 139, 139)\" style=\"width: 10px; height: 10px;background-color: rgb(0, 139, 139);\"></td><td title=\"Index: [16, 5]&#10;Color: (0, 139, 139)\" style=\"width: 10px; height: 10px;background-color: rgb(0, 139, 139);\"></td><td title=\"Index: [16, 6]&#10;Color: (0, 139, 139)\" style=\"width: 10px; height: 10px;background-color: rgb(0, 139, 139);\"></td><td title=\"Index: [16, 7]&#10;Color: (0, 139, 139)\" style=\"width: 10px; height: 10px;background-color: rgb(0, 139, 139);\"></td><td title=\"Index: [16, 8]&#10;Color: (0, 139, 139)\" style=\"width: 10px; height: 10px;background-color: rgb(0, 139, 139);\"></td><td title=\"Index: [16, 9]&#10;Color: (0, 139, 139)\" style=\"width: 10px; height: 10px;background-color: rgb(0, 139, 139);\"></td><td title=\"Index: [16, 10]&#10;Color: (0, 139, 139)\" style=\"width: 10px; height: 10px;background-color: rgb(0, 139, 139);\"></td><td title=\"Index: [16, 11]&#10;Color: (0, 139, 139)\" style=\"width: 10px; height: 10px;background-color: rgb(0, 139, 139);\"></td><td title=\"Index: [16, 12]&#10;Color: (0, 139, 139)\" style=\"width: 10px; height: 10px;background-color: rgb(0, 139, 139);\"></td><td title=\"Index: [16, 13]&#10;Color: (0, 139, 139)\" style=\"width: 10px; height: 10px;background-color: rgb(0, 139, 139);\"></td><td title=\"Index: [16, 14]&#10;Color: (0, 139, 139)\" style=\"width: 10px; height: 10px;background-color: rgb(0, 139, 139);\"></td><td title=\"Index: [16, 15]&#10;Color: (0, 139, 139)\" style=\"width: 10px; height: 10px;background-color: rgb(0, 139, 139);\"></td><td title=\"Index: [16, 16]&#10;Color: (0, 139, 139)\" style=\"width: 10px; height: 10px;background-color: rgb(0, 139, 139);\"></td><td title=\"Index: [16, 17]&#10;Color: (0, 139, 139)\" style=\"width: 10px; height: 10px;background-color: rgb(0, 139, 139);\"></td><td title=\"Index: [16, 18]&#10;Color: (0, 139, 139)\" style=\"width: 10px; height: 10px;background-color: rgb(0, 139, 139);\"></td><td title=\"Index: [16, 19]&#10;Color: (0, 139, 139)\" style=\"width: 10px; height: 10px;background-color: rgb(0, 139, 139);\"></td></tr><tr><td title=\"Index: [17, 0]&#10;Color: (0, 139, 139)\" style=\"width: 10px; height: 10px;background-color: rgb(0, 139, 139);\"></td><td title=\"Index: [17, 1]&#10;Color: (0, 139, 139)\" style=\"width: 10px; height: 10px;background-color: rgb(0, 139, 139);\"></td><td title=\"Index: [17, 2]&#10;Color: (0, 139, 139)\" style=\"width: 10px; height: 10px;background-color: rgb(0, 139, 139);\"></td><td title=\"Index: [17, 3]&#10;Color: (0, 139, 139)\" style=\"width: 10px; height: 10px;background-color: rgb(0, 139, 139);\"></td><td title=\"Index: [17, 4]&#10;Color: (0, 139, 139)\" style=\"width: 10px; height: 10px;background-color: rgb(0, 139, 139);\"></td><td title=\"Index: [17, 5]&#10;Color: (0, 139, 139)\" style=\"width: 10px; height: 10px;background-color: rgb(0, 139, 139);\"></td><td title=\"Index: [17, 6]&#10;Color: (0, 139, 139)\" style=\"width: 10px; height: 10px;background-color: rgb(0, 139, 139);\"></td><td title=\"Index: [17, 7]&#10;Color: (0, 139, 139)\" style=\"width: 10px; height: 10px;background-color: rgb(0, 139, 139);\"></td><td title=\"Index: [17, 8]&#10;Color: (0, 139, 139)\" style=\"width: 10px; height: 10px;background-color: rgb(0, 139, 139);\"></td><td title=\"Index: [17, 9]&#10;Color: (0, 139, 139)\" style=\"width: 10px; height: 10px;background-color: rgb(0, 139, 139);\"></td><td title=\"Index: [17, 10]&#10;Color: (0, 139, 139)\" style=\"width: 10px; height: 10px;background-color: rgb(0, 139, 139);\"></td><td title=\"Index: [17, 11]&#10;Color: (0, 139, 139)\" style=\"width: 10px; height: 10px;background-color: rgb(0, 139, 139);\"></td><td title=\"Index: [17, 12]&#10;Color: (0, 139, 139)\" style=\"width: 10px; height: 10px;background-color: rgb(0, 139, 139);\"></td><td title=\"Index: [17, 13]&#10;Color: (0, 139, 139)\" style=\"width: 10px; height: 10px;background-color: rgb(0, 139, 139);\"></td><td title=\"Index: [17, 14]&#10;Color: (0, 139, 139)\" style=\"width: 10px; height: 10px;background-color: rgb(0, 139, 139);\"></td><td title=\"Index: [17, 15]&#10;Color: (0, 139, 139)\" style=\"width: 10px; height: 10px;background-color: rgb(0, 139, 139);\"></td><td title=\"Index: [17, 16]&#10;Color: (0, 139, 139)\" style=\"width: 10px; height: 10px;background-color: rgb(0, 139, 139);\"></td><td title=\"Index: [17, 17]&#10;Color: (0, 139, 139)\" style=\"width: 10px; height: 10px;background-color: rgb(0, 139, 139);\"></td><td title=\"Index: [17, 18]&#10;Color: (0, 139, 139)\" style=\"width: 10px; height: 10px;background-color: rgb(0, 139, 139);\"></td><td title=\"Index: [17, 19]&#10;Color: (0, 139, 139)\" style=\"width: 10px; height: 10px;background-color: rgb(0, 139, 139);\"></td></tr><tr><td title=\"Index: [18, 0]&#10;Color: (0, 139, 139)\" style=\"width: 10px; height: 10px;background-color: rgb(0, 139, 139);\"></td><td title=\"Index: [18, 1]&#10;Color: (0, 139, 139)\" style=\"width: 10px; height: 10px;background-color: rgb(0, 139, 139);\"></td><td title=\"Index: [18, 2]&#10;Color: (0, 139, 139)\" style=\"width: 10px; height: 10px;background-color: rgb(0, 139, 139);\"></td><td title=\"Index: [18, 3]&#10;Color: (0, 139, 139)\" style=\"width: 10px; height: 10px;background-color: rgb(0, 139, 139);\"></td><td title=\"Index: [18, 4]&#10;Color: (0, 139, 139)\" style=\"width: 10px; height: 10px;background-color: rgb(0, 139, 139);\"></td><td title=\"Index: [18, 5]&#10;Color: (0, 139, 139)\" style=\"width: 10px; height: 10px;background-color: rgb(0, 139, 139);\"></td><td title=\"Index: [18, 6]&#10;Color: (0, 139, 139)\" style=\"width: 10px; height: 10px;background-color: rgb(0, 139, 139);\"></td><td title=\"Index: [18, 7]&#10;Color: (0, 139, 139)\" style=\"width: 10px; height: 10px;background-color: rgb(0, 139, 139);\"></td><td title=\"Index: [18, 8]&#10;Color: (0, 139, 139)\" style=\"width: 10px; height: 10px;background-color: rgb(0, 139, 139);\"></td><td title=\"Index: [18, 9]&#10;Color: (0, 139, 139)\" style=\"width: 10px; height: 10px;background-color: rgb(0, 139, 139);\"></td><td title=\"Index: [18, 10]&#10;Color: (0, 139, 139)\" style=\"width: 10px; height: 10px;background-color: rgb(0, 139, 139);\"></td><td title=\"Index: [18, 11]&#10;Color: (0, 139, 139)\" style=\"width: 10px; height: 10px;background-color: rgb(0, 139, 139);\"></td><td title=\"Index: [18, 12]&#10;Color: (0, 139, 139)\" style=\"width: 10px; height: 10px;background-color: rgb(0, 139, 139);\"></td><td title=\"Index: [18, 13]&#10;Color: (0, 139, 139)\" style=\"width: 10px; height: 10px;background-color: rgb(0, 139, 139);\"></td><td title=\"Index: [18, 14]&#10;Color: (0, 139, 139)\" style=\"width: 10px; height: 10px;background-color: rgb(0, 139, 139);\"></td><td title=\"Index: [18, 15]&#10;Color: (0, 139, 139)\" style=\"width: 10px; height: 10px;background-color: rgb(0, 139, 139);\"></td><td title=\"Index: [18, 16]&#10;Color: (0, 139, 139)\" style=\"width: 10px; height: 10px;background-color: rgb(0, 139, 139);\"></td><td title=\"Index: [18, 17]&#10;Color: (0, 139, 139)\" style=\"width: 10px; height: 10px;background-color: rgb(0, 139, 139);\"></td><td title=\"Index: [18, 18]&#10;Color: (0, 139, 139)\" style=\"width: 10px; height: 10px;background-color: rgb(0, 139, 139);\"></td><td title=\"Index: [18, 19]&#10;Color: (0, 139, 139)\" style=\"width: 10px; height: 10px;background-color: rgb(0, 139, 139);\"></td></tr><tr><td title=\"Index: [19, 0]&#10;Color: (0, 139, 139)\" style=\"width: 10px; height: 10px;background-color: rgb(0, 139, 139);\"></td><td title=\"Index: [19, 1]&#10;Color: (0, 139, 139)\" style=\"width: 10px; height: 10px;background-color: rgb(0, 139, 139);\"></td><td title=\"Index: [19, 2]&#10;Color: (0, 139, 139)\" style=\"width: 10px; height: 10px;background-color: rgb(0, 139, 139);\"></td><td title=\"Index: [19, 3]&#10;Color: (0, 139, 139)\" style=\"width: 10px; height: 10px;background-color: rgb(0, 139, 139);\"></td><td title=\"Index: [19, 4]&#10;Color: (0, 139, 139)\" style=\"width: 10px; height: 10px;background-color: rgb(0, 139, 139);\"></td><td title=\"Index: [19, 5]&#10;Color: (0, 139, 139)\" style=\"width: 10px; height: 10px;background-color: rgb(0, 139, 139);\"></td><td title=\"Index: [19, 6]&#10;Color: (0, 139, 139)\" style=\"width: 10px; height: 10px;background-color: rgb(0, 139, 139);\"></td><td title=\"Index: [19, 7]&#10;Color: (0, 139, 139)\" style=\"width: 10px; height: 10px;background-color: rgb(0, 139, 139);\"></td><td title=\"Index: [19, 8]&#10;Color: (0, 139, 139)\" style=\"width: 10px; height: 10px;background-color: rgb(0, 139, 139);\"></td><td title=\"Index: [19, 9]&#10;Color: (0, 139, 139)\" style=\"width: 10px; height: 10px;background-color: rgb(0, 139, 139);\"></td><td title=\"Index: [19, 10]&#10;Color: (0, 139, 139)\" style=\"width: 10px; height: 10px;background-color: rgb(0, 139, 139);\"></td><td title=\"Index: [19, 11]&#10;Color: (0, 139, 139)\" style=\"width: 10px; height: 10px;background-color: rgb(0, 139, 139);\"></td><td title=\"Index: [19, 12]&#10;Color: (0, 139, 139)\" style=\"width: 10px; height: 10px;background-color: rgb(0, 139, 139);\"></td><td title=\"Index: [19, 13]&#10;Color: (0, 139, 139)\" style=\"width: 10px; height: 10px;background-color: rgb(0, 139, 139);\"></td><td title=\"Index: [19, 14]&#10;Color: (0, 139, 139)\" style=\"width: 10px; height: 10px;background-color: rgb(0, 139, 139);\"></td><td title=\"Index: [19, 15]&#10;Color: (0, 139, 139)\" style=\"width: 10px; height: 10px;background-color: rgb(0, 139, 139);\"></td><td title=\"Index: [19, 16]&#10;Color: (0, 139, 139)\" style=\"width: 10px; height: 10px;background-color: rgb(0, 139, 139);\"></td><td title=\"Index: [19, 17]&#10;Color: (0, 139, 139)\" style=\"width: 10px; height: 10px;background-color: rgb(0, 139, 139);\"></td><td title=\"Index: [19, 18]&#10;Color: (0, 139, 139)\" style=\"width: 10px; height: 10px;background-color: rgb(0, 139, 139);\"></td><td title=\"Index: [19, 19]&#10;Color: (0, 139, 139)\" style=\"width: 10px; height: 10px;background-color: rgb(0, 139, 139);\"></td></tr></tbody></table>"
      ],
      "text/plain": [
       "<ipythonblocks.BlockGrid at 0x2a545b99d68>"
      ]
     },
     "execution_count": 4,
     "metadata": {},
     "output_type": "execute_result"
    }
   ],
   "source": [
    "grid20 = BlockGrid(\n",
    "    width=20, height=20, fill=colors.DarkCyan, block_size=10\n",
    ")\n",
    "grid20"
   ]
  },
  {
   "cell_type": "code",
   "execution_count": 27,
   "metadata": {},
   "outputs": [
    {
     "data": {
      "text/html": [
       "<style type=\"text/css\">table.blockgrid {border: none;} .blockgrid tr {border: none;} .blockgrid td {padding: 0px;} #blocksf07b9b3e-c5da-4cef-890b-a0ed87f53e65 td {border: 1px solid white;}</style><table id=\"blocksf07b9b3e-c5da-4cef-890b-a0ed87f53e65\" class=\"blockgrid\"><tbody><tr><td title=\"Index: [0, 0]&#10;Color: (0, 139, 139)\" style=\"width: 10px; height: 10px;background-color: rgb(0, 139, 139);\"></td><td title=\"Index: [0, 1]&#10;Color: (0, 139, 139)\" style=\"width: 10px; height: 10px;background-color: rgb(0, 139, 139);\"></td><td title=\"Index: [0, 2]&#10;Color: (0, 139, 139)\" style=\"width: 10px; height: 10px;background-color: rgb(0, 139, 139);\"></td><td title=\"Index: [0, 3]&#10;Color: (0, 139, 139)\" style=\"width: 10px; height: 10px;background-color: rgb(0, 139, 139);\"></td><td title=\"Index: [0, 4]&#10;Color: (0, 139, 139)\" style=\"width: 10px; height: 10px;background-color: rgb(0, 139, 139);\"></td><td title=\"Index: [0, 5]&#10;Color: (0, 139, 139)\" style=\"width: 10px; height: 10px;background-color: rgb(0, 139, 139);\"></td><td title=\"Index: [0, 6]&#10;Color: (0, 139, 139)\" style=\"width: 10px; height: 10px;background-color: rgb(0, 139, 139);\"></td><td title=\"Index: [0, 7]&#10;Color: (0, 139, 139)\" style=\"width: 10px; height: 10px;background-color: rgb(0, 139, 139);\"></td><td title=\"Index: [0, 8]&#10;Color: (0, 139, 139)\" style=\"width: 10px; height: 10px;background-color: rgb(0, 139, 139);\"></td><td title=\"Index: [0, 9]&#10;Color: (0, 139, 139)\" style=\"width: 10px; height: 10px;background-color: rgb(0, 139, 139);\"></td><td title=\"Index: [0, 10]&#10;Color: (0, 139, 139)\" style=\"width: 10px; height: 10px;background-color: rgb(0, 139, 139);\"></td><td title=\"Index: [0, 11]&#10;Color: (0, 139, 139)\" style=\"width: 10px; height: 10px;background-color: rgb(0, 139, 139);\"></td><td title=\"Index: [0, 12]&#10;Color: (0, 139, 139)\" style=\"width: 10px; height: 10px;background-color: rgb(0, 139, 139);\"></td><td title=\"Index: [0, 13]&#10;Color: (0, 139, 139)\" style=\"width: 10px; height: 10px;background-color: rgb(0, 139, 139);\"></td><td title=\"Index: [0, 14]&#10;Color: (0, 139, 139)\" style=\"width: 10px; height: 10px;background-color: rgb(0, 139, 139);\"></td><td title=\"Index: [0, 15]&#10;Color: (0, 139, 139)\" style=\"width: 10px; height: 10px;background-color: rgb(0, 139, 139);\"></td><td title=\"Index: [0, 16]&#10;Color: (0, 139, 139)\" style=\"width: 10px; height: 10px;background-color: rgb(0, 139, 139);\"></td><td title=\"Index: [0, 17]&#10;Color: (0, 139, 139)\" style=\"width: 10px; height: 10px;background-color: rgb(0, 139, 139);\"></td><td title=\"Index: [0, 18]&#10;Color: (0, 139, 139)\" style=\"width: 10px; height: 10px;background-color: rgb(0, 139, 139);\"></td><td title=\"Index: [0, 19]&#10;Color: (0, 139, 139)\" style=\"width: 10px; height: 10px;background-color: rgb(0, 139, 139);\"></td></tr><tr><td title=\"Index: [1, 0]&#10;Color: (0, 139, 139)\" style=\"width: 10px; height: 10px;background-color: rgb(0, 139, 139);\"></td><td title=\"Index: [1, 1]&#10;Color: (0, 139, 139)\" style=\"width: 10px; height: 10px;background-color: rgb(0, 139, 139);\"></td><td title=\"Index: [1, 2]&#10;Color: (0, 139, 139)\" style=\"width: 10px; height: 10px;background-color: rgb(0, 139, 139);\"></td><td title=\"Index: [1, 3]&#10;Color: (0, 139, 139)\" style=\"width: 10px; height: 10px;background-color: rgb(0, 139, 139);\"></td><td title=\"Index: [1, 4]&#10;Color: (0, 139, 139)\" style=\"width: 10px; height: 10px;background-color: rgb(0, 139, 139);\"></td><td title=\"Index: [1, 5]&#10;Color: (0, 139, 139)\" style=\"width: 10px; height: 10px;background-color: rgb(0, 139, 139);\"></td><td title=\"Index: [1, 6]&#10;Color: (0, 139, 139)\" style=\"width: 10px; height: 10px;background-color: rgb(0, 139, 139);\"></td><td title=\"Index: [1, 7]&#10;Color: (0, 139, 139)\" style=\"width: 10px; height: 10px;background-color: rgb(0, 139, 139);\"></td><td title=\"Index: [1, 8]&#10;Color: (0, 139, 139)\" style=\"width: 10px; height: 10px;background-color: rgb(0, 139, 139);\"></td><td title=\"Index: [1, 9]&#10;Color: (0, 139, 139)\" style=\"width: 10px; height: 10px;background-color: rgb(0, 139, 139);\"></td><td title=\"Index: [1, 10]&#10;Color: (0, 139, 139)\" style=\"width: 10px; height: 10px;background-color: rgb(0, 139, 139);\"></td><td title=\"Index: [1, 11]&#10;Color: (0, 139, 139)\" style=\"width: 10px; height: 10px;background-color: rgb(0, 139, 139);\"></td><td title=\"Index: [1, 12]&#10;Color: (0, 139, 139)\" style=\"width: 10px; height: 10px;background-color: rgb(0, 139, 139);\"></td><td title=\"Index: [1, 13]&#10;Color: (0, 139, 139)\" style=\"width: 10px; height: 10px;background-color: rgb(0, 139, 139);\"></td><td title=\"Index: [1, 14]&#10;Color: (0, 139, 139)\" style=\"width: 10px; height: 10px;background-color: rgb(0, 139, 139);\"></td><td title=\"Index: [1, 15]&#10;Color: (0, 139, 139)\" style=\"width: 10px; height: 10px;background-color: rgb(0, 139, 139);\"></td><td title=\"Index: [1, 16]&#10;Color: (0, 139, 139)\" style=\"width: 10px; height: 10px;background-color: rgb(0, 139, 139);\"></td><td title=\"Index: [1, 17]&#10;Color: (0, 139, 139)\" style=\"width: 10px; height: 10px;background-color: rgb(0, 139, 139);\"></td><td title=\"Index: [1, 18]&#10;Color: (0, 139, 139)\" style=\"width: 10px; height: 10px;background-color: rgb(0, 139, 139);\"></td><td title=\"Index: [1, 19]&#10;Color: (0, 139, 139)\" style=\"width: 10px; height: 10px;background-color: rgb(0, 139, 139);\"></td></tr><tr><td title=\"Index: [2, 0]&#10;Color: (0, 0, 0)\" style=\"width: 10px; height: 10px;background-color: rgb(0, 0, 0);\"></td><td title=\"Index: [2, 1]&#10;Color: (0, 0, 0)\" style=\"width: 10px; height: 10px;background-color: rgb(0, 0, 0);\"></td><td title=\"Index: [2, 2]&#10;Color: (0, 0, 0)\" style=\"width: 10px; height: 10px;background-color: rgb(0, 0, 0);\"></td><td title=\"Index: [2, 3]&#10;Color: (0, 0, 0)\" style=\"width: 10px; height: 10px;background-color: rgb(0, 0, 0);\"></td><td title=\"Index: [2, 4]&#10;Color: (0, 0, 0)\" style=\"width: 10px; height: 10px;background-color: rgb(0, 0, 0);\"></td><td title=\"Index: [2, 5]&#10;Color: (0, 0, 0)\" style=\"width: 10px; height: 10px;background-color: rgb(0, 0, 0);\"></td><td title=\"Index: [2, 6]&#10;Color: (0, 0, 0)\" style=\"width: 10px; height: 10px;background-color: rgb(0, 0, 0);\"></td><td title=\"Index: [2, 7]&#10;Color: (0, 0, 0)\" style=\"width: 10px; height: 10px;background-color: rgb(0, 0, 0);\"></td><td title=\"Index: [2, 8]&#10;Color: (0, 0, 0)\" style=\"width: 10px; height: 10px;background-color: rgb(0, 0, 0);\"></td><td title=\"Index: [2, 9]&#10;Color: (0, 0, 0)\" style=\"width: 10px; height: 10px;background-color: rgb(0, 0, 0);\"></td><td title=\"Index: [2, 10]&#10;Color: (0, 0, 0)\" style=\"width: 10px; height: 10px;background-color: rgb(0, 0, 0);\"></td><td title=\"Index: [2, 11]&#10;Color: (0, 0, 0)\" style=\"width: 10px; height: 10px;background-color: rgb(0, 0, 0);\"></td><td title=\"Index: [2, 12]&#10;Color: (0, 0, 0)\" style=\"width: 10px; height: 10px;background-color: rgb(0, 0, 0);\"></td><td title=\"Index: [2, 13]&#10;Color: (0, 0, 0)\" style=\"width: 10px; height: 10px;background-color: rgb(0, 0, 0);\"></td><td title=\"Index: [2, 14]&#10;Color: (0, 0, 0)\" style=\"width: 10px; height: 10px;background-color: rgb(0, 0, 0);\"></td><td title=\"Index: [2, 15]&#10;Color: (0, 0, 0)\" style=\"width: 10px; height: 10px;background-color: rgb(0, 0, 0);\"></td><td title=\"Index: [2, 16]&#10;Color: (0, 0, 0)\" style=\"width: 10px; height: 10px;background-color: rgb(0, 0, 0);\"></td><td title=\"Index: [2, 17]&#10;Color: (0, 0, 0)\" style=\"width: 10px; height: 10px;background-color: rgb(0, 0, 0);\"></td><td title=\"Index: [2, 18]&#10;Color: (0, 0, 0)\" style=\"width: 10px; height: 10px;background-color: rgb(0, 0, 0);\"></td><td title=\"Index: [2, 19]&#10;Color: (0, 0, 0)\" style=\"width: 10px; height: 10px;background-color: rgb(0, 0, 0);\"></td></tr><tr><td title=\"Index: [3, 0]&#10;Color: (0, 139, 139)\" style=\"width: 10px; height: 10px;background-color: rgb(0, 139, 139);\"></td><td title=\"Index: [3, 1]&#10;Color: (0, 139, 139)\" style=\"width: 10px; height: 10px;background-color: rgb(0, 139, 139);\"></td><td title=\"Index: [3, 2]&#10;Color: (0, 139, 139)\" style=\"width: 10px; height: 10px;background-color: rgb(0, 139, 139);\"></td><td title=\"Index: [3, 3]&#10;Color: (0, 139, 139)\" style=\"width: 10px; height: 10px;background-color: rgb(0, 139, 139);\"></td><td title=\"Index: [3, 4]&#10;Color: (0, 139, 139)\" style=\"width: 10px; height: 10px;background-color: rgb(0, 139, 139);\"></td><td title=\"Index: [3, 5]&#10;Color: (0, 139, 139)\" style=\"width: 10px; height: 10px;background-color: rgb(0, 139, 139);\"></td><td title=\"Index: [3, 6]&#10;Color: (0, 139, 139)\" style=\"width: 10px; height: 10px;background-color: rgb(0, 139, 139);\"></td><td title=\"Index: [3, 7]&#10;Color: (0, 139, 139)\" style=\"width: 10px; height: 10px;background-color: rgb(0, 139, 139);\"></td><td title=\"Index: [3, 8]&#10;Color: (0, 139, 139)\" style=\"width: 10px; height: 10px;background-color: rgb(0, 139, 139);\"></td><td title=\"Index: [3, 9]&#10;Color: (0, 139, 139)\" style=\"width: 10px; height: 10px;background-color: rgb(0, 139, 139);\"></td><td title=\"Index: [3, 10]&#10;Color: (0, 139, 139)\" style=\"width: 10px; height: 10px;background-color: rgb(0, 139, 139);\"></td><td title=\"Index: [3, 11]&#10;Color: (0, 139, 139)\" style=\"width: 10px; height: 10px;background-color: rgb(0, 139, 139);\"></td><td title=\"Index: [3, 12]&#10;Color: (0, 139, 139)\" style=\"width: 10px; height: 10px;background-color: rgb(0, 139, 139);\"></td><td title=\"Index: [3, 13]&#10;Color: (0, 139, 139)\" style=\"width: 10px; height: 10px;background-color: rgb(0, 139, 139);\"></td><td title=\"Index: [3, 14]&#10;Color: (0, 139, 139)\" style=\"width: 10px; height: 10px;background-color: rgb(0, 139, 139);\"></td><td title=\"Index: [3, 15]&#10;Color: (0, 139, 139)\" style=\"width: 10px; height: 10px;background-color: rgb(0, 139, 139);\"></td><td title=\"Index: [3, 16]&#10;Color: (0, 139, 139)\" style=\"width: 10px; height: 10px;background-color: rgb(0, 139, 139);\"></td><td title=\"Index: [3, 17]&#10;Color: (0, 139, 139)\" style=\"width: 10px; height: 10px;background-color: rgb(0, 139, 139);\"></td><td title=\"Index: [3, 18]&#10;Color: (0, 139, 139)\" style=\"width: 10px; height: 10px;background-color: rgb(0, 139, 139);\"></td><td title=\"Index: [3, 19]&#10;Color: (0, 139, 139)\" style=\"width: 10px; height: 10px;background-color: rgb(0, 139, 139);\"></td></tr><tr><td title=\"Index: [4, 0]&#10;Color: (0, 139, 139)\" style=\"width: 10px; height: 10px;background-color: rgb(0, 139, 139);\"></td><td title=\"Index: [4, 1]&#10;Color: (0, 139, 139)\" style=\"width: 10px; height: 10px;background-color: rgb(0, 139, 139);\"></td><td title=\"Index: [4, 2]&#10;Color: (0, 139, 139)\" style=\"width: 10px; height: 10px;background-color: rgb(0, 139, 139);\"></td><td title=\"Index: [4, 3]&#10;Color: (0, 139, 139)\" style=\"width: 10px; height: 10px;background-color: rgb(0, 139, 139);\"></td><td title=\"Index: [4, 4]&#10;Color: (0, 139, 139)\" style=\"width: 10px; height: 10px;background-color: rgb(0, 139, 139);\"></td><td title=\"Index: [4, 5]&#10;Color: (0, 139, 139)\" style=\"width: 10px; height: 10px;background-color: rgb(0, 139, 139);\"></td><td title=\"Index: [4, 6]&#10;Color: (0, 139, 139)\" style=\"width: 10px; height: 10px;background-color: rgb(0, 139, 139);\"></td><td title=\"Index: [4, 7]&#10;Color: (0, 139, 139)\" style=\"width: 10px; height: 10px;background-color: rgb(0, 139, 139);\"></td><td title=\"Index: [4, 8]&#10;Color: (0, 139, 139)\" style=\"width: 10px; height: 10px;background-color: rgb(0, 139, 139);\"></td><td title=\"Index: [4, 9]&#10;Color: (0, 139, 139)\" style=\"width: 10px; height: 10px;background-color: rgb(0, 139, 139);\"></td><td title=\"Index: [4, 10]&#10;Color: (0, 139, 139)\" style=\"width: 10px; height: 10px;background-color: rgb(0, 139, 139);\"></td><td title=\"Index: [4, 11]&#10;Color: (0, 139, 139)\" style=\"width: 10px; height: 10px;background-color: rgb(0, 139, 139);\"></td><td title=\"Index: [4, 12]&#10;Color: (0, 139, 139)\" style=\"width: 10px; height: 10px;background-color: rgb(0, 139, 139);\"></td><td title=\"Index: [4, 13]&#10;Color: (0, 139, 139)\" style=\"width: 10px; height: 10px;background-color: rgb(0, 139, 139);\"></td><td title=\"Index: [4, 14]&#10;Color: (0, 139, 139)\" style=\"width: 10px; height: 10px;background-color: rgb(0, 139, 139);\"></td><td title=\"Index: [4, 15]&#10;Color: (0, 139, 139)\" style=\"width: 10px; height: 10px;background-color: rgb(0, 139, 139);\"></td><td title=\"Index: [4, 16]&#10;Color: (0, 139, 139)\" style=\"width: 10px; height: 10px;background-color: rgb(0, 139, 139);\"></td><td title=\"Index: [4, 17]&#10;Color: (0, 139, 139)\" style=\"width: 10px; height: 10px;background-color: rgb(0, 139, 139);\"></td><td title=\"Index: [4, 18]&#10;Color: (0, 139, 139)\" style=\"width: 10px; height: 10px;background-color: rgb(0, 139, 139);\"></td><td title=\"Index: [4, 19]&#10;Color: (0, 139, 139)\" style=\"width: 10px; height: 10px;background-color: rgb(0, 139, 139);\"></td></tr><tr><td title=\"Index: [5, 0]&#10;Color: (0, 139, 139)\" style=\"width: 10px; height: 10px;background-color: rgb(0, 139, 139);\"></td><td title=\"Index: [5, 1]&#10;Color: (0, 139, 139)\" style=\"width: 10px; height: 10px;background-color: rgb(0, 139, 139);\"></td><td title=\"Index: [5, 2]&#10;Color: (0, 139, 139)\" style=\"width: 10px; height: 10px;background-color: rgb(0, 139, 139);\"></td><td title=\"Index: [5, 3]&#10;Color: (0, 139, 139)\" style=\"width: 10px; height: 10px;background-color: rgb(0, 139, 139);\"></td><td title=\"Index: [5, 4]&#10;Color: (0, 139, 139)\" style=\"width: 10px; height: 10px;background-color: rgb(0, 139, 139);\"></td><td title=\"Index: [5, 5]&#10;Color: (0, 139, 139)\" style=\"width: 10px; height: 10px;background-color: rgb(0, 139, 139);\"></td><td title=\"Index: [5, 6]&#10;Color: (0, 139, 139)\" style=\"width: 10px; height: 10px;background-color: rgb(0, 139, 139);\"></td><td title=\"Index: [5, 7]&#10;Color: (0, 139, 139)\" style=\"width: 10px; height: 10px;background-color: rgb(0, 139, 139);\"></td><td title=\"Index: [5, 8]&#10;Color: (0, 139, 139)\" style=\"width: 10px; height: 10px;background-color: rgb(0, 139, 139);\"></td><td title=\"Index: [5, 9]&#10;Color: (0, 139, 139)\" style=\"width: 10px; height: 10px;background-color: rgb(0, 139, 139);\"></td><td title=\"Index: [5, 10]&#10;Color: (0, 139, 139)\" style=\"width: 10px; height: 10px;background-color: rgb(0, 139, 139);\"></td><td title=\"Index: [5, 11]&#10;Color: (0, 139, 139)\" style=\"width: 10px; height: 10px;background-color: rgb(0, 139, 139);\"></td><td title=\"Index: [5, 12]&#10;Color: (0, 139, 139)\" style=\"width: 10px; height: 10px;background-color: rgb(0, 139, 139);\"></td><td title=\"Index: [5, 13]&#10;Color: (0, 139, 139)\" style=\"width: 10px; height: 10px;background-color: rgb(0, 139, 139);\"></td><td title=\"Index: [5, 14]&#10;Color: (0, 139, 139)\" style=\"width: 10px; height: 10px;background-color: rgb(0, 139, 139);\"></td><td title=\"Index: [5, 15]&#10;Color: (0, 139, 139)\" style=\"width: 10px; height: 10px;background-color: rgb(0, 139, 139);\"></td><td title=\"Index: [5, 16]&#10;Color: (0, 139, 139)\" style=\"width: 10px; height: 10px;background-color: rgb(0, 139, 139);\"></td><td title=\"Index: [5, 17]&#10;Color: (0, 139, 139)\" style=\"width: 10px; height: 10px;background-color: rgb(0, 139, 139);\"></td><td title=\"Index: [5, 18]&#10;Color: (0, 139, 139)\" style=\"width: 10px; height: 10px;background-color: rgb(0, 139, 139);\"></td><td title=\"Index: [5, 19]&#10;Color: (0, 139, 139)\" style=\"width: 10px; height: 10px;background-color: rgb(0, 139, 139);\"></td></tr><tr><td title=\"Index: [6, 0]&#10;Color: (0, 139, 139)\" style=\"width: 10px; height: 10px;background-color: rgb(0, 139, 139);\"></td><td title=\"Index: [6, 1]&#10;Color: (0, 139, 139)\" style=\"width: 10px; height: 10px;background-color: rgb(0, 139, 139);\"></td><td title=\"Index: [6, 2]&#10;Color: (0, 139, 139)\" style=\"width: 10px; height: 10px;background-color: rgb(0, 139, 139);\"></td><td title=\"Index: [6, 3]&#10;Color: (0, 139, 139)\" style=\"width: 10px; height: 10px;background-color: rgb(0, 139, 139);\"></td><td title=\"Index: [6, 4]&#10;Color: (0, 139, 139)\" style=\"width: 10px; height: 10px;background-color: rgb(0, 139, 139);\"></td><td title=\"Index: [6, 5]&#10;Color: (0, 139, 139)\" style=\"width: 10px; height: 10px;background-color: rgb(0, 139, 139);\"></td><td title=\"Index: [6, 6]&#10;Color: (0, 139, 139)\" style=\"width: 10px; height: 10px;background-color: rgb(0, 139, 139);\"></td><td title=\"Index: [6, 7]&#10;Color: (0, 139, 139)\" style=\"width: 10px; height: 10px;background-color: rgb(0, 139, 139);\"></td><td title=\"Index: [6, 8]&#10;Color: (0, 139, 139)\" style=\"width: 10px; height: 10px;background-color: rgb(0, 139, 139);\"></td><td title=\"Index: [6, 9]&#10;Color: (0, 139, 139)\" style=\"width: 10px; height: 10px;background-color: rgb(0, 139, 139);\"></td><td title=\"Index: [6, 10]&#10;Color: (0, 139, 139)\" style=\"width: 10px; height: 10px;background-color: rgb(0, 139, 139);\"></td><td title=\"Index: [6, 11]&#10;Color: (0, 139, 139)\" style=\"width: 10px; height: 10px;background-color: rgb(0, 139, 139);\"></td><td title=\"Index: [6, 12]&#10;Color: (0, 139, 139)\" style=\"width: 10px; height: 10px;background-color: rgb(0, 139, 139);\"></td><td title=\"Index: [6, 13]&#10;Color: (0, 139, 139)\" style=\"width: 10px; height: 10px;background-color: rgb(0, 139, 139);\"></td><td title=\"Index: [6, 14]&#10;Color: (0, 139, 139)\" style=\"width: 10px; height: 10px;background-color: rgb(0, 139, 139);\"></td><td title=\"Index: [6, 15]&#10;Color: (0, 139, 139)\" style=\"width: 10px; height: 10px;background-color: rgb(0, 139, 139);\"></td><td title=\"Index: [6, 16]&#10;Color: (0, 139, 139)\" style=\"width: 10px; height: 10px;background-color: rgb(0, 139, 139);\"></td><td title=\"Index: [6, 17]&#10;Color: (0, 139, 139)\" style=\"width: 10px; height: 10px;background-color: rgb(0, 139, 139);\"></td><td title=\"Index: [6, 18]&#10;Color: (0, 139, 139)\" style=\"width: 10px; height: 10px;background-color: rgb(0, 139, 139);\"></td><td title=\"Index: [6, 19]&#10;Color: (0, 139, 139)\" style=\"width: 10px; height: 10px;background-color: rgb(0, 139, 139);\"></td></tr><tr><td title=\"Index: [7, 0]&#10;Color: (0, 139, 139)\" style=\"width: 10px; height: 10px;background-color: rgb(0, 139, 139);\"></td><td title=\"Index: [7, 1]&#10;Color: (0, 139, 139)\" style=\"width: 10px; height: 10px;background-color: rgb(0, 139, 139);\"></td><td title=\"Index: [7, 2]&#10;Color: (0, 139, 139)\" style=\"width: 10px; height: 10px;background-color: rgb(0, 139, 139);\"></td><td title=\"Index: [7, 3]&#10;Color: (0, 139, 139)\" style=\"width: 10px; height: 10px;background-color: rgb(0, 139, 139);\"></td><td title=\"Index: [7, 4]&#10;Color: (0, 139, 139)\" style=\"width: 10px; height: 10px;background-color: rgb(0, 139, 139);\"></td><td title=\"Index: [7, 5]&#10;Color: (0, 139, 139)\" style=\"width: 10px; height: 10px;background-color: rgb(0, 139, 139);\"></td><td title=\"Index: [7, 6]&#10;Color: (0, 139, 139)\" style=\"width: 10px; height: 10px;background-color: rgb(0, 139, 139);\"></td><td title=\"Index: [7, 7]&#10;Color: (0, 139, 139)\" style=\"width: 10px; height: 10px;background-color: rgb(0, 139, 139);\"></td><td title=\"Index: [7, 8]&#10;Color: (0, 139, 139)\" style=\"width: 10px; height: 10px;background-color: rgb(0, 139, 139);\"></td><td title=\"Index: [7, 9]&#10;Color: (0, 139, 139)\" style=\"width: 10px; height: 10px;background-color: rgb(0, 139, 139);\"></td><td title=\"Index: [7, 10]&#10;Color: (0, 139, 139)\" style=\"width: 10px; height: 10px;background-color: rgb(0, 139, 139);\"></td><td title=\"Index: [7, 11]&#10;Color: (0, 139, 139)\" style=\"width: 10px; height: 10px;background-color: rgb(0, 139, 139);\"></td><td title=\"Index: [7, 12]&#10;Color: (0, 139, 139)\" style=\"width: 10px; height: 10px;background-color: rgb(0, 139, 139);\"></td><td title=\"Index: [7, 13]&#10;Color: (0, 139, 139)\" style=\"width: 10px; height: 10px;background-color: rgb(0, 139, 139);\"></td><td title=\"Index: [7, 14]&#10;Color: (0, 139, 139)\" style=\"width: 10px; height: 10px;background-color: rgb(0, 139, 139);\"></td><td title=\"Index: [7, 15]&#10;Color: (0, 139, 139)\" style=\"width: 10px; height: 10px;background-color: rgb(0, 139, 139);\"></td><td title=\"Index: [7, 16]&#10;Color: (0, 139, 139)\" style=\"width: 10px; height: 10px;background-color: rgb(0, 139, 139);\"></td><td title=\"Index: [7, 17]&#10;Color: (0, 139, 139)\" style=\"width: 10px; height: 10px;background-color: rgb(0, 139, 139);\"></td><td title=\"Index: [7, 18]&#10;Color: (0, 139, 139)\" style=\"width: 10px; height: 10px;background-color: rgb(0, 139, 139);\"></td><td title=\"Index: [7, 19]&#10;Color: (0, 139, 139)\" style=\"width: 10px; height: 10px;background-color: rgb(0, 139, 139);\"></td></tr><tr><td title=\"Index: [8, 0]&#10;Color: (0, 139, 139)\" style=\"width: 10px; height: 10px;background-color: rgb(0, 139, 139);\"></td><td title=\"Index: [8, 1]&#10;Color: (0, 139, 139)\" style=\"width: 10px; height: 10px;background-color: rgb(0, 139, 139);\"></td><td title=\"Index: [8, 2]&#10;Color: (0, 139, 139)\" style=\"width: 10px; height: 10px;background-color: rgb(0, 139, 139);\"></td><td title=\"Index: [8, 3]&#10;Color: (0, 139, 139)\" style=\"width: 10px; height: 10px;background-color: rgb(0, 139, 139);\"></td><td title=\"Index: [8, 4]&#10;Color: (0, 139, 139)\" style=\"width: 10px; height: 10px;background-color: rgb(0, 139, 139);\"></td><td title=\"Index: [8, 5]&#10;Color: (0, 139, 139)\" style=\"width: 10px; height: 10px;background-color: rgb(0, 139, 139);\"></td><td title=\"Index: [8, 6]&#10;Color: (0, 139, 139)\" style=\"width: 10px; height: 10px;background-color: rgb(0, 139, 139);\"></td><td title=\"Index: [8, 7]&#10;Color: (0, 139, 139)\" style=\"width: 10px; height: 10px;background-color: rgb(0, 139, 139);\"></td><td title=\"Index: [8, 8]&#10;Color: (0, 139, 139)\" style=\"width: 10px; height: 10px;background-color: rgb(0, 139, 139);\"></td><td title=\"Index: [8, 9]&#10;Color: (0, 139, 139)\" style=\"width: 10px; height: 10px;background-color: rgb(0, 139, 139);\"></td><td title=\"Index: [8, 10]&#10;Color: (0, 139, 139)\" style=\"width: 10px; height: 10px;background-color: rgb(0, 139, 139);\"></td><td title=\"Index: [8, 11]&#10;Color: (0, 139, 139)\" style=\"width: 10px; height: 10px;background-color: rgb(0, 139, 139);\"></td><td title=\"Index: [8, 12]&#10;Color: (0, 139, 139)\" style=\"width: 10px; height: 10px;background-color: rgb(0, 139, 139);\"></td><td title=\"Index: [8, 13]&#10;Color: (0, 139, 139)\" style=\"width: 10px; height: 10px;background-color: rgb(0, 139, 139);\"></td><td title=\"Index: [8, 14]&#10;Color: (0, 139, 139)\" style=\"width: 10px; height: 10px;background-color: rgb(0, 139, 139);\"></td><td title=\"Index: [8, 15]&#10;Color: (0, 139, 139)\" style=\"width: 10px; height: 10px;background-color: rgb(0, 139, 139);\"></td><td title=\"Index: [8, 16]&#10;Color: (0, 139, 139)\" style=\"width: 10px; height: 10px;background-color: rgb(0, 139, 139);\"></td><td title=\"Index: [8, 17]&#10;Color: (0, 139, 139)\" style=\"width: 10px; height: 10px;background-color: rgb(0, 139, 139);\"></td><td title=\"Index: [8, 18]&#10;Color: (0, 139, 139)\" style=\"width: 10px; height: 10px;background-color: rgb(0, 139, 139);\"></td><td title=\"Index: [8, 19]&#10;Color: (0, 139, 139)\" style=\"width: 10px; height: 10px;background-color: rgb(0, 139, 139);\"></td></tr><tr><td title=\"Index: [9, 0]&#10;Color: (0, 0, 0)\" style=\"width: 10px; height: 10px;background-color: rgb(0, 0, 0);\"></td><td title=\"Index: [9, 1]&#10;Color: (0, 0, 0)\" style=\"width: 10px; height: 10px;background-color: rgb(0, 0, 0);\"></td><td title=\"Index: [9, 2]&#10;Color: (0, 0, 0)\" style=\"width: 10px; height: 10px;background-color: rgb(0, 0, 0);\"></td><td title=\"Index: [9, 3]&#10;Color: (0, 0, 0)\" style=\"width: 10px; height: 10px;background-color: rgb(0, 0, 0);\"></td><td title=\"Index: [9, 4]&#10;Color: (0, 0, 0)\" style=\"width: 10px; height: 10px;background-color: rgb(0, 0, 0);\"></td><td title=\"Index: [9, 5]&#10;Color: (0, 0, 0)\" style=\"width: 10px; height: 10px;background-color: rgb(0, 0, 0);\"></td><td title=\"Index: [9, 6]&#10;Color: (0, 0, 0)\" style=\"width: 10px; height: 10px;background-color: rgb(0, 0, 0);\"></td><td title=\"Index: [9, 7]&#10;Color: (0, 0, 0)\" style=\"width: 10px; height: 10px;background-color: rgb(0, 0, 0);\"></td><td title=\"Index: [9, 8]&#10;Color: (0, 0, 0)\" style=\"width: 10px; height: 10px;background-color: rgb(0, 0, 0);\"></td><td title=\"Index: [9, 9]&#10;Color: (0, 0, 0)\" style=\"width: 10px; height: 10px;background-color: rgb(0, 0, 0);\"></td><td title=\"Index: [9, 10]&#10;Color: (0, 0, 0)\" style=\"width: 10px; height: 10px;background-color: rgb(0, 0, 0);\"></td><td title=\"Index: [9, 11]&#10;Color: (0, 0, 0)\" style=\"width: 10px; height: 10px;background-color: rgb(0, 0, 0);\"></td><td title=\"Index: [9, 12]&#10;Color: (0, 0, 0)\" style=\"width: 10px; height: 10px;background-color: rgb(0, 0, 0);\"></td><td title=\"Index: [9, 13]&#10;Color: (0, 0, 0)\" style=\"width: 10px; height: 10px;background-color: rgb(0, 0, 0);\"></td><td title=\"Index: [9, 14]&#10;Color: (0, 0, 0)\" style=\"width: 10px; height: 10px;background-color: rgb(0, 0, 0);\"></td><td title=\"Index: [9, 15]&#10;Color: (0, 0, 0)\" style=\"width: 10px; height: 10px;background-color: rgb(0, 0, 0);\"></td><td title=\"Index: [9, 16]&#10;Color: (0, 0, 0)\" style=\"width: 10px; height: 10px;background-color: rgb(0, 0, 0);\"></td><td title=\"Index: [9, 17]&#10;Color: (0, 0, 0)\" style=\"width: 10px; height: 10px;background-color: rgb(0, 0, 0);\"></td><td title=\"Index: [9, 18]&#10;Color: (0, 0, 0)\" style=\"width: 10px; height: 10px;background-color: rgb(0, 0, 0);\"></td><td title=\"Index: [9, 19]&#10;Color: (0, 0, 0)\" style=\"width: 10px; height: 10px;background-color: rgb(0, 0, 0);\"></td></tr><tr><td title=\"Index: [10, 0]&#10;Color: (0, 139, 139)\" style=\"width: 10px; height: 10px;background-color: rgb(0, 139, 139);\"></td><td title=\"Index: [10, 1]&#10;Color: (0, 139, 139)\" style=\"width: 10px; height: 10px;background-color: rgb(0, 139, 139);\"></td><td title=\"Index: [10, 2]&#10;Color: (0, 139, 139)\" style=\"width: 10px; height: 10px;background-color: rgb(0, 139, 139);\"></td><td title=\"Index: [10, 3]&#10;Color: (0, 139, 139)\" style=\"width: 10px; height: 10px;background-color: rgb(0, 139, 139);\"></td><td title=\"Index: [10, 4]&#10;Color: (0, 139, 139)\" style=\"width: 10px; height: 10px;background-color: rgb(0, 139, 139);\"></td><td title=\"Index: [10, 5]&#10;Color: (0, 139, 139)\" style=\"width: 10px; height: 10px;background-color: rgb(0, 139, 139);\"></td><td title=\"Index: [10, 6]&#10;Color: (0, 139, 139)\" style=\"width: 10px; height: 10px;background-color: rgb(0, 139, 139);\"></td><td title=\"Index: [10, 7]&#10;Color: (0, 139, 139)\" style=\"width: 10px; height: 10px;background-color: rgb(0, 139, 139);\"></td><td title=\"Index: [10, 8]&#10;Color: (0, 139, 139)\" style=\"width: 10px; height: 10px;background-color: rgb(0, 139, 139);\"></td><td title=\"Index: [10, 9]&#10;Color: (0, 139, 139)\" style=\"width: 10px; height: 10px;background-color: rgb(0, 139, 139);\"></td><td title=\"Index: [10, 10]&#10;Color: (0, 139, 139)\" style=\"width: 10px; height: 10px;background-color: rgb(0, 139, 139);\"></td><td title=\"Index: [10, 11]&#10;Color: (0, 139, 139)\" style=\"width: 10px; height: 10px;background-color: rgb(0, 139, 139);\"></td><td title=\"Index: [10, 12]&#10;Color: (0, 139, 139)\" style=\"width: 10px; height: 10px;background-color: rgb(0, 139, 139);\"></td><td title=\"Index: [10, 13]&#10;Color: (0, 139, 139)\" style=\"width: 10px; height: 10px;background-color: rgb(0, 139, 139);\"></td><td title=\"Index: [10, 14]&#10;Color: (0, 139, 139)\" style=\"width: 10px; height: 10px;background-color: rgb(0, 139, 139);\"></td><td title=\"Index: [10, 15]&#10;Color: (0, 139, 139)\" style=\"width: 10px; height: 10px;background-color: rgb(0, 139, 139);\"></td><td title=\"Index: [10, 16]&#10;Color: (0, 139, 139)\" style=\"width: 10px; height: 10px;background-color: rgb(0, 139, 139);\"></td><td title=\"Index: [10, 17]&#10;Color: (0, 139, 139)\" style=\"width: 10px; height: 10px;background-color: rgb(0, 139, 139);\"></td><td title=\"Index: [10, 18]&#10;Color: (0, 139, 139)\" style=\"width: 10px; height: 10px;background-color: rgb(0, 139, 139);\"></td><td title=\"Index: [10, 19]&#10;Color: (0, 139, 139)\" style=\"width: 10px; height: 10px;background-color: rgb(0, 139, 139);\"></td></tr><tr><td title=\"Index: [11, 0]&#10;Color: (0, 139, 139)\" style=\"width: 10px; height: 10px;background-color: rgb(0, 139, 139);\"></td><td title=\"Index: [11, 1]&#10;Color: (0, 139, 139)\" style=\"width: 10px; height: 10px;background-color: rgb(0, 139, 139);\"></td><td title=\"Index: [11, 2]&#10;Color: (0, 139, 139)\" style=\"width: 10px; height: 10px;background-color: rgb(0, 139, 139);\"></td><td title=\"Index: [11, 3]&#10;Color: (0, 139, 139)\" style=\"width: 10px; height: 10px;background-color: rgb(0, 139, 139);\"></td><td title=\"Index: [11, 4]&#10;Color: (0, 139, 139)\" style=\"width: 10px; height: 10px;background-color: rgb(0, 139, 139);\"></td><td title=\"Index: [11, 5]&#10;Color: (0, 139, 139)\" style=\"width: 10px; height: 10px;background-color: rgb(0, 139, 139);\"></td><td title=\"Index: [11, 6]&#10;Color: (0, 139, 139)\" style=\"width: 10px; height: 10px;background-color: rgb(0, 139, 139);\"></td><td title=\"Index: [11, 7]&#10;Color: (0, 139, 139)\" style=\"width: 10px; height: 10px;background-color: rgb(0, 139, 139);\"></td><td title=\"Index: [11, 8]&#10;Color: (0, 139, 139)\" style=\"width: 10px; height: 10px;background-color: rgb(0, 139, 139);\"></td><td title=\"Index: [11, 9]&#10;Color: (0, 139, 139)\" style=\"width: 10px; height: 10px;background-color: rgb(0, 139, 139);\"></td><td title=\"Index: [11, 10]&#10;Color: (0, 139, 139)\" style=\"width: 10px; height: 10px;background-color: rgb(0, 139, 139);\"></td><td title=\"Index: [11, 11]&#10;Color: (0, 139, 139)\" style=\"width: 10px; height: 10px;background-color: rgb(0, 139, 139);\"></td><td title=\"Index: [11, 12]&#10;Color: (0, 139, 139)\" style=\"width: 10px; height: 10px;background-color: rgb(0, 139, 139);\"></td><td title=\"Index: [11, 13]&#10;Color: (0, 139, 139)\" style=\"width: 10px; height: 10px;background-color: rgb(0, 139, 139);\"></td><td title=\"Index: [11, 14]&#10;Color: (0, 139, 139)\" style=\"width: 10px; height: 10px;background-color: rgb(0, 139, 139);\"></td><td title=\"Index: [11, 15]&#10;Color: (0, 139, 139)\" style=\"width: 10px; height: 10px;background-color: rgb(0, 139, 139);\"></td><td title=\"Index: [11, 16]&#10;Color: (0, 139, 139)\" style=\"width: 10px; height: 10px;background-color: rgb(0, 139, 139);\"></td><td title=\"Index: [11, 17]&#10;Color: (0, 139, 139)\" style=\"width: 10px; height: 10px;background-color: rgb(0, 139, 139);\"></td><td title=\"Index: [11, 18]&#10;Color: (0, 139, 139)\" style=\"width: 10px; height: 10px;background-color: rgb(0, 139, 139);\"></td><td title=\"Index: [11, 19]&#10;Color: (0, 139, 139)\" style=\"width: 10px; height: 10px;background-color: rgb(0, 139, 139);\"></td></tr><tr><td title=\"Index: [12, 0]&#10;Color: (0, 139, 139)\" style=\"width: 10px; height: 10px;background-color: rgb(0, 139, 139);\"></td><td title=\"Index: [12, 1]&#10;Color: (0, 139, 139)\" style=\"width: 10px; height: 10px;background-color: rgb(0, 139, 139);\"></td><td title=\"Index: [12, 2]&#10;Color: (0, 139, 139)\" style=\"width: 10px; height: 10px;background-color: rgb(0, 139, 139);\"></td><td title=\"Index: [12, 3]&#10;Color: (0, 139, 139)\" style=\"width: 10px; height: 10px;background-color: rgb(0, 139, 139);\"></td><td title=\"Index: [12, 4]&#10;Color: (0, 139, 139)\" style=\"width: 10px; height: 10px;background-color: rgb(0, 139, 139);\"></td><td title=\"Index: [12, 5]&#10;Color: (0, 139, 139)\" style=\"width: 10px; height: 10px;background-color: rgb(0, 139, 139);\"></td><td title=\"Index: [12, 6]&#10;Color: (0, 139, 139)\" style=\"width: 10px; height: 10px;background-color: rgb(0, 139, 139);\"></td><td title=\"Index: [12, 7]&#10;Color: (0, 139, 139)\" style=\"width: 10px; height: 10px;background-color: rgb(0, 139, 139);\"></td><td title=\"Index: [12, 8]&#10;Color: (0, 139, 139)\" style=\"width: 10px; height: 10px;background-color: rgb(0, 139, 139);\"></td><td title=\"Index: [12, 9]&#10;Color: (0, 139, 139)\" style=\"width: 10px; height: 10px;background-color: rgb(0, 139, 139);\"></td><td title=\"Index: [12, 10]&#10;Color: (0, 139, 139)\" style=\"width: 10px; height: 10px;background-color: rgb(0, 139, 139);\"></td><td title=\"Index: [12, 11]&#10;Color: (0, 139, 139)\" style=\"width: 10px; height: 10px;background-color: rgb(0, 139, 139);\"></td><td title=\"Index: [12, 12]&#10;Color: (0, 139, 139)\" style=\"width: 10px; height: 10px;background-color: rgb(0, 139, 139);\"></td><td title=\"Index: [12, 13]&#10;Color: (0, 139, 139)\" style=\"width: 10px; height: 10px;background-color: rgb(0, 139, 139);\"></td><td title=\"Index: [12, 14]&#10;Color: (0, 139, 139)\" style=\"width: 10px; height: 10px;background-color: rgb(0, 139, 139);\"></td><td title=\"Index: [12, 15]&#10;Color: (0, 139, 139)\" style=\"width: 10px; height: 10px;background-color: rgb(0, 139, 139);\"></td><td title=\"Index: [12, 16]&#10;Color: (0, 139, 139)\" style=\"width: 10px; height: 10px;background-color: rgb(0, 139, 139);\"></td><td title=\"Index: [12, 17]&#10;Color: (0, 139, 139)\" style=\"width: 10px; height: 10px;background-color: rgb(0, 139, 139);\"></td><td title=\"Index: [12, 18]&#10;Color: (0, 139, 139)\" style=\"width: 10px; height: 10px;background-color: rgb(0, 139, 139);\"></td><td title=\"Index: [12, 19]&#10;Color: (0, 139, 139)\" style=\"width: 10px; height: 10px;background-color: rgb(0, 139, 139);\"></td></tr><tr><td title=\"Index: [13, 0]&#10;Color: (0, 139, 139)\" style=\"width: 10px; height: 10px;background-color: rgb(0, 139, 139);\"></td><td title=\"Index: [13, 1]&#10;Color: (0, 139, 139)\" style=\"width: 10px; height: 10px;background-color: rgb(0, 139, 139);\"></td><td title=\"Index: [13, 2]&#10;Color: (0, 139, 139)\" style=\"width: 10px; height: 10px;background-color: rgb(0, 139, 139);\"></td><td title=\"Index: [13, 3]&#10;Color: (0, 139, 139)\" style=\"width: 10px; height: 10px;background-color: rgb(0, 139, 139);\"></td><td title=\"Index: [13, 4]&#10;Color: (0, 139, 139)\" style=\"width: 10px; height: 10px;background-color: rgb(0, 139, 139);\"></td><td title=\"Index: [13, 5]&#10;Color: (0, 139, 139)\" style=\"width: 10px; height: 10px;background-color: rgb(0, 139, 139);\"></td><td title=\"Index: [13, 6]&#10;Color: (0, 139, 139)\" style=\"width: 10px; height: 10px;background-color: rgb(0, 139, 139);\"></td><td title=\"Index: [13, 7]&#10;Color: (0, 139, 139)\" style=\"width: 10px; height: 10px;background-color: rgb(0, 139, 139);\"></td><td title=\"Index: [13, 8]&#10;Color: (0, 139, 139)\" style=\"width: 10px; height: 10px;background-color: rgb(0, 139, 139);\"></td><td title=\"Index: [13, 9]&#10;Color: (0, 139, 139)\" style=\"width: 10px; height: 10px;background-color: rgb(0, 139, 139);\"></td><td title=\"Index: [13, 10]&#10;Color: (0, 139, 139)\" style=\"width: 10px; height: 10px;background-color: rgb(0, 139, 139);\"></td><td title=\"Index: [13, 11]&#10;Color: (0, 139, 139)\" style=\"width: 10px; height: 10px;background-color: rgb(0, 139, 139);\"></td><td title=\"Index: [13, 12]&#10;Color: (0, 139, 139)\" style=\"width: 10px; height: 10px;background-color: rgb(0, 139, 139);\"></td><td title=\"Index: [13, 13]&#10;Color: (0, 139, 139)\" style=\"width: 10px; height: 10px;background-color: rgb(0, 139, 139);\"></td><td title=\"Index: [13, 14]&#10;Color: (0, 139, 139)\" style=\"width: 10px; height: 10px;background-color: rgb(0, 139, 139);\"></td><td title=\"Index: [13, 15]&#10;Color: (0, 139, 139)\" style=\"width: 10px; height: 10px;background-color: rgb(0, 139, 139);\"></td><td title=\"Index: [13, 16]&#10;Color: (0, 139, 139)\" style=\"width: 10px; height: 10px;background-color: rgb(0, 139, 139);\"></td><td title=\"Index: [13, 17]&#10;Color: (0, 139, 139)\" style=\"width: 10px; height: 10px;background-color: rgb(0, 139, 139);\"></td><td title=\"Index: [13, 18]&#10;Color: (0, 139, 139)\" style=\"width: 10px; height: 10px;background-color: rgb(0, 139, 139);\"></td><td title=\"Index: [13, 19]&#10;Color: (0, 139, 139)\" style=\"width: 10px; height: 10px;background-color: rgb(0, 139, 139);\"></td></tr><tr><td title=\"Index: [14, 0]&#10;Color: (0, 139, 139)\" style=\"width: 10px; height: 10px;background-color: rgb(0, 139, 139);\"></td><td title=\"Index: [14, 1]&#10;Color: (0, 139, 139)\" style=\"width: 10px; height: 10px;background-color: rgb(0, 139, 139);\"></td><td title=\"Index: [14, 2]&#10;Color: (0, 139, 139)\" style=\"width: 10px; height: 10px;background-color: rgb(0, 139, 139);\"></td><td title=\"Index: [14, 3]&#10;Color: (0, 139, 139)\" style=\"width: 10px; height: 10px;background-color: rgb(0, 139, 139);\"></td><td title=\"Index: [14, 4]&#10;Color: (0, 139, 139)\" style=\"width: 10px; height: 10px;background-color: rgb(0, 139, 139);\"></td><td title=\"Index: [14, 5]&#10;Color: (0, 139, 139)\" style=\"width: 10px; height: 10px;background-color: rgb(0, 139, 139);\"></td><td title=\"Index: [14, 6]&#10;Color: (0, 139, 139)\" style=\"width: 10px; height: 10px;background-color: rgb(0, 139, 139);\"></td><td title=\"Index: [14, 7]&#10;Color: (0, 139, 139)\" style=\"width: 10px; height: 10px;background-color: rgb(0, 139, 139);\"></td><td title=\"Index: [14, 8]&#10;Color: (0, 139, 139)\" style=\"width: 10px; height: 10px;background-color: rgb(0, 139, 139);\"></td><td title=\"Index: [14, 9]&#10;Color: (0, 139, 139)\" style=\"width: 10px; height: 10px;background-color: rgb(0, 139, 139);\"></td><td title=\"Index: [14, 10]&#10;Color: (0, 139, 139)\" style=\"width: 10px; height: 10px;background-color: rgb(0, 139, 139);\"></td><td title=\"Index: [14, 11]&#10;Color: (0, 139, 139)\" style=\"width: 10px; height: 10px;background-color: rgb(0, 139, 139);\"></td><td title=\"Index: [14, 12]&#10;Color: (0, 139, 139)\" style=\"width: 10px; height: 10px;background-color: rgb(0, 139, 139);\"></td><td title=\"Index: [14, 13]&#10;Color: (0, 139, 139)\" style=\"width: 10px; height: 10px;background-color: rgb(0, 139, 139);\"></td><td title=\"Index: [14, 14]&#10;Color: (0, 139, 139)\" style=\"width: 10px; height: 10px;background-color: rgb(0, 139, 139);\"></td><td title=\"Index: [14, 15]&#10;Color: (0, 139, 139)\" style=\"width: 10px; height: 10px;background-color: rgb(0, 139, 139);\"></td><td title=\"Index: [14, 16]&#10;Color: (0, 139, 139)\" style=\"width: 10px; height: 10px;background-color: rgb(0, 139, 139);\"></td><td title=\"Index: [14, 17]&#10;Color: (0, 139, 139)\" style=\"width: 10px; height: 10px;background-color: rgb(0, 139, 139);\"></td><td title=\"Index: [14, 18]&#10;Color: (0, 139, 139)\" style=\"width: 10px; height: 10px;background-color: rgb(0, 139, 139);\"></td><td title=\"Index: [14, 19]&#10;Color: (0, 139, 139)\" style=\"width: 10px; height: 10px;background-color: rgb(0, 139, 139);\"></td></tr><tr><td title=\"Index: [15, 0]&#10;Color: (0, 139, 139)\" style=\"width: 10px; height: 10px;background-color: rgb(0, 139, 139);\"></td><td title=\"Index: [15, 1]&#10;Color: (0, 139, 139)\" style=\"width: 10px; height: 10px;background-color: rgb(0, 139, 139);\"></td><td title=\"Index: [15, 2]&#10;Color: (0, 139, 139)\" style=\"width: 10px; height: 10px;background-color: rgb(0, 139, 139);\"></td><td title=\"Index: [15, 3]&#10;Color: (0, 139, 139)\" style=\"width: 10px; height: 10px;background-color: rgb(0, 139, 139);\"></td><td title=\"Index: [15, 4]&#10;Color: (0, 139, 139)\" style=\"width: 10px; height: 10px;background-color: rgb(0, 139, 139);\"></td><td title=\"Index: [15, 5]&#10;Color: (0, 139, 139)\" style=\"width: 10px; height: 10px;background-color: rgb(0, 139, 139);\"></td><td title=\"Index: [15, 6]&#10;Color: (0, 139, 139)\" style=\"width: 10px; height: 10px;background-color: rgb(0, 139, 139);\"></td><td title=\"Index: [15, 7]&#10;Color: (0, 139, 139)\" style=\"width: 10px; height: 10px;background-color: rgb(0, 139, 139);\"></td><td title=\"Index: [15, 8]&#10;Color: (0, 139, 139)\" style=\"width: 10px; height: 10px;background-color: rgb(0, 139, 139);\"></td><td title=\"Index: [15, 9]&#10;Color: (0, 139, 139)\" style=\"width: 10px; height: 10px;background-color: rgb(0, 139, 139);\"></td><td title=\"Index: [15, 10]&#10;Color: (0, 139, 139)\" style=\"width: 10px; height: 10px;background-color: rgb(0, 139, 139);\"></td><td title=\"Index: [15, 11]&#10;Color: (0, 139, 139)\" style=\"width: 10px; height: 10px;background-color: rgb(0, 139, 139);\"></td><td title=\"Index: [15, 12]&#10;Color: (0, 139, 139)\" style=\"width: 10px; height: 10px;background-color: rgb(0, 139, 139);\"></td><td title=\"Index: [15, 13]&#10;Color: (0, 139, 139)\" style=\"width: 10px; height: 10px;background-color: rgb(0, 139, 139);\"></td><td title=\"Index: [15, 14]&#10;Color: (0, 139, 139)\" style=\"width: 10px; height: 10px;background-color: rgb(0, 139, 139);\"></td><td title=\"Index: [15, 15]&#10;Color: (0, 139, 139)\" style=\"width: 10px; height: 10px;background-color: rgb(0, 139, 139);\"></td><td title=\"Index: [15, 16]&#10;Color: (0, 139, 139)\" style=\"width: 10px; height: 10px;background-color: rgb(0, 139, 139);\"></td><td title=\"Index: [15, 17]&#10;Color: (0, 139, 139)\" style=\"width: 10px; height: 10px;background-color: rgb(0, 139, 139);\"></td><td title=\"Index: [15, 18]&#10;Color: (0, 139, 139)\" style=\"width: 10px; height: 10px;background-color: rgb(0, 139, 139);\"></td><td title=\"Index: [15, 19]&#10;Color: (0, 139, 139)\" style=\"width: 10px; height: 10px;background-color: rgb(0, 139, 139);\"></td></tr><tr><td title=\"Index: [16, 0]&#10;Color: (0, 139, 139)\" style=\"width: 10px; height: 10px;background-color: rgb(0, 139, 139);\"></td><td title=\"Index: [16, 1]&#10;Color: (0, 139, 139)\" style=\"width: 10px; height: 10px;background-color: rgb(0, 139, 139);\"></td><td title=\"Index: [16, 2]&#10;Color: (0, 139, 139)\" style=\"width: 10px; height: 10px;background-color: rgb(0, 139, 139);\"></td><td title=\"Index: [16, 3]&#10;Color: (0, 139, 139)\" style=\"width: 10px; height: 10px;background-color: rgb(0, 139, 139);\"></td><td title=\"Index: [16, 4]&#10;Color: (0, 139, 139)\" style=\"width: 10px; height: 10px;background-color: rgb(0, 139, 139);\"></td><td title=\"Index: [16, 5]&#10;Color: (0, 139, 139)\" style=\"width: 10px; height: 10px;background-color: rgb(0, 139, 139);\"></td><td title=\"Index: [16, 6]&#10;Color: (0, 139, 139)\" style=\"width: 10px; height: 10px;background-color: rgb(0, 139, 139);\"></td><td title=\"Index: [16, 7]&#10;Color: (0, 139, 139)\" style=\"width: 10px; height: 10px;background-color: rgb(0, 139, 139);\"></td><td title=\"Index: [16, 8]&#10;Color: (0, 139, 139)\" style=\"width: 10px; height: 10px;background-color: rgb(0, 139, 139);\"></td><td title=\"Index: [16, 9]&#10;Color: (0, 139, 139)\" style=\"width: 10px; height: 10px;background-color: rgb(0, 139, 139);\"></td><td title=\"Index: [16, 10]&#10;Color: (0, 139, 139)\" style=\"width: 10px; height: 10px;background-color: rgb(0, 139, 139);\"></td><td title=\"Index: [16, 11]&#10;Color: (0, 139, 139)\" style=\"width: 10px; height: 10px;background-color: rgb(0, 139, 139);\"></td><td title=\"Index: [16, 12]&#10;Color: (0, 139, 139)\" style=\"width: 10px; height: 10px;background-color: rgb(0, 139, 139);\"></td><td title=\"Index: [16, 13]&#10;Color: (0, 139, 139)\" style=\"width: 10px; height: 10px;background-color: rgb(0, 139, 139);\"></td><td title=\"Index: [16, 14]&#10;Color: (0, 139, 139)\" style=\"width: 10px; height: 10px;background-color: rgb(0, 139, 139);\"></td><td title=\"Index: [16, 15]&#10;Color: (0, 139, 139)\" style=\"width: 10px; height: 10px;background-color: rgb(0, 139, 139);\"></td><td title=\"Index: [16, 16]&#10;Color: (0, 139, 139)\" style=\"width: 10px; height: 10px;background-color: rgb(0, 139, 139);\"></td><td title=\"Index: [16, 17]&#10;Color: (0, 139, 139)\" style=\"width: 10px; height: 10px;background-color: rgb(0, 139, 139);\"></td><td title=\"Index: [16, 18]&#10;Color: (0, 139, 139)\" style=\"width: 10px; height: 10px;background-color: rgb(0, 139, 139);\"></td><td title=\"Index: [16, 19]&#10;Color: (0, 139, 139)\" style=\"width: 10px; height: 10px;background-color: rgb(0, 139, 139);\"></td></tr><tr><td title=\"Index: [17, 0]&#10;Color: (0, 0, 0)\" style=\"width: 10px; height: 10px;background-color: rgb(0, 0, 0);\"></td><td title=\"Index: [17, 1]&#10;Color: (0, 0, 0)\" style=\"width: 10px; height: 10px;background-color: rgb(0, 0, 0);\"></td><td title=\"Index: [17, 2]&#10;Color: (0, 0, 0)\" style=\"width: 10px; height: 10px;background-color: rgb(0, 0, 0);\"></td><td title=\"Index: [17, 3]&#10;Color: (0, 0, 0)\" style=\"width: 10px; height: 10px;background-color: rgb(0, 0, 0);\"></td><td title=\"Index: [17, 4]&#10;Color: (0, 0, 0)\" style=\"width: 10px; height: 10px;background-color: rgb(0, 0, 0);\"></td><td title=\"Index: [17, 5]&#10;Color: (0, 0, 0)\" style=\"width: 10px; height: 10px;background-color: rgb(0, 0, 0);\"></td><td title=\"Index: [17, 6]&#10;Color: (0, 0, 0)\" style=\"width: 10px; height: 10px;background-color: rgb(0, 0, 0);\"></td><td title=\"Index: [17, 7]&#10;Color: (0, 0, 0)\" style=\"width: 10px; height: 10px;background-color: rgb(0, 0, 0);\"></td><td title=\"Index: [17, 8]&#10;Color: (0, 0, 0)\" style=\"width: 10px; height: 10px;background-color: rgb(0, 0, 0);\"></td><td title=\"Index: [17, 9]&#10;Color: (0, 0, 0)\" style=\"width: 10px; height: 10px;background-color: rgb(0, 0, 0);\"></td><td title=\"Index: [17, 10]&#10;Color: (0, 0, 0)\" style=\"width: 10px; height: 10px;background-color: rgb(0, 0, 0);\"></td><td title=\"Index: [17, 11]&#10;Color: (0, 0, 0)\" style=\"width: 10px; height: 10px;background-color: rgb(0, 0, 0);\"></td><td title=\"Index: [17, 12]&#10;Color: (0, 0, 0)\" style=\"width: 10px; height: 10px;background-color: rgb(0, 0, 0);\"></td><td title=\"Index: [17, 13]&#10;Color: (0, 0, 0)\" style=\"width: 10px; height: 10px;background-color: rgb(0, 0, 0);\"></td><td title=\"Index: [17, 14]&#10;Color: (0, 0, 0)\" style=\"width: 10px; height: 10px;background-color: rgb(0, 0, 0);\"></td><td title=\"Index: [17, 15]&#10;Color: (0, 0, 0)\" style=\"width: 10px; height: 10px;background-color: rgb(0, 0, 0);\"></td><td title=\"Index: [17, 16]&#10;Color: (0, 0, 0)\" style=\"width: 10px; height: 10px;background-color: rgb(0, 0, 0);\"></td><td title=\"Index: [17, 17]&#10;Color: (0, 0, 0)\" style=\"width: 10px; height: 10px;background-color: rgb(0, 0, 0);\"></td><td title=\"Index: [17, 18]&#10;Color: (0, 0, 0)\" style=\"width: 10px; height: 10px;background-color: rgb(0, 0, 0);\"></td><td title=\"Index: [17, 19]&#10;Color: (0, 0, 0)\" style=\"width: 10px; height: 10px;background-color: rgb(0, 0, 0);\"></td></tr><tr><td title=\"Index: [18, 0]&#10;Color: (0, 139, 139)\" style=\"width: 10px; height: 10px;background-color: rgb(0, 139, 139);\"></td><td title=\"Index: [18, 1]&#10;Color: (0, 139, 139)\" style=\"width: 10px; height: 10px;background-color: rgb(0, 139, 139);\"></td><td title=\"Index: [18, 2]&#10;Color: (0, 139, 139)\" style=\"width: 10px; height: 10px;background-color: rgb(0, 139, 139);\"></td><td title=\"Index: [18, 3]&#10;Color: (0, 139, 139)\" style=\"width: 10px; height: 10px;background-color: rgb(0, 139, 139);\"></td><td title=\"Index: [18, 4]&#10;Color: (0, 139, 139)\" style=\"width: 10px; height: 10px;background-color: rgb(0, 139, 139);\"></td><td title=\"Index: [18, 5]&#10;Color: (0, 139, 139)\" style=\"width: 10px; height: 10px;background-color: rgb(0, 139, 139);\"></td><td title=\"Index: [18, 6]&#10;Color: (0, 139, 139)\" style=\"width: 10px; height: 10px;background-color: rgb(0, 139, 139);\"></td><td title=\"Index: [18, 7]&#10;Color: (0, 139, 139)\" style=\"width: 10px; height: 10px;background-color: rgb(0, 139, 139);\"></td><td title=\"Index: [18, 8]&#10;Color: (0, 139, 139)\" style=\"width: 10px; height: 10px;background-color: rgb(0, 139, 139);\"></td><td title=\"Index: [18, 9]&#10;Color: (0, 139, 139)\" style=\"width: 10px; height: 10px;background-color: rgb(0, 139, 139);\"></td><td title=\"Index: [18, 10]&#10;Color: (0, 139, 139)\" style=\"width: 10px; height: 10px;background-color: rgb(0, 139, 139);\"></td><td title=\"Index: [18, 11]&#10;Color: (0, 139, 139)\" style=\"width: 10px; height: 10px;background-color: rgb(0, 139, 139);\"></td><td title=\"Index: [18, 12]&#10;Color: (0, 139, 139)\" style=\"width: 10px; height: 10px;background-color: rgb(0, 139, 139);\"></td><td title=\"Index: [18, 13]&#10;Color: (0, 139, 139)\" style=\"width: 10px; height: 10px;background-color: rgb(0, 139, 139);\"></td><td title=\"Index: [18, 14]&#10;Color: (0, 139, 139)\" style=\"width: 10px; height: 10px;background-color: rgb(0, 139, 139);\"></td><td title=\"Index: [18, 15]&#10;Color: (0, 139, 139)\" style=\"width: 10px; height: 10px;background-color: rgb(0, 139, 139);\"></td><td title=\"Index: [18, 16]&#10;Color: (0, 139, 139)\" style=\"width: 10px; height: 10px;background-color: rgb(0, 139, 139);\"></td><td title=\"Index: [18, 17]&#10;Color: (0, 139, 139)\" style=\"width: 10px; height: 10px;background-color: rgb(0, 139, 139);\"></td><td title=\"Index: [18, 18]&#10;Color: (0, 139, 139)\" style=\"width: 10px; height: 10px;background-color: rgb(0, 139, 139);\"></td><td title=\"Index: [18, 19]&#10;Color: (0, 139, 139)\" style=\"width: 10px; height: 10px;background-color: rgb(0, 139, 139);\"></td></tr><tr><td title=\"Index: [19, 0]&#10;Color: (0, 139, 139)\" style=\"width: 10px; height: 10px;background-color: rgb(0, 139, 139);\"></td><td title=\"Index: [19, 1]&#10;Color: (0, 139, 139)\" style=\"width: 10px; height: 10px;background-color: rgb(0, 139, 139);\"></td><td title=\"Index: [19, 2]&#10;Color: (0, 139, 139)\" style=\"width: 10px; height: 10px;background-color: rgb(0, 139, 139);\"></td><td title=\"Index: [19, 3]&#10;Color: (0, 139, 139)\" style=\"width: 10px; height: 10px;background-color: rgb(0, 139, 139);\"></td><td title=\"Index: [19, 4]&#10;Color: (0, 139, 139)\" style=\"width: 10px; height: 10px;background-color: rgb(0, 139, 139);\"></td><td title=\"Index: [19, 5]&#10;Color: (0, 139, 139)\" style=\"width: 10px; height: 10px;background-color: rgb(0, 139, 139);\"></td><td title=\"Index: [19, 6]&#10;Color: (0, 139, 139)\" style=\"width: 10px; height: 10px;background-color: rgb(0, 139, 139);\"></td><td title=\"Index: [19, 7]&#10;Color: (0, 139, 139)\" style=\"width: 10px; height: 10px;background-color: rgb(0, 139, 139);\"></td><td title=\"Index: [19, 8]&#10;Color: (0, 139, 139)\" style=\"width: 10px; height: 10px;background-color: rgb(0, 139, 139);\"></td><td title=\"Index: [19, 9]&#10;Color: (0, 139, 139)\" style=\"width: 10px; height: 10px;background-color: rgb(0, 139, 139);\"></td><td title=\"Index: [19, 10]&#10;Color: (0, 139, 139)\" style=\"width: 10px; height: 10px;background-color: rgb(0, 139, 139);\"></td><td title=\"Index: [19, 11]&#10;Color: (0, 139, 139)\" style=\"width: 10px; height: 10px;background-color: rgb(0, 139, 139);\"></td><td title=\"Index: [19, 12]&#10;Color: (0, 139, 139)\" style=\"width: 10px; height: 10px;background-color: rgb(0, 139, 139);\"></td><td title=\"Index: [19, 13]&#10;Color: (0, 139, 139)\" style=\"width: 10px; height: 10px;background-color: rgb(0, 139, 139);\"></td><td title=\"Index: [19, 14]&#10;Color: (0, 139, 139)\" style=\"width: 10px; height: 10px;background-color: rgb(0, 139, 139);\"></td><td title=\"Index: [19, 15]&#10;Color: (0, 139, 139)\" style=\"width: 10px; height: 10px;background-color: rgb(0, 139, 139);\"></td><td title=\"Index: [19, 16]&#10;Color: (0, 139, 139)\" style=\"width: 10px; height: 10px;background-color: rgb(0, 139, 139);\"></td><td title=\"Index: [19, 17]&#10;Color: (0, 139, 139)\" style=\"width: 10px; height: 10px;background-color: rgb(0, 139, 139);\"></td><td title=\"Index: [19, 18]&#10;Color: (0, 139, 139)\" style=\"width: 10px; height: 10px;background-color: rgb(0, 139, 139);\"></td><td title=\"Index: [19, 19]&#10;Color: (0, 139, 139)\" style=\"width: 10px; height: 10px;background-color: rgb(0, 139, 139);\"></td></tr></tbody></table>"
      ],
      "text/plain": [
       "<ipythonblocks.BlockGrid at 0x110b45c88>"
      ]
     },
     "execution_count": 27,
     "metadata": {},
     "output_type": "execute_result"
    }
   ],
   "source": [
    "# 3rd, 10th, and 18th rows\n",
    "for column in range(grid20.width):\n",
    "#     grid20[2, column] = colors.Black\n",
    "#     grid20[9, column] = colors.Black\n",
    "#     grid20[17, column] = colors.Black\n",
    "    for row in (2, 9, 17):\n",
    "        grid20[row, column] = colors.Black\n",
    "grid20"
   ]
  },
  {
   "cell_type": "code",
   "execution_count": 28,
   "metadata": {},
   "outputs": [
    {
     "data": {
      "text/html": [
       "<style type=\"text/css\">table.blockgrid {border: none;} .blockgrid tr {border: none;} .blockgrid td {padding: 0px;} #blocks252b3de2-0554-4bf8-ae3e-28a246605e9d td {border: 1px solid white;}</style><table id=\"blocks252b3de2-0554-4bf8-ae3e-28a246605e9d\" class=\"blockgrid\"><tbody><tr><td title=\"Index: [0, 0]&#10;Color: (0, 139, 139)\" style=\"width: 10px; height: 10px;background-color: rgb(0, 139, 139);\"></td><td title=\"Index: [0, 1]&#10;Color: (0, 139, 139)\" style=\"width: 10px; height: 10px;background-color: rgb(0, 139, 139);\"></td><td title=\"Index: [0, 2]&#10;Color: (0, 139, 139)\" style=\"width: 10px; height: 10px;background-color: rgb(0, 139, 139);\"></td><td title=\"Index: [0, 3]&#10;Color: (0, 139, 139)\" style=\"width: 10px; height: 10px;background-color: rgb(0, 139, 139);\"></td><td title=\"Index: [0, 4]&#10;Color: (0, 139, 139)\" style=\"width: 10px; height: 10px;background-color: rgb(0, 139, 139);\"></td><td title=\"Index: [0, 5]&#10;Color: (0, 139, 139)\" style=\"width: 10px; height: 10px;background-color: rgb(0, 139, 139);\"></td><td title=\"Index: [0, 6]&#10;Color: (0, 139, 139)\" style=\"width: 10px; height: 10px;background-color: rgb(0, 139, 139);\"></td><td title=\"Index: [0, 7]&#10;Color: (0, 139, 139)\" style=\"width: 10px; height: 10px;background-color: rgb(0, 139, 139);\"></td><td title=\"Index: [0, 8]&#10;Color: (0, 139, 139)\" style=\"width: 10px; height: 10px;background-color: rgb(0, 139, 139);\"></td><td title=\"Index: [0, 9]&#10;Color: (0, 139, 139)\" style=\"width: 10px; height: 10px;background-color: rgb(0, 139, 139);\"></td><td title=\"Index: [0, 10]&#10;Color: (0, 139, 139)\" style=\"width: 10px; height: 10px;background-color: rgb(0, 139, 139);\"></td><td title=\"Index: [0, 11]&#10;Color: (0, 139, 139)\" style=\"width: 10px; height: 10px;background-color: rgb(0, 139, 139);\"></td><td title=\"Index: [0, 12]&#10;Color: (0, 139, 139)\" style=\"width: 10px; height: 10px;background-color: rgb(0, 139, 139);\"></td><td title=\"Index: [0, 13]&#10;Color: (0, 139, 139)\" style=\"width: 10px; height: 10px;background-color: rgb(0, 139, 139);\"></td><td title=\"Index: [0, 14]&#10;Color: (0, 139, 139)\" style=\"width: 10px; height: 10px;background-color: rgb(0, 139, 139);\"></td><td title=\"Index: [0, 15]&#10;Color: (0, 139, 139)\" style=\"width: 10px; height: 10px;background-color: rgb(0, 139, 139);\"></td><td title=\"Index: [0, 16]&#10;Color: (0, 139, 139)\" style=\"width: 10px; height: 10px;background-color: rgb(0, 139, 139);\"></td><td title=\"Index: [0, 17]&#10;Color: (0, 139, 139)\" style=\"width: 10px; height: 10px;background-color: rgb(0, 139, 139);\"></td><td title=\"Index: [0, 18]&#10;Color: (0, 139, 139)\" style=\"width: 10px; height: 10px;background-color: rgb(0, 139, 139);\"></td><td title=\"Index: [0, 19]&#10;Color: (0, 139, 139)\" style=\"width: 10px; height: 10px;background-color: rgb(0, 139, 139);\"></td></tr><tr><td title=\"Index: [1, 0]&#10;Color: (0, 139, 139)\" style=\"width: 10px; height: 10px;background-color: rgb(0, 139, 139);\"></td><td title=\"Index: [1, 1]&#10;Color: (0, 139, 139)\" style=\"width: 10px; height: 10px;background-color: rgb(0, 139, 139);\"></td><td title=\"Index: [1, 2]&#10;Color: (0, 139, 139)\" style=\"width: 10px; height: 10px;background-color: rgb(0, 139, 139);\"></td><td title=\"Index: [1, 3]&#10;Color: (0, 139, 139)\" style=\"width: 10px; height: 10px;background-color: rgb(0, 139, 139);\"></td><td title=\"Index: [1, 4]&#10;Color: (0, 139, 139)\" style=\"width: 10px; height: 10px;background-color: rgb(0, 139, 139);\"></td><td title=\"Index: [1, 5]&#10;Color: (0, 139, 139)\" style=\"width: 10px; height: 10px;background-color: rgb(0, 139, 139);\"></td><td title=\"Index: [1, 6]&#10;Color: (0, 139, 139)\" style=\"width: 10px; height: 10px;background-color: rgb(0, 139, 139);\"></td><td title=\"Index: [1, 7]&#10;Color: (0, 139, 139)\" style=\"width: 10px; height: 10px;background-color: rgb(0, 139, 139);\"></td><td title=\"Index: [1, 8]&#10;Color: (0, 139, 139)\" style=\"width: 10px; height: 10px;background-color: rgb(0, 139, 139);\"></td><td title=\"Index: [1, 9]&#10;Color: (0, 139, 139)\" style=\"width: 10px; height: 10px;background-color: rgb(0, 139, 139);\"></td><td title=\"Index: [1, 10]&#10;Color: (0, 139, 139)\" style=\"width: 10px; height: 10px;background-color: rgb(0, 139, 139);\"></td><td title=\"Index: [1, 11]&#10;Color: (0, 139, 139)\" style=\"width: 10px; height: 10px;background-color: rgb(0, 139, 139);\"></td><td title=\"Index: [1, 12]&#10;Color: (0, 139, 139)\" style=\"width: 10px; height: 10px;background-color: rgb(0, 139, 139);\"></td><td title=\"Index: [1, 13]&#10;Color: (0, 139, 139)\" style=\"width: 10px; height: 10px;background-color: rgb(0, 139, 139);\"></td><td title=\"Index: [1, 14]&#10;Color: (0, 139, 139)\" style=\"width: 10px; height: 10px;background-color: rgb(0, 139, 139);\"></td><td title=\"Index: [1, 15]&#10;Color: (0, 139, 139)\" style=\"width: 10px; height: 10px;background-color: rgb(0, 139, 139);\"></td><td title=\"Index: [1, 16]&#10;Color: (0, 139, 139)\" style=\"width: 10px; height: 10px;background-color: rgb(0, 139, 139);\"></td><td title=\"Index: [1, 17]&#10;Color: (0, 139, 139)\" style=\"width: 10px; height: 10px;background-color: rgb(0, 139, 139);\"></td><td title=\"Index: [1, 18]&#10;Color: (0, 139, 139)\" style=\"width: 10px; height: 10px;background-color: rgb(0, 139, 139);\"></td><td title=\"Index: [1, 19]&#10;Color: (0, 139, 139)\" style=\"width: 10px; height: 10px;background-color: rgb(0, 139, 139);\"></td></tr><tr><td title=\"Index: [2, 0]&#10;Color: (0, 0, 0)\" style=\"width: 10px; height: 10px;background-color: rgb(0, 0, 0);\"></td><td title=\"Index: [2, 1]&#10;Color: (0, 0, 0)\" style=\"width: 10px; height: 10px;background-color: rgb(0, 0, 0);\"></td><td title=\"Index: [2, 2]&#10;Color: (0, 0, 0)\" style=\"width: 10px; height: 10px;background-color: rgb(0, 0, 0);\"></td><td title=\"Index: [2, 3]&#10;Color: (0, 0, 0)\" style=\"width: 10px; height: 10px;background-color: rgb(0, 0, 0);\"></td><td title=\"Index: [2, 4]&#10;Color: (0, 0, 0)\" style=\"width: 10px; height: 10px;background-color: rgb(0, 0, 0);\"></td><td title=\"Index: [2, 5]&#10;Color: (0, 0, 0)\" style=\"width: 10px; height: 10px;background-color: rgb(0, 0, 0);\"></td><td title=\"Index: [2, 6]&#10;Color: (0, 0, 0)\" style=\"width: 10px; height: 10px;background-color: rgb(0, 0, 0);\"></td><td title=\"Index: [2, 7]&#10;Color: (0, 0, 0)\" style=\"width: 10px; height: 10px;background-color: rgb(0, 0, 0);\"></td><td title=\"Index: [2, 8]&#10;Color: (0, 0, 0)\" style=\"width: 10px; height: 10px;background-color: rgb(0, 0, 0);\"></td><td title=\"Index: [2, 9]&#10;Color: (0, 0, 0)\" style=\"width: 10px; height: 10px;background-color: rgb(0, 0, 0);\"></td><td title=\"Index: [2, 10]&#10;Color: (0, 0, 0)\" style=\"width: 10px; height: 10px;background-color: rgb(0, 0, 0);\"></td><td title=\"Index: [2, 11]&#10;Color: (0, 0, 0)\" style=\"width: 10px; height: 10px;background-color: rgb(0, 0, 0);\"></td><td title=\"Index: [2, 12]&#10;Color: (0, 0, 0)\" style=\"width: 10px; height: 10px;background-color: rgb(0, 0, 0);\"></td><td title=\"Index: [2, 13]&#10;Color: (0, 0, 0)\" style=\"width: 10px; height: 10px;background-color: rgb(0, 0, 0);\"></td><td title=\"Index: [2, 14]&#10;Color: (0, 0, 0)\" style=\"width: 10px; height: 10px;background-color: rgb(0, 0, 0);\"></td><td title=\"Index: [2, 15]&#10;Color: (0, 0, 0)\" style=\"width: 10px; height: 10px;background-color: rgb(0, 0, 0);\"></td><td title=\"Index: [2, 16]&#10;Color: (0, 0, 0)\" style=\"width: 10px; height: 10px;background-color: rgb(0, 0, 0);\"></td><td title=\"Index: [2, 17]&#10;Color: (0, 0, 0)\" style=\"width: 10px; height: 10px;background-color: rgb(0, 0, 0);\"></td><td title=\"Index: [2, 18]&#10;Color: (0, 0, 0)\" style=\"width: 10px; height: 10px;background-color: rgb(0, 0, 0);\"></td><td title=\"Index: [2, 19]&#10;Color: (0, 0, 0)\" style=\"width: 10px; height: 10px;background-color: rgb(0, 0, 0);\"></td></tr><tr><td title=\"Index: [3, 0]&#10;Color: (0, 139, 139)\" style=\"width: 10px; height: 10px;background-color: rgb(0, 139, 139);\"></td><td title=\"Index: [3, 1]&#10;Color: (0, 139, 139)\" style=\"width: 10px; height: 10px;background-color: rgb(0, 139, 139);\"></td><td title=\"Index: [3, 2]&#10;Color: (0, 139, 139)\" style=\"width: 10px; height: 10px;background-color: rgb(0, 139, 139);\"></td><td title=\"Index: [3, 3]&#10;Color: (0, 139, 139)\" style=\"width: 10px; height: 10px;background-color: rgb(0, 139, 139);\"></td><td title=\"Index: [3, 4]&#10;Color: (0, 139, 139)\" style=\"width: 10px; height: 10px;background-color: rgb(0, 139, 139);\"></td><td title=\"Index: [3, 5]&#10;Color: (0, 139, 139)\" style=\"width: 10px; height: 10px;background-color: rgb(0, 139, 139);\"></td><td title=\"Index: [3, 6]&#10;Color: (0, 139, 139)\" style=\"width: 10px; height: 10px;background-color: rgb(0, 139, 139);\"></td><td title=\"Index: [3, 7]&#10;Color: (0, 139, 139)\" style=\"width: 10px; height: 10px;background-color: rgb(0, 139, 139);\"></td><td title=\"Index: [3, 8]&#10;Color: (0, 139, 139)\" style=\"width: 10px; height: 10px;background-color: rgb(0, 139, 139);\"></td><td title=\"Index: [3, 9]&#10;Color: (0, 139, 139)\" style=\"width: 10px; height: 10px;background-color: rgb(0, 139, 139);\"></td><td title=\"Index: [3, 10]&#10;Color: (0, 139, 139)\" style=\"width: 10px; height: 10px;background-color: rgb(0, 139, 139);\"></td><td title=\"Index: [3, 11]&#10;Color: (0, 139, 139)\" style=\"width: 10px; height: 10px;background-color: rgb(0, 139, 139);\"></td><td title=\"Index: [3, 12]&#10;Color: (0, 139, 139)\" style=\"width: 10px; height: 10px;background-color: rgb(0, 139, 139);\"></td><td title=\"Index: [3, 13]&#10;Color: (0, 139, 139)\" style=\"width: 10px; height: 10px;background-color: rgb(0, 139, 139);\"></td><td title=\"Index: [3, 14]&#10;Color: (0, 139, 139)\" style=\"width: 10px; height: 10px;background-color: rgb(0, 139, 139);\"></td><td title=\"Index: [3, 15]&#10;Color: (0, 139, 139)\" style=\"width: 10px; height: 10px;background-color: rgb(0, 139, 139);\"></td><td title=\"Index: [3, 16]&#10;Color: (0, 139, 139)\" style=\"width: 10px; height: 10px;background-color: rgb(0, 139, 139);\"></td><td title=\"Index: [3, 17]&#10;Color: (0, 139, 139)\" style=\"width: 10px; height: 10px;background-color: rgb(0, 139, 139);\"></td><td title=\"Index: [3, 18]&#10;Color: (0, 139, 139)\" style=\"width: 10px; height: 10px;background-color: rgb(0, 139, 139);\"></td><td title=\"Index: [3, 19]&#10;Color: (0, 139, 139)\" style=\"width: 10px; height: 10px;background-color: rgb(0, 139, 139);\"></td></tr><tr><td title=\"Index: [4, 0]&#10;Color: (0, 139, 139)\" style=\"width: 10px; height: 10px;background-color: rgb(0, 139, 139);\"></td><td title=\"Index: [4, 1]&#10;Color: (0, 139, 139)\" style=\"width: 10px; height: 10px;background-color: rgb(0, 139, 139);\"></td><td title=\"Index: [4, 2]&#10;Color: (0, 139, 139)\" style=\"width: 10px; height: 10px;background-color: rgb(0, 139, 139);\"></td><td title=\"Index: [4, 3]&#10;Color: (0, 139, 139)\" style=\"width: 10px; height: 10px;background-color: rgb(0, 139, 139);\"></td><td title=\"Index: [4, 4]&#10;Color: (0, 139, 139)\" style=\"width: 10px; height: 10px;background-color: rgb(0, 139, 139);\"></td><td title=\"Index: [4, 5]&#10;Color: (0, 139, 139)\" style=\"width: 10px; height: 10px;background-color: rgb(0, 139, 139);\"></td><td title=\"Index: [4, 6]&#10;Color: (0, 139, 139)\" style=\"width: 10px; height: 10px;background-color: rgb(0, 139, 139);\"></td><td title=\"Index: [4, 7]&#10;Color: (0, 139, 139)\" style=\"width: 10px; height: 10px;background-color: rgb(0, 139, 139);\"></td><td title=\"Index: [4, 8]&#10;Color: (0, 139, 139)\" style=\"width: 10px; height: 10px;background-color: rgb(0, 139, 139);\"></td><td title=\"Index: [4, 9]&#10;Color: (0, 139, 139)\" style=\"width: 10px; height: 10px;background-color: rgb(0, 139, 139);\"></td><td title=\"Index: [4, 10]&#10;Color: (0, 139, 139)\" style=\"width: 10px; height: 10px;background-color: rgb(0, 139, 139);\"></td><td title=\"Index: [4, 11]&#10;Color: (0, 139, 139)\" style=\"width: 10px; height: 10px;background-color: rgb(0, 139, 139);\"></td><td title=\"Index: [4, 12]&#10;Color: (0, 139, 139)\" style=\"width: 10px; height: 10px;background-color: rgb(0, 139, 139);\"></td><td title=\"Index: [4, 13]&#10;Color: (0, 139, 139)\" style=\"width: 10px; height: 10px;background-color: rgb(0, 139, 139);\"></td><td title=\"Index: [4, 14]&#10;Color: (0, 139, 139)\" style=\"width: 10px; height: 10px;background-color: rgb(0, 139, 139);\"></td><td title=\"Index: [4, 15]&#10;Color: (0, 139, 139)\" style=\"width: 10px; height: 10px;background-color: rgb(0, 139, 139);\"></td><td title=\"Index: [4, 16]&#10;Color: (0, 139, 139)\" style=\"width: 10px; height: 10px;background-color: rgb(0, 139, 139);\"></td><td title=\"Index: [4, 17]&#10;Color: (0, 139, 139)\" style=\"width: 10px; height: 10px;background-color: rgb(0, 139, 139);\"></td><td title=\"Index: [4, 18]&#10;Color: (0, 139, 139)\" style=\"width: 10px; height: 10px;background-color: rgb(0, 139, 139);\"></td><td title=\"Index: [4, 19]&#10;Color: (0, 139, 139)\" style=\"width: 10px; height: 10px;background-color: rgb(0, 139, 139);\"></td></tr><tr><td title=\"Index: [5, 0]&#10;Color: (0, 139, 139)\" style=\"width: 10px; height: 10px;background-color: rgb(0, 139, 139);\"></td><td title=\"Index: [5, 1]&#10;Color: (0, 139, 139)\" style=\"width: 10px; height: 10px;background-color: rgb(0, 139, 139);\"></td><td title=\"Index: [5, 2]&#10;Color: (0, 139, 139)\" style=\"width: 10px; height: 10px;background-color: rgb(0, 139, 139);\"></td><td title=\"Index: [5, 3]&#10;Color: (0, 139, 139)\" style=\"width: 10px; height: 10px;background-color: rgb(0, 139, 139);\"></td><td title=\"Index: [5, 4]&#10;Color: (0, 139, 139)\" style=\"width: 10px; height: 10px;background-color: rgb(0, 139, 139);\"></td><td title=\"Index: [5, 5]&#10;Color: (0, 139, 139)\" style=\"width: 10px; height: 10px;background-color: rgb(0, 139, 139);\"></td><td title=\"Index: [5, 6]&#10;Color: (0, 139, 139)\" style=\"width: 10px; height: 10px;background-color: rgb(0, 139, 139);\"></td><td title=\"Index: [5, 7]&#10;Color: (0, 139, 139)\" style=\"width: 10px; height: 10px;background-color: rgb(0, 139, 139);\"></td><td title=\"Index: [5, 8]&#10;Color: (0, 139, 139)\" style=\"width: 10px; height: 10px;background-color: rgb(0, 139, 139);\"></td><td title=\"Index: [5, 9]&#10;Color: (0, 139, 139)\" style=\"width: 10px; height: 10px;background-color: rgb(0, 139, 139);\"></td><td title=\"Index: [5, 10]&#10;Color: (0, 139, 139)\" style=\"width: 10px; height: 10px;background-color: rgb(0, 139, 139);\"></td><td title=\"Index: [5, 11]&#10;Color: (0, 139, 139)\" style=\"width: 10px; height: 10px;background-color: rgb(0, 139, 139);\"></td><td title=\"Index: [5, 12]&#10;Color: (0, 139, 139)\" style=\"width: 10px; height: 10px;background-color: rgb(0, 139, 139);\"></td><td title=\"Index: [5, 13]&#10;Color: (0, 139, 139)\" style=\"width: 10px; height: 10px;background-color: rgb(0, 139, 139);\"></td><td title=\"Index: [5, 14]&#10;Color: (0, 139, 139)\" style=\"width: 10px; height: 10px;background-color: rgb(0, 139, 139);\"></td><td title=\"Index: [5, 15]&#10;Color: (0, 139, 139)\" style=\"width: 10px; height: 10px;background-color: rgb(0, 139, 139);\"></td><td title=\"Index: [5, 16]&#10;Color: (0, 139, 139)\" style=\"width: 10px; height: 10px;background-color: rgb(0, 139, 139);\"></td><td title=\"Index: [5, 17]&#10;Color: (0, 139, 139)\" style=\"width: 10px; height: 10px;background-color: rgb(0, 139, 139);\"></td><td title=\"Index: [5, 18]&#10;Color: (0, 139, 139)\" style=\"width: 10px; height: 10px;background-color: rgb(0, 139, 139);\"></td><td title=\"Index: [5, 19]&#10;Color: (0, 139, 139)\" style=\"width: 10px; height: 10px;background-color: rgb(0, 139, 139);\"></td></tr><tr><td title=\"Index: [6, 0]&#10;Color: (0, 139, 139)\" style=\"width: 10px; height: 10px;background-color: rgb(0, 139, 139);\"></td><td title=\"Index: [6, 1]&#10;Color: (0, 139, 139)\" style=\"width: 10px; height: 10px;background-color: rgb(0, 139, 139);\"></td><td title=\"Index: [6, 2]&#10;Color: (0, 139, 139)\" style=\"width: 10px; height: 10px;background-color: rgb(0, 139, 139);\"></td><td title=\"Index: [6, 3]&#10;Color: (0, 139, 139)\" style=\"width: 10px; height: 10px;background-color: rgb(0, 139, 139);\"></td><td title=\"Index: [6, 4]&#10;Color: (0, 139, 139)\" style=\"width: 10px; height: 10px;background-color: rgb(0, 139, 139);\"></td><td title=\"Index: [6, 5]&#10;Color: (0, 139, 139)\" style=\"width: 10px; height: 10px;background-color: rgb(0, 139, 139);\"></td><td title=\"Index: [6, 6]&#10;Color: (0, 139, 139)\" style=\"width: 10px; height: 10px;background-color: rgb(0, 139, 139);\"></td><td title=\"Index: [6, 7]&#10;Color: (0, 139, 139)\" style=\"width: 10px; height: 10px;background-color: rgb(0, 139, 139);\"></td><td title=\"Index: [6, 8]&#10;Color: (0, 139, 139)\" style=\"width: 10px; height: 10px;background-color: rgb(0, 139, 139);\"></td><td title=\"Index: [6, 9]&#10;Color: (0, 139, 139)\" style=\"width: 10px; height: 10px;background-color: rgb(0, 139, 139);\"></td><td title=\"Index: [6, 10]&#10;Color: (0, 139, 139)\" style=\"width: 10px; height: 10px;background-color: rgb(0, 139, 139);\"></td><td title=\"Index: [6, 11]&#10;Color: (0, 139, 139)\" style=\"width: 10px; height: 10px;background-color: rgb(0, 139, 139);\"></td><td title=\"Index: [6, 12]&#10;Color: (0, 139, 139)\" style=\"width: 10px; height: 10px;background-color: rgb(0, 139, 139);\"></td><td title=\"Index: [6, 13]&#10;Color: (0, 139, 139)\" style=\"width: 10px; height: 10px;background-color: rgb(0, 139, 139);\"></td><td title=\"Index: [6, 14]&#10;Color: (0, 139, 139)\" style=\"width: 10px; height: 10px;background-color: rgb(0, 139, 139);\"></td><td title=\"Index: [6, 15]&#10;Color: (0, 139, 139)\" style=\"width: 10px; height: 10px;background-color: rgb(0, 139, 139);\"></td><td title=\"Index: [6, 16]&#10;Color: (0, 139, 139)\" style=\"width: 10px; height: 10px;background-color: rgb(0, 139, 139);\"></td><td title=\"Index: [6, 17]&#10;Color: (0, 139, 139)\" style=\"width: 10px; height: 10px;background-color: rgb(0, 139, 139);\"></td><td title=\"Index: [6, 18]&#10;Color: (0, 139, 139)\" style=\"width: 10px; height: 10px;background-color: rgb(0, 139, 139);\"></td><td title=\"Index: [6, 19]&#10;Color: (0, 139, 139)\" style=\"width: 10px; height: 10px;background-color: rgb(0, 139, 139);\"></td></tr><tr><td title=\"Index: [7, 0]&#10;Color: (0, 139, 139)\" style=\"width: 10px; height: 10px;background-color: rgb(0, 139, 139);\"></td><td title=\"Index: [7, 1]&#10;Color: (0, 139, 139)\" style=\"width: 10px; height: 10px;background-color: rgb(0, 139, 139);\"></td><td title=\"Index: [7, 2]&#10;Color: (0, 139, 139)\" style=\"width: 10px; height: 10px;background-color: rgb(0, 139, 139);\"></td><td title=\"Index: [7, 3]&#10;Color: (0, 139, 139)\" style=\"width: 10px; height: 10px;background-color: rgb(0, 139, 139);\"></td><td title=\"Index: [7, 4]&#10;Color: (0, 139, 139)\" style=\"width: 10px; height: 10px;background-color: rgb(0, 139, 139);\"></td><td title=\"Index: [7, 5]&#10;Color: (0, 139, 139)\" style=\"width: 10px; height: 10px;background-color: rgb(0, 139, 139);\"></td><td title=\"Index: [7, 6]&#10;Color: (0, 139, 139)\" style=\"width: 10px; height: 10px;background-color: rgb(0, 139, 139);\"></td><td title=\"Index: [7, 7]&#10;Color: (0, 139, 139)\" style=\"width: 10px; height: 10px;background-color: rgb(0, 139, 139);\"></td><td title=\"Index: [7, 8]&#10;Color: (0, 139, 139)\" style=\"width: 10px; height: 10px;background-color: rgb(0, 139, 139);\"></td><td title=\"Index: [7, 9]&#10;Color: (0, 139, 139)\" style=\"width: 10px; height: 10px;background-color: rgb(0, 139, 139);\"></td><td title=\"Index: [7, 10]&#10;Color: (0, 139, 139)\" style=\"width: 10px; height: 10px;background-color: rgb(0, 139, 139);\"></td><td title=\"Index: [7, 11]&#10;Color: (0, 139, 139)\" style=\"width: 10px; height: 10px;background-color: rgb(0, 139, 139);\"></td><td title=\"Index: [7, 12]&#10;Color: (0, 139, 139)\" style=\"width: 10px; height: 10px;background-color: rgb(0, 139, 139);\"></td><td title=\"Index: [7, 13]&#10;Color: (0, 139, 139)\" style=\"width: 10px; height: 10px;background-color: rgb(0, 139, 139);\"></td><td title=\"Index: [7, 14]&#10;Color: (0, 139, 139)\" style=\"width: 10px; height: 10px;background-color: rgb(0, 139, 139);\"></td><td title=\"Index: [7, 15]&#10;Color: (0, 139, 139)\" style=\"width: 10px; height: 10px;background-color: rgb(0, 139, 139);\"></td><td title=\"Index: [7, 16]&#10;Color: (0, 139, 139)\" style=\"width: 10px; height: 10px;background-color: rgb(0, 139, 139);\"></td><td title=\"Index: [7, 17]&#10;Color: (0, 139, 139)\" style=\"width: 10px; height: 10px;background-color: rgb(0, 139, 139);\"></td><td title=\"Index: [7, 18]&#10;Color: (0, 139, 139)\" style=\"width: 10px; height: 10px;background-color: rgb(0, 139, 139);\"></td><td title=\"Index: [7, 19]&#10;Color: (0, 139, 139)\" style=\"width: 10px; height: 10px;background-color: rgb(0, 139, 139);\"></td></tr><tr><td title=\"Index: [8, 0]&#10;Color: (0, 139, 139)\" style=\"width: 10px; height: 10px;background-color: rgb(0, 139, 139);\"></td><td title=\"Index: [8, 1]&#10;Color: (0, 139, 139)\" style=\"width: 10px; height: 10px;background-color: rgb(0, 139, 139);\"></td><td title=\"Index: [8, 2]&#10;Color: (0, 139, 139)\" style=\"width: 10px; height: 10px;background-color: rgb(0, 139, 139);\"></td><td title=\"Index: [8, 3]&#10;Color: (0, 139, 139)\" style=\"width: 10px; height: 10px;background-color: rgb(0, 139, 139);\"></td><td title=\"Index: [8, 4]&#10;Color: (0, 139, 139)\" style=\"width: 10px; height: 10px;background-color: rgb(0, 139, 139);\"></td><td title=\"Index: [8, 5]&#10;Color: (0, 139, 139)\" style=\"width: 10px; height: 10px;background-color: rgb(0, 139, 139);\"></td><td title=\"Index: [8, 6]&#10;Color: (0, 139, 139)\" style=\"width: 10px; height: 10px;background-color: rgb(0, 139, 139);\"></td><td title=\"Index: [8, 7]&#10;Color: (0, 139, 139)\" style=\"width: 10px; height: 10px;background-color: rgb(0, 139, 139);\"></td><td title=\"Index: [8, 8]&#10;Color: (0, 139, 139)\" style=\"width: 10px; height: 10px;background-color: rgb(0, 139, 139);\"></td><td title=\"Index: [8, 9]&#10;Color: (0, 139, 139)\" style=\"width: 10px; height: 10px;background-color: rgb(0, 139, 139);\"></td><td title=\"Index: [8, 10]&#10;Color: (0, 139, 139)\" style=\"width: 10px; height: 10px;background-color: rgb(0, 139, 139);\"></td><td title=\"Index: [8, 11]&#10;Color: (0, 139, 139)\" style=\"width: 10px; height: 10px;background-color: rgb(0, 139, 139);\"></td><td title=\"Index: [8, 12]&#10;Color: (0, 139, 139)\" style=\"width: 10px; height: 10px;background-color: rgb(0, 139, 139);\"></td><td title=\"Index: [8, 13]&#10;Color: (0, 139, 139)\" style=\"width: 10px; height: 10px;background-color: rgb(0, 139, 139);\"></td><td title=\"Index: [8, 14]&#10;Color: (0, 139, 139)\" style=\"width: 10px; height: 10px;background-color: rgb(0, 139, 139);\"></td><td title=\"Index: [8, 15]&#10;Color: (0, 139, 139)\" style=\"width: 10px; height: 10px;background-color: rgb(0, 139, 139);\"></td><td title=\"Index: [8, 16]&#10;Color: (0, 139, 139)\" style=\"width: 10px; height: 10px;background-color: rgb(0, 139, 139);\"></td><td title=\"Index: [8, 17]&#10;Color: (0, 139, 139)\" style=\"width: 10px; height: 10px;background-color: rgb(0, 139, 139);\"></td><td title=\"Index: [8, 18]&#10;Color: (0, 139, 139)\" style=\"width: 10px; height: 10px;background-color: rgb(0, 139, 139);\"></td><td title=\"Index: [8, 19]&#10;Color: (0, 139, 139)\" style=\"width: 10px; height: 10px;background-color: rgb(0, 139, 139);\"></td></tr><tr><td title=\"Index: [9, 0]&#10;Color: (0, 0, 0)\" style=\"width: 10px; height: 10px;background-color: rgb(0, 0, 0);\"></td><td title=\"Index: [9, 1]&#10;Color: (0, 0, 0)\" style=\"width: 10px; height: 10px;background-color: rgb(0, 0, 0);\"></td><td title=\"Index: [9, 2]&#10;Color: (0, 0, 0)\" style=\"width: 10px; height: 10px;background-color: rgb(0, 0, 0);\"></td><td title=\"Index: [9, 3]&#10;Color: (0, 0, 0)\" style=\"width: 10px; height: 10px;background-color: rgb(0, 0, 0);\"></td><td title=\"Index: [9, 4]&#10;Color: (0, 0, 0)\" style=\"width: 10px; height: 10px;background-color: rgb(0, 0, 0);\"></td><td title=\"Index: [9, 5]&#10;Color: (0, 0, 0)\" style=\"width: 10px; height: 10px;background-color: rgb(0, 0, 0);\"></td><td title=\"Index: [9, 6]&#10;Color: (0, 0, 0)\" style=\"width: 10px; height: 10px;background-color: rgb(0, 0, 0);\"></td><td title=\"Index: [9, 7]&#10;Color: (0, 0, 0)\" style=\"width: 10px; height: 10px;background-color: rgb(0, 0, 0);\"></td><td title=\"Index: [9, 8]&#10;Color: (0, 0, 0)\" style=\"width: 10px; height: 10px;background-color: rgb(0, 0, 0);\"></td><td title=\"Index: [9, 9]&#10;Color: (0, 0, 0)\" style=\"width: 10px; height: 10px;background-color: rgb(0, 0, 0);\"></td><td title=\"Index: [9, 10]&#10;Color: (0, 0, 0)\" style=\"width: 10px; height: 10px;background-color: rgb(0, 0, 0);\"></td><td title=\"Index: [9, 11]&#10;Color: (0, 0, 0)\" style=\"width: 10px; height: 10px;background-color: rgb(0, 0, 0);\"></td><td title=\"Index: [9, 12]&#10;Color: (0, 0, 0)\" style=\"width: 10px; height: 10px;background-color: rgb(0, 0, 0);\"></td><td title=\"Index: [9, 13]&#10;Color: (0, 0, 0)\" style=\"width: 10px; height: 10px;background-color: rgb(0, 0, 0);\"></td><td title=\"Index: [9, 14]&#10;Color: (0, 0, 0)\" style=\"width: 10px; height: 10px;background-color: rgb(0, 0, 0);\"></td><td title=\"Index: [9, 15]&#10;Color: (0, 0, 0)\" style=\"width: 10px; height: 10px;background-color: rgb(0, 0, 0);\"></td><td title=\"Index: [9, 16]&#10;Color: (0, 0, 0)\" style=\"width: 10px; height: 10px;background-color: rgb(0, 0, 0);\"></td><td title=\"Index: [9, 17]&#10;Color: (0, 0, 0)\" style=\"width: 10px; height: 10px;background-color: rgb(0, 0, 0);\"></td><td title=\"Index: [9, 18]&#10;Color: (0, 0, 0)\" style=\"width: 10px; height: 10px;background-color: rgb(0, 0, 0);\"></td><td title=\"Index: [9, 19]&#10;Color: (0, 0, 0)\" style=\"width: 10px; height: 10px;background-color: rgb(0, 0, 0);\"></td></tr><tr><td title=\"Index: [10, 0]&#10;Color: (255, 215, 0)\" style=\"width: 10px; height: 10px;background-color: rgb(255, 215, 0);\"></td><td title=\"Index: [10, 1]&#10;Color: (255, 215, 0)\" style=\"width: 10px; height: 10px;background-color: rgb(255, 215, 0);\"></td><td title=\"Index: [10, 2]&#10;Color: (255, 215, 0)\" style=\"width: 10px; height: 10px;background-color: rgb(255, 215, 0);\"></td><td title=\"Index: [10, 3]&#10;Color: (255, 215, 0)\" style=\"width: 10px; height: 10px;background-color: rgb(255, 215, 0);\"></td><td title=\"Index: [10, 4]&#10;Color: (255, 215, 0)\" style=\"width: 10px; height: 10px;background-color: rgb(255, 215, 0);\"></td><td title=\"Index: [10, 5]&#10;Color: (255, 215, 0)\" style=\"width: 10px; height: 10px;background-color: rgb(255, 215, 0);\"></td><td title=\"Index: [10, 6]&#10;Color: (255, 215, 0)\" style=\"width: 10px; height: 10px;background-color: rgb(255, 215, 0);\"></td><td title=\"Index: [10, 7]&#10;Color: (255, 215, 0)\" style=\"width: 10px; height: 10px;background-color: rgb(255, 215, 0);\"></td><td title=\"Index: [10, 8]&#10;Color: (255, 215, 0)\" style=\"width: 10px; height: 10px;background-color: rgb(255, 215, 0);\"></td><td title=\"Index: [10, 9]&#10;Color: (255, 215, 0)\" style=\"width: 10px; height: 10px;background-color: rgb(255, 215, 0);\"></td><td title=\"Index: [10, 10]&#10;Color: (0, 139, 139)\" style=\"width: 10px; height: 10px;background-color: rgb(0, 139, 139);\"></td><td title=\"Index: [10, 11]&#10;Color: (0, 139, 139)\" style=\"width: 10px; height: 10px;background-color: rgb(0, 139, 139);\"></td><td title=\"Index: [10, 12]&#10;Color: (0, 139, 139)\" style=\"width: 10px; height: 10px;background-color: rgb(0, 139, 139);\"></td><td title=\"Index: [10, 13]&#10;Color: (0, 139, 139)\" style=\"width: 10px; height: 10px;background-color: rgb(0, 139, 139);\"></td><td title=\"Index: [10, 14]&#10;Color: (0, 139, 139)\" style=\"width: 10px; height: 10px;background-color: rgb(0, 139, 139);\"></td><td title=\"Index: [10, 15]&#10;Color: (0, 139, 139)\" style=\"width: 10px; height: 10px;background-color: rgb(0, 139, 139);\"></td><td title=\"Index: [10, 16]&#10;Color: (0, 139, 139)\" style=\"width: 10px; height: 10px;background-color: rgb(0, 139, 139);\"></td><td title=\"Index: [10, 17]&#10;Color: (0, 139, 139)\" style=\"width: 10px; height: 10px;background-color: rgb(0, 139, 139);\"></td><td title=\"Index: [10, 18]&#10;Color: (0, 139, 139)\" style=\"width: 10px; height: 10px;background-color: rgb(0, 139, 139);\"></td><td title=\"Index: [10, 19]&#10;Color: (0, 139, 139)\" style=\"width: 10px; height: 10px;background-color: rgb(0, 139, 139);\"></td></tr><tr><td title=\"Index: [11, 0]&#10;Color: (255, 215, 0)\" style=\"width: 10px; height: 10px;background-color: rgb(255, 215, 0);\"></td><td title=\"Index: [11, 1]&#10;Color: (255, 215, 0)\" style=\"width: 10px; height: 10px;background-color: rgb(255, 215, 0);\"></td><td title=\"Index: [11, 2]&#10;Color: (255, 215, 0)\" style=\"width: 10px; height: 10px;background-color: rgb(255, 215, 0);\"></td><td title=\"Index: [11, 3]&#10;Color: (255, 215, 0)\" style=\"width: 10px; height: 10px;background-color: rgb(255, 215, 0);\"></td><td title=\"Index: [11, 4]&#10;Color: (255, 215, 0)\" style=\"width: 10px; height: 10px;background-color: rgb(255, 215, 0);\"></td><td title=\"Index: [11, 5]&#10;Color: (255, 215, 0)\" style=\"width: 10px; height: 10px;background-color: rgb(255, 215, 0);\"></td><td title=\"Index: [11, 6]&#10;Color: (255, 215, 0)\" style=\"width: 10px; height: 10px;background-color: rgb(255, 215, 0);\"></td><td title=\"Index: [11, 7]&#10;Color: (255, 215, 0)\" style=\"width: 10px; height: 10px;background-color: rgb(255, 215, 0);\"></td><td title=\"Index: [11, 8]&#10;Color: (255, 215, 0)\" style=\"width: 10px; height: 10px;background-color: rgb(255, 215, 0);\"></td><td title=\"Index: [11, 9]&#10;Color: (255, 215, 0)\" style=\"width: 10px; height: 10px;background-color: rgb(255, 215, 0);\"></td><td title=\"Index: [11, 10]&#10;Color: (0, 139, 139)\" style=\"width: 10px; height: 10px;background-color: rgb(0, 139, 139);\"></td><td title=\"Index: [11, 11]&#10;Color: (0, 139, 139)\" style=\"width: 10px; height: 10px;background-color: rgb(0, 139, 139);\"></td><td title=\"Index: [11, 12]&#10;Color: (0, 139, 139)\" style=\"width: 10px; height: 10px;background-color: rgb(0, 139, 139);\"></td><td title=\"Index: [11, 13]&#10;Color: (0, 139, 139)\" style=\"width: 10px; height: 10px;background-color: rgb(0, 139, 139);\"></td><td title=\"Index: [11, 14]&#10;Color: (0, 139, 139)\" style=\"width: 10px; height: 10px;background-color: rgb(0, 139, 139);\"></td><td title=\"Index: [11, 15]&#10;Color: (0, 139, 139)\" style=\"width: 10px; height: 10px;background-color: rgb(0, 139, 139);\"></td><td title=\"Index: [11, 16]&#10;Color: (0, 139, 139)\" style=\"width: 10px; height: 10px;background-color: rgb(0, 139, 139);\"></td><td title=\"Index: [11, 17]&#10;Color: (0, 139, 139)\" style=\"width: 10px; height: 10px;background-color: rgb(0, 139, 139);\"></td><td title=\"Index: [11, 18]&#10;Color: (0, 139, 139)\" style=\"width: 10px; height: 10px;background-color: rgb(0, 139, 139);\"></td><td title=\"Index: [11, 19]&#10;Color: (0, 139, 139)\" style=\"width: 10px; height: 10px;background-color: rgb(0, 139, 139);\"></td></tr><tr><td title=\"Index: [12, 0]&#10;Color: (255, 215, 0)\" style=\"width: 10px; height: 10px;background-color: rgb(255, 215, 0);\"></td><td title=\"Index: [12, 1]&#10;Color: (255, 215, 0)\" style=\"width: 10px; height: 10px;background-color: rgb(255, 215, 0);\"></td><td title=\"Index: [12, 2]&#10;Color: (255, 215, 0)\" style=\"width: 10px; height: 10px;background-color: rgb(255, 215, 0);\"></td><td title=\"Index: [12, 3]&#10;Color: (255, 215, 0)\" style=\"width: 10px; height: 10px;background-color: rgb(255, 215, 0);\"></td><td title=\"Index: [12, 4]&#10;Color: (255, 215, 0)\" style=\"width: 10px; height: 10px;background-color: rgb(255, 215, 0);\"></td><td title=\"Index: [12, 5]&#10;Color: (255, 215, 0)\" style=\"width: 10px; height: 10px;background-color: rgb(255, 215, 0);\"></td><td title=\"Index: [12, 6]&#10;Color: (255, 215, 0)\" style=\"width: 10px; height: 10px;background-color: rgb(255, 215, 0);\"></td><td title=\"Index: [12, 7]&#10;Color: (255, 215, 0)\" style=\"width: 10px; height: 10px;background-color: rgb(255, 215, 0);\"></td><td title=\"Index: [12, 8]&#10;Color: (255, 215, 0)\" style=\"width: 10px; height: 10px;background-color: rgb(255, 215, 0);\"></td><td title=\"Index: [12, 9]&#10;Color: (255, 215, 0)\" style=\"width: 10px; height: 10px;background-color: rgb(255, 215, 0);\"></td><td title=\"Index: [12, 10]&#10;Color: (0, 139, 139)\" style=\"width: 10px; height: 10px;background-color: rgb(0, 139, 139);\"></td><td title=\"Index: [12, 11]&#10;Color: (0, 139, 139)\" style=\"width: 10px; height: 10px;background-color: rgb(0, 139, 139);\"></td><td title=\"Index: [12, 12]&#10;Color: (0, 139, 139)\" style=\"width: 10px; height: 10px;background-color: rgb(0, 139, 139);\"></td><td title=\"Index: [12, 13]&#10;Color: (0, 139, 139)\" style=\"width: 10px; height: 10px;background-color: rgb(0, 139, 139);\"></td><td title=\"Index: [12, 14]&#10;Color: (0, 139, 139)\" style=\"width: 10px; height: 10px;background-color: rgb(0, 139, 139);\"></td><td title=\"Index: [12, 15]&#10;Color: (0, 139, 139)\" style=\"width: 10px; height: 10px;background-color: rgb(0, 139, 139);\"></td><td title=\"Index: [12, 16]&#10;Color: (0, 139, 139)\" style=\"width: 10px; height: 10px;background-color: rgb(0, 139, 139);\"></td><td title=\"Index: [12, 17]&#10;Color: (0, 139, 139)\" style=\"width: 10px; height: 10px;background-color: rgb(0, 139, 139);\"></td><td title=\"Index: [12, 18]&#10;Color: (0, 139, 139)\" style=\"width: 10px; height: 10px;background-color: rgb(0, 139, 139);\"></td><td title=\"Index: [12, 19]&#10;Color: (0, 139, 139)\" style=\"width: 10px; height: 10px;background-color: rgb(0, 139, 139);\"></td></tr><tr><td title=\"Index: [13, 0]&#10;Color: (255, 215, 0)\" style=\"width: 10px; height: 10px;background-color: rgb(255, 215, 0);\"></td><td title=\"Index: [13, 1]&#10;Color: (255, 215, 0)\" style=\"width: 10px; height: 10px;background-color: rgb(255, 215, 0);\"></td><td title=\"Index: [13, 2]&#10;Color: (255, 215, 0)\" style=\"width: 10px; height: 10px;background-color: rgb(255, 215, 0);\"></td><td title=\"Index: [13, 3]&#10;Color: (255, 215, 0)\" style=\"width: 10px; height: 10px;background-color: rgb(255, 215, 0);\"></td><td title=\"Index: [13, 4]&#10;Color: (255, 215, 0)\" style=\"width: 10px; height: 10px;background-color: rgb(255, 215, 0);\"></td><td title=\"Index: [13, 5]&#10;Color: (255, 215, 0)\" style=\"width: 10px; height: 10px;background-color: rgb(255, 215, 0);\"></td><td title=\"Index: [13, 6]&#10;Color: (255, 215, 0)\" style=\"width: 10px; height: 10px;background-color: rgb(255, 215, 0);\"></td><td title=\"Index: [13, 7]&#10;Color: (255, 215, 0)\" style=\"width: 10px; height: 10px;background-color: rgb(255, 215, 0);\"></td><td title=\"Index: [13, 8]&#10;Color: (255, 215, 0)\" style=\"width: 10px; height: 10px;background-color: rgb(255, 215, 0);\"></td><td title=\"Index: [13, 9]&#10;Color: (255, 215, 0)\" style=\"width: 10px; height: 10px;background-color: rgb(255, 215, 0);\"></td><td title=\"Index: [13, 10]&#10;Color: (0, 139, 139)\" style=\"width: 10px; height: 10px;background-color: rgb(0, 139, 139);\"></td><td title=\"Index: [13, 11]&#10;Color: (0, 139, 139)\" style=\"width: 10px; height: 10px;background-color: rgb(0, 139, 139);\"></td><td title=\"Index: [13, 12]&#10;Color: (0, 139, 139)\" style=\"width: 10px; height: 10px;background-color: rgb(0, 139, 139);\"></td><td title=\"Index: [13, 13]&#10;Color: (0, 139, 139)\" style=\"width: 10px; height: 10px;background-color: rgb(0, 139, 139);\"></td><td title=\"Index: [13, 14]&#10;Color: (0, 139, 139)\" style=\"width: 10px; height: 10px;background-color: rgb(0, 139, 139);\"></td><td title=\"Index: [13, 15]&#10;Color: (0, 139, 139)\" style=\"width: 10px; height: 10px;background-color: rgb(0, 139, 139);\"></td><td title=\"Index: [13, 16]&#10;Color: (0, 139, 139)\" style=\"width: 10px; height: 10px;background-color: rgb(0, 139, 139);\"></td><td title=\"Index: [13, 17]&#10;Color: (0, 139, 139)\" style=\"width: 10px; height: 10px;background-color: rgb(0, 139, 139);\"></td><td title=\"Index: [13, 18]&#10;Color: (0, 139, 139)\" style=\"width: 10px; height: 10px;background-color: rgb(0, 139, 139);\"></td><td title=\"Index: [13, 19]&#10;Color: (0, 139, 139)\" style=\"width: 10px; height: 10px;background-color: rgb(0, 139, 139);\"></td></tr><tr><td title=\"Index: [14, 0]&#10;Color: (255, 215, 0)\" style=\"width: 10px; height: 10px;background-color: rgb(255, 215, 0);\"></td><td title=\"Index: [14, 1]&#10;Color: (255, 215, 0)\" style=\"width: 10px; height: 10px;background-color: rgb(255, 215, 0);\"></td><td title=\"Index: [14, 2]&#10;Color: (255, 215, 0)\" style=\"width: 10px; height: 10px;background-color: rgb(255, 215, 0);\"></td><td title=\"Index: [14, 3]&#10;Color: (255, 215, 0)\" style=\"width: 10px; height: 10px;background-color: rgb(255, 215, 0);\"></td><td title=\"Index: [14, 4]&#10;Color: (255, 215, 0)\" style=\"width: 10px; height: 10px;background-color: rgb(255, 215, 0);\"></td><td title=\"Index: [14, 5]&#10;Color: (255, 215, 0)\" style=\"width: 10px; height: 10px;background-color: rgb(255, 215, 0);\"></td><td title=\"Index: [14, 6]&#10;Color: (255, 215, 0)\" style=\"width: 10px; height: 10px;background-color: rgb(255, 215, 0);\"></td><td title=\"Index: [14, 7]&#10;Color: (255, 215, 0)\" style=\"width: 10px; height: 10px;background-color: rgb(255, 215, 0);\"></td><td title=\"Index: [14, 8]&#10;Color: (255, 215, 0)\" style=\"width: 10px; height: 10px;background-color: rgb(255, 215, 0);\"></td><td title=\"Index: [14, 9]&#10;Color: (255, 215, 0)\" style=\"width: 10px; height: 10px;background-color: rgb(255, 215, 0);\"></td><td title=\"Index: [14, 10]&#10;Color: (0, 139, 139)\" style=\"width: 10px; height: 10px;background-color: rgb(0, 139, 139);\"></td><td title=\"Index: [14, 11]&#10;Color: (0, 139, 139)\" style=\"width: 10px; height: 10px;background-color: rgb(0, 139, 139);\"></td><td title=\"Index: [14, 12]&#10;Color: (0, 139, 139)\" style=\"width: 10px; height: 10px;background-color: rgb(0, 139, 139);\"></td><td title=\"Index: [14, 13]&#10;Color: (0, 139, 139)\" style=\"width: 10px; height: 10px;background-color: rgb(0, 139, 139);\"></td><td title=\"Index: [14, 14]&#10;Color: (0, 139, 139)\" style=\"width: 10px; height: 10px;background-color: rgb(0, 139, 139);\"></td><td title=\"Index: [14, 15]&#10;Color: (0, 139, 139)\" style=\"width: 10px; height: 10px;background-color: rgb(0, 139, 139);\"></td><td title=\"Index: [14, 16]&#10;Color: (0, 139, 139)\" style=\"width: 10px; height: 10px;background-color: rgb(0, 139, 139);\"></td><td title=\"Index: [14, 17]&#10;Color: (0, 139, 139)\" style=\"width: 10px; height: 10px;background-color: rgb(0, 139, 139);\"></td><td title=\"Index: [14, 18]&#10;Color: (0, 139, 139)\" style=\"width: 10px; height: 10px;background-color: rgb(0, 139, 139);\"></td><td title=\"Index: [14, 19]&#10;Color: (0, 139, 139)\" style=\"width: 10px; height: 10px;background-color: rgb(0, 139, 139);\"></td></tr><tr><td title=\"Index: [15, 0]&#10;Color: (255, 215, 0)\" style=\"width: 10px; height: 10px;background-color: rgb(255, 215, 0);\"></td><td title=\"Index: [15, 1]&#10;Color: (255, 215, 0)\" style=\"width: 10px; height: 10px;background-color: rgb(255, 215, 0);\"></td><td title=\"Index: [15, 2]&#10;Color: (255, 215, 0)\" style=\"width: 10px; height: 10px;background-color: rgb(255, 215, 0);\"></td><td title=\"Index: [15, 3]&#10;Color: (255, 215, 0)\" style=\"width: 10px; height: 10px;background-color: rgb(255, 215, 0);\"></td><td title=\"Index: [15, 4]&#10;Color: (255, 215, 0)\" style=\"width: 10px; height: 10px;background-color: rgb(255, 215, 0);\"></td><td title=\"Index: [15, 5]&#10;Color: (255, 215, 0)\" style=\"width: 10px; height: 10px;background-color: rgb(255, 215, 0);\"></td><td title=\"Index: [15, 6]&#10;Color: (255, 215, 0)\" style=\"width: 10px; height: 10px;background-color: rgb(255, 215, 0);\"></td><td title=\"Index: [15, 7]&#10;Color: (255, 215, 0)\" style=\"width: 10px; height: 10px;background-color: rgb(255, 215, 0);\"></td><td title=\"Index: [15, 8]&#10;Color: (255, 215, 0)\" style=\"width: 10px; height: 10px;background-color: rgb(255, 215, 0);\"></td><td title=\"Index: [15, 9]&#10;Color: (255, 215, 0)\" style=\"width: 10px; height: 10px;background-color: rgb(255, 215, 0);\"></td><td title=\"Index: [15, 10]&#10;Color: (0, 139, 139)\" style=\"width: 10px; height: 10px;background-color: rgb(0, 139, 139);\"></td><td title=\"Index: [15, 11]&#10;Color: (0, 139, 139)\" style=\"width: 10px; height: 10px;background-color: rgb(0, 139, 139);\"></td><td title=\"Index: [15, 12]&#10;Color: (0, 139, 139)\" style=\"width: 10px; height: 10px;background-color: rgb(0, 139, 139);\"></td><td title=\"Index: [15, 13]&#10;Color: (0, 139, 139)\" style=\"width: 10px; height: 10px;background-color: rgb(0, 139, 139);\"></td><td title=\"Index: [15, 14]&#10;Color: (0, 139, 139)\" style=\"width: 10px; height: 10px;background-color: rgb(0, 139, 139);\"></td><td title=\"Index: [15, 15]&#10;Color: (0, 139, 139)\" style=\"width: 10px; height: 10px;background-color: rgb(0, 139, 139);\"></td><td title=\"Index: [15, 16]&#10;Color: (0, 139, 139)\" style=\"width: 10px; height: 10px;background-color: rgb(0, 139, 139);\"></td><td title=\"Index: [15, 17]&#10;Color: (0, 139, 139)\" style=\"width: 10px; height: 10px;background-color: rgb(0, 139, 139);\"></td><td title=\"Index: [15, 18]&#10;Color: (0, 139, 139)\" style=\"width: 10px; height: 10px;background-color: rgb(0, 139, 139);\"></td><td title=\"Index: [15, 19]&#10;Color: (0, 139, 139)\" style=\"width: 10px; height: 10px;background-color: rgb(0, 139, 139);\"></td></tr><tr><td title=\"Index: [16, 0]&#10;Color: (255, 215, 0)\" style=\"width: 10px; height: 10px;background-color: rgb(255, 215, 0);\"></td><td title=\"Index: [16, 1]&#10;Color: (255, 215, 0)\" style=\"width: 10px; height: 10px;background-color: rgb(255, 215, 0);\"></td><td title=\"Index: [16, 2]&#10;Color: (255, 215, 0)\" style=\"width: 10px; height: 10px;background-color: rgb(255, 215, 0);\"></td><td title=\"Index: [16, 3]&#10;Color: (255, 215, 0)\" style=\"width: 10px; height: 10px;background-color: rgb(255, 215, 0);\"></td><td title=\"Index: [16, 4]&#10;Color: (255, 215, 0)\" style=\"width: 10px; height: 10px;background-color: rgb(255, 215, 0);\"></td><td title=\"Index: [16, 5]&#10;Color: (255, 215, 0)\" style=\"width: 10px; height: 10px;background-color: rgb(255, 215, 0);\"></td><td title=\"Index: [16, 6]&#10;Color: (255, 215, 0)\" style=\"width: 10px; height: 10px;background-color: rgb(255, 215, 0);\"></td><td title=\"Index: [16, 7]&#10;Color: (255, 215, 0)\" style=\"width: 10px; height: 10px;background-color: rgb(255, 215, 0);\"></td><td title=\"Index: [16, 8]&#10;Color: (255, 215, 0)\" style=\"width: 10px; height: 10px;background-color: rgb(255, 215, 0);\"></td><td title=\"Index: [16, 9]&#10;Color: (255, 215, 0)\" style=\"width: 10px; height: 10px;background-color: rgb(255, 215, 0);\"></td><td title=\"Index: [16, 10]&#10;Color: (0, 139, 139)\" style=\"width: 10px; height: 10px;background-color: rgb(0, 139, 139);\"></td><td title=\"Index: [16, 11]&#10;Color: (0, 139, 139)\" style=\"width: 10px; height: 10px;background-color: rgb(0, 139, 139);\"></td><td title=\"Index: [16, 12]&#10;Color: (0, 139, 139)\" style=\"width: 10px; height: 10px;background-color: rgb(0, 139, 139);\"></td><td title=\"Index: [16, 13]&#10;Color: (0, 139, 139)\" style=\"width: 10px; height: 10px;background-color: rgb(0, 139, 139);\"></td><td title=\"Index: [16, 14]&#10;Color: (0, 139, 139)\" style=\"width: 10px; height: 10px;background-color: rgb(0, 139, 139);\"></td><td title=\"Index: [16, 15]&#10;Color: (0, 139, 139)\" style=\"width: 10px; height: 10px;background-color: rgb(0, 139, 139);\"></td><td title=\"Index: [16, 16]&#10;Color: (0, 139, 139)\" style=\"width: 10px; height: 10px;background-color: rgb(0, 139, 139);\"></td><td title=\"Index: [16, 17]&#10;Color: (0, 139, 139)\" style=\"width: 10px; height: 10px;background-color: rgb(0, 139, 139);\"></td><td title=\"Index: [16, 18]&#10;Color: (0, 139, 139)\" style=\"width: 10px; height: 10px;background-color: rgb(0, 139, 139);\"></td><td title=\"Index: [16, 19]&#10;Color: (0, 139, 139)\" style=\"width: 10px; height: 10px;background-color: rgb(0, 139, 139);\"></td></tr><tr><td title=\"Index: [17, 0]&#10;Color: (255, 215, 0)\" style=\"width: 10px; height: 10px;background-color: rgb(255, 215, 0);\"></td><td title=\"Index: [17, 1]&#10;Color: (255, 215, 0)\" style=\"width: 10px; height: 10px;background-color: rgb(255, 215, 0);\"></td><td title=\"Index: [17, 2]&#10;Color: (255, 215, 0)\" style=\"width: 10px; height: 10px;background-color: rgb(255, 215, 0);\"></td><td title=\"Index: [17, 3]&#10;Color: (255, 215, 0)\" style=\"width: 10px; height: 10px;background-color: rgb(255, 215, 0);\"></td><td title=\"Index: [17, 4]&#10;Color: (255, 215, 0)\" style=\"width: 10px; height: 10px;background-color: rgb(255, 215, 0);\"></td><td title=\"Index: [17, 5]&#10;Color: (255, 215, 0)\" style=\"width: 10px; height: 10px;background-color: rgb(255, 215, 0);\"></td><td title=\"Index: [17, 6]&#10;Color: (255, 215, 0)\" style=\"width: 10px; height: 10px;background-color: rgb(255, 215, 0);\"></td><td title=\"Index: [17, 7]&#10;Color: (255, 215, 0)\" style=\"width: 10px; height: 10px;background-color: rgb(255, 215, 0);\"></td><td title=\"Index: [17, 8]&#10;Color: (255, 215, 0)\" style=\"width: 10px; height: 10px;background-color: rgb(255, 215, 0);\"></td><td title=\"Index: [17, 9]&#10;Color: (255, 215, 0)\" style=\"width: 10px; height: 10px;background-color: rgb(255, 215, 0);\"></td><td title=\"Index: [17, 10]&#10;Color: (0, 0, 0)\" style=\"width: 10px; height: 10px;background-color: rgb(0, 0, 0);\"></td><td title=\"Index: [17, 11]&#10;Color: (0, 0, 0)\" style=\"width: 10px; height: 10px;background-color: rgb(0, 0, 0);\"></td><td title=\"Index: [17, 12]&#10;Color: (0, 0, 0)\" style=\"width: 10px; height: 10px;background-color: rgb(0, 0, 0);\"></td><td title=\"Index: [17, 13]&#10;Color: (0, 0, 0)\" style=\"width: 10px; height: 10px;background-color: rgb(0, 0, 0);\"></td><td title=\"Index: [17, 14]&#10;Color: (0, 0, 0)\" style=\"width: 10px; height: 10px;background-color: rgb(0, 0, 0);\"></td><td title=\"Index: [17, 15]&#10;Color: (0, 0, 0)\" style=\"width: 10px; height: 10px;background-color: rgb(0, 0, 0);\"></td><td title=\"Index: [17, 16]&#10;Color: (0, 0, 0)\" style=\"width: 10px; height: 10px;background-color: rgb(0, 0, 0);\"></td><td title=\"Index: [17, 17]&#10;Color: (0, 0, 0)\" style=\"width: 10px; height: 10px;background-color: rgb(0, 0, 0);\"></td><td title=\"Index: [17, 18]&#10;Color: (0, 0, 0)\" style=\"width: 10px; height: 10px;background-color: rgb(0, 0, 0);\"></td><td title=\"Index: [17, 19]&#10;Color: (0, 0, 0)\" style=\"width: 10px; height: 10px;background-color: rgb(0, 0, 0);\"></td></tr><tr><td title=\"Index: [18, 0]&#10;Color: (255, 215, 0)\" style=\"width: 10px; height: 10px;background-color: rgb(255, 215, 0);\"></td><td title=\"Index: [18, 1]&#10;Color: (255, 215, 0)\" style=\"width: 10px; height: 10px;background-color: rgb(255, 215, 0);\"></td><td title=\"Index: [18, 2]&#10;Color: (255, 215, 0)\" style=\"width: 10px; height: 10px;background-color: rgb(255, 215, 0);\"></td><td title=\"Index: [18, 3]&#10;Color: (255, 215, 0)\" style=\"width: 10px; height: 10px;background-color: rgb(255, 215, 0);\"></td><td title=\"Index: [18, 4]&#10;Color: (255, 215, 0)\" style=\"width: 10px; height: 10px;background-color: rgb(255, 215, 0);\"></td><td title=\"Index: [18, 5]&#10;Color: (255, 215, 0)\" style=\"width: 10px; height: 10px;background-color: rgb(255, 215, 0);\"></td><td title=\"Index: [18, 6]&#10;Color: (255, 215, 0)\" style=\"width: 10px; height: 10px;background-color: rgb(255, 215, 0);\"></td><td title=\"Index: [18, 7]&#10;Color: (255, 215, 0)\" style=\"width: 10px; height: 10px;background-color: rgb(255, 215, 0);\"></td><td title=\"Index: [18, 8]&#10;Color: (255, 215, 0)\" style=\"width: 10px; height: 10px;background-color: rgb(255, 215, 0);\"></td><td title=\"Index: [18, 9]&#10;Color: (255, 215, 0)\" style=\"width: 10px; height: 10px;background-color: rgb(255, 215, 0);\"></td><td title=\"Index: [18, 10]&#10;Color: (0, 139, 139)\" style=\"width: 10px; height: 10px;background-color: rgb(0, 139, 139);\"></td><td title=\"Index: [18, 11]&#10;Color: (0, 139, 139)\" style=\"width: 10px; height: 10px;background-color: rgb(0, 139, 139);\"></td><td title=\"Index: [18, 12]&#10;Color: (0, 139, 139)\" style=\"width: 10px; height: 10px;background-color: rgb(0, 139, 139);\"></td><td title=\"Index: [18, 13]&#10;Color: (0, 139, 139)\" style=\"width: 10px; height: 10px;background-color: rgb(0, 139, 139);\"></td><td title=\"Index: [18, 14]&#10;Color: (0, 139, 139)\" style=\"width: 10px; height: 10px;background-color: rgb(0, 139, 139);\"></td><td title=\"Index: [18, 15]&#10;Color: (0, 139, 139)\" style=\"width: 10px; height: 10px;background-color: rgb(0, 139, 139);\"></td><td title=\"Index: [18, 16]&#10;Color: (0, 139, 139)\" style=\"width: 10px; height: 10px;background-color: rgb(0, 139, 139);\"></td><td title=\"Index: [18, 17]&#10;Color: (0, 139, 139)\" style=\"width: 10px; height: 10px;background-color: rgb(0, 139, 139);\"></td><td title=\"Index: [18, 18]&#10;Color: (0, 139, 139)\" style=\"width: 10px; height: 10px;background-color: rgb(0, 139, 139);\"></td><td title=\"Index: [18, 19]&#10;Color: (0, 139, 139)\" style=\"width: 10px; height: 10px;background-color: rgb(0, 139, 139);\"></td></tr><tr><td title=\"Index: [19, 0]&#10;Color: (255, 215, 0)\" style=\"width: 10px; height: 10px;background-color: rgb(255, 215, 0);\"></td><td title=\"Index: [19, 1]&#10;Color: (255, 215, 0)\" style=\"width: 10px; height: 10px;background-color: rgb(255, 215, 0);\"></td><td title=\"Index: [19, 2]&#10;Color: (255, 215, 0)\" style=\"width: 10px; height: 10px;background-color: rgb(255, 215, 0);\"></td><td title=\"Index: [19, 3]&#10;Color: (255, 215, 0)\" style=\"width: 10px; height: 10px;background-color: rgb(255, 215, 0);\"></td><td title=\"Index: [19, 4]&#10;Color: (255, 215, 0)\" style=\"width: 10px; height: 10px;background-color: rgb(255, 215, 0);\"></td><td title=\"Index: [19, 5]&#10;Color: (255, 215, 0)\" style=\"width: 10px; height: 10px;background-color: rgb(255, 215, 0);\"></td><td title=\"Index: [19, 6]&#10;Color: (255, 215, 0)\" style=\"width: 10px; height: 10px;background-color: rgb(255, 215, 0);\"></td><td title=\"Index: [19, 7]&#10;Color: (255, 215, 0)\" style=\"width: 10px; height: 10px;background-color: rgb(255, 215, 0);\"></td><td title=\"Index: [19, 8]&#10;Color: (255, 215, 0)\" style=\"width: 10px; height: 10px;background-color: rgb(255, 215, 0);\"></td><td title=\"Index: [19, 9]&#10;Color: (255, 215, 0)\" style=\"width: 10px; height: 10px;background-color: rgb(255, 215, 0);\"></td><td title=\"Index: [19, 10]&#10;Color: (0, 139, 139)\" style=\"width: 10px; height: 10px;background-color: rgb(0, 139, 139);\"></td><td title=\"Index: [19, 11]&#10;Color: (0, 139, 139)\" style=\"width: 10px; height: 10px;background-color: rgb(0, 139, 139);\"></td><td title=\"Index: [19, 12]&#10;Color: (0, 139, 139)\" style=\"width: 10px; height: 10px;background-color: rgb(0, 139, 139);\"></td><td title=\"Index: [19, 13]&#10;Color: (0, 139, 139)\" style=\"width: 10px; height: 10px;background-color: rgb(0, 139, 139);\"></td><td title=\"Index: [19, 14]&#10;Color: (0, 139, 139)\" style=\"width: 10px; height: 10px;background-color: rgb(0, 139, 139);\"></td><td title=\"Index: [19, 15]&#10;Color: (0, 139, 139)\" style=\"width: 10px; height: 10px;background-color: rgb(0, 139, 139);\"></td><td title=\"Index: [19, 16]&#10;Color: (0, 139, 139)\" style=\"width: 10px; height: 10px;background-color: rgb(0, 139, 139);\"></td><td title=\"Index: [19, 17]&#10;Color: (0, 139, 139)\" style=\"width: 10px; height: 10px;background-color: rgb(0, 139, 139);\"></td><td title=\"Index: [19, 18]&#10;Color: (0, 139, 139)\" style=\"width: 10px; height: 10px;background-color: rgb(0, 139, 139);\"></td><td title=\"Index: [19, 19]&#10;Color: (0, 139, 139)\" style=\"width: 10px; height: 10px;background-color: rgb(0, 139, 139);\"></td></tr></tbody></table>"
      ],
      "text/plain": [
       "<ipythonblocks.BlockGrid at 0x110b45c88>"
      ]
     },
     "execution_count": 28,
     "metadata": {},
     "output_type": "execute_result"
    }
   ],
   "source": [
    "for row in range(10, grid20.height):\n",
    "    for column in range(10):\n",
    "        grid20[row, column] = colors.Gold\n",
    "grid20"
   ]
  },
  {
   "cell_type": "code",
   "execution_count": 29,
   "metadata": {},
   "outputs": [
    {
     "data": {
      "text/html": [
       "<style type=\"text/css\">table.blockgrid {border: none;} .blockgrid tr {border: none;} .blockgrid td {padding: 0px;} #blocks88e07e60-8bd9-4893-a9f1-19bb55a5558a td {border: 1px solid white;}</style><table id=\"blocks88e07e60-8bd9-4893-a9f1-19bb55a5558a\" class=\"blockgrid\"><tbody><tr><td title=\"Index: [0, 0]&#10;Color: (0, 139, 139)\" style=\"width: 10px; height: 10px;background-color: rgb(0, 139, 139);\"></td><td title=\"Index: [0, 1]&#10;Color: (0, 139, 139)\" style=\"width: 10px; height: 10px;background-color: rgb(0, 139, 139);\"></td><td title=\"Index: [0, 2]&#10;Color: (0, 139, 139)\" style=\"width: 10px; height: 10px;background-color: rgb(0, 139, 139);\"></td><td title=\"Index: [0, 3]&#10;Color: (0, 139, 139)\" style=\"width: 10px; height: 10px;background-color: rgb(0, 139, 139);\"></td><td title=\"Index: [0, 4]&#10;Color: (0, 139, 139)\" style=\"width: 10px; height: 10px;background-color: rgb(0, 139, 139);\"></td><td title=\"Index: [0, 5]&#10;Color: (0, 139, 139)\" style=\"width: 10px; height: 10px;background-color: rgb(0, 139, 139);\"></td><td title=\"Index: [0, 6]&#10;Color: (0, 139, 139)\" style=\"width: 10px; height: 10px;background-color: rgb(0, 139, 139);\"></td><td title=\"Index: [0, 7]&#10;Color: (0, 139, 139)\" style=\"width: 10px; height: 10px;background-color: rgb(0, 139, 139);\"></td><td title=\"Index: [0, 8]&#10;Color: (0, 139, 139)\" style=\"width: 10px; height: 10px;background-color: rgb(0, 139, 139);\"></td><td title=\"Index: [0, 9]&#10;Color: (0, 139, 139)\" style=\"width: 10px; height: 10px;background-color: rgb(0, 139, 139);\"></td><td title=\"Index: [0, 10]&#10;Color: (0, 139, 139)\" style=\"width: 10px; height: 10px;background-color: rgb(0, 139, 139);\"></td><td title=\"Index: [0, 11]&#10;Color: (0, 139, 139)\" style=\"width: 10px; height: 10px;background-color: rgb(0, 139, 139);\"></td><td title=\"Index: [0, 12]&#10;Color: (0, 139, 139)\" style=\"width: 10px; height: 10px;background-color: rgb(0, 139, 139);\"></td><td title=\"Index: [0, 13]&#10;Color: (0, 139, 139)\" style=\"width: 10px; height: 10px;background-color: rgb(0, 139, 139);\"></td><td title=\"Index: [0, 14]&#10;Color: (0, 139, 139)\" style=\"width: 10px; height: 10px;background-color: rgb(0, 139, 139);\"></td><td title=\"Index: [0, 15]&#10;Color: (0, 139, 139)\" style=\"width: 10px; height: 10px;background-color: rgb(0, 139, 139);\"></td><td title=\"Index: [0, 16]&#10;Color: (0, 139, 139)\" style=\"width: 10px; height: 10px;background-color: rgb(0, 139, 139);\"></td><td title=\"Index: [0, 17]&#10;Color: (0, 139, 139)\" style=\"width: 10px; height: 10px;background-color: rgb(0, 139, 139);\"></td><td title=\"Index: [0, 18]&#10;Color: (0, 139, 139)\" style=\"width: 10px; height: 10px;background-color: rgb(0, 139, 139);\"></td><td title=\"Index: [0, 19]&#10;Color: (0, 139, 139)\" style=\"width: 10px; height: 10px;background-color: rgb(0, 139, 139);\"></td></tr><tr><td title=\"Index: [1, 0]&#10;Color: (0, 139, 139)\" style=\"width: 10px; height: 10px;background-color: rgb(0, 139, 139);\"></td><td title=\"Index: [1, 1]&#10;Color: (0, 139, 139)\" style=\"width: 10px; height: 10px;background-color: rgb(0, 139, 139);\"></td><td title=\"Index: [1, 2]&#10;Color: (0, 139, 139)\" style=\"width: 10px; height: 10px;background-color: rgb(0, 139, 139);\"></td><td title=\"Index: [1, 3]&#10;Color: (0, 139, 139)\" style=\"width: 10px; height: 10px;background-color: rgb(0, 139, 139);\"></td><td title=\"Index: [1, 4]&#10;Color: (0, 139, 139)\" style=\"width: 10px; height: 10px;background-color: rgb(0, 139, 139);\"></td><td title=\"Index: [1, 5]&#10;Color: (0, 139, 139)\" style=\"width: 10px; height: 10px;background-color: rgb(0, 139, 139);\"></td><td title=\"Index: [1, 6]&#10;Color: (0, 139, 139)\" style=\"width: 10px; height: 10px;background-color: rgb(0, 139, 139);\"></td><td title=\"Index: [1, 7]&#10;Color: (0, 139, 139)\" style=\"width: 10px; height: 10px;background-color: rgb(0, 139, 139);\"></td><td title=\"Index: [1, 8]&#10;Color: (0, 139, 139)\" style=\"width: 10px; height: 10px;background-color: rgb(0, 139, 139);\"></td><td title=\"Index: [1, 9]&#10;Color: (0, 139, 139)\" style=\"width: 10px; height: 10px;background-color: rgb(0, 139, 139);\"></td><td title=\"Index: [1, 10]&#10;Color: (0, 139, 139)\" style=\"width: 10px; height: 10px;background-color: rgb(0, 139, 139);\"></td><td title=\"Index: [1, 11]&#10;Color: (0, 139, 139)\" style=\"width: 10px; height: 10px;background-color: rgb(0, 139, 139);\"></td><td title=\"Index: [1, 12]&#10;Color: (0, 139, 139)\" style=\"width: 10px; height: 10px;background-color: rgb(0, 139, 139);\"></td><td title=\"Index: [1, 13]&#10;Color: (0, 139, 139)\" style=\"width: 10px; height: 10px;background-color: rgb(0, 139, 139);\"></td><td title=\"Index: [1, 14]&#10;Color: (0, 139, 139)\" style=\"width: 10px; height: 10px;background-color: rgb(0, 139, 139);\"></td><td title=\"Index: [1, 15]&#10;Color: (0, 139, 139)\" style=\"width: 10px; height: 10px;background-color: rgb(0, 139, 139);\"></td><td title=\"Index: [1, 16]&#10;Color: (0, 139, 139)\" style=\"width: 10px; height: 10px;background-color: rgb(0, 139, 139);\"></td><td title=\"Index: [1, 17]&#10;Color: (0, 139, 139)\" style=\"width: 10px; height: 10px;background-color: rgb(0, 139, 139);\"></td><td title=\"Index: [1, 18]&#10;Color: (0, 139, 139)\" style=\"width: 10px; height: 10px;background-color: rgb(0, 139, 139);\"></td><td title=\"Index: [1, 19]&#10;Color: (0, 139, 139)\" style=\"width: 10px; height: 10px;background-color: rgb(0, 139, 139);\"></td></tr><tr><td title=\"Index: [2, 0]&#10;Color: (0, 0, 0)\" style=\"width: 10px; height: 10px;background-color: rgb(0, 0, 0);\"></td><td title=\"Index: [2, 1]&#10;Color: (0, 0, 0)\" style=\"width: 10px; height: 10px;background-color: rgb(0, 0, 0);\"></td><td title=\"Index: [2, 2]&#10;Color: (0, 0, 0)\" style=\"width: 10px; height: 10px;background-color: rgb(0, 0, 0);\"></td><td title=\"Index: [2, 3]&#10;Color: (0, 0, 0)\" style=\"width: 10px; height: 10px;background-color: rgb(0, 0, 0);\"></td><td title=\"Index: [2, 4]&#10;Color: (0, 0, 0)\" style=\"width: 10px; height: 10px;background-color: rgb(0, 0, 0);\"></td><td title=\"Index: [2, 5]&#10;Color: (0, 0, 0)\" style=\"width: 10px; height: 10px;background-color: rgb(0, 0, 0);\"></td><td title=\"Index: [2, 6]&#10;Color: (0, 0, 0)\" style=\"width: 10px; height: 10px;background-color: rgb(0, 0, 0);\"></td><td title=\"Index: [2, 7]&#10;Color: (0, 0, 0)\" style=\"width: 10px; height: 10px;background-color: rgb(0, 0, 0);\"></td><td title=\"Index: [2, 8]&#10;Color: (0, 0, 0)\" style=\"width: 10px; height: 10px;background-color: rgb(0, 0, 0);\"></td><td title=\"Index: [2, 9]&#10;Color: (0, 0, 0)\" style=\"width: 10px; height: 10px;background-color: rgb(0, 0, 0);\"></td><td title=\"Index: [2, 10]&#10;Color: (0, 0, 0)\" style=\"width: 10px; height: 10px;background-color: rgb(0, 0, 0);\"></td><td title=\"Index: [2, 11]&#10;Color: (0, 0, 0)\" style=\"width: 10px; height: 10px;background-color: rgb(0, 0, 0);\"></td><td title=\"Index: [2, 12]&#10;Color: (0, 0, 0)\" style=\"width: 10px; height: 10px;background-color: rgb(0, 0, 0);\"></td><td title=\"Index: [2, 13]&#10;Color: (0, 0, 0)\" style=\"width: 10px; height: 10px;background-color: rgb(0, 0, 0);\"></td><td title=\"Index: [2, 14]&#10;Color: (0, 0, 0)\" style=\"width: 10px; height: 10px;background-color: rgb(0, 0, 0);\"></td><td title=\"Index: [2, 15]&#10;Color: (0, 0, 0)\" style=\"width: 10px; height: 10px;background-color: rgb(0, 0, 0);\"></td><td title=\"Index: [2, 16]&#10;Color: (0, 0, 0)\" style=\"width: 10px; height: 10px;background-color: rgb(0, 0, 0);\"></td><td title=\"Index: [2, 17]&#10;Color: (0, 0, 0)\" style=\"width: 10px; height: 10px;background-color: rgb(0, 0, 0);\"></td><td title=\"Index: [2, 18]&#10;Color: (0, 0, 0)\" style=\"width: 10px; height: 10px;background-color: rgb(0, 0, 0);\"></td><td title=\"Index: [2, 19]&#10;Color: (0, 0, 0)\" style=\"width: 10px; height: 10px;background-color: rgb(0, 0, 0);\"></td></tr><tr><td title=\"Index: [3, 0]&#10;Color: (0, 139, 139)\" style=\"width: 10px; height: 10px;background-color: rgb(0, 139, 139);\"></td><td title=\"Index: [3, 1]&#10;Color: (0, 139, 139)\" style=\"width: 10px; height: 10px;background-color: rgb(0, 139, 139);\"></td><td title=\"Index: [3, 2]&#10;Color: (0, 139, 139)\" style=\"width: 10px; height: 10px;background-color: rgb(0, 139, 139);\"></td><td title=\"Index: [3, 3]&#10;Color: (0, 139, 139)\" style=\"width: 10px; height: 10px;background-color: rgb(0, 139, 139);\"></td><td title=\"Index: [3, 4]&#10;Color: (0, 139, 139)\" style=\"width: 10px; height: 10px;background-color: rgb(0, 139, 139);\"></td><td title=\"Index: [3, 5]&#10;Color: (0, 139, 139)\" style=\"width: 10px; height: 10px;background-color: rgb(0, 139, 139);\"></td><td title=\"Index: [3, 6]&#10;Color: (0, 139, 139)\" style=\"width: 10px; height: 10px;background-color: rgb(0, 139, 139);\"></td><td title=\"Index: [3, 7]&#10;Color: (0, 139, 139)\" style=\"width: 10px; height: 10px;background-color: rgb(0, 139, 139);\"></td><td title=\"Index: [3, 8]&#10;Color: (0, 139, 139)\" style=\"width: 10px; height: 10px;background-color: rgb(0, 139, 139);\"></td><td title=\"Index: [3, 9]&#10;Color: (0, 139, 139)\" style=\"width: 10px; height: 10px;background-color: rgb(0, 139, 139);\"></td><td title=\"Index: [3, 10]&#10;Color: (0, 139, 139)\" style=\"width: 10px; height: 10px;background-color: rgb(0, 139, 139);\"></td><td title=\"Index: [3, 11]&#10;Color: (188, 143, 143)\" style=\"width: 10px; height: 10px;background-color: rgb(188, 143, 143);\"></td><td title=\"Index: [3, 12]&#10;Color: (188, 143, 143)\" style=\"width: 10px; height: 10px;background-color: rgb(188, 143, 143);\"></td><td title=\"Index: [3, 13]&#10;Color: (188, 143, 143)\" style=\"width: 10px; height: 10px;background-color: rgb(188, 143, 143);\"></td><td title=\"Index: [3, 14]&#10;Color: (188, 143, 143)\" style=\"width: 10px; height: 10px;background-color: rgb(188, 143, 143);\"></td><td title=\"Index: [3, 15]&#10;Color: (188, 143, 143)\" style=\"width: 10px; height: 10px;background-color: rgb(188, 143, 143);\"></td><td title=\"Index: [3, 16]&#10;Color: (188, 143, 143)\" style=\"width: 10px; height: 10px;background-color: rgb(188, 143, 143);\"></td><td title=\"Index: [3, 17]&#10;Color: (188, 143, 143)\" style=\"width: 10px; height: 10px;background-color: rgb(188, 143, 143);\"></td><td title=\"Index: [3, 18]&#10;Color: (0, 139, 139)\" style=\"width: 10px; height: 10px;background-color: rgb(0, 139, 139);\"></td><td title=\"Index: [3, 19]&#10;Color: (0, 139, 139)\" style=\"width: 10px; height: 10px;background-color: rgb(0, 139, 139);\"></td></tr><tr><td title=\"Index: [4, 0]&#10;Color: (0, 139, 139)\" style=\"width: 10px; height: 10px;background-color: rgb(0, 139, 139);\"></td><td title=\"Index: [4, 1]&#10;Color: (0, 139, 139)\" style=\"width: 10px; height: 10px;background-color: rgb(0, 139, 139);\"></td><td title=\"Index: [4, 2]&#10;Color: (0, 139, 139)\" style=\"width: 10px; height: 10px;background-color: rgb(0, 139, 139);\"></td><td title=\"Index: [4, 3]&#10;Color: (0, 139, 139)\" style=\"width: 10px; height: 10px;background-color: rgb(0, 139, 139);\"></td><td title=\"Index: [4, 4]&#10;Color: (0, 139, 139)\" style=\"width: 10px; height: 10px;background-color: rgb(0, 139, 139);\"></td><td title=\"Index: [4, 5]&#10;Color: (0, 139, 139)\" style=\"width: 10px; height: 10px;background-color: rgb(0, 139, 139);\"></td><td title=\"Index: [4, 6]&#10;Color: (0, 139, 139)\" style=\"width: 10px; height: 10px;background-color: rgb(0, 139, 139);\"></td><td title=\"Index: [4, 7]&#10;Color: (0, 139, 139)\" style=\"width: 10px; height: 10px;background-color: rgb(0, 139, 139);\"></td><td title=\"Index: [4, 8]&#10;Color: (0, 139, 139)\" style=\"width: 10px; height: 10px;background-color: rgb(0, 139, 139);\"></td><td title=\"Index: [4, 9]&#10;Color: (0, 139, 139)\" style=\"width: 10px; height: 10px;background-color: rgb(0, 139, 139);\"></td><td title=\"Index: [4, 10]&#10;Color: (0, 139, 139)\" style=\"width: 10px; height: 10px;background-color: rgb(0, 139, 139);\"></td><td title=\"Index: [4, 11]&#10;Color: (188, 143, 143)\" style=\"width: 10px; height: 10px;background-color: rgb(188, 143, 143);\"></td><td title=\"Index: [4, 12]&#10;Color: (188, 143, 143)\" style=\"width: 10px; height: 10px;background-color: rgb(188, 143, 143);\"></td><td title=\"Index: [4, 13]&#10;Color: (188, 143, 143)\" style=\"width: 10px; height: 10px;background-color: rgb(188, 143, 143);\"></td><td title=\"Index: [4, 14]&#10;Color: (188, 143, 143)\" style=\"width: 10px; height: 10px;background-color: rgb(188, 143, 143);\"></td><td title=\"Index: [4, 15]&#10;Color: (188, 143, 143)\" style=\"width: 10px; height: 10px;background-color: rgb(188, 143, 143);\"></td><td title=\"Index: [4, 16]&#10;Color: (188, 143, 143)\" style=\"width: 10px; height: 10px;background-color: rgb(188, 143, 143);\"></td><td title=\"Index: [4, 17]&#10;Color: (188, 143, 143)\" style=\"width: 10px; height: 10px;background-color: rgb(188, 143, 143);\"></td><td title=\"Index: [4, 18]&#10;Color: (0, 139, 139)\" style=\"width: 10px; height: 10px;background-color: rgb(0, 139, 139);\"></td><td title=\"Index: [4, 19]&#10;Color: (0, 139, 139)\" style=\"width: 10px; height: 10px;background-color: rgb(0, 139, 139);\"></td></tr><tr><td title=\"Index: [5, 0]&#10;Color: (0, 139, 139)\" style=\"width: 10px; height: 10px;background-color: rgb(0, 139, 139);\"></td><td title=\"Index: [5, 1]&#10;Color: (0, 139, 139)\" style=\"width: 10px; height: 10px;background-color: rgb(0, 139, 139);\"></td><td title=\"Index: [5, 2]&#10;Color: (0, 139, 139)\" style=\"width: 10px; height: 10px;background-color: rgb(0, 139, 139);\"></td><td title=\"Index: [5, 3]&#10;Color: (0, 139, 139)\" style=\"width: 10px; height: 10px;background-color: rgb(0, 139, 139);\"></td><td title=\"Index: [5, 4]&#10;Color: (0, 139, 139)\" style=\"width: 10px; height: 10px;background-color: rgb(0, 139, 139);\"></td><td title=\"Index: [5, 5]&#10;Color: (0, 139, 139)\" style=\"width: 10px; height: 10px;background-color: rgb(0, 139, 139);\"></td><td title=\"Index: [5, 6]&#10;Color: (0, 139, 139)\" style=\"width: 10px; height: 10px;background-color: rgb(0, 139, 139);\"></td><td title=\"Index: [5, 7]&#10;Color: (0, 139, 139)\" style=\"width: 10px; height: 10px;background-color: rgb(0, 139, 139);\"></td><td title=\"Index: [5, 8]&#10;Color: (0, 139, 139)\" style=\"width: 10px; height: 10px;background-color: rgb(0, 139, 139);\"></td><td title=\"Index: [5, 9]&#10;Color: (0, 139, 139)\" style=\"width: 10px; height: 10px;background-color: rgb(0, 139, 139);\"></td><td title=\"Index: [5, 10]&#10;Color: (0, 139, 139)\" style=\"width: 10px; height: 10px;background-color: rgb(0, 139, 139);\"></td><td title=\"Index: [5, 11]&#10;Color: (188, 143, 143)\" style=\"width: 10px; height: 10px;background-color: rgb(188, 143, 143);\"></td><td title=\"Index: [5, 12]&#10;Color: (188, 143, 143)\" style=\"width: 10px; height: 10px;background-color: rgb(188, 143, 143);\"></td><td title=\"Index: [5, 13]&#10;Color: (188, 143, 143)\" style=\"width: 10px; height: 10px;background-color: rgb(188, 143, 143);\"></td><td title=\"Index: [5, 14]&#10;Color: (188, 143, 143)\" style=\"width: 10px; height: 10px;background-color: rgb(188, 143, 143);\"></td><td title=\"Index: [5, 15]&#10;Color: (188, 143, 143)\" style=\"width: 10px; height: 10px;background-color: rgb(188, 143, 143);\"></td><td title=\"Index: [5, 16]&#10;Color: (188, 143, 143)\" style=\"width: 10px; height: 10px;background-color: rgb(188, 143, 143);\"></td><td title=\"Index: [5, 17]&#10;Color: (188, 143, 143)\" style=\"width: 10px; height: 10px;background-color: rgb(188, 143, 143);\"></td><td title=\"Index: [5, 18]&#10;Color: (0, 139, 139)\" style=\"width: 10px; height: 10px;background-color: rgb(0, 139, 139);\"></td><td title=\"Index: [5, 19]&#10;Color: (0, 139, 139)\" style=\"width: 10px; height: 10px;background-color: rgb(0, 139, 139);\"></td></tr><tr><td title=\"Index: [6, 0]&#10;Color: (0, 139, 139)\" style=\"width: 10px; height: 10px;background-color: rgb(0, 139, 139);\"></td><td title=\"Index: [6, 1]&#10;Color: (0, 139, 139)\" style=\"width: 10px; height: 10px;background-color: rgb(0, 139, 139);\"></td><td title=\"Index: [6, 2]&#10;Color: (0, 139, 139)\" style=\"width: 10px; height: 10px;background-color: rgb(0, 139, 139);\"></td><td title=\"Index: [6, 3]&#10;Color: (0, 139, 139)\" style=\"width: 10px; height: 10px;background-color: rgb(0, 139, 139);\"></td><td title=\"Index: [6, 4]&#10;Color: (0, 139, 139)\" style=\"width: 10px; height: 10px;background-color: rgb(0, 139, 139);\"></td><td title=\"Index: [6, 5]&#10;Color: (0, 139, 139)\" style=\"width: 10px; height: 10px;background-color: rgb(0, 139, 139);\"></td><td title=\"Index: [6, 6]&#10;Color: (0, 139, 139)\" style=\"width: 10px; height: 10px;background-color: rgb(0, 139, 139);\"></td><td title=\"Index: [6, 7]&#10;Color: (0, 139, 139)\" style=\"width: 10px; height: 10px;background-color: rgb(0, 139, 139);\"></td><td title=\"Index: [6, 8]&#10;Color: (0, 139, 139)\" style=\"width: 10px; height: 10px;background-color: rgb(0, 139, 139);\"></td><td title=\"Index: [6, 9]&#10;Color: (0, 139, 139)\" style=\"width: 10px; height: 10px;background-color: rgb(0, 139, 139);\"></td><td title=\"Index: [6, 10]&#10;Color: (0, 139, 139)\" style=\"width: 10px; height: 10px;background-color: rgb(0, 139, 139);\"></td><td title=\"Index: [6, 11]&#10;Color: (188, 143, 143)\" style=\"width: 10px; height: 10px;background-color: rgb(188, 143, 143);\"></td><td title=\"Index: [6, 12]&#10;Color: (188, 143, 143)\" style=\"width: 10px; height: 10px;background-color: rgb(188, 143, 143);\"></td><td title=\"Index: [6, 13]&#10;Color: (188, 143, 143)\" style=\"width: 10px; height: 10px;background-color: rgb(188, 143, 143);\"></td><td title=\"Index: [6, 14]&#10;Color: (188, 143, 143)\" style=\"width: 10px; height: 10px;background-color: rgb(188, 143, 143);\"></td><td title=\"Index: [6, 15]&#10;Color: (188, 143, 143)\" style=\"width: 10px; height: 10px;background-color: rgb(188, 143, 143);\"></td><td title=\"Index: [6, 16]&#10;Color: (188, 143, 143)\" style=\"width: 10px; height: 10px;background-color: rgb(188, 143, 143);\"></td><td title=\"Index: [6, 17]&#10;Color: (188, 143, 143)\" style=\"width: 10px; height: 10px;background-color: rgb(188, 143, 143);\"></td><td title=\"Index: [6, 18]&#10;Color: (0, 139, 139)\" style=\"width: 10px; height: 10px;background-color: rgb(0, 139, 139);\"></td><td title=\"Index: [6, 19]&#10;Color: (0, 139, 139)\" style=\"width: 10px; height: 10px;background-color: rgb(0, 139, 139);\"></td></tr><tr><td title=\"Index: [7, 0]&#10;Color: (0, 139, 139)\" style=\"width: 10px; height: 10px;background-color: rgb(0, 139, 139);\"></td><td title=\"Index: [7, 1]&#10;Color: (0, 139, 139)\" style=\"width: 10px; height: 10px;background-color: rgb(0, 139, 139);\"></td><td title=\"Index: [7, 2]&#10;Color: (0, 139, 139)\" style=\"width: 10px; height: 10px;background-color: rgb(0, 139, 139);\"></td><td title=\"Index: [7, 3]&#10;Color: (0, 139, 139)\" style=\"width: 10px; height: 10px;background-color: rgb(0, 139, 139);\"></td><td title=\"Index: [7, 4]&#10;Color: (0, 139, 139)\" style=\"width: 10px; height: 10px;background-color: rgb(0, 139, 139);\"></td><td title=\"Index: [7, 5]&#10;Color: (0, 139, 139)\" style=\"width: 10px; height: 10px;background-color: rgb(0, 139, 139);\"></td><td title=\"Index: [7, 6]&#10;Color: (0, 139, 139)\" style=\"width: 10px; height: 10px;background-color: rgb(0, 139, 139);\"></td><td title=\"Index: [7, 7]&#10;Color: (0, 139, 139)\" style=\"width: 10px; height: 10px;background-color: rgb(0, 139, 139);\"></td><td title=\"Index: [7, 8]&#10;Color: (0, 139, 139)\" style=\"width: 10px; height: 10px;background-color: rgb(0, 139, 139);\"></td><td title=\"Index: [7, 9]&#10;Color: (0, 139, 139)\" style=\"width: 10px; height: 10px;background-color: rgb(0, 139, 139);\"></td><td title=\"Index: [7, 10]&#10;Color: (0, 139, 139)\" style=\"width: 10px; height: 10px;background-color: rgb(0, 139, 139);\"></td><td title=\"Index: [7, 11]&#10;Color: (188, 143, 143)\" style=\"width: 10px; height: 10px;background-color: rgb(188, 143, 143);\"></td><td title=\"Index: [7, 12]&#10;Color: (188, 143, 143)\" style=\"width: 10px; height: 10px;background-color: rgb(188, 143, 143);\"></td><td title=\"Index: [7, 13]&#10;Color: (188, 143, 143)\" style=\"width: 10px; height: 10px;background-color: rgb(188, 143, 143);\"></td><td title=\"Index: [7, 14]&#10;Color: (188, 143, 143)\" style=\"width: 10px; height: 10px;background-color: rgb(188, 143, 143);\"></td><td title=\"Index: [7, 15]&#10;Color: (188, 143, 143)\" style=\"width: 10px; height: 10px;background-color: rgb(188, 143, 143);\"></td><td title=\"Index: [7, 16]&#10;Color: (188, 143, 143)\" style=\"width: 10px; height: 10px;background-color: rgb(188, 143, 143);\"></td><td title=\"Index: [7, 17]&#10;Color: (188, 143, 143)\" style=\"width: 10px; height: 10px;background-color: rgb(188, 143, 143);\"></td><td title=\"Index: [7, 18]&#10;Color: (0, 139, 139)\" style=\"width: 10px; height: 10px;background-color: rgb(0, 139, 139);\"></td><td title=\"Index: [7, 19]&#10;Color: (0, 139, 139)\" style=\"width: 10px; height: 10px;background-color: rgb(0, 139, 139);\"></td></tr><tr><td title=\"Index: [8, 0]&#10;Color: (0, 139, 139)\" style=\"width: 10px; height: 10px;background-color: rgb(0, 139, 139);\"></td><td title=\"Index: [8, 1]&#10;Color: (0, 139, 139)\" style=\"width: 10px; height: 10px;background-color: rgb(0, 139, 139);\"></td><td title=\"Index: [8, 2]&#10;Color: (0, 139, 139)\" style=\"width: 10px; height: 10px;background-color: rgb(0, 139, 139);\"></td><td title=\"Index: [8, 3]&#10;Color: (0, 139, 139)\" style=\"width: 10px; height: 10px;background-color: rgb(0, 139, 139);\"></td><td title=\"Index: [8, 4]&#10;Color: (0, 139, 139)\" style=\"width: 10px; height: 10px;background-color: rgb(0, 139, 139);\"></td><td title=\"Index: [8, 5]&#10;Color: (0, 139, 139)\" style=\"width: 10px; height: 10px;background-color: rgb(0, 139, 139);\"></td><td title=\"Index: [8, 6]&#10;Color: (0, 139, 139)\" style=\"width: 10px; height: 10px;background-color: rgb(0, 139, 139);\"></td><td title=\"Index: [8, 7]&#10;Color: (0, 139, 139)\" style=\"width: 10px; height: 10px;background-color: rgb(0, 139, 139);\"></td><td title=\"Index: [8, 8]&#10;Color: (0, 139, 139)\" style=\"width: 10px; height: 10px;background-color: rgb(0, 139, 139);\"></td><td title=\"Index: [8, 9]&#10;Color: (0, 139, 139)\" style=\"width: 10px; height: 10px;background-color: rgb(0, 139, 139);\"></td><td title=\"Index: [8, 10]&#10;Color: (0, 139, 139)\" style=\"width: 10px; height: 10px;background-color: rgb(0, 139, 139);\"></td><td title=\"Index: [8, 11]&#10;Color: (0, 139, 139)\" style=\"width: 10px; height: 10px;background-color: rgb(0, 139, 139);\"></td><td title=\"Index: [8, 12]&#10;Color: (0, 139, 139)\" style=\"width: 10px; height: 10px;background-color: rgb(0, 139, 139);\"></td><td title=\"Index: [8, 13]&#10;Color: (0, 139, 139)\" style=\"width: 10px; height: 10px;background-color: rgb(0, 139, 139);\"></td><td title=\"Index: [8, 14]&#10;Color: (0, 139, 139)\" style=\"width: 10px; height: 10px;background-color: rgb(0, 139, 139);\"></td><td title=\"Index: [8, 15]&#10;Color: (0, 139, 139)\" style=\"width: 10px; height: 10px;background-color: rgb(0, 139, 139);\"></td><td title=\"Index: [8, 16]&#10;Color: (0, 139, 139)\" style=\"width: 10px; height: 10px;background-color: rgb(0, 139, 139);\"></td><td title=\"Index: [8, 17]&#10;Color: (0, 139, 139)\" style=\"width: 10px; height: 10px;background-color: rgb(0, 139, 139);\"></td><td title=\"Index: [8, 18]&#10;Color: (0, 139, 139)\" style=\"width: 10px; height: 10px;background-color: rgb(0, 139, 139);\"></td><td title=\"Index: [8, 19]&#10;Color: (0, 139, 139)\" style=\"width: 10px; height: 10px;background-color: rgb(0, 139, 139);\"></td></tr><tr><td title=\"Index: [9, 0]&#10;Color: (0, 0, 0)\" style=\"width: 10px; height: 10px;background-color: rgb(0, 0, 0);\"></td><td title=\"Index: [9, 1]&#10;Color: (0, 0, 0)\" style=\"width: 10px; height: 10px;background-color: rgb(0, 0, 0);\"></td><td title=\"Index: [9, 2]&#10;Color: (0, 0, 0)\" style=\"width: 10px; height: 10px;background-color: rgb(0, 0, 0);\"></td><td title=\"Index: [9, 3]&#10;Color: (0, 0, 0)\" style=\"width: 10px; height: 10px;background-color: rgb(0, 0, 0);\"></td><td title=\"Index: [9, 4]&#10;Color: (0, 0, 0)\" style=\"width: 10px; height: 10px;background-color: rgb(0, 0, 0);\"></td><td title=\"Index: [9, 5]&#10;Color: (0, 0, 0)\" style=\"width: 10px; height: 10px;background-color: rgb(0, 0, 0);\"></td><td title=\"Index: [9, 6]&#10;Color: (0, 0, 0)\" style=\"width: 10px; height: 10px;background-color: rgb(0, 0, 0);\"></td><td title=\"Index: [9, 7]&#10;Color: (0, 0, 0)\" style=\"width: 10px; height: 10px;background-color: rgb(0, 0, 0);\"></td><td title=\"Index: [9, 8]&#10;Color: (0, 0, 0)\" style=\"width: 10px; height: 10px;background-color: rgb(0, 0, 0);\"></td><td title=\"Index: [9, 9]&#10;Color: (0, 0, 0)\" style=\"width: 10px; height: 10px;background-color: rgb(0, 0, 0);\"></td><td title=\"Index: [9, 10]&#10;Color: (0, 0, 0)\" style=\"width: 10px; height: 10px;background-color: rgb(0, 0, 0);\"></td><td title=\"Index: [9, 11]&#10;Color: (0, 0, 0)\" style=\"width: 10px; height: 10px;background-color: rgb(0, 0, 0);\"></td><td title=\"Index: [9, 12]&#10;Color: (0, 0, 0)\" style=\"width: 10px; height: 10px;background-color: rgb(0, 0, 0);\"></td><td title=\"Index: [9, 13]&#10;Color: (0, 0, 0)\" style=\"width: 10px; height: 10px;background-color: rgb(0, 0, 0);\"></td><td title=\"Index: [9, 14]&#10;Color: (0, 0, 0)\" style=\"width: 10px; height: 10px;background-color: rgb(0, 0, 0);\"></td><td title=\"Index: [9, 15]&#10;Color: (0, 0, 0)\" style=\"width: 10px; height: 10px;background-color: rgb(0, 0, 0);\"></td><td title=\"Index: [9, 16]&#10;Color: (0, 0, 0)\" style=\"width: 10px; height: 10px;background-color: rgb(0, 0, 0);\"></td><td title=\"Index: [9, 17]&#10;Color: (0, 0, 0)\" style=\"width: 10px; height: 10px;background-color: rgb(0, 0, 0);\"></td><td title=\"Index: [9, 18]&#10;Color: (0, 0, 0)\" style=\"width: 10px; height: 10px;background-color: rgb(0, 0, 0);\"></td><td title=\"Index: [9, 19]&#10;Color: (0, 0, 0)\" style=\"width: 10px; height: 10px;background-color: rgb(0, 0, 0);\"></td></tr><tr><td title=\"Index: [10, 0]&#10;Color: (255, 215, 0)\" style=\"width: 10px; height: 10px;background-color: rgb(255, 215, 0);\"></td><td title=\"Index: [10, 1]&#10;Color: (255, 215, 0)\" style=\"width: 10px; height: 10px;background-color: rgb(255, 215, 0);\"></td><td title=\"Index: [10, 2]&#10;Color: (255, 215, 0)\" style=\"width: 10px; height: 10px;background-color: rgb(255, 215, 0);\"></td><td title=\"Index: [10, 3]&#10;Color: (255, 215, 0)\" style=\"width: 10px; height: 10px;background-color: rgb(255, 215, 0);\"></td><td title=\"Index: [10, 4]&#10;Color: (255, 215, 0)\" style=\"width: 10px; height: 10px;background-color: rgb(255, 215, 0);\"></td><td title=\"Index: [10, 5]&#10;Color: (255, 215, 0)\" style=\"width: 10px; height: 10px;background-color: rgb(255, 215, 0);\"></td><td title=\"Index: [10, 6]&#10;Color: (255, 215, 0)\" style=\"width: 10px; height: 10px;background-color: rgb(255, 215, 0);\"></td><td title=\"Index: [10, 7]&#10;Color: (255, 215, 0)\" style=\"width: 10px; height: 10px;background-color: rgb(255, 215, 0);\"></td><td title=\"Index: [10, 8]&#10;Color: (255, 215, 0)\" style=\"width: 10px; height: 10px;background-color: rgb(255, 215, 0);\"></td><td title=\"Index: [10, 9]&#10;Color: (255, 215, 0)\" style=\"width: 10px; height: 10px;background-color: rgb(255, 215, 0);\"></td><td title=\"Index: [10, 10]&#10;Color: (0, 139, 139)\" style=\"width: 10px; height: 10px;background-color: rgb(0, 139, 139);\"></td><td title=\"Index: [10, 11]&#10;Color: (0, 139, 139)\" style=\"width: 10px; height: 10px;background-color: rgb(0, 139, 139);\"></td><td title=\"Index: [10, 12]&#10;Color: (0, 139, 139)\" style=\"width: 10px; height: 10px;background-color: rgb(0, 139, 139);\"></td><td title=\"Index: [10, 13]&#10;Color: (0, 139, 139)\" style=\"width: 10px; height: 10px;background-color: rgb(0, 139, 139);\"></td><td title=\"Index: [10, 14]&#10;Color: (0, 139, 139)\" style=\"width: 10px; height: 10px;background-color: rgb(0, 139, 139);\"></td><td title=\"Index: [10, 15]&#10;Color: (0, 139, 139)\" style=\"width: 10px; height: 10px;background-color: rgb(0, 139, 139);\"></td><td title=\"Index: [10, 16]&#10;Color: (0, 139, 139)\" style=\"width: 10px; height: 10px;background-color: rgb(0, 139, 139);\"></td><td title=\"Index: [10, 17]&#10;Color: (0, 139, 139)\" style=\"width: 10px; height: 10px;background-color: rgb(0, 139, 139);\"></td><td title=\"Index: [10, 18]&#10;Color: (0, 139, 139)\" style=\"width: 10px; height: 10px;background-color: rgb(0, 139, 139);\"></td><td title=\"Index: [10, 19]&#10;Color: (0, 139, 139)\" style=\"width: 10px; height: 10px;background-color: rgb(0, 139, 139);\"></td></tr><tr><td title=\"Index: [11, 0]&#10;Color: (255, 215, 0)\" style=\"width: 10px; height: 10px;background-color: rgb(255, 215, 0);\"></td><td title=\"Index: [11, 1]&#10;Color: (255, 215, 0)\" style=\"width: 10px; height: 10px;background-color: rgb(255, 215, 0);\"></td><td title=\"Index: [11, 2]&#10;Color: (255, 215, 0)\" style=\"width: 10px; height: 10px;background-color: rgb(255, 215, 0);\"></td><td title=\"Index: [11, 3]&#10;Color: (255, 215, 0)\" style=\"width: 10px; height: 10px;background-color: rgb(255, 215, 0);\"></td><td title=\"Index: [11, 4]&#10;Color: (255, 215, 0)\" style=\"width: 10px; height: 10px;background-color: rgb(255, 215, 0);\"></td><td title=\"Index: [11, 5]&#10;Color: (255, 215, 0)\" style=\"width: 10px; height: 10px;background-color: rgb(255, 215, 0);\"></td><td title=\"Index: [11, 6]&#10;Color: (255, 215, 0)\" style=\"width: 10px; height: 10px;background-color: rgb(255, 215, 0);\"></td><td title=\"Index: [11, 7]&#10;Color: (255, 215, 0)\" style=\"width: 10px; height: 10px;background-color: rgb(255, 215, 0);\"></td><td title=\"Index: [11, 8]&#10;Color: (255, 215, 0)\" style=\"width: 10px; height: 10px;background-color: rgb(255, 215, 0);\"></td><td title=\"Index: [11, 9]&#10;Color: (255, 215, 0)\" style=\"width: 10px; height: 10px;background-color: rgb(255, 215, 0);\"></td><td title=\"Index: [11, 10]&#10;Color: (0, 139, 139)\" style=\"width: 10px; height: 10px;background-color: rgb(0, 139, 139);\"></td><td title=\"Index: [11, 11]&#10;Color: (0, 139, 139)\" style=\"width: 10px; height: 10px;background-color: rgb(0, 139, 139);\"></td><td title=\"Index: [11, 12]&#10;Color: (0, 139, 139)\" style=\"width: 10px; height: 10px;background-color: rgb(0, 139, 139);\"></td><td title=\"Index: [11, 13]&#10;Color: (0, 139, 139)\" style=\"width: 10px; height: 10px;background-color: rgb(0, 139, 139);\"></td><td title=\"Index: [11, 14]&#10;Color: (0, 139, 139)\" style=\"width: 10px; height: 10px;background-color: rgb(0, 139, 139);\"></td><td title=\"Index: [11, 15]&#10;Color: (0, 139, 139)\" style=\"width: 10px; height: 10px;background-color: rgb(0, 139, 139);\"></td><td title=\"Index: [11, 16]&#10;Color: (0, 139, 139)\" style=\"width: 10px; height: 10px;background-color: rgb(0, 139, 139);\"></td><td title=\"Index: [11, 17]&#10;Color: (0, 139, 139)\" style=\"width: 10px; height: 10px;background-color: rgb(0, 139, 139);\"></td><td title=\"Index: [11, 18]&#10;Color: (0, 139, 139)\" style=\"width: 10px; height: 10px;background-color: rgb(0, 139, 139);\"></td><td title=\"Index: [11, 19]&#10;Color: (0, 139, 139)\" style=\"width: 10px; height: 10px;background-color: rgb(0, 139, 139);\"></td></tr><tr><td title=\"Index: [12, 0]&#10;Color: (255, 215, 0)\" style=\"width: 10px; height: 10px;background-color: rgb(255, 215, 0);\"></td><td title=\"Index: [12, 1]&#10;Color: (255, 215, 0)\" style=\"width: 10px; height: 10px;background-color: rgb(255, 215, 0);\"></td><td title=\"Index: [12, 2]&#10;Color: (255, 215, 0)\" style=\"width: 10px; height: 10px;background-color: rgb(255, 215, 0);\"></td><td title=\"Index: [12, 3]&#10;Color: (255, 215, 0)\" style=\"width: 10px; height: 10px;background-color: rgb(255, 215, 0);\"></td><td title=\"Index: [12, 4]&#10;Color: (255, 215, 0)\" style=\"width: 10px; height: 10px;background-color: rgb(255, 215, 0);\"></td><td title=\"Index: [12, 5]&#10;Color: (255, 215, 0)\" style=\"width: 10px; height: 10px;background-color: rgb(255, 215, 0);\"></td><td title=\"Index: [12, 6]&#10;Color: (255, 215, 0)\" style=\"width: 10px; height: 10px;background-color: rgb(255, 215, 0);\"></td><td title=\"Index: [12, 7]&#10;Color: (255, 215, 0)\" style=\"width: 10px; height: 10px;background-color: rgb(255, 215, 0);\"></td><td title=\"Index: [12, 8]&#10;Color: (255, 215, 0)\" style=\"width: 10px; height: 10px;background-color: rgb(255, 215, 0);\"></td><td title=\"Index: [12, 9]&#10;Color: (255, 215, 0)\" style=\"width: 10px; height: 10px;background-color: rgb(255, 215, 0);\"></td><td title=\"Index: [12, 10]&#10;Color: (0, 139, 139)\" style=\"width: 10px; height: 10px;background-color: rgb(0, 139, 139);\"></td><td title=\"Index: [12, 11]&#10;Color: (0, 139, 139)\" style=\"width: 10px; height: 10px;background-color: rgb(0, 139, 139);\"></td><td title=\"Index: [12, 12]&#10;Color: (0, 139, 139)\" style=\"width: 10px; height: 10px;background-color: rgb(0, 139, 139);\"></td><td title=\"Index: [12, 13]&#10;Color: (0, 139, 139)\" style=\"width: 10px; height: 10px;background-color: rgb(0, 139, 139);\"></td><td title=\"Index: [12, 14]&#10;Color: (0, 139, 139)\" style=\"width: 10px; height: 10px;background-color: rgb(0, 139, 139);\"></td><td title=\"Index: [12, 15]&#10;Color: (0, 139, 139)\" style=\"width: 10px; height: 10px;background-color: rgb(0, 139, 139);\"></td><td title=\"Index: [12, 16]&#10;Color: (0, 139, 139)\" style=\"width: 10px; height: 10px;background-color: rgb(0, 139, 139);\"></td><td title=\"Index: [12, 17]&#10;Color: (0, 139, 139)\" style=\"width: 10px; height: 10px;background-color: rgb(0, 139, 139);\"></td><td title=\"Index: [12, 18]&#10;Color: (0, 139, 139)\" style=\"width: 10px; height: 10px;background-color: rgb(0, 139, 139);\"></td><td title=\"Index: [12, 19]&#10;Color: (0, 139, 139)\" style=\"width: 10px; height: 10px;background-color: rgb(0, 139, 139);\"></td></tr><tr><td title=\"Index: [13, 0]&#10;Color: (255, 215, 0)\" style=\"width: 10px; height: 10px;background-color: rgb(255, 215, 0);\"></td><td title=\"Index: [13, 1]&#10;Color: (255, 215, 0)\" style=\"width: 10px; height: 10px;background-color: rgb(255, 215, 0);\"></td><td title=\"Index: [13, 2]&#10;Color: (255, 215, 0)\" style=\"width: 10px; height: 10px;background-color: rgb(255, 215, 0);\"></td><td title=\"Index: [13, 3]&#10;Color: (255, 215, 0)\" style=\"width: 10px; height: 10px;background-color: rgb(255, 215, 0);\"></td><td title=\"Index: [13, 4]&#10;Color: (255, 215, 0)\" style=\"width: 10px; height: 10px;background-color: rgb(255, 215, 0);\"></td><td title=\"Index: [13, 5]&#10;Color: (255, 215, 0)\" style=\"width: 10px; height: 10px;background-color: rgb(255, 215, 0);\"></td><td title=\"Index: [13, 6]&#10;Color: (255, 215, 0)\" style=\"width: 10px; height: 10px;background-color: rgb(255, 215, 0);\"></td><td title=\"Index: [13, 7]&#10;Color: (255, 215, 0)\" style=\"width: 10px; height: 10px;background-color: rgb(255, 215, 0);\"></td><td title=\"Index: [13, 8]&#10;Color: (255, 215, 0)\" style=\"width: 10px; height: 10px;background-color: rgb(255, 215, 0);\"></td><td title=\"Index: [13, 9]&#10;Color: (255, 215, 0)\" style=\"width: 10px; height: 10px;background-color: rgb(255, 215, 0);\"></td><td title=\"Index: [13, 10]&#10;Color: (0, 139, 139)\" style=\"width: 10px; height: 10px;background-color: rgb(0, 139, 139);\"></td><td title=\"Index: [13, 11]&#10;Color: (0, 139, 139)\" style=\"width: 10px; height: 10px;background-color: rgb(0, 139, 139);\"></td><td title=\"Index: [13, 12]&#10;Color: (0, 139, 139)\" style=\"width: 10px; height: 10px;background-color: rgb(0, 139, 139);\"></td><td title=\"Index: [13, 13]&#10;Color: (0, 139, 139)\" style=\"width: 10px; height: 10px;background-color: rgb(0, 139, 139);\"></td><td title=\"Index: [13, 14]&#10;Color: (0, 139, 139)\" style=\"width: 10px; height: 10px;background-color: rgb(0, 139, 139);\"></td><td title=\"Index: [13, 15]&#10;Color: (0, 139, 139)\" style=\"width: 10px; height: 10px;background-color: rgb(0, 139, 139);\"></td><td title=\"Index: [13, 16]&#10;Color: (0, 139, 139)\" style=\"width: 10px; height: 10px;background-color: rgb(0, 139, 139);\"></td><td title=\"Index: [13, 17]&#10;Color: (0, 139, 139)\" style=\"width: 10px; height: 10px;background-color: rgb(0, 139, 139);\"></td><td title=\"Index: [13, 18]&#10;Color: (0, 139, 139)\" style=\"width: 10px; height: 10px;background-color: rgb(0, 139, 139);\"></td><td title=\"Index: [13, 19]&#10;Color: (0, 139, 139)\" style=\"width: 10px; height: 10px;background-color: rgb(0, 139, 139);\"></td></tr><tr><td title=\"Index: [14, 0]&#10;Color: (255, 215, 0)\" style=\"width: 10px; height: 10px;background-color: rgb(255, 215, 0);\"></td><td title=\"Index: [14, 1]&#10;Color: (255, 215, 0)\" style=\"width: 10px; height: 10px;background-color: rgb(255, 215, 0);\"></td><td title=\"Index: [14, 2]&#10;Color: (255, 215, 0)\" style=\"width: 10px; height: 10px;background-color: rgb(255, 215, 0);\"></td><td title=\"Index: [14, 3]&#10;Color: (255, 215, 0)\" style=\"width: 10px; height: 10px;background-color: rgb(255, 215, 0);\"></td><td title=\"Index: [14, 4]&#10;Color: (255, 215, 0)\" style=\"width: 10px; height: 10px;background-color: rgb(255, 215, 0);\"></td><td title=\"Index: [14, 5]&#10;Color: (255, 215, 0)\" style=\"width: 10px; height: 10px;background-color: rgb(255, 215, 0);\"></td><td title=\"Index: [14, 6]&#10;Color: (255, 215, 0)\" style=\"width: 10px; height: 10px;background-color: rgb(255, 215, 0);\"></td><td title=\"Index: [14, 7]&#10;Color: (255, 215, 0)\" style=\"width: 10px; height: 10px;background-color: rgb(255, 215, 0);\"></td><td title=\"Index: [14, 8]&#10;Color: (255, 215, 0)\" style=\"width: 10px; height: 10px;background-color: rgb(255, 215, 0);\"></td><td title=\"Index: [14, 9]&#10;Color: (255, 215, 0)\" style=\"width: 10px; height: 10px;background-color: rgb(255, 215, 0);\"></td><td title=\"Index: [14, 10]&#10;Color: (0, 139, 139)\" style=\"width: 10px; height: 10px;background-color: rgb(0, 139, 139);\"></td><td title=\"Index: [14, 11]&#10;Color: (0, 139, 139)\" style=\"width: 10px; height: 10px;background-color: rgb(0, 139, 139);\"></td><td title=\"Index: [14, 12]&#10;Color: (0, 139, 139)\" style=\"width: 10px; height: 10px;background-color: rgb(0, 139, 139);\"></td><td title=\"Index: [14, 13]&#10;Color: (0, 139, 139)\" style=\"width: 10px; height: 10px;background-color: rgb(0, 139, 139);\"></td><td title=\"Index: [14, 14]&#10;Color: (0, 139, 139)\" style=\"width: 10px; height: 10px;background-color: rgb(0, 139, 139);\"></td><td title=\"Index: [14, 15]&#10;Color: (0, 139, 139)\" style=\"width: 10px; height: 10px;background-color: rgb(0, 139, 139);\"></td><td title=\"Index: [14, 16]&#10;Color: (0, 139, 139)\" style=\"width: 10px; height: 10px;background-color: rgb(0, 139, 139);\"></td><td title=\"Index: [14, 17]&#10;Color: (0, 139, 139)\" style=\"width: 10px; height: 10px;background-color: rgb(0, 139, 139);\"></td><td title=\"Index: [14, 18]&#10;Color: (0, 139, 139)\" style=\"width: 10px; height: 10px;background-color: rgb(0, 139, 139);\"></td><td title=\"Index: [14, 19]&#10;Color: (0, 139, 139)\" style=\"width: 10px; height: 10px;background-color: rgb(0, 139, 139);\"></td></tr><tr><td title=\"Index: [15, 0]&#10;Color: (255, 215, 0)\" style=\"width: 10px; height: 10px;background-color: rgb(255, 215, 0);\"></td><td title=\"Index: [15, 1]&#10;Color: (255, 215, 0)\" style=\"width: 10px; height: 10px;background-color: rgb(255, 215, 0);\"></td><td title=\"Index: [15, 2]&#10;Color: (255, 215, 0)\" style=\"width: 10px; height: 10px;background-color: rgb(255, 215, 0);\"></td><td title=\"Index: [15, 3]&#10;Color: (255, 215, 0)\" style=\"width: 10px; height: 10px;background-color: rgb(255, 215, 0);\"></td><td title=\"Index: [15, 4]&#10;Color: (255, 215, 0)\" style=\"width: 10px; height: 10px;background-color: rgb(255, 215, 0);\"></td><td title=\"Index: [15, 5]&#10;Color: (255, 215, 0)\" style=\"width: 10px; height: 10px;background-color: rgb(255, 215, 0);\"></td><td title=\"Index: [15, 6]&#10;Color: (255, 215, 0)\" style=\"width: 10px; height: 10px;background-color: rgb(255, 215, 0);\"></td><td title=\"Index: [15, 7]&#10;Color: (255, 215, 0)\" style=\"width: 10px; height: 10px;background-color: rgb(255, 215, 0);\"></td><td title=\"Index: [15, 8]&#10;Color: (255, 215, 0)\" style=\"width: 10px; height: 10px;background-color: rgb(255, 215, 0);\"></td><td title=\"Index: [15, 9]&#10;Color: (255, 215, 0)\" style=\"width: 10px; height: 10px;background-color: rgb(255, 215, 0);\"></td><td title=\"Index: [15, 10]&#10;Color: (0, 139, 139)\" style=\"width: 10px; height: 10px;background-color: rgb(0, 139, 139);\"></td><td title=\"Index: [15, 11]&#10;Color: (0, 139, 139)\" style=\"width: 10px; height: 10px;background-color: rgb(0, 139, 139);\"></td><td title=\"Index: [15, 12]&#10;Color: (0, 139, 139)\" style=\"width: 10px; height: 10px;background-color: rgb(0, 139, 139);\"></td><td title=\"Index: [15, 13]&#10;Color: (0, 139, 139)\" style=\"width: 10px; height: 10px;background-color: rgb(0, 139, 139);\"></td><td title=\"Index: [15, 14]&#10;Color: (0, 139, 139)\" style=\"width: 10px; height: 10px;background-color: rgb(0, 139, 139);\"></td><td title=\"Index: [15, 15]&#10;Color: (0, 139, 139)\" style=\"width: 10px; height: 10px;background-color: rgb(0, 139, 139);\"></td><td title=\"Index: [15, 16]&#10;Color: (0, 139, 139)\" style=\"width: 10px; height: 10px;background-color: rgb(0, 139, 139);\"></td><td title=\"Index: [15, 17]&#10;Color: (0, 139, 139)\" style=\"width: 10px; height: 10px;background-color: rgb(0, 139, 139);\"></td><td title=\"Index: [15, 18]&#10;Color: (0, 139, 139)\" style=\"width: 10px; height: 10px;background-color: rgb(0, 139, 139);\"></td><td title=\"Index: [15, 19]&#10;Color: (0, 139, 139)\" style=\"width: 10px; height: 10px;background-color: rgb(0, 139, 139);\"></td></tr><tr><td title=\"Index: [16, 0]&#10;Color: (255, 215, 0)\" style=\"width: 10px; height: 10px;background-color: rgb(255, 215, 0);\"></td><td title=\"Index: [16, 1]&#10;Color: (255, 215, 0)\" style=\"width: 10px; height: 10px;background-color: rgb(255, 215, 0);\"></td><td title=\"Index: [16, 2]&#10;Color: (255, 215, 0)\" style=\"width: 10px; height: 10px;background-color: rgb(255, 215, 0);\"></td><td title=\"Index: [16, 3]&#10;Color: (255, 215, 0)\" style=\"width: 10px; height: 10px;background-color: rgb(255, 215, 0);\"></td><td title=\"Index: [16, 4]&#10;Color: (255, 215, 0)\" style=\"width: 10px; height: 10px;background-color: rgb(255, 215, 0);\"></td><td title=\"Index: [16, 5]&#10;Color: (255, 215, 0)\" style=\"width: 10px; height: 10px;background-color: rgb(255, 215, 0);\"></td><td title=\"Index: [16, 6]&#10;Color: (255, 215, 0)\" style=\"width: 10px; height: 10px;background-color: rgb(255, 215, 0);\"></td><td title=\"Index: [16, 7]&#10;Color: (255, 215, 0)\" style=\"width: 10px; height: 10px;background-color: rgb(255, 215, 0);\"></td><td title=\"Index: [16, 8]&#10;Color: (255, 215, 0)\" style=\"width: 10px; height: 10px;background-color: rgb(255, 215, 0);\"></td><td title=\"Index: [16, 9]&#10;Color: (255, 215, 0)\" style=\"width: 10px; height: 10px;background-color: rgb(255, 215, 0);\"></td><td title=\"Index: [16, 10]&#10;Color: (0, 139, 139)\" style=\"width: 10px; height: 10px;background-color: rgb(0, 139, 139);\"></td><td title=\"Index: [16, 11]&#10;Color: (0, 139, 139)\" style=\"width: 10px; height: 10px;background-color: rgb(0, 139, 139);\"></td><td title=\"Index: [16, 12]&#10;Color: (0, 139, 139)\" style=\"width: 10px; height: 10px;background-color: rgb(0, 139, 139);\"></td><td title=\"Index: [16, 13]&#10;Color: (0, 139, 139)\" style=\"width: 10px; height: 10px;background-color: rgb(0, 139, 139);\"></td><td title=\"Index: [16, 14]&#10;Color: (0, 139, 139)\" style=\"width: 10px; height: 10px;background-color: rgb(0, 139, 139);\"></td><td title=\"Index: [16, 15]&#10;Color: (0, 139, 139)\" style=\"width: 10px; height: 10px;background-color: rgb(0, 139, 139);\"></td><td title=\"Index: [16, 16]&#10;Color: (0, 139, 139)\" style=\"width: 10px; height: 10px;background-color: rgb(0, 139, 139);\"></td><td title=\"Index: [16, 17]&#10;Color: (0, 139, 139)\" style=\"width: 10px; height: 10px;background-color: rgb(0, 139, 139);\"></td><td title=\"Index: [16, 18]&#10;Color: (0, 139, 139)\" style=\"width: 10px; height: 10px;background-color: rgb(0, 139, 139);\"></td><td title=\"Index: [16, 19]&#10;Color: (0, 139, 139)\" style=\"width: 10px; height: 10px;background-color: rgb(0, 139, 139);\"></td></tr><tr><td title=\"Index: [17, 0]&#10;Color: (255, 215, 0)\" style=\"width: 10px; height: 10px;background-color: rgb(255, 215, 0);\"></td><td title=\"Index: [17, 1]&#10;Color: (255, 215, 0)\" style=\"width: 10px; height: 10px;background-color: rgb(255, 215, 0);\"></td><td title=\"Index: [17, 2]&#10;Color: (255, 215, 0)\" style=\"width: 10px; height: 10px;background-color: rgb(255, 215, 0);\"></td><td title=\"Index: [17, 3]&#10;Color: (255, 215, 0)\" style=\"width: 10px; height: 10px;background-color: rgb(255, 215, 0);\"></td><td title=\"Index: [17, 4]&#10;Color: (255, 215, 0)\" style=\"width: 10px; height: 10px;background-color: rgb(255, 215, 0);\"></td><td title=\"Index: [17, 5]&#10;Color: (255, 215, 0)\" style=\"width: 10px; height: 10px;background-color: rgb(255, 215, 0);\"></td><td title=\"Index: [17, 6]&#10;Color: (255, 215, 0)\" style=\"width: 10px; height: 10px;background-color: rgb(255, 215, 0);\"></td><td title=\"Index: [17, 7]&#10;Color: (255, 215, 0)\" style=\"width: 10px; height: 10px;background-color: rgb(255, 215, 0);\"></td><td title=\"Index: [17, 8]&#10;Color: (255, 215, 0)\" style=\"width: 10px; height: 10px;background-color: rgb(255, 215, 0);\"></td><td title=\"Index: [17, 9]&#10;Color: (255, 215, 0)\" style=\"width: 10px; height: 10px;background-color: rgb(255, 215, 0);\"></td><td title=\"Index: [17, 10]&#10;Color: (0, 0, 0)\" style=\"width: 10px; height: 10px;background-color: rgb(0, 0, 0);\"></td><td title=\"Index: [17, 11]&#10;Color: (0, 0, 0)\" style=\"width: 10px; height: 10px;background-color: rgb(0, 0, 0);\"></td><td title=\"Index: [17, 12]&#10;Color: (0, 0, 0)\" style=\"width: 10px; height: 10px;background-color: rgb(0, 0, 0);\"></td><td title=\"Index: [17, 13]&#10;Color: (0, 0, 0)\" style=\"width: 10px; height: 10px;background-color: rgb(0, 0, 0);\"></td><td title=\"Index: [17, 14]&#10;Color: (0, 0, 0)\" style=\"width: 10px; height: 10px;background-color: rgb(0, 0, 0);\"></td><td title=\"Index: [17, 15]&#10;Color: (0, 0, 0)\" style=\"width: 10px; height: 10px;background-color: rgb(0, 0, 0);\"></td><td title=\"Index: [17, 16]&#10;Color: (0, 0, 0)\" style=\"width: 10px; height: 10px;background-color: rgb(0, 0, 0);\"></td><td title=\"Index: [17, 17]&#10;Color: (0, 0, 0)\" style=\"width: 10px; height: 10px;background-color: rgb(0, 0, 0);\"></td><td title=\"Index: [17, 18]&#10;Color: (0, 0, 0)\" style=\"width: 10px; height: 10px;background-color: rgb(0, 0, 0);\"></td><td title=\"Index: [17, 19]&#10;Color: (0, 0, 0)\" style=\"width: 10px; height: 10px;background-color: rgb(0, 0, 0);\"></td></tr><tr><td title=\"Index: [18, 0]&#10;Color: (255, 215, 0)\" style=\"width: 10px; height: 10px;background-color: rgb(255, 215, 0);\"></td><td title=\"Index: [18, 1]&#10;Color: (255, 215, 0)\" style=\"width: 10px; height: 10px;background-color: rgb(255, 215, 0);\"></td><td title=\"Index: [18, 2]&#10;Color: (255, 215, 0)\" style=\"width: 10px; height: 10px;background-color: rgb(255, 215, 0);\"></td><td title=\"Index: [18, 3]&#10;Color: (255, 215, 0)\" style=\"width: 10px; height: 10px;background-color: rgb(255, 215, 0);\"></td><td title=\"Index: [18, 4]&#10;Color: (255, 215, 0)\" style=\"width: 10px; height: 10px;background-color: rgb(255, 215, 0);\"></td><td title=\"Index: [18, 5]&#10;Color: (255, 215, 0)\" style=\"width: 10px; height: 10px;background-color: rgb(255, 215, 0);\"></td><td title=\"Index: [18, 6]&#10;Color: (255, 215, 0)\" style=\"width: 10px; height: 10px;background-color: rgb(255, 215, 0);\"></td><td title=\"Index: [18, 7]&#10;Color: (255, 215, 0)\" style=\"width: 10px; height: 10px;background-color: rgb(255, 215, 0);\"></td><td title=\"Index: [18, 8]&#10;Color: (255, 215, 0)\" style=\"width: 10px; height: 10px;background-color: rgb(255, 215, 0);\"></td><td title=\"Index: [18, 9]&#10;Color: (255, 215, 0)\" style=\"width: 10px; height: 10px;background-color: rgb(255, 215, 0);\"></td><td title=\"Index: [18, 10]&#10;Color: (0, 139, 139)\" style=\"width: 10px; height: 10px;background-color: rgb(0, 139, 139);\"></td><td title=\"Index: [18, 11]&#10;Color: (0, 139, 139)\" style=\"width: 10px; height: 10px;background-color: rgb(0, 139, 139);\"></td><td title=\"Index: [18, 12]&#10;Color: (0, 139, 139)\" style=\"width: 10px; height: 10px;background-color: rgb(0, 139, 139);\"></td><td title=\"Index: [18, 13]&#10;Color: (0, 139, 139)\" style=\"width: 10px; height: 10px;background-color: rgb(0, 139, 139);\"></td><td title=\"Index: [18, 14]&#10;Color: (0, 139, 139)\" style=\"width: 10px; height: 10px;background-color: rgb(0, 139, 139);\"></td><td title=\"Index: [18, 15]&#10;Color: (0, 139, 139)\" style=\"width: 10px; height: 10px;background-color: rgb(0, 139, 139);\"></td><td title=\"Index: [18, 16]&#10;Color: (0, 139, 139)\" style=\"width: 10px; height: 10px;background-color: rgb(0, 139, 139);\"></td><td title=\"Index: [18, 17]&#10;Color: (0, 139, 139)\" style=\"width: 10px; height: 10px;background-color: rgb(0, 139, 139);\"></td><td title=\"Index: [18, 18]&#10;Color: (0, 139, 139)\" style=\"width: 10px; height: 10px;background-color: rgb(0, 139, 139);\"></td><td title=\"Index: [18, 19]&#10;Color: (0, 139, 139)\" style=\"width: 10px; height: 10px;background-color: rgb(0, 139, 139);\"></td></tr><tr><td title=\"Index: [19, 0]&#10;Color: (255, 215, 0)\" style=\"width: 10px; height: 10px;background-color: rgb(255, 215, 0);\"></td><td title=\"Index: [19, 1]&#10;Color: (255, 215, 0)\" style=\"width: 10px; height: 10px;background-color: rgb(255, 215, 0);\"></td><td title=\"Index: [19, 2]&#10;Color: (255, 215, 0)\" style=\"width: 10px; height: 10px;background-color: rgb(255, 215, 0);\"></td><td title=\"Index: [19, 3]&#10;Color: (255, 215, 0)\" style=\"width: 10px; height: 10px;background-color: rgb(255, 215, 0);\"></td><td title=\"Index: [19, 4]&#10;Color: (255, 215, 0)\" style=\"width: 10px; height: 10px;background-color: rgb(255, 215, 0);\"></td><td title=\"Index: [19, 5]&#10;Color: (255, 215, 0)\" style=\"width: 10px; height: 10px;background-color: rgb(255, 215, 0);\"></td><td title=\"Index: [19, 6]&#10;Color: (255, 215, 0)\" style=\"width: 10px; height: 10px;background-color: rgb(255, 215, 0);\"></td><td title=\"Index: [19, 7]&#10;Color: (255, 215, 0)\" style=\"width: 10px; height: 10px;background-color: rgb(255, 215, 0);\"></td><td title=\"Index: [19, 8]&#10;Color: (255, 215, 0)\" style=\"width: 10px; height: 10px;background-color: rgb(255, 215, 0);\"></td><td title=\"Index: [19, 9]&#10;Color: (255, 215, 0)\" style=\"width: 10px; height: 10px;background-color: rgb(255, 215, 0);\"></td><td title=\"Index: [19, 10]&#10;Color: (0, 139, 139)\" style=\"width: 10px; height: 10px;background-color: rgb(0, 139, 139);\"></td><td title=\"Index: [19, 11]&#10;Color: (0, 139, 139)\" style=\"width: 10px; height: 10px;background-color: rgb(0, 139, 139);\"></td><td title=\"Index: [19, 12]&#10;Color: (0, 139, 139)\" style=\"width: 10px; height: 10px;background-color: rgb(0, 139, 139);\"></td><td title=\"Index: [19, 13]&#10;Color: (0, 139, 139)\" style=\"width: 10px; height: 10px;background-color: rgb(0, 139, 139);\"></td><td title=\"Index: [19, 14]&#10;Color: (0, 139, 139)\" style=\"width: 10px; height: 10px;background-color: rgb(0, 139, 139);\"></td><td title=\"Index: [19, 15]&#10;Color: (0, 139, 139)\" style=\"width: 10px; height: 10px;background-color: rgb(0, 139, 139);\"></td><td title=\"Index: [19, 16]&#10;Color: (0, 139, 139)\" style=\"width: 10px; height: 10px;background-color: rgb(0, 139, 139);\"></td><td title=\"Index: [19, 17]&#10;Color: (0, 139, 139)\" style=\"width: 10px; height: 10px;background-color: rgb(0, 139, 139);\"></td><td title=\"Index: [19, 18]&#10;Color: (0, 139, 139)\" style=\"width: 10px; height: 10px;background-color: rgb(0, 139, 139);\"></td><td title=\"Index: [19, 19]&#10;Color: (0, 139, 139)\" style=\"width: 10px; height: 10px;background-color: rgb(0, 139, 139);\"></td></tr></tbody></table>"
      ],
      "text/plain": [
       "<ipythonblocks.BlockGrid at 0x110b45c88>"
      ]
     },
     "execution_count": 29,
     "metadata": {},
     "output_type": "execute_result"
    }
   ],
   "source": [
    "grid20[3:8, 11:18] = colors.RosyBrown\n",
    "grid20"
   ]
  },
  {
   "cell_type": "code",
   "execution_count": 30,
   "metadata": {},
   "outputs": [
    {
     "data": {
      "text/plain": [
       "[5, 6, 7, 8, 9]"
      ]
     },
     "execution_count": 30,
     "metadata": {},
     "output_type": "execute_result"
    }
   ],
   "source": [
    "list(range(10))[5:]"
   ]
  },
  {
   "cell_type": "code",
   "execution_count": 31,
   "metadata": {},
   "outputs": [
    {
     "data": {
      "text/plain": [
       "[0, 1, 2, 3, 4]"
      ]
     },
     "execution_count": 31,
     "metadata": {},
     "output_type": "execute_result"
    }
   ],
   "source": [
    "list(range(10))[:5]"
   ]
  },
  {
   "cell_type": "code",
   "execution_count": 32,
   "metadata": {},
   "outputs": [
    {
     "data": {
      "text/plain": [
       "[5, 6, 7]"
      ]
     },
     "execution_count": 32,
     "metadata": {},
     "output_type": "execute_result"
    }
   ],
   "source": [
    "list(range(10))[5:8]"
   ]
  },
  {
   "cell_type": "code",
   "execution_count": 33,
   "metadata": {},
   "outputs": [
    {
     "data": {
      "text/plain": [
       "[2, 4, 6]"
      ]
     },
     "execution_count": 33,
     "metadata": {},
     "output_type": "execute_result"
    }
   ],
   "source": [
    "list(range(10))[2:8:2]"
   ]
  },
  {
   "cell_type": "code",
   "execution_count": 34,
   "metadata": {},
   "outputs": [
    {
     "data": {
      "text/html": [
       "<style type=\"text/css\">table.blockgrid {border: none;} .blockgrid tr {border: none;} .blockgrid td {padding: 0px;} #blocks01a6ab44-86c8-4683-a07f-cc29c839a1d1 td {border: 1px solid white;}</style><table id=\"blocks01a6ab44-86c8-4683-a07f-cc29c839a1d1\" class=\"blockgrid\"><tbody><tr><td title=\"Index: [0, 0]&#10;Color: (0, 139, 139)\" style=\"width: 10px; height: 10px;background-color: rgb(0, 139, 139);\"></td><td title=\"Index: [0, 1]&#10;Color: (0, 139, 139)\" style=\"width: 10px; height: 10px;background-color: rgb(0, 139, 139);\"></td><td title=\"Index: [0, 2]&#10;Color: (0, 139, 139)\" style=\"width: 10px; height: 10px;background-color: rgb(0, 139, 139);\"></td><td title=\"Index: [0, 3]&#10;Color: (0, 139, 139)\" style=\"width: 10px; height: 10px;background-color: rgb(0, 139, 139);\"></td><td title=\"Index: [0, 4]&#10;Color: (0, 139, 139)\" style=\"width: 10px; height: 10px;background-color: rgb(0, 139, 139);\"></td><td title=\"Index: [0, 5]&#10;Color: (0, 139, 139)\" style=\"width: 10px; height: 10px;background-color: rgb(0, 139, 139);\"></td><td title=\"Index: [0, 6]&#10;Color: (0, 139, 139)\" style=\"width: 10px; height: 10px;background-color: rgb(0, 139, 139);\"></td><td title=\"Index: [0, 7]&#10;Color: (0, 139, 139)\" style=\"width: 10px; height: 10px;background-color: rgb(0, 139, 139);\"></td><td title=\"Index: [0, 8]&#10;Color: (0, 139, 139)\" style=\"width: 10px; height: 10px;background-color: rgb(0, 139, 139);\"></td><td title=\"Index: [0, 9]&#10;Color: (0, 139, 139)\" style=\"width: 10px; height: 10px;background-color: rgb(0, 139, 139);\"></td><td title=\"Index: [0, 10]&#10;Color: (0, 139, 139)\" style=\"width: 10px; height: 10px;background-color: rgb(0, 139, 139);\"></td><td title=\"Index: [0, 11]&#10;Color: (0, 139, 139)\" style=\"width: 10px; height: 10px;background-color: rgb(0, 139, 139);\"></td><td title=\"Index: [0, 12]&#10;Color: (0, 139, 139)\" style=\"width: 10px; height: 10px;background-color: rgb(0, 139, 139);\"></td><td title=\"Index: [0, 13]&#10;Color: (0, 139, 139)\" style=\"width: 10px; height: 10px;background-color: rgb(0, 139, 139);\"></td><td title=\"Index: [0, 14]&#10;Color: (0, 139, 139)\" style=\"width: 10px; height: 10px;background-color: rgb(0, 139, 139);\"></td><td title=\"Index: [0, 15]&#10;Color: (0, 139, 139)\" style=\"width: 10px; height: 10px;background-color: rgb(0, 139, 139);\"></td><td title=\"Index: [0, 16]&#10;Color: (0, 139, 139)\" style=\"width: 10px; height: 10px;background-color: rgb(0, 139, 139);\"></td><td title=\"Index: [0, 17]&#10;Color: (0, 139, 139)\" style=\"width: 10px; height: 10px;background-color: rgb(0, 139, 139);\"></td><td title=\"Index: [0, 18]&#10;Color: (0, 139, 139)\" style=\"width: 10px; height: 10px;background-color: rgb(0, 139, 139);\"></td><td title=\"Index: [0, 19]&#10;Color: (0, 139, 139)\" style=\"width: 10px; height: 10px;background-color: rgb(0, 139, 139);\"></td></tr><tr><td title=\"Index: [1, 0]&#10;Color: (0, 139, 139)\" style=\"width: 10px; height: 10px;background-color: rgb(0, 139, 139);\"></td><td title=\"Index: [1, 1]&#10;Color: (0, 139, 139)\" style=\"width: 10px; height: 10px;background-color: rgb(0, 139, 139);\"></td><td title=\"Index: [1, 2]&#10;Color: (0, 139, 139)\" style=\"width: 10px; height: 10px;background-color: rgb(0, 139, 139);\"></td><td title=\"Index: [1, 3]&#10;Color: (0, 139, 139)\" style=\"width: 10px; height: 10px;background-color: rgb(0, 139, 139);\"></td><td title=\"Index: [1, 4]&#10;Color: (0, 139, 139)\" style=\"width: 10px; height: 10px;background-color: rgb(0, 139, 139);\"></td><td title=\"Index: [1, 5]&#10;Color: (0, 139, 139)\" style=\"width: 10px; height: 10px;background-color: rgb(0, 139, 139);\"></td><td title=\"Index: [1, 6]&#10;Color: (0, 139, 139)\" style=\"width: 10px; height: 10px;background-color: rgb(0, 139, 139);\"></td><td title=\"Index: [1, 7]&#10;Color: (0, 139, 139)\" style=\"width: 10px; height: 10px;background-color: rgb(0, 139, 139);\"></td><td title=\"Index: [1, 8]&#10;Color: (0, 139, 139)\" style=\"width: 10px; height: 10px;background-color: rgb(0, 139, 139);\"></td><td title=\"Index: [1, 9]&#10;Color: (0, 139, 139)\" style=\"width: 10px; height: 10px;background-color: rgb(0, 139, 139);\"></td><td title=\"Index: [1, 10]&#10;Color: (0, 139, 139)\" style=\"width: 10px; height: 10px;background-color: rgb(0, 139, 139);\"></td><td title=\"Index: [1, 11]&#10;Color: (0, 139, 139)\" style=\"width: 10px; height: 10px;background-color: rgb(0, 139, 139);\"></td><td title=\"Index: [1, 12]&#10;Color: (0, 139, 139)\" style=\"width: 10px; height: 10px;background-color: rgb(0, 139, 139);\"></td><td title=\"Index: [1, 13]&#10;Color: (0, 139, 139)\" style=\"width: 10px; height: 10px;background-color: rgb(0, 139, 139);\"></td><td title=\"Index: [1, 14]&#10;Color: (0, 139, 139)\" style=\"width: 10px; height: 10px;background-color: rgb(0, 139, 139);\"></td><td title=\"Index: [1, 15]&#10;Color: (0, 139, 139)\" style=\"width: 10px; height: 10px;background-color: rgb(0, 139, 139);\"></td><td title=\"Index: [1, 16]&#10;Color: (0, 139, 139)\" style=\"width: 10px; height: 10px;background-color: rgb(0, 139, 139);\"></td><td title=\"Index: [1, 17]&#10;Color: (0, 139, 139)\" style=\"width: 10px; height: 10px;background-color: rgb(0, 139, 139);\"></td><td title=\"Index: [1, 18]&#10;Color: (0, 139, 139)\" style=\"width: 10px; height: 10px;background-color: rgb(0, 139, 139);\"></td><td title=\"Index: [1, 19]&#10;Color: (0, 139, 139)\" style=\"width: 10px; height: 10px;background-color: rgb(0, 139, 139);\"></td></tr><tr><td title=\"Index: [2, 0]&#10;Color: (0, 0, 255)\" style=\"width: 10px; height: 10px;background-color: rgb(0, 0, 255);\"></td><td title=\"Index: [2, 1]&#10;Color: (0, 0, 255)\" style=\"width: 10px; height: 10px;background-color: rgb(0, 0, 255);\"></td><td title=\"Index: [2, 2]&#10;Color: (0, 0, 255)\" style=\"width: 10px; height: 10px;background-color: rgb(0, 0, 255);\"></td><td title=\"Index: [2, 3]&#10;Color: (0, 0, 255)\" style=\"width: 10px; height: 10px;background-color: rgb(0, 0, 255);\"></td><td title=\"Index: [2, 4]&#10;Color: (0, 0, 255)\" style=\"width: 10px; height: 10px;background-color: rgb(0, 0, 255);\"></td><td title=\"Index: [2, 5]&#10;Color: (0, 0, 255)\" style=\"width: 10px; height: 10px;background-color: rgb(0, 0, 255);\"></td><td title=\"Index: [2, 6]&#10;Color: (0, 0, 255)\" style=\"width: 10px; height: 10px;background-color: rgb(0, 0, 255);\"></td><td title=\"Index: [2, 7]&#10;Color: (0, 0, 255)\" style=\"width: 10px; height: 10px;background-color: rgb(0, 0, 255);\"></td><td title=\"Index: [2, 8]&#10;Color: (0, 0, 255)\" style=\"width: 10px; height: 10px;background-color: rgb(0, 0, 255);\"></td><td title=\"Index: [2, 9]&#10;Color: (0, 0, 255)\" style=\"width: 10px; height: 10px;background-color: rgb(0, 0, 255);\"></td><td title=\"Index: [2, 10]&#10;Color: (0, 0, 255)\" style=\"width: 10px; height: 10px;background-color: rgb(0, 0, 255);\"></td><td title=\"Index: [2, 11]&#10;Color: (0, 0, 255)\" style=\"width: 10px; height: 10px;background-color: rgb(0, 0, 255);\"></td><td title=\"Index: [2, 12]&#10;Color: (0, 0, 255)\" style=\"width: 10px; height: 10px;background-color: rgb(0, 0, 255);\"></td><td title=\"Index: [2, 13]&#10;Color: (0, 0, 255)\" style=\"width: 10px; height: 10px;background-color: rgb(0, 0, 255);\"></td><td title=\"Index: [2, 14]&#10;Color: (0, 0, 255)\" style=\"width: 10px; height: 10px;background-color: rgb(0, 0, 255);\"></td><td title=\"Index: [2, 15]&#10;Color: (0, 0, 255)\" style=\"width: 10px; height: 10px;background-color: rgb(0, 0, 255);\"></td><td title=\"Index: [2, 16]&#10;Color: (0, 0, 255)\" style=\"width: 10px; height: 10px;background-color: rgb(0, 0, 255);\"></td><td title=\"Index: [2, 17]&#10;Color: (0, 0, 255)\" style=\"width: 10px; height: 10px;background-color: rgb(0, 0, 255);\"></td><td title=\"Index: [2, 18]&#10;Color: (0, 0, 255)\" style=\"width: 10px; height: 10px;background-color: rgb(0, 0, 255);\"></td><td title=\"Index: [2, 19]&#10;Color: (0, 0, 255)\" style=\"width: 10px; height: 10px;background-color: rgb(0, 0, 255);\"></td></tr><tr><td title=\"Index: [3, 0]&#10;Color: (0, 139, 139)\" style=\"width: 10px; height: 10px;background-color: rgb(0, 139, 139);\"></td><td title=\"Index: [3, 1]&#10;Color: (0, 139, 139)\" style=\"width: 10px; height: 10px;background-color: rgb(0, 139, 139);\"></td><td title=\"Index: [3, 2]&#10;Color: (0, 139, 139)\" style=\"width: 10px; height: 10px;background-color: rgb(0, 139, 139);\"></td><td title=\"Index: [3, 3]&#10;Color: (0, 139, 139)\" style=\"width: 10px; height: 10px;background-color: rgb(0, 139, 139);\"></td><td title=\"Index: [3, 4]&#10;Color: (0, 139, 139)\" style=\"width: 10px; height: 10px;background-color: rgb(0, 139, 139);\"></td><td title=\"Index: [3, 5]&#10;Color: (0, 139, 139)\" style=\"width: 10px; height: 10px;background-color: rgb(0, 139, 139);\"></td><td title=\"Index: [3, 6]&#10;Color: (0, 139, 139)\" style=\"width: 10px; height: 10px;background-color: rgb(0, 139, 139);\"></td><td title=\"Index: [3, 7]&#10;Color: (0, 139, 139)\" style=\"width: 10px; height: 10px;background-color: rgb(0, 139, 139);\"></td><td title=\"Index: [3, 8]&#10;Color: (0, 139, 139)\" style=\"width: 10px; height: 10px;background-color: rgb(0, 139, 139);\"></td><td title=\"Index: [3, 9]&#10;Color: (0, 139, 139)\" style=\"width: 10px; height: 10px;background-color: rgb(0, 139, 139);\"></td><td title=\"Index: [3, 10]&#10;Color: (0, 139, 139)\" style=\"width: 10px; height: 10px;background-color: rgb(0, 139, 139);\"></td><td title=\"Index: [3, 11]&#10;Color: (188, 143, 143)\" style=\"width: 10px; height: 10px;background-color: rgb(188, 143, 143);\"></td><td title=\"Index: [3, 12]&#10;Color: (188, 143, 143)\" style=\"width: 10px; height: 10px;background-color: rgb(188, 143, 143);\"></td><td title=\"Index: [3, 13]&#10;Color: (188, 143, 143)\" style=\"width: 10px; height: 10px;background-color: rgb(188, 143, 143);\"></td><td title=\"Index: [3, 14]&#10;Color: (188, 143, 143)\" style=\"width: 10px; height: 10px;background-color: rgb(188, 143, 143);\"></td><td title=\"Index: [3, 15]&#10;Color: (188, 143, 143)\" style=\"width: 10px; height: 10px;background-color: rgb(188, 143, 143);\"></td><td title=\"Index: [3, 16]&#10;Color: (188, 143, 143)\" style=\"width: 10px; height: 10px;background-color: rgb(188, 143, 143);\"></td><td title=\"Index: [3, 17]&#10;Color: (188, 143, 143)\" style=\"width: 10px; height: 10px;background-color: rgb(188, 143, 143);\"></td><td title=\"Index: [3, 18]&#10;Color: (0, 139, 139)\" style=\"width: 10px; height: 10px;background-color: rgb(0, 139, 139);\"></td><td title=\"Index: [3, 19]&#10;Color: (0, 139, 139)\" style=\"width: 10px; height: 10px;background-color: rgb(0, 139, 139);\"></td></tr><tr><td title=\"Index: [4, 0]&#10;Color: (0, 139, 139)\" style=\"width: 10px; height: 10px;background-color: rgb(0, 139, 139);\"></td><td title=\"Index: [4, 1]&#10;Color: (0, 139, 139)\" style=\"width: 10px; height: 10px;background-color: rgb(0, 139, 139);\"></td><td title=\"Index: [4, 2]&#10;Color: (0, 139, 139)\" style=\"width: 10px; height: 10px;background-color: rgb(0, 139, 139);\"></td><td title=\"Index: [4, 3]&#10;Color: (0, 139, 139)\" style=\"width: 10px; height: 10px;background-color: rgb(0, 139, 139);\"></td><td title=\"Index: [4, 4]&#10;Color: (0, 139, 139)\" style=\"width: 10px; height: 10px;background-color: rgb(0, 139, 139);\"></td><td title=\"Index: [4, 5]&#10;Color: (0, 139, 139)\" style=\"width: 10px; height: 10px;background-color: rgb(0, 139, 139);\"></td><td title=\"Index: [4, 6]&#10;Color: (0, 139, 139)\" style=\"width: 10px; height: 10px;background-color: rgb(0, 139, 139);\"></td><td title=\"Index: [4, 7]&#10;Color: (0, 139, 139)\" style=\"width: 10px; height: 10px;background-color: rgb(0, 139, 139);\"></td><td title=\"Index: [4, 8]&#10;Color: (0, 139, 139)\" style=\"width: 10px; height: 10px;background-color: rgb(0, 139, 139);\"></td><td title=\"Index: [4, 9]&#10;Color: (0, 139, 139)\" style=\"width: 10px; height: 10px;background-color: rgb(0, 139, 139);\"></td><td title=\"Index: [4, 10]&#10;Color: (0, 139, 139)\" style=\"width: 10px; height: 10px;background-color: rgb(0, 139, 139);\"></td><td title=\"Index: [4, 11]&#10;Color: (188, 143, 143)\" style=\"width: 10px; height: 10px;background-color: rgb(188, 143, 143);\"></td><td title=\"Index: [4, 12]&#10;Color: (188, 143, 143)\" style=\"width: 10px; height: 10px;background-color: rgb(188, 143, 143);\"></td><td title=\"Index: [4, 13]&#10;Color: (188, 143, 143)\" style=\"width: 10px; height: 10px;background-color: rgb(188, 143, 143);\"></td><td title=\"Index: [4, 14]&#10;Color: (188, 143, 143)\" style=\"width: 10px; height: 10px;background-color: rgb(188, 143, 143);\"></td><td title=\"Index: [4, 15]&#10;Color: (188, 143, 143)\" style=\"width: 10px; height: 10px;background-color: rgb(188, 143, 143);\"></td><td title=\"Index: [4, 16]&#10;Color: (188, 143, 143)\" style=\"width: 10px; height: 10px;background-color: rgb(188, 143, 143);\"></td><td title=\"Index: [4, 17]&#10;Color: (188, 143, 143)\" style=\"width: 10px; height: 10px;background-color: rgb(188, 143, 143);\"></td><td title=\"Index: [4, 18]&#10;Color: (0, 139, 139)\" style=\"width: 10px; height: 10px;background-color: rgb(0, 139, 139);\"></td><td title=\"Index: [4, 19]&#10;Color: (0, 139, 139)\" style=\"width: 10px; height: 10px;background-color: rgb(0, 139, 139);\"></td></tr><tr><td title=\"Index: [5, 0]&#10;Color: (0, 139, 139)\" style=\"width: 10px; height: 10px;background-color: rgb(0, 139, 139);\"></td><td title=\"Index: [5, 1]&#10;Color: (0, 139, 139)\" style=\"width: 10px; height: 10px;background-color: rgb(0, 139, 139);\"></td><td title=\"Index: [5, 2]&#10;Color: (0, 139, 139)\" style=\"width: 10px; height: 10px;background-color: rgb(0, 139, 139);\"></td><td title=\"Index: [5, 3]&#10;Color: (0, 139, 139)\" style=\"width: 10px; height: 10px;background-color: rgb(0, 139, 139);\"></td><td title=\"Index: [5, 4]&#10;Color: (0, 139, 139)\" style=\"width: 10px; height: 10px;background-color: rgb(0, 139, 139);\"></td><td title=\"Index: [5, 5]&#10;Color: (0, 139, 139)\" style=\"width: 10px; height: 10px;background-color: rgb(0, 139, 139);\"></td><td title=\"Index: [5, 6]&#10;Color: (0, 139, 139)\" style=\"width: 10px; height: 10px;background-color: rgb(0, 139, 139);\"></td><td title=\"Index: [5, 7]&#10;Color: (0, 139, 139)\" style=\"width: 10px; height: 10px;background-color: rgb(0, 139, 139);\"></td><td title=\"Index: [5, 8]&#10;Color: (0, 139, 139)\" style=\"width: 10px; height: 10px;background-color: rgb(0, 139, 139);\"></td><td title=\"Index: [5, 9]&#10;Color: (0, 139, 139)\" style=\"width: 10px; height: 10px;background-color: rgb(0, 139, 139);\"></td><td title=\"Index: [5, 10]&#10;Color: (0, 139, 139)\" style=\"width: 10px; height: 10px;background-color: rgb(0, 139, 139);\"></td><td title=\"Index: [5, 11]&#10;Color: (188, 143, 143)\" style=\"width: 10px; height: 10px;background-color: rgb(188, 143, 143);\"></td><td title=\"Index: [5, 12]&#10;Color: (188, 143, 143)\" style=\"width: 10px; height: 10px;background-color: rgb(188, 143, 143);\"></td><td title=\"Index: [5, 13]&#10;Color: (188, 143, 143)\" style=\"width: 10px; height: 10px;background-color: rgb(188, 143, 143);\"></td><td title=\"Index: [5, 14]&#10;Color: (188, 143, 143)\" style=\"width: 10px; height: 10px;background-color: rgb(188, 143, 143);\"></td><td title=\"Index: [5, 15]&#10;Color: (188, 143, 143)\" style=\"width: 10px; height: 10px;background-color: rgb(188, 143, 143);\"></td><td title=\"Index: [5, 16]&#10;Color: (188, 143, 143)\" style=\"width: 10px; height: 10px;background-color: rgb(188, 143, 143);\"></td><td title=\"Index: [5, 17]&#10;Color: (188, 143, 143)\" style=\"width: 10px; height: 10px;background-color: rgb(188, 143, 143);\"></td><td title=\"Index: [5, 18]&#10;Color: (0, 139, 139)\" style=\"width: 10px; height: 10px;background-color: rgb(0, 139, 139);\"></td><td title=\"Index: [5, 19]&#10;Color: (0, 139, 139)\" style=\"width: 10px; height: 10px;background-color: rgb(0, 139, 139);\"></td></tr><tr><td title=\"Index: [6, 0]&#10;Color: (0, 139, 139)\" style=\"width: 10px; height: 10px;background-color: rgb(0, 139, 139);\"></td><td title=\"Index: [6, 1]&#10;Color: (0, 139, 139)\" style=\"width: 10px; height: 10px;background-color: rgb(0, 139, 139);\"></td><td title=\"Index: [6, 2]&#10;Color: (0, 139, 139)\" style=\"width: 10px; height: 10px;background-color: rgb(0, 139, 139);\"></td><td title=\"Index: [6, 3]&#10;Color: (0, 139, 139)\" style=\"width: 10px; height: 10px;background-color: rgb(0, 139, 139);\"></td><td title=\"Index: [6, 4]&#10;Color: (0, 139, 139)\" style=\"width: 10px; height: 10px;background-color: rgb(0, 139, 139);\"></td><td title=\"Index: [6, 5]&#10;Color: (0, 139, 139)\" style=\"width: 10px; height: 10px;background-color: rgb(0, 139, 139);\"></td><td title=\"Index: [6, 6]&#10;Color: (0, 139, 139)\" style=\"width: 10px; height: 10px;background-color: rgb(0, 139, 139);\"></td><td title=\"Index: [6, 7]&#10;Color: (0, 139, 139)\" style=\"width: 10px; height: 10px;background-color: rgb(0, 139, 139);\"></td><td title=\"Index: [6, 8]&#10;Color: (0, 139, 139)\" style=\"width: 10px; height: 10px;background-color: rgb(0, 139, 139);\"></td><td title=\"Index: [6, 9]&#10;Color: (0, 139, 139)\" style=\"width: 10px; height: 10px;background-color: rgb(0, 139, 139);\"></td><td title=\"Index: [6, 10]&#10;Color: (0, 139, 139)\" style=\"width: 10px; height: 10px;background-color: rgb(0, 139, 139);\"></td><td title=\"Index: [6, 11]&#10;Color: (188, 143, 143)\" style=\"width: 10px; height: 10px;background-color: rgb(188, 143, 143);\"></td><td title=\"Index: [6, 12]&#10;Color: (188, 143, 143)\" style=\"width: 10px; height: 10px;background-color: rgb(188, 143, 143);\"></td><td title=\"Index: [6, 13]&#10;Color: (188, 143, 143)\" style=\"width: 10px; height: 10px;background-color: rgb(188, 143, 143);\"></td><td title=\"Index: [6, 14]&#10;Color: (188, 143, 143)\" style=\"width: 10px; height: 10px;background-color: rgb(188, 143, 143);\"></td><td title=\"Index: [6, 15]&#10;Color: (188, 143, 143)\" style=\"width: 10px; height: 10px;background-color: rgb(188, 143, 143);\"></td><td title=\"Index: [6, 16]&#10;Color: (188, 143, 143)\" style=\"width: 10px; height: 10px;background-color: rgb(188, 143, 143);\"></td><td title=\"Index: [6, 17]&#10;Color: (188, 143, 143)\" style=\"width: 10px; height: 10px;background-color: rgb(188, 143, 143);\"></td><td title=\"Index: [6, 18]&#10;Color: (0, 139, 139)\" style=\"width: 10px; height: 10px;background-color: rgb(0, 139, 139);\"></td><td title=\"Index: [6, 19]&#10;Color: (0, 139, 139)\" style=\"width: 10px; height: 10px;background-color: rgb(0, 139, 139);\"></td></tr><tr><td title=\"Index: [7, 0]&#10;Color: (0, 139, 139)\" style=\"width: 10px; height: 10px;background-color: rgb(0, 139, 139);\"></td><td title=\"Index: [7, 1]&#10;Color: (0, 139, 139)\" style=\"width: 10px; height: 10px;background-color: rgb(0, 139, 139);\"></td><td title=\"Index: [7, 2]&#10;Color: (0, 139, 139)\" style=\"width: 10px; height: 10px;background-color: rgb(0, 139, 139);\"></td><td title=\"Index: [7, 3]&#10;Color: (0, 139, 139)\" style=\"width: 10px; height: 10px;background-color: rgb(0, 139, 139);\"></td><td title=\"Index: [7, 4]&#10;Color: (0, 139, 139)\" style=\"width: 10px; height: 10px;background-color: rgb(0, 139, 139);\"></td><td title=\"Index: [7, 5]&#10;Color: (0, 139, 139)\" style=\"width: 10px; height: 10px;background-color: rgb(0, 139, 139);\"></td><td title=\"Index: [7, 6]&#10;Color: (0, 139, 139)\" style=\"width: 10px; height: 10px;background-color: rgb(0, 139, 139);\"></td><td title=\"Index: [7, 7]&#10;Color: (0, 139, 139)\" style=\"width: 10px; height: 10px;background-color: rgb(0, 139, 139);\"></td><td title=\"Index: [7, 8]&#10;Color: (0, 139, 139)\" style=\"width: 10px; height: 10px;background-color: rgb(0, 139, 139);\"></td><td title=\"Index: [7, 9]&#10;Color: (0, 139, 139)\" style=\"width: 10px; height: 10px;background-color: rgb(0, 139, 139);\"></td><td title=\"Index: [7, 10]&#10;Color: (0, 139, 139)\" style=\"width: 10px; height: 10px;background-color: rgb(0, 139, 139);\"></td><td title=\"Index: [7, 11]&#10;Color: (188, 143, 143)\" style=\"width: 10px; height: 10px;background-color: rgb(188, 143, 143);\"></td><td title=\"Index: [7, 12]&#10;Color: (188, 143, 143)\" style=\"width: 10px; height: 10px;background-color: rgb(188, 143, 143);\"></td><td title=\"Index: [7, 13]&#10;Color: (188, 143, 143)\" style=\"width: 10px; height: 10px;background-color: rgb(188, 143, 143);\"></td><td title=\"Index: [7, 14]&#10;Color: (188, 143, 143)\" style=\"width: 10px; height: 10px;background-color: rgb(188, 143, 143);\"></td><td title=\"Index: [7, 15]&#10;Color: (188, 143, 143)\" style=\"width: 10px; height: 10px;background-color: rgb(188, 143, 143);\"></td><td title=\"Index: [7, 16]&#10;Color: (188, 143, 143)\" style=\"width: 10px; height: 10px;background-color: rgb(188, 143, 143);\"></td><td title=\"Index: [7, 17]&#10;Color: (188, 143, 143)\" style=\"width: 10px; height: 10px;background-color: rgb(188, 143, 143);\"></td><td title=\"Index: [7, 18]&#10;Color: (0, 139, 139)\" style=\"width: 10px; height: 10px;background-color: rgb(0, 139, 139);\"></td><td title=\"Index: [7, 19]&#10;Color: (0, 139, 139)\" style=\"width: 10px; height: 10px;background-color: rgb(0, 139, 139);\"></td></tr><tr><td title=\"Index: [8, 0]&#10;Color: (0, 139, 139)\" style=\"width: 10px; height: 10px;background-color: rgb(0, 139, 139);\"></td><td title=\"Index: [8, 1]&#10;Color: (0, 139, 139)\" style=\"width: 10px; height: 10px;background-color: rgb(0, 139, 139);\"></td><td title=\"Index: [8, 2]&#10;Color: (0, 139, 139)\" style=\"width: 10px; height: 10px;background-color: rgb(0, 139, 139);\"></td><td title=\"Index: [8, 3]&#10;Color: (0, 139, 139)\" style=\"width: 10px; height: 10px;background-color: rgb(0, 139, 139);\"></td><td title=\"Index: [8, 4]&#10;Color: (0, 139, 139)\" style=\"width: 10px; height: 10px;background-color: rgb(0, 139, 139);\"></td><td title=\"Index: [8, 5]&#10;Color: (0, 139, 139)\" style=\"width: 10px; height: 10px;background-color: rgb(0, 139, 139);\"></td><td title=\"Index: [8, 6]&#10;Color: (0, 139, 139)\" style=\"width: 10px; height: 10px;background-color: rgb(0, 139, 139);\"></td><td title=\"Index: [8, 7]&#10;Color: (0, 139, 139)\" style=\"width: 10px; height: 10px;background-color: rgb(0, 139, 139);\"></td><td title=\"Index: [8, 8]&#10;Color: (0, 139, 139)\" style=\"width: 10px; height: 10px;background-color: rgb(0, 139, 139);\"></td><td title=\"Index: [8, 9]&#10;Color: (0, 139, 139)\" style=\"width: 10px; height: 10px;background-color: rgb(0, 139, 139);\"></td><td title=\"Index: [8, 10]&#10;Color: (0, 139, 139)\" style=\"width: 10px; height: 10px;background-color: rgb(0, 139, 139);\"></td><td title=\"Index: [8, 11]&#10;Color: (0, 139, 139)\" style=\"width: 10px; height: 10px;background-color: rgb(0, 139, 139);\"></td><td title=\"Index: [8, 12]&#10;Color: (0, 139, 139)\" style=\"width: 10px; height: 10px;background-color: rgb(0, 139, 139);\"></td><td title=\"Index: [8, 13]&#10;Color: (0, 139, 139)\" style=\"width: 10px; height: 10px;background-color: rgb(0, 139, 139);\"></td><td title=\"Index: [8, 14]&#10;Color: (0, 139, 139)\" style=\"width: 10px; height: 10px;background-color: rgb(0, 139, 139);\"></td><td title=\"Index: [8, 15]&#10;Color: (0, 139, 139)\" style=\"width: 10px; height: 10px;background-color: rgb(0, 139, 139);\"></td><td title=\"Index: [8, 16]&#10;Color: (0, 139, 139)\" style=\"width: 10px; height: 10px;background-color: rgb(0, 139, 139);\"></td><td title=\"Index: [8, 17]&#10;Color: (0, 139, 139)\" style=\"width: 10px; height: 10px;background-color: rgb(0, 139, 139);\"></td><td title=\"Index: [8, 18]&#10;Color: (0, 139, 139)\" style=\"width: 10px; height: 10px;background-color: rgb(0, 139, 139);\"></td><td title=\"Index: [8, 19]&#10;Color: (0, 139, 139)\" style=\"width: 10px; height: 10px;background-color: rgb(0, 139, 139);\"></td></tr><tr><td title=\"Index: [9, 0]&#10;Color: (0, 0, 255)\" style=\"width: 10px; height: 10px;background-color: rgb(0, 0, 255);\"></td><td title=\"Index: [9, 1]&#10;Color: (0, 0, 255)\" style=\"width: 10px; height: 10px;background-color: rgb(0, 0, 255);\"></td><td title=\"Index: [9, 2]&#10;Color: (0, 0, 255)\" style=\"width: 10px; height: 10px;background-color: rgb(0, 0, 255);\"></td><td title=\"Index: [9, 3]&#10;Color: (0, 0, 255)\" style=\"width: 10px; height: 10px;background-color: rgb(0, 0, 255);\"></td><td title=\"Index: [9, 4]&#10;Color: (0, 0, 255)\" style=\"width: 10px; height: 10px;background-color: rgb(0, 0, 255);\"></td><td title=\"Index: [9, 5]&#10;Color: (0, 0, 255)\" style=\"width: 10px; height: 10px;background-color: rgb(0, 0, 255);\"></td><td title=\"Index: [9, 6]&#10;Color: (0, 0, 255)\" style=\"width: 10px; height: 10px;background-color: rgb(0, 0, 255);\"></td><td title=\"Index: [9, 7]&#10;Color: (0, 0, 255)\" style=\"width: 10px; height: 10px;background-color: rgb(0, 0, 255);\"></td><td title=\"Index: [9, 8]&#10;Color: (0, 0, 255)\" style=\"width: 10px; height: 10px;background-color: rgb(0, 0, 255);\"></td><td title=\"Index: [9, 9]&#10;Color: (0, 0, 255)\" style=\"width: 10px; height: 10px;background-color: rgb(0, 0, 255);\"></td><td title=\"Index: [9, 10]&#10;Color: (0, 0, 255)\" style=\"width: 10px; height: 10px;background-color: rgb(0, 0, 255);\"></td><td title=\"Index: [9, 11]&#10;Color: (0, 0, 255)\" style=\"width: 10px; height: 10px;background-color: rgb(0, 0, 255);\"></td><td title=\"Index: [9, 12]&#10;Color: (0, 0, 255)\" style=\"width: 10px; height: 10px;background-color: rgb(0, 0, 255);\"></td><td title=\"Index: [9, 13]&#10;Color: (0, 0, 255)\" style=\"width: 10px; height: 10px;background-color: rgb(0, 0, 255);\"></td><td title=\"Index: [9, 14]&#10;Color: (0, 0, 255)\" style=\"width: 10px; height: 10px;background-color: rgb(0, 0, 255);\"></td><td title=\"Index: [9, 15]&#10;Color: (0, 0, 255)\" style=\"width: 10px; height: 10px;background-color: rgb(0, 0, 255);\"></td><td title=\"Index: [9, 16]&#10;Color: (0, 0, 255)\" style=\"width: 10px; height: 10px;background-color: rgb(0, 0, 255);\"></td><td title=\"Index: [9, 17]&#10;Color: (0, 0, 255)\" style=\"width: 10px; height: 10px;background-color: rgb(0, 0, 255);\"></td><td title=\"Index: [9, 18]&#10;Color: (0, 0, 255)\" style=\"width: 10px; height: 10px;background-color: rgb(0, 0, 255);\"></td><td title=\"Index: [9, 19]&#10;Color: (0, 0, 255)\" style=\"width: 10px; height: 10px;background-color: rgb(0, 0, 255);\"></td></tr><tr><td title=\"Index: [10, 0]&#10;Color: (255, 0, 0)\" style=\"width: 10px; height: 10px;background-color: rgb(255, 0, 0);\"></td><td title=\"Index: [10, 1]&#10;Color: (255, 0, 0)\" style=\"width: 10px; height: 10px;background-color: rgb(255, 0, 0);\"></td><td title=\"Index: [10, 2]&#10;Color: (255, 0, 0)\" style=\"width: 10px; height: 10px;background-color: rgb(255, 0, 0);\"></td><td title=\"Index: [10, 3]&#10;Color: (255, 0, 0)\" style=\"width: 10px; height: 10px;background-color: rgb(255, 0, 0);\"></td><td title=\"Index: [10, 4]&#10;Color: (255, 0, 0)\" style=\"width: 10px; height: 10px;background-color: rgb(255, 0, 0);\"></td><td title=\"Index: [10, 5]&#10;Color: (255, 0, 0)\" style=\"width: 10px; height: 10px;background-color: rgb(255, 0, 0);\"></td><td title=\"Index: [10, 6]&#10;Color: (255, 0, 0)\" style=\"width: 10px; height: 10px;background-color: rgb(255, 0, 0);\"></td><td title=\"Index: [10, 7]&#10;Color: (255, 0, 0)\" style=\"width: 10px; height: 10px;background-color: rgb(255, 0, 0);\"></td><td title=\"Index: [10, 8]&#10;Color: (255, 0, 0)\" style=\"width: 10px; height: 10px;background-color: rgb(255, 0, 0);\"></td><td title=\"Index: [10, 9]&#10;Color: (255, 0, 0)\" style=\"width: 10px; height: 10px;background-color: rgb(255, 0, 0);\"></td><td title=\"Index: [10, 10]&#10;Color: (0, 139, 139)\" style=\"width: 10px; height: 10px;background-color: rgb(0, 139, 139);\"></td><td title=\"Index: [10, 11]&#10;Color: (0, 139, 139)\" style=\"width: 10px; height: 10px;background-color: rgb(0, 139, 139);\"></td><td title=\"Index: [10, 12]&#10;Color: (0, 139, 139)\" style=\"width: 10px; height: 10px;background-color: rgb(0, 139, 139);\"></td><td title=\"Index: [10, 13]&#10;Color: (0, 139, 139)\" style=\"width: 10px; height: 10px;background-color: rgb(0, 139, 139);\"></td><td title=\"Index: [10, 14]&#10;Color: (0, 139, 139)\" style=\"width: 10px; height: 10px;background-color: rgb(0, 139, 139);\"></td><td title=\"Index: [10, 15]&#10;Color: (0, 139, 139)\" style=\"width: 10px; height: 10px;background-color: rgb(0, 139, 139);\"></td><td title=\"Index: [10, 16]&#10;Color: (0, 139, 139)\" style=\"width: 10px; height: 10px;background-color: rgb(0, 139, 139);\"></td><td title=\"Index: [10, 17]&#10;Color: (0, 139, 139)\" style=\"width: 10px; height: 10px;background-color: rgb(0, 139, 139);\"></td><td title=\"Index: [10, 18]&#10;Color: (0, 139, 139)\" style=\"width: 10px; height: 10px;background-color: rgb(0, 139, 139);\"></td><td title=\"Index: [10, 19]&#10;Color: (0, 139, 139)\" style=\"width: 10px; height: 10px;background-color: rgb(0, 139, 139);\"></td></tr><tr><td title=\"Index: [11, 0]&#10;Color: (255, 0, 0)\" style=\"width: 10px; height: 10px;background-color: rgb(255, 0, 0);\"></td><td title=\"Index: [11, 1]&#10;Color: (255, 0, 0)\" style=\"width: 10px; height: 10px;background-color: rgb(255, 0, 0);\"></td><td title=\"Index: [11, 2]&#10;Color: (255, 0, 0)\" style=\"width: 10px; height: 10px;background-color: rgb(255, 0, 0);\"></td><td title=\"Index: [11, 3]&#10;Color: (255, 0, 0)\" style=\"width: 10px; height: 10px;background-color: rgb(255, 0, 0);\"></td><td title=\"Index: [11, 4]&#10;Color: (255, 0, 0)\" style=\"width: 10px; height: 10px;background-color: rgb(255, 0, 0);\"></td><td title=\"Index: [11, 5]&#10;Color: (255, 0, 0)\" style=\"width: 10px; height: 10px;background-color: rgb(255, 0, 0);\"></td><td title=\"Index: [11, 6]&#10;Color: (255, 0, 0)\" style=\"width: 10px; height: 10px;background-color: rgb(255, 0, 0);\"></td><td title=\"Index: [11, 7]&#10;Color: (255, 0, 0)\" style=\"width: 10px; height: 10px;background-color: rgb(255, 0, 0);\"></td><td title=\"Index: [11, 8]&#10;Color: (255, 0, 0)\" style=\"width: 10px; height: 10px;background-color: rgb(255, 0, 0);\"></td><td title=\"Index: [11, 9]&#10;Color: (255, 0, 0)\" style=\"width: 10px; height: 10px;background-color: rgb(255, 0, 0);\"></td><td title=\"Index: [11, 10]&#10;Color: (0, 139, 139)\" style=\"width: 10px; height: 10px;background-color: rgb(0, 139, 139);\"></td><td title=\"Index: [11, 11]&#10;Color: (0, 139, 139)\" style=\"width: 10px; height: 10px;background-color: rgb(0, 139, 139);\"></td><td title=\"Index: [11, 12]&#10;Color: (0, 139, 139)\" style=\"width: 10px; height: 10px;background-color: rgb(0, 139, 139);\"></td><td title=\"Index: [11, 13]&#10;Color: (0, 139, 139)\" style=\"width: 10px; height: 10px;background-color: rgb(0, 139, 139);\"></td><td title=\"Index: [11, 14]&#10;Color: (0, 139, 139)\" style=\"width: 10px; height: 10px;background-color: rgb(0, 139, 139);\"></td><td title=\"Index: [11, 15]&#10;Color: (0, 139, 139)\" style=\"width: 10px; height: 10px;background-color: rgb(0, 139, 139);\"></td><td title=\"Index: [11, 16]&#10;Color: (0, 139, 139)\" style=\"width: 10px; height: 10px;background-color: rgb(0, 139, 139);\"></td><td title=\"Index: [11, 17]&#10;Color: (0, 139, 139)\" style=\"width: 10px; height: 10px;background-color: rgb(0, 139, 139);\"></td><td title=\"Index: [11, 18]&#10;Color: (0, 139, 139)\" style=\"width: 10px; height: 10px;background-color: rgb(0, 139, 139);\"></td><td title=\"Index: [11, 19]&#10;Color: (0, 139, 139)\" style=\"width: 10px; height: 10px;background-color: rgb(0, 139, 139);\"></td></tr><tr><td title=\"Index: [12, 0]&#10;Color: (255, 0, 0)\" style=\"width: 10px; height: 10px;background-color: rgb(255, 0, 0);\"></td><td title=\"Index: [12, 1]&#10;Color: (255, 0, 0)\" style=\"width: 10px; height: 10px;background-color: rgb(255, 0, 0);\"></td><td title=\"Index: [12, 2]&#10;Color: (255, 0, 0)\" style=\"width: 10px; height: 10px;background-color: rgb(255, 0, 0);\"></td><td title=\"Index: [12, 3]&#10;Color: (255, 0, 0)\" style=\"width: 10px; height: 10px;background-color: rgb(255, 0, 0);\"></td><td title=\"Index: [12, 4]&#10;Color: (255, 0, 0)\" style=\"width: 10px; height: 10px;background-color: rgb(255, 0, 0);\"></td><td title=\"Index: [12, 5]&#10;Color: (255, 0, 0)\" style=\"width: 10px; height: 10px;background-color: rgb(255, 0, 0);\"></td><td title=\"Index: [12, 6]&#10;Color: (255, 0, 0)\" style=\"width: 10px; height: 10px;background-color: rgb(255, 0, 0);\"></td><td title=\"Index: [12, 7]&#10;Color: (255, 0, 0)\" style=\"width: 10px; height: 10px;background-color: rgb(255, 0, 0);\"></td><td title=\"Index: [12, 8]&#10;Color: (255, 0, 0)\" style=\"width: 10px; height: 10px;background-color: rgb(255, 0, 0);\"></td><td title=\"Index: [12, 9]&#10;Color: (255, 0, 0)\" style=\"width: 10px; height: 10px;background-color: rgb(255, 0, 0);\"></td><td title=\"Index: [12, 10]&#10;Color: (0, 139, 139)\" style=\"width: 10px; height: 10px;background-color: rgb(0, 139, 139);\"></td><td title=\"Index: [12, 11]&#10;Color: (0, 139, 139)\" style=\"width: 10px; height: 10px;background-color: rgb(0, 139, 139);\"></td><td title=\"Index: [12, 12]&#10;Color: (0, 139, 139)\" style=\"width: 10px; height: 10px;background-color: rgb(0, 139, 139);\"></td><td title=\"Index: [12, 13]&#10;Color: (0, 139, 139)\" style=\"width: 10px; height: 10px;background-color: rgb(0, 139, 139);\"></td><td title=\"Index: [12, 14]&#10;Color: (0, 139, 139)\" style=\"width: 10px; height: 10px;background-color: rgb(0, 139, 139);\"></td><td title=\"Index: [12, 15]&#10;Color: (0, 139, 139)\" style=\"width: 10px; height: 10px;background-color: rgb(0, 139, 139);\"></td><td title=\"Index: [12, 16]&#10;Color: (0, 139, 139)\" style=\"width: 10px; height: 10px;background-color: rgb(0, 139, 139);\"></td><td title=\"Index: [12, 17]&#10;Color: (0, 139, 139)\" style=\"width: 10px; height: 10px;background-color: rgb(0, 139, 139);\"></td><td title=\"Index: [12, 18]&#10;Color: (0, 139, 139)\" style=\"width: 10px; height: 10px;background-color: rgb(0, 139, 139);\"></td><td title=\"Index: [12, 19]&#10;Color: (0, 139, 139)\" style=\"width: 10px; height: 10px;background-color: rgb(0, 139, 139);\"></td></tr><tr><td title=\"Index: [13, 0]&#10;Color: (255, 0, 0)\" style=\"width: 10px; height: 10px;background-color: rgb(255, 0, 0);\"></td><td title=\"Index: [13, 1]&#10;Color: (255, 0, 0)\" style=\"width: 10px; height: 10px;background-color: rgb(255, 0, 0);\"></td><td title=\"Index: [13, 2]&#10;Color: (255, 0, 0)\" style=\"width: 10px; height: 10px;background-color: rgb(255, 0, 0);\"></td><td title=\"Index: [13, 3]&#10;Color: (255, 0, 0)\" style=\"width: 10px; height: 10px;background-color: rgb(255, 0, 0);\"></td><td title=\"Index: [13, 4]&#10;Color: (255, 0, 0)\" style=\"width: 10px; height: 10px;background-color: rgb(255, 0, 0);\"></td><td title=\"Index: [13, 5]&#10;Color: (255, 0, 0)\" style=\"width: 10px; height: 10px;background-color: rgb(255, 0, 0);\"></td><td title=\"Index: [13, 6]&#10;Color: (255, 0, 0)\" style=\"width: 10px; height: 10px;background-color: rgb(255, 0, 0);\"></td><td title=\"Index: [13, 7]&#10;Color: (255, 0, 0)\" style=\"width: 10px; height: 10px;background-color: rgb(255, 0, 0);\"></td><td title=\"Index: [13, 8]&#10;Color: (255, 0, 0)\" style=\"width: 10px; height: 10px;background-color: rgb(255, 0, 0);\"></td><td title=\"Index: [13, 9]&#10;Color: (255, 0, 0)\" style=\"width: 10px; height: 10px;background-color: rgb(255, 0, 0);\"></td><td title=\"Index: [13, 10]&#10;Color: (0, 139, 139)\" style=\"width: 10px; height: 10px;background-color: rgb(0, 139, 139);\"></td><td title=\"Index: [13, 11]&#10;Color: (0, 139, 139)\" style=\"width: 10px; height: 10px;background-color: rgb(0, 139, 139);\"></td><td title=\"Index: [13, 12]&#10;Color: (0, 139, 139)\" style=\"width: 10px; height: 10px;background-color: rgb(0, 139, 139);\"></td><td title=\"Index: [13, 13]&#10;Color: (0, 139, 139)\" style=\"width: 10px; height: 10px;background-color: rgb(0, 139, 139);\"></td><td title=\"Index: [13, 14]&#10;Color: (0, 139, 139)\" style=\"width: 10px; height: 10px;background-color: rgb(0, 139, 139);\"></td><td title=\"Index: [13, 15]&#10;Color: (0, 139, 139)\" style=\"width: 10px; height: 10px;background-color: rgb(0, 139, 139);\"></td><td title=\"Index: [13, 16]&#10;Color: (0, 139, 139)\" style=\"width: 10px; height: 10px;background-color: rgb(0, 139, 139);\"></td><td title=\"Index: [13, 17]&#10;Color: (0, 139, 139)\" style=\"width: 10px; height: 10px;background-color: rgb(0, 139, 139);\"></td><td title=\"Index: [13, 18]&#10;Color: (0, 139, 139)\" style=\"width: 10px; height: 10px;background-color: rgb(0, 139, 139);\"></td><td title=\"Index: [13, 19]&#10;Color: (0, 139, 139)\" style=\"width: 10px; height: 10px;background-color: rgb(0, 139, 139);\"></td></tr><tr><td title=\"Index: [14, 0]&#10;Color: (255, 0, 0)\" style=\"width: 10px; height: 10px;background-color: rgb(255, 0, 0);\"></td><td title=\"Index: [14, 1]&#10;Color: (255, 0, 0)\" style=\"width: 10px; height: 10px;background-color: rgb(255, 0, 0);\"></td><td title=\"Index: [14, 2]&#10;Color: (255, 0, 0)\" style=\"width: 10px; height: 10px;background-color: rgb(255, 0, 0);\"></td><td title=\"Index: [14, 3]&#10;Color: (255, 0, 0)\" style=\"width: 10px; height: 10px;background-color: rgb(255, 0, 0);\"></td><td title=\"Index: [14, 4]&#10;Color: (255, 0, 0)\" style=\"width: 10px; height: 10px;background-color: rgb(255, 0, 0);\"></td><td title=\"Index: [14, 5]&#10;Color: (255, 0, 0)\" style=\"width: 10px; height: 10px;background-color: rgb(255, 0, 0);\"></td><td title=\"Index: [14, 6]&#10;Color: (255, 0, 0)\" style=\"width: 10px; height: 10px;background-color: rgb(255, 0, 0);\"></td><td title=\"Index: [14, 7]&#10;Color: (255, 0, 0)\" style=\"width: 10px; height: 10px;background-color: rgb(255, 0, 0);\"></td><td title=\"Index: [14, 8]&#10;Color: (255, 0, 0)\" style=\"width: 10px; height: 10px;background-color: rgb(255, 0, 0);\"></td><td title=\"Index: [14, 9]&#10;Color: (255, 0, 0)\" style=\"width: 10px; height: 10px;background-color: rgb(255, 0, 0);\"></td><td title=\"Index: [14, 10]&#10;Color: (0, 139, 139)\" style=\"width: 10px; height: 10px;background-color: rgb(0, 139, 139);\"></td><td title=\"Index: [14, 11]&#10;Color: (0, 139, 139)\" style=\"width: 10px; height: 10px;background-color: rgb(0, 139, 139);\"></td><td title=\"Index: [14, 12]&#10;Color: (0, 139, 139)\" style=\"width: 10px; height: 10px;background-color: rgb(0, 139, 139);\"></td><td title=\"Index: [14, 13]&#10;Color: (0, 139, 139)\" style=\"width: 10px; height: 10px;background-color: rgb(0, 139, 139);\"></td><td title=\"Index: [14, 14]&#10;Color: (0, 139, 139)\" style=\"width: 10px; height: 10px;background-color: rgb(0, 139, 139);\"></td><td title=\"Index: [14, 15]&#10;Color: (0, 139, 139)\" style=\"width: 10px; height: 10px;background-color: rgb(0, 139, 139);\"></td><td title=\"Index: [14, 16]&#10;Color: (0, 139, 139)\" style=\"width: 10px; height: 10px;background-color: rgb(0, 139, 139);\"></td><td title=\"Index: [14, 17]&#10;Color: (0, 139, 139)\" style=\"width: 10px; height: 10px;background-color: rgb(0, 139, 139);\"></td><td title=\"Index: [14, 18]&#10;Color: (0, 139, 139)\" style=\"width: 10px; height: 10px;background-color: rgb(0, 139, 139);\"></td><td title=\"Index: [14, 19]&#10;Color: (0, 139, 139)\" style=\"width: 10px; height: 10px;background-color: rgb(0, 139, 139);\"></td></tr><tr><td title=\"Index: [15, 0]&#10;Color: (255, 0, 0)\" style=\"width: 10px; height: 10px;background-color: rgb(255, 0, 0);\"></td><td title=\"Index: [15, 1]&#10;Color: (255, 0, 0)\" style=\"width: 10px; height: 10px;background-color: rgb(255, 0, 0);\"></td><td title=\"Index: [15, 2]&#10;Color: (255, 0, 0)\" style=\"width: 10px; height: 10px;background-color: rgb(255, 0, 0);\"></td><td title=\"Index: [15, 3]&#10;Color: (255, 0, 0)\" style=\"width: 10px; height: 10px;background-color: rgb(255, 0, 0);\"></td><td title=\"Index: [15, 4]&#10;Color: (255, 0, 0)\" style=\"width: 10px; height: 10px;background-color: rgb(255, 0, 0);\"></td><td title=\"Index: [15, 5]&#10;Color: (255, 0, 0)\" style=\"width: 10px; height: 10px;background-color: rgb(255, 0, 0);\"></td><td title=\"Index: [15, 6]&#10;Color: (255, 0, 0)\" style=\"width: 10px; height: 10px;background-color: rgb(255, 0, 0);\"></td><td title=\"Index: [15, 7]&#10;Color: (255, 0, 0)\" style=\"width: 10px; height: 10px;background-color: rgb(255, 0, 0);\"></td><td title=\"Index: [15, 8]&#10;Color: (255, 0, 0)\" style=\"width: 10px; height: 10px;background-color: rgb(255, 0, 0);\"></td><td title=\"Index: [15, 9]&#10;Color: (255, 0, 0)\" style=\"width: 10px; height: 10px;background-color: rgb(255, 0, 0);\"></td><td title=\"Index: [15, 10]&#10;Color: (0, 139, 139)\" style=\"width: 10px; height: 10px;background-color: rgb(0, 139, 139);\"></td><td title=\"Index: [15, 11]&#10;Color: (0, 139, 139)\" style=\"width: 10px; height: 10px;background-color: rgb(0, 139, 139);\"></td><td title=\"Index: [15, 12]&#10;Color: (0, 139, 139)\" style=\"width: 10px; height: 10px;background-color: rgb(0, 139, 139);\"></td><td title=\"Index: [15, 13]&#10;Color: (0, 139, 139)\" style=\"width: 10px; height: 10px;background-color: rgb(0, 139, 139);\"></td><td title=\"Index: [15, 14]&#10;Color: (0, 139, 139)\" style=\"width: 10px; height: 10px;background-color: rgb(0, 139, 139);\"></td><td title=\"Index: [15, 15]&#10;Color: (0, 139, 139)\" style=\"width: 10px; height: 10px;background-color: rgb(0, 139, 139);\"></td><td title=\"Index: [15, 16]&#10;Color: (0, 139, 139)\" style=\"width: 10px; height: 10px;background-color: rgb(0, 139, 139);\"></td><td title=\"Index: [15, 17]&#10;Color: (0, 139, 139)\" style=\"width: 10px; height: 10px;background-color: rgb(0, 139, 139);\"></td><td title=\"Index: [15, 18]&#10;Color: (0, 139, 139)\" style=\"width: 10px; height: 10px;background-color: rgb(0, 139, 139);\"></td><td title=\"Index: [15, 19]&#10;Color: (0, 139, 139)\" style=\"width: 10px; height: 10px;background-color: rgb(0, 139, 139);\"></td></tr><tr><td title=\"Index: [16, 0]&#10;Color: (255, 0, 0)\" style=\"width: 10px; height: 10px;background-color: rgb(255, 0, 0);\"></td><td title=\"Index: [16, 1]&#10;Color: (255, 0, 0)\" style=\"width: 10px; height: 10px;background-color: rgb(255, 0, 0);\"></td><td title=\"Index: [16, 2]&#10;Color: (255, 0, 0)\" style=\"width: 10px; height: 10px;background-color: rgb(255, 0, 0);\"></td><td title=\"Index: [16, 3]&#10;Color: (255, 0, 0)\" style=\"width: 10px; height: 10px;background-color: rgb(255, 0, 0);\"></td><td title=\"Index: [16, 4]&#10;Color: (255, 0, 0)\" style=\"width: 10px; height: 10px;background-color: rgb(255, 0, 0);\"></td><td title=\"Index: [16, 5]&#10;Color: (255, 0, 0)\" style=\"width: 10px; height: 10px;background-color: rgb(255, 0, 0);\"></td><td title=\"Index: [16, 6]&#10;Color: (255, 0, 0)\" style=\"width: 10px; height: 10px;background-color: rgb(255, 0, 0);\"></td><td title=\"Index: [16, 7]&#10;Color: (255, 0, 0)\" style=\"width: 10px; height: 10px;background-color: rgb(255, 0, 0);\"></td><td title=\"Index: [16, 8]&#10;Color: (255, 0, 0)\" style=\"width: 10px; height: 10px;background-color: rgb(255, 0, 0);\"></td><td title=\"Index: [16, 9]&#10;Color: (255, 0, 0)\" style=\"width: 10px; height: 10px;background-color: rgb(255, 0, 0);\"></td><td title=\"Index: [16, 10]&#10;Color: (0, 139, 139)\" style=\"width: 10px; height: 10px;background-color: rgb(0, 139, 139);\"></td><td title=\"Index: [16, 11]&#10;Color: (0, 139, 139)\" style=\"width: 10px; height: 10px;background-color: rgb(0, 139, 139);\"></td><td title=\"Index: [16, 12]&#10;Color: (0, 139, 139)\" style=\"width: 10px; height: 10px;background-color: rgb(0, 139, 139);\"></td><td title=\"Index: [16, 13]&#10;Color: (0, 139, 139)\" style=\"width: 10px; height: 10px;background-color: rgb(0, 139, 139);\"></td><td title=\"Index: [16, 14]&#10;Color: (0, 139, 139)\" style=\"width: 10px; height: 10px;background-color: rgb(0, 139, 139);\"></td><td title=\"Index: [16, 15]&#10;Color: (0, 139, 139)\" style=\"width: 10px; height: 10px;background-color: rgb(0, 139, 139);\"></td><td title=\"Index: [16, 16]&#10;Color: (0, 139, 139)\" style=\"width: 10px; height: 10px;background-color: rgb(0, 139, 139);\"></td><td title=\"Index: [16, 17]&#10;Color: (0, 139, 139)\" style=\"width: 10px; height: 10px;background-color: rgb(0, 139, 139);\"></td><td title=\"Index: [16, 18]&#10;Color: (0, 139, 139)\" style=\"width: 10px; height: 10px;background-color: rgb(0, 139, 139);\"></td><td title=\"Index: [16, 19]&#10;Color: (0, 139, 139)\" style=\"width: 10px; height: 10px;background-color: rgb(0, 139, 139);\"></td></tr><tr><td title=\"Index: [17, 0]&#10;Color: (255, 0, 0)\" style=\"width: 10px; height: 10px;background-color: rgb(255, 0, 0);\"></td><td title=\"Index: [17, 1]&#10;Color: (255, 0, 0)\" style=\"width: 10px; height: 10px;background-color: rgb(255, 0, 0);\"></td><td title=\"Index: [17, 2]&#10;Color: (255, 0, 0)\" style=\"width: 10px; height: 10px;background-color: rgb(255, 0, 0);\"></td><td title=\"Index: [17, 3]&#10;Color: (255, 0, 0)\" style=\"width: 10px; height: 10px;background-color: rgb(255, 0, 0);\"></td><td title=\"Index: [17, 4]&#10;Color: (255, 0, 0)\" style=\"width: 10px; height: 10px;background-color: rgb(255, 0, 0);\"></td><td title=\"Index: [17, 5]&#10;Color: (255, 0, 0)\" style=\"width: 10px; height: 10px;background-color: rgb(255, 0, 0);\"></td><td title=\"Index: [17, 6]&#10;Color: (255, 0, 0)\" style=\"width: 10px; height: 10px;background-color: rgb(255, 0, 0);\"></td><td title=\"Index: [17, 7]&#10;Color: (255, 0, 0)\" style=\"width: 10px; height: 10px;background-color: rgb(255, 0, 0);\"></td><td title=\"Index: [17, 8]&#10;Color: (255, 0, 0)\" style=\"width: 10px; height: 10px;background-color: rgb(255, 0, 0);\"></td><td title=\"Index: [17, 9]&#10;Color: (255, 0, 0)\" style=\"width: 10px; height: 10px;background-color: rgb(255, 0, 0);\"></td><td title=\"Index: [17, 10]&#10;Color: (0, 0, 255)\" style=\"width: 10px; height: 10px;background-color: rgb(0, 0, 255);\"></td><td title=\"Index: [17, 11]&#10;Color: (0, 0, 255)\" style=\"width: 10px; height: 10px;background-color: rgb(0, 0, 255);\"></td><td title=\"Index: [17, 12]&#10;Color: (0, 0, 255)\" style=\"width: 10px; height: 10px;background-color: rgb(0, 0, 255);\"></td><td title=\"Index: [17, 13]&#10;Color: (0, 0, 255)\" style=\"width: 10px; height: 10px;background-color: rgb(0, 0, 255);\"></td><td title=\"Index: [17, 14]&#10;Color: (0, 0, 255)\" style=\"width: 10px; height: 10px;background-color: rgb(0, 0, 255);\"></td><td title=\"Index: [17, 15]&#10;Color: (0, 0, 255)\" style=\"width: 10px; height: 10px;background-color: rgb(0, 0, 255);\"></td><td title=\"Index: [17, 16]&#10;Color: (0, 0, 255)\" style=\"width: 10px; height: 10px;background-color: rgb(0, 0, 255);\"></td><td title=\"Index: [17, 17]&#10;Color: (0, 0, 255)\" style=\"width: 10px; height: 10px;background-color: rgb(0, 0, 255);\"></td><td title=\"Index: [17, 18]&#10;Color: (0, 0, 255)\" style=\"width: 10px; height: 10px;background-color: rgb(0, 0, 255);\"></td><td title=\"Index: [17, 19]&#10;Color: (0, 0, 255)\" style=\"width: 10px; height: 10px;background-color: rgb(0, 0, 255);\"></td></tr><tr><td title=\"Index: [18, 0]&#10;Color: (255, 0, 0)\" style=\"width: 10px; height: 10px;background-color: rgb(255, 0, 0);\"></td><td title=\"Index: [18, 1]&#10;Color: (255, 0, 0)\" style=\"width: 10px; height: 10px;background-color: rgb(255, 0, 0);\"></td><td title=\"Index: [18, 2]&#10;Color: (255, 0, 0)\" style=\"width: 10px; height: 10px;background-color: rgb(255, 0, 0);\"></td><td title=\"Index: [18, 3]&#10;Color: (255, 0, 0)\" style=\"width: 10px; height: 10px;background-color: rgb(255, 0, 0);\"></td><td title=\"Index: [18, 4]&#10;Color: (255, 0, 0)\" style=\"width: 10px; height: 10px;background-color: rgb(255, 0, 0);\"></td><td title=\"Index: [18, 5]&#10;Color: (255, 0, 0)\" style=\"width: 10px; height: 10px;background-color: rgb(255, 0, 0);\"></td><td title=\"Index: [18, 6]&#10;Color: (255, 0, 0)\" style=\"width: 10px; height: 10px;background-color: rgb(255, 0, 0);\"></td><td title=\"Index: [18, 7]&#10;Color: (255, 0, 0)\" style=\"width: 10px; height: 10px;background-color: rgb(255, 0, 0);\"></td><td title=\"Index: [18, 8]&#10;Color: (255, 0, 0)\" style=\"width: 10px; height: 10px;background-color: rgb(255, 0, 0);\"></td><td title=\"Index: [18, 9]&#10;Color: (255, 0, 0)\" style=\"width: 10px; height: 10px;background-color: rgb(255, 0, 0);\"></td><td title=\"Index: [18, 10]&#10;Color: (0, 139, 139)\" style=\"width: 10px; height: 10px;background-color: rgb(0, 139, 139);\"></td><td title=\"Index: [18, 11]&#10;Color: (0, 139, 139)\" style=\"width: 10px; height: 10px;background-color: rgb(0, 139, 139);\"></td><td title=\"Index: [18, 12]&#10;Color: (0, 139, 139)\" style=\"width: 10px; height: 10px;background-color: rgb(0, 139, 139);\"></td><td title=\"Index: [18, 13]&#10;Color: (0, 139, 139)\" style=\"width: 10px; height: 10px;background-color: rgb(0, 139, 139);\"></td><td title=\"Index: [18, 14]&#10;Color: (0, 139, 139)\" style=\"width: 10px; height: 10px;background-color: rgb(0, 139, 139);\"></td><td title=\"Index: [18, 15]&#10;Color: (0, 139, 139)\" style=\"width: 10px; height: 10px;background-color: rgb(0, 139, 139);\"></td><td title=\"Index: [18, 16]&#10;Color: (0, 139, 139)\" style=\"width: 10px; height: 10px;background-color: rgb(0, 139, 139);\"></td><td title=\"Index: [18, 17]&#10;Color: (0, 139, 139)\" style=\"width: 10px; height: 10px;background-color: rgb(0, 139, 139);\"></td><td title=\"Index: [18, 18]&#10;Color: (0, 139, 139)\" style=\"width: 10px; height: 10px;background-color: rgb(0, 139, 139);\"></td><td title=\"Index: [18, 19]&#10;Color: (0, 139, 139)\" style=\"width: 10px; height: 10px;background-color: rgb(0, 139, 139);\"></td></tr><tr><td title=\"Index: [19, 0]&#10;Color: (255, 0, 0)\" style=\"width: 10px; height: 10px;background-color: rgb(255, 0, 0);\"></td><td title=\"Index: [19, 1]&#10;Color: (255, 0, 0)\" style=\"width: 10px; height: 10px;background-color: rgb(255, 0, 0);\"></td><td title=\"Index: [19, 2]&#10;Color: (255, 0, 0)\" style=\"width: 10px; height: 10px;background-color: rgb(255, 0, 0);\"></td><td title=\"Index: [19, 3]&#10;Color: (255, 0, 0)\" style=\"width: 10px; height: 10px;background-color: rgb(255, 0, 0);\"></td><td title=\"Index: [19, 4]&#10;Color: (255, 0, 0)\" style=\"width: 10px; height: 10px;background-color: rgb(255, 0, 0);\"></td><td title=\"Index: [19, 5]&#10;Color: (255, 0, 0)\" style=\"width: 10px; height: 10px;background-color: rgb(255, 0, 0);\"></td><td title=\"Index: [19, 6]&#10;Color: (255, 0, 0)\" style=\"width: 10px; height: 10px;background-color: rgb(255, 0, 0);\"></td><td title=\"Index: [19, 7]&#10;Color: (255, 0, 0)\" style=\"width: 10px; height: 10px;background-color: rgb(255, 0, 0);\"></td><td title=\"Index: [19, 8]&#10;Color: (255, 0, 0)\" style=\"width: 10px; height: 10px;background-color: rgb(255, 0, 0);\"></td><td title=\"Index: [19, 9]&#10;Color: (255, 0, 0)\" style=\"width: 10px; height: 10px;background-color: rgb(255, 0, 0);\"></td><td title=\"Index: [19, 10]&#10;Color: (0, 139, 139)\" style=\"width: 10px; height: 10px;background-color: rgb(0, 139, 139);\"></td><td title=\"Index: [19, 11]&#10;Color: (0, 139, 139)\" style=\"width: 10px; height: 10px;background-color: rgb(0, 139, 139);\"></td><td title=\"Index: [19, 12]&#10;Color: (0, 139, 139)\" style=\"width: 10px; height: 10px;background-color: rgb(0, 139, 139);\"></td><td title=\"Index: [19, 13]&#10;Color: (0, 139, 139)\" style=\"width: 10px; height: 10px;background-color: rgb(0, 139, 139);\"></td><td title=\"Index: [19, 14]&#10;Color: (0, 139, 139)\" style=\"width: 10px; height: 10px;background-color: rgb(0, 139, 139);\"></td><td title=\"Index: [19, 15]&#10;Color: (0, 139, 139)\" style=\"width: 10px; height: 10px;background-color: rgb(0, 139, 139);\"></td><td title=\"Index: [19, 16]&#10;Color: (0, 139, 139)\" style=\"width: 10px; height: 10px;background-color: rgb(0, 139, 139);\"></td><td title=\"Index: [19, 17]&#10;Color: (0, 139, 139)\" style=\"width: 10px; height: 10px;background-color: rgb(0, 139, 139);\"></td><td title=\"Index: [19, 18]&#10;Color: (0, 139, 139)\" style=\"width: 10px; height: 10px;background-color: rgb(0, 139, 139);\"></td><td title=\"Index: [19, 19]&#10;Color: (0, 139, 139)\" style=\"width: 10px; height: 10px;background-color: rgb(0, 139, 139);\"></td></tr></tbody></table>"
      ],
      "text/plain": [
       "<ipythonblocks.BlockGrid at 0x110b45c88>"
      ]
     },
     "execution_count": 34,
     "metadata": {},
     "output_type": "execute_result"
    }
   ],
   "source": [
    "# 3rd, 10th, and 18th rows\n",
    "# lower-left quadrant\n",
    "grid20[2, :] = colors.Blue\n",
    "grid20[9, :] = colors.Blue\n",
    "grid20[17, :] = colors.Blue\n",
    "grid20[10:, :10] = colors.Red\n",
    "grid20"
   ]
  },
  {
   "cell_type": "code",
   "execution_count": 35,
   "metadata": {
    "collapsed": true
   },
   "outputs": [],
   "source": [
    "def fahr_to_celsius(temp):\n",
    "    return ((temp - 32) * (5 / 9))"
   ]
  },
  {
   "cell_type": "code",
   "execution_count": 36,
   "metadata": {},
   "outputs": [
    {
     "data": {
      "text/plain": [
       "32.22222222222222"
      ]
     },
     "execution_count": 36,
     "metadata": {},
     "output_type": "execute_result"
    }
   ],
   "source": [
    "fahr_to_celsius(90)"
   ]
  },
  {
   "cell_type": "code",
   "execution_count": 37,
   "metadata": {
    "collapsed": true
   },
   "outputs": [],
   "source": [
    "def is_even(number):\n",
    "    if number % 2 == 0:\n",
    "        return True \n",
    "    return False"
   ]
  },
  {
   "cell_type": "code",
   "execution_count": 38,
   "metadata": {},
   "outputs": [
    {
     "name": "stdout",
     "output_type": "stream",
     "text": [
      "True\n",
      "False\n"
     ]
    }
   ],
   "source": [
    "print(is_even(20))\n",
    "print(is_even(21))"
   ]
  },
  {
   "cell_type": "code",
   "execution_count": 39,
   "metadata": {},
   "outputs": [
    {
     "data": {
      "text/html": [
       "<div style=\"height: 60px; min-width: 200px; background-color: rgb(12, 123, 234)\"></div>"
      ],
      "text/plain": [
       "<IPython.core.display.HTML object>"
      ]
     },
     "metadata": {},
     "output_type": "display_data"
    }
   ],
   "source": [
    "show_color(12, 123, 234)"
   ]
  },
  {
   "cell_type": "code",
   "execution_count": 40,
   "metadata": {},
   "outputs": [
    {
     "data": {
      "text/html": [
       "<div style=\"height: 60px; min-width: 200px; background-color: rgb(243, 132, 21)\"></div>"
      ],
      "text/plain": [
       "<IPython.core.display.HTML object>"
      ]
     },
     "metadata": {},
     "output_type": "display_data"
    }
   ],
   "source": [
    "show_color(255 - 12, 255 - 123, 255 - 234)"
   ]
  },
  {
   "cell_type": "code",
   "execution_count": 41,
   "metadata": {},
   "outputs": [
    {
     "data": {
      "text/html": [
       "<style type=\"text/css\">table.blockgrid {border: none;} .blockgrid tr {border: none;} .blockgrid td {padding: 0px;} #blocks4c432284-c6bb-4fee-b30a-2dc7cd08a1a4 td {border: 0px solid white;}</style><table id=\"blocks4c432284-c6bb-4fee-b30a-2dc7cd08a1a4\" class=\"blockgrid\"><tbody><tr><td title=\"Index: [4, 4]&#10;Color: (0, 0, 0)\" style=\"width: 20px; height: 20px;background-color: rgb(0, 0, 0);\"></td></tr></tbody></table>"
      ],
      "text/plain": [
       "Block(0, 0, 0, size=20)"
      ]
     },
     "execution_count": 41,
     "metadata": {},
     "output_type": "execute_result"
    }
   ],
   "source": [
    "block"
   ]
  },
  {
   "cell_type": "code",
   "execution_count": 42,
   "metadata": {},
   "outputs": [
    {
     "data": {
      "text/plain": [
       "0"
      ]
     },
     "execution_count": 42,
     "metadata": {},
     "output_type": "execute_result"
    }
   ],
   "source": [
    "block.red"
   ]
  },
  {
   "cell_type": "code",
   "execution_count": 43,
   "metadata": {},
   "outputs": [
    {
     "data": {
      "text/plain": [
       "(0, 0, 0)"
      ]
     },
     "execution_count": 43,
     "metadata": {},
     "output_type": "execute_result"
    }
   ],
   "source": [
    "block.rgb"
   ]
  },
  {
   "cell_type": "code",
   "execution_count": 50,
   "metadata": {
    "collapsed": true
   },
   "outputs": [],
   "source": [
    "def invert(grid):\n",
    "    \"\"\"\n",
    "    Takes an input grid and returns a new grid of the same\n",
    "    size and shape with colors the inverse of the input grid.\n",
    "    \"\"\"\n",
    "    new_grid = grid.copy()\n",
    "    \n",
    "    for block in grid:\n",
    "        new_block = new_grid[block.row, block.col]\n",
    "        new_block.red = 255 - block.red\n",
    "        new_block.green = 255 - block.green\n",
    "        new_block.blue = 255 - block.blue\n",
    "    \n",
    "    return new_grid"
   ]
  },
  {
   "cell_type": "code",
   "execution_count": 80,
   "metadata": {
    "collapsed": true
   },
   "outputs": [],
   "source": [
    "def invert2(grid):\n",
    "    \"\"\"\n",
    "    Takes an input grid and returns a new grid of the same\n",
    "    size and shape with colors the inverse of the input grid.\n",
    "    \"\"\"\n",
    "    new_grid = grid.copy()\n",
    "    \n",
    "    for block, new_block in zip(grid, new_grid):\n",
    "        new_block.rgb = tuple(\n",
    "            255 - value for value in block.rgb\n",
    "        )\n",
    "    \n",
    "    return new_grid"
   ]
  },
  {
   "cell_type": "code",
   "execution_count": 45,
   "metadata": {},
   "outputs": [
    {
     "data": {
      "text/html": [
       "<style type=\"text/css\">table.blockgrid {border: none;} .blockgrid tr {border: none;} .blockgrid td {padding: 0px;} #blocks937eb386-3cb6-4adf-8be9-ee64e435a521 td {border: 1px solid white;}</style><table id=\"blocks937eb386-3cb6-4adf-8be9-ee64e435a521\" class=\"blockgrid\"><tbody><tr><td title=\"Index: [0, 0]&#10;Color: (0, 0, 0)\" style=\"width: 20px; height: 20px;background-color: rgb(0, 0, 0);\"></td><td title=\"Index: [0, 1]&#10;Color: (0, 0, 0)\" style=\"width: 20px; height: 20px;background-color: rgb(0, 0, 0);\"></td><td title=\"Index: [0, 2]&#10;Color: (0, 0, 0)\" style=\"width: 20px; height: 20px;background-color: rgb(0, 0, 0);\"></td><td title=\"Index: [0, 3]&#10;Color: (0, 0, 255)\" style=\"width: 20px; height: 20px;background-color: rgb(0, 0, 255);\"></td><td title=\"Index: [0, 4]&#10;Color: (0, 0, 0)\" style=\"width: 20px; height: 20px;background-color: rgb(0, 0, 0);\"></td></tr><tr><td title=\"Index: [1, 0]&#10;Color: (255, 99, 71)\" style=\"width: 20px; height: 20px;background-color: rgb(255, 99, 71);\"></td><td title=\"Index: [1, 1]&#10;Color: (255, 99, 71)\" style=\"width: 20px; height: 20px;background-color: rgb(255, 99, 71);\"></td><td title=\"Index: [1, 2]&#10;Color: (255, 99, 71)\" style=\"width: 20px; height: 20px;background-color: rgb(255, 99, 71);\"></td><td title=\"Index: [1, 3]&#10;Color: (255, 99, 71)\" style=\"width: 20px; height: 20px;background-color: rgb(255, 99, 71);\"></td><td title=\"Index: [1, 4]&#10;Color: (255, 99, 71)\" style=\"width: 20px; height: 20px;background-color: rgb(255, 99, 71);\"></td></tr><tr><td title=\"Index: [2, 0]&#10;Color: (0, 128, 0)\" style=\"width: 20px; height: 20px;background-color: rgb(0, 128, 0);\"></td><td title=\"Index: [2, 1]&#10;Color: (0, 128, 0)\" style=\"width: 20px; height: 20px;background-color: rgb(0, 128, 0);\"></td><td title=\"Index: [2, 2]&#10;Color: (0, 128, 0)\" style=\"width: 20px; height: 20px;background-color: rgb(0, 128, 0);\"></td><td title=\"Index: [2, 3]&#10;Color: (0, 128, 0)\" style=\"width: 20px; height: 20px;background-color: rgb(0, 128, 0);\"></td><td title=\"Index: [2, 4]&#10;Color: (0, 128, 0)\" style=\"width: 20px; height: 20px;background-color: rgb(0, 128, 0);\"></td></tr><tr><td title=\"Index: [3, 0]&#10;Color: (255, 215, 0)\" style=\"width: 20px; height: 20px;background-color: rgb(255, 215, 0);\"></td><td title=\"Index: [3, 1]&#10;Color: (255, 215, 0)\" style=\"width: 20px; height: 20px;background-color: rgb(255, 215, 0);\"></td><td title=\"Index: [3, 2]&#10;Color: (255, 215, 0)\" style=\"width: 20px; height: 20px;background-color: rgb(255, 215, 0);\"></td><td title=\"Index: [3, 3]&#10;Color: (255, 215, 0)\" style=\"width: 20px; height: 20px;background-color: rgb(255, 215, 0);\"></td><td title=\"Index: [3, 4]&#10;Color: (255, 215, 0)\" style=\"width: 20px; height: 20px;background-color: rgb(255, 215, 0);\"></td></tr><tr><td title=\"Index: [4, 0]&#10;Color: (0, 0, 0)\" style=\"width: 20px; height: 20px;background-color: rgb(0, 0, 0);\"></td><td title=\"Index: [4, 1]&#10;Color: (0, 0, 0)\" style=\"width: 20px; height: 20px;background-color: rgb(0, 0, 0);\"></td><td title=\"Index: [4, 2]&#10;Color: (0, 0, 0)\" style=\"width: 20px; height: 20px;background-color: rgb(0, 0, 0);\"></td><td title=\"Index: [4, 3]&#10;Color: (0, 0, 255)\" style=\"width: 20px; height: 20px;background-color: rgb(0, 0, 255);\"></td><td title=\"Index: [4, 4]&#10;Color: (0, 0, 0)\" style=\"width: 20px; height: 20px;background-color: rgb(0, 0, 0);\"></td></tr></tbody></table>"
      ],
      "text/plain": [
       "<ipythonblocks.BlockGrid at 0x110241780>"
      ]
     },
     "execution_count": 45,
     "metadata": {},
     "output_type": "execute_result"
    }
   ],
   "source": [
    "grid"
   ]
  },
  {
   "cell_type": "code",
   "execution_count": 51,
   "metadata": {},
   "outputs": [
    {
     "data": {
      "text/html": [
       "<style type=\"text/css\">table.blockgrid {border: none;} .blockgrid tr {border: none;} .blockgrid td {padding: 0px;} #blocks859a4a85-32ca-4f2f-8b66-8e52272d124a td {border: 1px solid white;}</style><table id=\"blocks859a4a85-32ca-4f2f-8b66-8e52272d124a\" class=\"blockgrid\"><tbody><tr><td title=\"Index: [0, 0]&#10;Color: (255, 255, 255)\" style=\"width: 20px; height: 20px;background-color: rgb(255, 255, 255);\"></td><td title=\"Index: [0, 1]&#10;Color: (255, 255, 255)\" style=\"width: 20px; height: 20px;background-color: rgb(255, 255, 255);\"></td><td title=\"Index: [0, 2]&#10;Color: (255, 255, 255)\" style=\"width: 20px; height: 20px;background-color: rgb(255, 255, 255);\"></td><td title=\"Index: [0, 3]&#10;Color: (255, 255, 0)\" style=\"width: 20px; height: 20px;background-color: rgb(255, 255, 0);\"></td><td title=\"Index: [0, 4]&#10;Color: (255, 255, 255)\" style=\"width: 20px; height: 20px;background-color: rgb(255, 255, 255);\"></td></tr><tr><td title=\"Index: [1, 0]&#10;Color: (0, 156, 184)\" style=\"width: 20px; height: 20px;background-color: rgb(0, 156, 184);\"></td><td title=\"Index: [1, 1]&#10;Color: (0, 156, 184)\" style=\"width: 20px; height: 20px;background-color: rgb(0, 156, 184);\"></td><td title=\"Index: [1, 2]&#10;Color: (0, 156, 184)\" style=\"width: 20px; height: 20px;background-color: rgb(0, 156, 184);\"></td><td title=\"Index: [1, 3]&#10;Color: (0, 156, 184)\" style=\"width: 20px; height: 20px;background-color: rgb(0, 156, 184);\"></td><td title=\"Index: [1, 4]&#10;Color: (0, 156, 184)\" style=\"width: 20px; height: 20px;background-color: rgb(0, 156, 184);\"></td></tr><tr><td title=\"Index: [2, 0]&#10;Color: (255, 127, 255)\" style=\"width: 20px; height: 20px;background-color: rgb(255, 127, 255);\"></td><td title=\"Index: [2, 1]&#10;Color: (255, 127, 255)\" style=\"width: 20px; height: 20px;background-color: rgb(255, 127, 255);\"></td><td title=\"Index: [2, 2]&#10;Color: (255, 127, 255)\" style=\"width: 20px; height: 20px;background-color: rgb(255, 127, 255);\"></td><td title=\"Index: [2, 3]&#10;Color: (255, 127, 255)\" style=\"width: 20px; height: 20px;background-color: rgb(255, 127, 255);\"></td><td title=\"Index: [2, 4]&#10;Color: (255, 127, 255)\" style=\"width: 20px; height: 20px;background-color: rgb(255, 127, 255);\"></td></tr><tr><td title=\"Index: [3, 0]&#10;Color: (0, 40, 255)\" style=\"width: 20px; height: 20px;background-color: rgb(0, 40, 255);\"></td><td title=\"Index: [3, 1]&#10;Color: (0, 40, 255)\" style=\"width: 20px; height: 20px;background-color: rgb(0, 40, 255);\"></td><td title=\"Index: [3, 2]&#10;Color: (0, 40, 255)\" style=\"width: 20px; height: 20px;background-color: rgb(0, 40, 255);\"></td><td title=\"Index: [3, 3]&#10;Color: (0, 40, 255)\" style=\"width: 20px; height: 20px;background-color: rgb(0, 40, 255);\"></td><td title=\"Index: [3, 4]&#10;Color: (0, 40, 255)\" style=\"width: 20px; height: 20px;background-color: rgb(0, 40, 255);\"></td></tr><tr><td title=\"Index: [4, 0]&#10;Color: (255, 255, 255)\" style=\"width: 20px; height: 20px;background-color: rgb(255, 255, 255);\"></td><td title=\"Index: [4, 1]&#10;Color: (255, 255, 255)\" style=\"width: 20px; height: 20px;background-color: rgb(255, 255, 255);\"></td><td title=\"Index: [4, 2]&#10;Color: (255, 255, 255)\" style=\"width: 20px; height: 20px;background-color: rgb(255, 255, 255);\"></td><td title=\"Index: [4, 3]&#10;Color: (255, 255, 0)\" style=\"width: 20px; height: 20px;background-color: rgb(255, 255, 0);\"></td><td title=\"Index: [4, 4]&#10;Color: (255, 255, 255)\" style=\"width: 20px; height: 20px;background-color: rgb(255, 255, 255);\"></td></tr></tbody></table>"
      ],
      "text/plain": [
       "<ipythonblocks.BlockGrid at 0x10feb3978>"
      ]
     },
     "execution_count": 51,
     "metadata": {},
     "output_type": "execute_result"
    }
   ],
   "source": [
    "invert(grid)"
   ]
  },
  {
   "cell_type": "code",
   "execution_count": 52,
   "metadata": {},
   "outputs": [
    {
     "data": {
      "text/html": [
       "<style type=\"text/css\">table.blockgrid {border: none;} .blockgrid tr {border: none;} .blockgrid td {padding: 0px;} #blocksab405178-5843-4ee9-891e-1e201d608c2d td {border: 1px solid white;}</style><table id=\"blocksab405178-5843-4ee9-891e-1e201d608c2d\" class=\"blockgrid\"><tbody><tr><td title=\"Index: [0, 0]&#10;Color: (255, 116, 116)\" style=\"width: 10px; height: 10px;background-color: rgb(255, 116, 116);\"></td><td title=\"Index: [0, 1]&#10;Color: (255, 116, 116)\" style=\"width: 10px; height: 10px;background-color: rgb(255, 116, 116);\"></td><td title=\"Index: [0, 2]&#10;Color: (255, 116, 116)\" style=\"width: 10px; height: 10px;background-color: rgb(255, 116, 116);\"></td><td title=\"Index: [0, 3]&#10;Color: (255, 116, 116)\" style=\"width: 10px; height: 10px;background-color: rgb(255, 116, 116);\"></td><td title=\"Index: [0, 4]&#10;Color: (255, 116, 116)\" style=\"width: 10px; height: 10px;background-color: rgb(255, 116, 116);\"></td><td title=\"Index: [0, 5]&#10;Color: (255, 116, 116)\" style=\"width: 10px; height: 10px;background-color: rgb(255, 116, 116);\"></td><td title=\"Index: [0, 6]&#10;Color: (255, 116, 116)\" style=\"width: 10px; height: 10px;background-color: rgb(255, 116, 116);\"></td><td title=\"Index: [0, 7]&#10;Color: (255, 116, 116)\" style=\"width: 10px; height: 10px;background-color: rgb(255, 116, 116);\"></td><td title=\"Index: [0, 8]&#10;Color: (255, 116, 116)\" style=\"width: 10px; height: 10px;background-color: rgb(255, 116, 116);\"></td><td title=\"Index: [0, 9]&#10;Color: (255, 116, 116)\" style=\"width: 10px; height: 10px;background-color: rgb(255, 116, 116);\"></td><td title=\"Index: [0, 10]&#10;Color: (255, 116, 116)\" style=\"width: 10px; height: 10px;background-color: rgb(255, 116, 116);\"></td><td title=\"Index: [0, 11]&#10;Color: (255, 116, 116)\" style=\"width: 10px; height: 10px;background-color: rgb(255, 116, 116);\"></td><td title=\"Index: [0, 12]&#10;Color: (255, 116, 116)\" style=\"width: 10px; height: 10px;background-color: rgb(255, 116, 116);\"></td><td title=\"Index: [0, 13]&#10;Color: (255, 116, 116)\" style=\"width: 10px; height: 10px;background-color: rgb(255, 116, 116);\"></td><td title=\"Index: [0, 14]&#10;Color: (255, 116, 116)\" style=\"width: 10px; height: 10px;background-color: rgb(255, 116, 116);\"></td><td title=\"Index: [0, 15]&#10;Color: (255, 116, 116)\" style=\"width: 10px; height: 10px;background-color: rgb(255, 116, 116);\"></td><td title=\"Index: [0, 16]&#10;Color: (255, 116, 116)\" style=\"width: 10px; height: 10px;background-color: rgb(255, 116, 116);\"></td><td title=\"Index: [0, 17]&#10;Color: (255, 116, 116)\" style=\"width: 10px; height: 10px;background-color: rgb(255, 116, 116);\"></td><td title=\"Index: [0, 18]&#10;Color: (255, 116, 116)\" style=\"width: 10px; height: 10px;background-color: rgb(255, 116, 116);\"></td><td title=\"Index: [0, 19]&#10;Color: (255, 116, 116)\" style=\"width: 10px; height: 10px;background-color: rgb(255, 116, 116);\"></td></tr><tr><td title=\"Index: [1, 0]&#10;Color: (255, 116, 116)\" style=\"width: 10px; height: 10px;background-color: rgb(255, 116, 116);\"></td><td title=\"Index: [1, 1]&#10;Color: (255, 116, 116)\" style=\"width: 10px; height: 10px;background-color: rgb(255, 116, 116);\"></td><td title=\"Index: [1, 2]&#10;Color: (255, 116, 116)\" style=\"width: 10px; height: 10px;background-color: rgb(255, 116, 116);\"></td><td title=\"Index: [1, 3]&#10;Color: (255, 116, 116)\" style=\"width: 10px; height: 10px;background-color: rgb(255, 116, 116);\"></td><td title=\"Index: [1, 4]&#10;Color: (255, 116, 116)\" style=\"width: 10px; height: 10px;background-color: rgb(255, 116, 116);\"></td><td title=\"Index: [1, 5]&#10;Color: (255, 116, 116)\" style=\"width: 10px; height: 10px;background-color: rgb(255, 116, 116);\"></td><td title=\"Index: [1, 6]&#10;Color: (255, 116, 116)\" style=\"width: 10px; height: 10px;background-color: rgb(255, 116, 116);\"></td><td title=\"Index: [1, 7]&#10;Color: (255, 116, 116)\" style=\"width: 10px; height: 10px;background-color: rgb(255, 116, 116);\"></td><td title=\"Index: [1, 8]&#10;Color: (255, 116, 116)\" style=\"width: 10px; height: 10px;background-color: rgb(255, 116, 116);\"></td><td title=\"Index: [1, 9]&#10;Color: (255, 116, 116)\" style=\"width: 10px; height: 10px;background-color: rgb(255, 116, 116);\"></td><td title=\"Index: [1, 10]&#10;Color: (255, 116, 116)\" style=\"width: 10px; height: 10px;background-color: rgb(255, 116, 116);\"></td><td title=\"Index: [1, 11]&#10;Color: (255, 116, 116)\" style=\"width: 10px; height: 10px;background-color: rgb(255, 116, 116);\"></td><td title=\"Index: [1, 12]&#10;Color: (255, 116, 116)\" style=\"width: 10px; height: 10px;background-color: rgb(255, 116, 116);\"></td><td title=\"Index: [1, 13]&#10;Color: (255, 116, 116)\" style=\"width: 10px; height: 10px;background-color: rgb(255, 116, 116);\"></td><td title=\"Index: [1, 14]&#10;Color: (255, 116, 116)\" style=\"width: 10px; height: 10px;background-color: rgb(255, 116, 116);\"></td><td title=\"Index: [1, 15]&#10;Color: (255, 116, 116)\" style=\"width: 10px; height: 10px;background-color: rgb(255, 116, 116);\"></td><td title=\"Index: [1, 16]&#10;Color: (255, 116, 116)\" style=\"width: 10px; height: 10px;background-color: rgb(255, 116, 116);\"></td><td title=\"Index: [1, 17]&#10;Color: (255, 116, 116)\" style=\"width: 10px; height: 10px;background-color: rgb(255, 116, 116);\"></td><td title=\"Index: [1, 18]&#10;Color: (255, 116, 116)\" style=\"width: 10px; height: 10px;background-color: rgb(255, 116, 116);\"></td><td title=\"Index: [1, 19]&#10;Color: (255, 116, 116)\" style=\"width: 10px; height: 10px;background-color: rgb(255, 116, 116);\"></td></tr><tr><td title=\"Index: [2, 0]&#10;Color: (255, 255, 0)\" style=\"width: 10px; height: 10px;background-color: rgb(255, 255, 0);\"></td><td title=\"Index: [2, 1]&#10;Color: (255, 255, 0)\" style=\"width: 10px; height: 10px;background-color: rgb(255, 255, 0);\"></td><td title=\"Index: [2, 2]&#10;Color: (255, 255, 0)\" style=\"width: 10px; height: 10px;background-color: rgb(255, 255, 0);\"></td><td title=\"Index: [2, 3]&#10;Color: (255, 255, 0)\" style=\"width: 10px; height: 10px;background-color: rgb(255, 255, 0);\"></td><td title=\"Index: [2, 4]&#10;Color: (255, 255, 0)\" style=\"width: 10px; height: 10px;background-color: rgb(255, 255, 0);\"></td><td title=\"Index: [2, 5]&#10;Color: (255, 255, 0)\" style=\"width: 10px; height: 10px;background-color: rgb(255, 255, 0);\"></td><td title=\"Index: [2, 6]&#10;Color: (255, 255, 0)\" style=\"width: 10px; height: 10px;background-color: rgb(255, 255, 0);\"></td><td title=\"Index: [2, 7]&#10;Color: (255, 255, 0)\" style=\"width: 10px; height: 10px;background-color: rgb(255, 255, 0);\"></td><td title=\"Index: [2, 8]&#10;Color: (255, 255, 0)\" style=\"width: 10px; height: 10px;background-color: rgb(255, 255, 0);\"></td><td title=\"Index: [2, 9]&#10;Color: (255, 255, 0)\" style=\"width: 10px; height: 10px;background-color: rgb(255, 255, 0);\"></td><td title=\"Index: [2, 10]&#10;Color: (255, 255, 0)\" style=\"width: 10px; height: 10px;background-color: rgb(255, 255, 0);\"></td><td title=\"Index: [2, 11]&#10;Color: (255, 255, 0)\" style=\"width: 10px; height: 10px;background-color: rgb(255, 255, 0);\"></td><td title=\"Index: [2, 12]&#10;Color: (255, 255, 0)\" style=\"width: 10px; height: 10px;background-color: rgb(255, 255, 0);\"></td><td title=\"Index: [2, 13]&#10;Color: (255, 255, 0)\" style=\"width: 10px; height: 10px;background-color: rgb(255, 255, 0);\"></td><td title=\"Index: [2, 14]&#10;Color: (255, 255, 0)\" style=\"width: 10px; height: 10px;background-color: rgb(255, 255, 0);\"></td><td title=\"Index: [2, 15]&#10;Color: (255, 255, 0)\" style=\"width: 10px; height: 10px;background-color: rgb(255, 255, 0);\"></td><td title=\"Index: [2, 16]&#10;Color: (255, 255, 0)\" style=\"width: 10px; height: 10px;background-color: rgb(255, 255, 0);\"></td><td title=\"Index: [2, 17]&#10;Color: (255, 255, 0)\" style=\"width: 10px; height: 10px;background-color: rgb(255, 255, 0);\"></td><td title=\"Index: [2, 18]&#10;Color: (255, 255, 0)\" style=\"width: 10px; height: 10px;background-color: rgb(255, 255, 0);\"></td><td title=\"Index: [2, 19]&#10;Color: (255, 255, 0)\" style=\"width: 10px; height: 10px;background-color: rgb(255, 255, 0);\"></td></tr><tr><td title=\"Index: [3, 0]&#10;Color: (255, 116, 116)\" style=\"width: 10px; height: 10px;background-color: rgb(255, 116, 116);\"></td><td title=\"Index: [3, 1]&#10;Color: (255, 116, 116)\" style=\"width: 10px; height: 10px;background-color: rgb(255, 116, 116);\"></td><td title=\"Index: [3, 2]&#10;Color: (255, 116, 116)\" style=\"width: 10px; height: 10px;background-color: rgb(255, 116, 116);\"></td><td title=\"Index: [3, 3]&#10;Color: (255, 116, 116)\" style=\"width: 10px; height: 10px;background-color: rgb(255, 116, 116);\"></td><td title=\"Index: [3, 4]&#10;Color: (255, 116, 116)\" style=\"width: 10px; height: 10px;background-color: rgb(255, 116, 116);\"></td><td title=\"Index: [3, 5]&#10;Color: (255, 116, 116)\" style=\"width: 10px; height: 10px;background-color: rgb(255, 116, 116);\"></td><td title=\"Index: [3, 6]&#10;Color: (255, 116, 116)\" style=\"width: 10px; height: 10px;background-color: rgb(255, 116, 116);\"></td><td title=\"Index: [3, 7]&#10;Color: (255, 116, 116)\" style=\"width: 10px; height: 10px;background-color: rgb(255, 116, 116);\"></td><td title=\"Index: [3, 8]&#10;Color: (255, 116, 116)\" style=\"width: 10px; height: 10px;background-color: rgb(255, 116, 116);\"></td><td title=\"Index: [3, 9]&#10;Color: (255, 116, 116)\" style=\"width: 10px; height: 10px;background-color: rgb(255, 116, 116);\"></td><td title=\"Index: [3, 10]&#10;Color: (255, 116, 116)\" style=\"width: 10px; height: 10px;background-color: rgb(255, 116, 116);\"></td><td title=\"Index: [3, 11]&#10;Color: (67, 112, 112)\" style=\"width: 10px; height: 10px;background-color: rgb(67, 112, 112);\"></td><td title=\"Index: [3, 12]&#10;Color: (67, 112, 112)\" style=\"width: 10px; height: 10px;background-color: rgb(67, 112, 112);\"></td><td title=\"Index: [3, 13]&#10;Color: (67, 112, 112)\" style=\"width: 10px; height: 10px;background-color: rgb(67, 112, 112);\"></td><td title=\"Index: [3, 14]&#10;Color: (67, 112, 112)\" style=\"width: 10px; height: 10px;background-color: rgb(67, 112, 112);\"></td><td title=\"Index: [3, 15]&#10;Color: (67, 112, 112)\" style=\"width: 10px; height: 10px;background-color: rgb(67, 112, 112);\"></td><td title=\"Index: [3, 16]&#10;Color: (67, 112, 112)\" style=\"width: 10px; height: 10px;background-color: rgb(67, 112, 112);\"></td><td title=\"Index: [3, 17]&#10;Color: (67, 112, 112)\" style=\"width: 10px; height: 10px;background-color: rgb(67, 112, 112);\"></td><td title=\"Index: [3, 18]&#10;Color: (255, 116, 116)\" style=\"width: 10px; height: 10px;background-color: rgb(255, 116, 116);\"></td><td title=\"Index: [3, 19]&#10;Color: (255, 116, 116)\" style=\"width: 10px; height: 10px;background-color: rgb(255, 116, 116);\"></td></tr><tr><td title=\"Index: [4, 0]&#10;Color: (255, 116, 116)\" style=\"width: 10px; height: 10px;background-color: rgb(255, 116, 116);\"></td><td title=\"Index: [4, 1]&#10;Color: (255, 116, 116)\" style=\"width: 10px; height: 10px;background-color: rgb(255, 116, 116);\"></td><td title=\"Index: [4, 2]&#10;Color: (255, 116, 116)\" style=\"width: 10px; height: 10px;background-color: rgb(255, 116, 116);\"></td><td title=\"Index: [4, 3]&#10;Color: (255, 116, 116)\" style=\"width: 10px; height: 10px;background-color: rgb(255, 116, 116);\"></td><td title=\"Index: [4, 4]&#10;Color: (255, 116, 116)\" style=\"width: 10px; height: 10px;background-color: rgb(255, 116, 116);\"></td><td title=\"Index: [4, 5]&#10;Color: (255, 116, 116)\" style=\"width: 10px; height: 10px;background-color: rgb(255, 116, 116);\"></td><td title=\"Index: [4, 6]&#10;Color: (255, 116, 116)\" style=\"width: 10px; height: 10px;background-color: rgb(255, 116, 116);\"></td><td title=\"Index: [4, 7]&#10;Color: (255, 116, 116)\" style=\"width: 10px; height: 10px;background-color: rgb(255, 116, 116);\"></td><td title=\"Index: [4, 8]&#10;Color: (255, 116, 116)\" style=\"width: 10px; height: 10px;background-color: rgb(255, 116, 116);\"></td><td title=\"Index: [4, 9]&#10;Color: (255, 116, 116)\" style=\"width: 10px; height: 10px;background-color: rgb(255, 116, 116);\"></td><td title=\"Index: [4, 10]&#10;Color: (255, 116, 116)\" style=\"width: 10px; height: 10px;background-color: rgb(255, 116, 116);\"></td><td title=\"Index: [4, 11]&#10;Color: (67, 112, 112)\" style=\"width: 10px; height: 10px;background-color: rgb(67, 112, 112);\"></td><td title=\"Index: [4, 12]&#10;Color: (67, 112, 112)\" style=\"width: 10px; height: 10px;background-color: rgb(67, 112, 112);\"></td><td title=\"Index: [4, 13]&#10;Color: (67, 112, 112)\" style=\"width: 10px; height: 10px;background-color: rgb(67, 112, 112);\"></td><td title=\"Index: [4, 14]&#10;Color: (67, 112, 112)\" style=\"width: 10px; height: 10px;background-color: rgb(67, 112, 112);\"></td><td title=\"Index: [4, 15]&#10;Color: (67, 112, 112)\" style=\"width: 10px; height: 10px;background-color: rgb(67, 112, 112);\"></td><td title=\"Index: [4, 16]&#10;Color: (67, 112, 112)\" style=\"width: 10px; height: 10px;background-color: rgb(67, 112, 112);\"></td><td title=\"Index: [4, 17]&#10;Color: (67, 112, 112)\" style=\"width: 10px; height: 10px;background-color: rgb(67, 112, 112);\"></td><td title=\"Index: [4, 18]&#10;Color: (255, 116, 116)\" style=\"width: 10px; height: 10px;background-color: rgb(255, 116, 116);\"></td><td title=\"Index: [4, 19]&#10;Color: (255, 116, 116)\" style=\"width: 10px; height: 10px;background-color: rgb(255, 116, 116);\"></td></tr><tr><td title=\"Index: [5, 0]&#10;Color: (255, 116, 116)\" style=\"width: 10px; height: 10px;background-color: rgb(255, 116, 116);\"></td><td title=\"Index: [5, 1]&#10;Color: (255, 116, 116)\" style=\"width: 10px; height: 10px;background-color: rgb(255, 116, 116);\"></td><td title=\"Index: [5, 2]&#10;Color: (255, 116, 116)\" style=\"width: 10px; height: 10px;background-color: rgb(255, 116, 116);\"></td><td title=\"Index: [5, 3]&#10;Color: (255, 116, 116)\" style=\"width: 10px; height: 10px;background-color: rgb(255, 116, 116);\"></td><td title=\"Index: [5, 4]&#10;Color: (255, 116, 116)\" style=\"width: 10px; height: 10px;background-color: rgb(255, 116, 116);\"></td><td title=\"Index: [5, 5]&#10;Color: (255, 116, 116)\" style=\"width: 10px; height: 10px;background-color: rgb(255, 116, 116);\"></td><td title=\"Index: [5, 6]&#10;Color: (255, 116, 116)\" style=\"width: 10px; height: 10px;background-color: rgb(255, 116, 116);\"></td><td title=\"Index: [5, 7]&#10;Color: (255, 116, 116)\" style=\"width: 10px; height: 10px;background-color: rgb(255, 116, 116);\"></td><td title=\"Index: [5, 8]&#10;Color: (255, 116, 116)\" style=\"width: 10px; height: 10px;background-color: rgb(255, 116, 116);\"></td><td title=\"Index: [5, 9]&#10;Color: (255, 116, 116)\" style=\"width: 10px; height: 10px;background-color: rgb(255, 116, 116);\"></td><td title=\"Index: [5, 10]&#10;Color: (255, 116, 116)\" style=\"width: 10px; height: 10px;background-color: rgb(255, 116, 116);\"></td><td title=\"Index: [5, 11]&#10;Color: (67, 112, 112)\" style=\"width: 10px; height: 10px;background-color: rgb(67, 112, 112);\"></td><td title=\"Index: [5, 12]&#10;Color: (67, 112, 112)\" style=\"width: 10px; height: 10px;background-color: rgb(67, 112, 112);\"></td><td title=\"Index: [5, 13]&#10;Color: (67, 112, 112)\" style=\"width: 10px; height: 10px;background-color: rgb(67, 112, 112);\"></td><td title=\"Index: [5, 14]&#10;Color: (67, 112, 112)\" style=\"width: 10px; height: 10px;background-color: rgb(67, 112, 112);\"></td><td title=\"Index: [5, 15]&#10;Color: (67, 112, 112)\" style=\"width: 10px; height: 10px;background-color: rgb(67, 112, 112);\"></td><td title=\"Index: [5, 16]&#10;Color: (67, 112, 112)\" style=\"width: 10px; height: 10px;background-color: rgb(67, 112, 112);\"></td><td title=\"Index: [5, 17]&#10;Color: (67, 112, 112)\" style=\"width: 10px; height: 10px;background-color: rgb(67, 112, 112);\"></td><td title=\"Index: [5, 18]&#10;Color: (255, 116, 116)\" style=\"width: 10px; height: 10px;background-color: rgb(255, 116, 116);\"></td><td title=\"Index: [5, 19]&#10;Color: (255, 116, 116)\" style=\"width: 10px; height: 10px;background-color: rgb(255, 116, 116);\"></td></tr><tr><td title=\"Index: [6, 0]&#10;Color: (255, 116, 116)\" style=\"width: 10px; height: 10px;background-color: rgb(255, 116, 116);\"></td><td title=\"Index: [6, 1]&#10;Color: (255, 116, 116)\" style=\"width: 10px; height: 10px;background-color: rgb(255, 116, 116);\"></td><td title=\"Index: [6, 2]&#10;Color: (255, 116, 116)\" style=\"width: 10px; height: 10px;background-color: rgb(255, 116, 116);\"></td><td title=\"Index: [6, 3]&#10;Color: (255, 116, 116)\" style=\"width: 10px; height: 10px;background-color: rgb(255, 116, 116);\"></td><td title=\"Index: [6, 4]&#10;Color: (255, 116, 116)\" style=\"width: 10px; height: 10px;background-color: rgb(255, 116, 116);\"></td><td title=\"Index: [6, 5]&#10;Color: (255, 116, 116)\" style=\"width: 10px; height: 10px;background-color: rgb(255, 116, 116);\"></td><td title=\"Index: [6, 6]&#10;Color: (255, 116, 116)\" style=\"width: 10px; height: 10px;background-color: rgb(255, 116, 116);\"></td><td title=\"Index: [6, 7]&#10;Color: (255, 116, 116)\" style=\"width: 10px; height: 10px;background-color: rgb(255, 116, 116);\"></td><td title=\"Index: [6, 8]&#10;Color: (255, 116, 116)\" style=\"width: 10px; height: 10px;background-color: rgb(255, 116, 116);\"></td><td title=\"Index: [6, 9]&#10;Color: (255, 116, 116)\" style=\"width: 10px; height: 10px;background-color: rgb(255, 116, 116);\"></td><td title=\"Index: [6, 10]&#10;Color: (255, 116, 116)\" style=\"width: 10px; height: 10px;background-color: rgb(255, 116, 116);\"></td><td title=\"Index: [6, 11]&#10;Color: (67, 112, 112)\" style=\"width: 10px; height: 10px;background-color: rgb(67, 112, 112);\"></td><td title=\"Index: [6, 12]&#10;Color: (67, 112, 112)\" style=\"width: 10px; height: 10px;background-color: rgb(67, 112, 112);\"></td><td title=\"Index: [6, 13]&#10;Color: (67, 112, 112)\" style=\"width: 10px; height: 10px;background-color: rgb(67, 112, 112);\"></td><td title=\"Index: [6, 14]&#10;Color: (67, 112, 112)\" style=\"width: 10px; height: 10px;background-color: rgb(67, 112, 112);\"></td><td title=\"Index: [6, 15]&#10;Color: (67, 112, 112)\" style=\"width: 10px; height: 10px;background-color: rgb(67, 112, 112);\"></td><td title=\"Index: [6, 16]&#10;Color: (67, 112, 112)\" style=\"width: 10px; height: 10px;background-color: rgb(67, 112, 112);\"></td><td title=\"Index: [6, 17]&#10;Color: (67, 112, 112)\" style=\"width: 10px; height: 10px;background-color: rgb(67, 112, 112);\"></td><td title=\"Index: [6, 18]&#10;Color: (255, 116, 116)\" style=\"width: 10px; height: 10px;background-color: rgb(255, 116, 116);\"></td><td title=\"Index: [6, 19]&#10;Color: (255, 116, 116)\" style=\"width: 10px; height: 10px;background-color: rgb(255, 116, 116);\"></td></tr><tr><td title=\"Index: [7, 0]&#10;Color: (255, 116, 116)\" style=\"width: 10px; height: 10px;background-color: rgb(255, 116, 116);\"></td><td title=\"Index: [7, 1]&#10;Color: (255, 116, 116)\" style=\"width: 10px; height: 10px;background-color: rgb(255, 116, 116);\"></td><td title=\"Index: [7, 2]&#10;Color: (255, 116, 116)\" style=\"width: 10px; height: 10px;background-color: rgb(255, 116, 116);\"></td><td title=\"Index: [7, 3]&#10;Color: (255, 116, 116)\" style=\"width: 10px; height: 10px;background-color: rgb(255, 116, 116);\"></td><td title=\"Index: [7, 4]&#10;Color: (255, 116, 116)\" style=\"width: 10px; height: 10px;background-color: rgb(255, 116, 116);\"></td><td title=\"Index: [7, 5]&#10;Color: (255, 116, 116)\" style=\"width: 10px; height: 10px;background-color: rgb(255, 116, 116);\"></td><td title=\"Index: [7, 6]&#10;Color: (255, 116, 116)\" style=\"width: 10px; height: 10px;background-color: rgb(255, 116, 116);\"></td><td title=\"Index: [7, 7]&#10;Color: (255, 116, 116)\" style=\"width: 10px; height: 10px;background-color: rgb(255, 116, 116);\"></td><td title=\"Index: [7, 8]&#10;Color: (255, 116, 116)\" style=\"width: 10px; height: 10px;background-color: rgb(255, 116, 116);\"></td><td title=\"Index: [7, 9]&#10;Color: (255, 116, 116)\" style=\"width: 10px; height: 10px;background-color: rgb(255, 116, 116);\"></td><td title=\"Index: [7, 10]&#10;Color: (255, 116, 116)\" style=\"width: 10px; height: 10px;background-color: rgb(255, 116, 116);\"></td><td title=\"Index: [7, 11]&#10;Color: (67, 112, 112)\" style=\"width: 10px; height: 10px;background-color: rgb(67, 112, 112);\"></td><td title=\"Index: [7, 12]&#10;Color: (67, 112, 112)\" style=\"width: 10px; height: 10px;background-color: rgb(67, 112, 112);\"></td><td title=\"Index: [7, 13]&#10;Color: (67, 112, 112)\" style=\"width: 10px; height: 10px;background-color: rgb(67, 112, 112);\"></td><td title=\"Index: [7, 14]&#10;Color: (67, 112, 112)\" style=\"width: 10px; height: 10px;background-color: rgb(67, 112, 112);\"></td><td title=\"Index: [7, 15]&#10;Color: (67, 112, 112)\" style=\"width: 10px; height: 10px;background-color: rgb(67, 112, 112);\"></td><td title=\"Index: [7, 16]&#10;Color: (67, 112, 112)\" style=\"width: 10px; height: 10px;background-color: rgb(67, 112, 112);\"></td><td title=\"Index: [7, 17]&#10;Color: (67, 112, 112)\" style=\"width: 10px; height: 10px;background-color: rgb(67, 112, 112);\"></td><td title=\"Index: [7, 18]&#10;Color: (255, 116, 116)\" style=\"width: 10px; height: 10px;background-color: rgb(255, 116, 116);\"></td><td title=\"Index: [7, 19]&#10;Color: (255, 116, 116)\" style=\"width: 10px; height: 10px;background-color: rgb(255, 116, 116);\"></td></tr><tr><td title=\"Index: [8, 0]&#10;Color: (255, 116, 116)\" style=\"width: 10px; height: 10px;background-color: rgb(255, 116, 116);\"></td><td title=\"Index: [8, 1]&#10;Color: (255, 116, 116)\" style=\"width: 10px; height: 10px;background-color: rgb(255, 116, 116);\"></td><td title=\"Index: [8, 2]&#10;Color: (255, 116, 116)\" style=\"width: 10px; height: 10px;background-color: rgb(255, 116, 116);\"></td><td title=\"Index: [8, 3]&#10;Color: (255, 116, 116)\" style=\"width: 10px; height: 10px;background-color: rgb(255, 116, 116);\"></td><td title=\"Index: [8, 4]&#10;Color: (255, 116, 116)\" style=\"width: 10px; height: 10px;background-color: rgb(255, 116, 116);\"></td><td title=\"Index: [8, 5]&#10;Color: (255, 116, 116)\" style=\"width: 10px; height: 10px;background-color: rgb(255, 116, 116);\"></td><td title=\"Index: [8, 6]&#10;Color: (255, 116, 116)\" style=\"width: 10px; height: 10px;background-color: rgb(255, 116, 116);\"></td><td title=\"Index: [8, 7]&#10;Color: (255, 116, 116)\" style=\"width: 10px; height: 10px;background-color: rgb(255, 116, 116);\"></td><td title=\"Index: [8, 8]&#10;Color: (255, 116, 116)\" style=\"width: 10px; height: 10px;background-color: rgb(255, 116, 116);\"></td><td title=\"Index: [8, 9]&#10;Color: (255, 116, 116)\" style=\"width: 10px; height: 10px;background-color: rgb(255, 116, 116);\"></td><td title=\"Index: [8, 10]&#10;Color: (255, 116, 116)\" style=\"width: 10px; height: 10px;background-color: rgb(255, 116, 116);\"></td><td title=\"Index: [8, 11]&#10;Color: (255, 116, 116)\" style=\"width: 10px; height: 10px;background-color: rgb(255, 116, 116);\"></td><td title=\"Index: [8, 12]&#10;Color: (255, 116, 116)\" style=\"width: 10px; height: 10px;background-color: rgb(255, 116, 116);\"></td><td title=\"Index: [8, 13]&#10;Color: (255, 116, 116)\" style=\"width: 10px; height: 10px;background-color: rgb(255, 116, 116);\"></td><td title=\"Index: [8, 14]&#10;Color: (255, 116, 116)\" style=\"width: 10px; height: 10px;background-color: rgb(255, 116, 116);\"></td><td title=\"Index: [8, 15]&#10;Color: (255, 116, 116)\" style=\"width: 10px; height: 10px;background-color: rgb(255, 116, 116);\"></td><td title=\"Index: [8, 16]&#10;Color: (255, 116, 116)\" style=\"width: 10px; height: 10px;background-color: rgb(255, 116, 116);\"></td><td title=\"Index: [8, 17]&#10;Color: (255, 116, 116)\" style=\"width: 10px; height: 10px;background-color: rgb(255, 116, 116);\"></td><td title=\"Index: [8, 18]&#10;Color: (255, 116, 116)\" style=\"width: 10px; height: 10px;background-color: rgb(255, 116, 116);\"></td><td title=\"Index: [8, 19]&#10;Color: (255, 116, 116)\" style=\"width: 10px; height: 10px;background-color: rgb(255, 116, 116);\"></td></tr><tr><td title=\"Index: [9, 0]&#10;Color: (255, 255, 0)\" style=\"width: 10px; height: 10px;background-color: rgb(255, 255, 0);\"></td><td title=\"Index: [9, 1]&#10;Color: (255, 255, 0)\" style=\"width: 10px; height: 10px;background-color: rgb(255, 255, 0);\"></td><td title=\"Index: [9, 2]&#10;Color: (255, 255, 0)\" style=\"width: 10px; height: 10px;background-color: rgb(255, 255, 0);\"></td><td title=\"Index: [9, 3]&#10;Color: (255, 255, 0)\" style=\"width: 10px; height: 10px;background-color: rgb(255, 255, 0);\"></td><td title=\"Index: [9, 4]&#10;Color: (255, 255, 0)\" style=\"width: 10px; height: 10px;background-color: rgb(255, 255, 0);\"></td><td title=\"Index: [9, 5]&#10;Color: (255, 255, 0)\" style=\"width: 10px; height: 10px;background-color: rgb(255, 255, 0);\"></td><td title=\"Index: [9, 6]&#10;Color: (255, 255, 0)\" style=\"width: 10px; height: 10px;background-color: rgb(255, 255, 0);\"></td><td title=\"Index: [9, 7]&#10;Color: (255, 255, 0)\" style=\"width: 10px; height: 10px;background-color: rgb(255, 255, 0);\"></td><td title=\"Index: [9, 8]&#10;Color: (255, 255, 0)\" style=\"width: 10px; height: 10px;background-color: rgb(255, 255, 0);\"></td><td title=\"Index: [9, 9]&#10;Color: (255, 255, 0)\" style=\"width: 10px; height: 10px;background-color: rgb(255, 255, 0);\"></td><td title=\"Index: [9, 10]&#10;Color: (255, 255, 0)\" style=\"width: 10px; height: 10px;background-color: rgb(255, 255, 0);\"></td><td title=\"Index: [9, 11]&#10;Color: (255, 255, 0)\" style=\"width: 10px; height: 10px;background-color: rgb(255, 255, 0);\"></td><td title=\"Index: [9, 12]&#10;Color: (255, 255, 0)\" style=\"width: 10px; height: 10px;background-color: rgb(255, 255, 0);\"></td><td title=\"Index: [9, 13]&#10;Color: (255, 255, 0)\" style=\"width: 10px; height: 10px;background-color: rgb(255, 255, 0);\"></td><td title=\"Index: [9, 14]&#10;Color: (255, 255, 0)\" style=\"width: 10px; height: 10px;background-color: rgb(255, 255, 0);\"></td><td title=\"Index: [9, 15]&#10;Color: (255, 255, 0)\" style=\"width: 10px; height: 10px;background-color: rgb(255, 255, 0);\"></td><td title=\"Index: [9, 16]&#10;Color: (255, 255, 0)\" style=\"width: 10px; height: 10px;background-color: rgb(255, 255, 0);\"></td><td title=\"Index: [9, 17]&#10;Color: (255, 255, 0)\" style=\"width: 10px; height: 10px;background-color: rgb(255, 255, 0);\"></td><td title=\"Index: [9, 18]&#10;Color: (255, 255, 0)\" style=\"width: 10px; height: 10px;background-color: rgb(255, 255, 0);\"></td><td title=\"Index: [9, 19]&#10;Color: (255, 255, 0)\" style=\"width: 10px; height: 10px;background-color: rgb(255, 255, 0);\"></td></tr><tr><td title=\"Index: [10, 0]&#10;Color: (0, 255, 255)\" style=\"width: 10px; height: 10px;background-color: rgb(0, 255, 255);\"></td><td title=\"Index: [10, 1]&#10;Color: (0, 255, 255)\" style=\"width: 10px; height: 10px;background-color: rgb(0, 255, 255);\"></td><td title=\"Index: [10, 2]&#10;Color: (0, 255, 255)\" style=\"width: 10px; height: 10px;background-color: rgb(0, 255, 255);\"></td><td title=\"Index: [10, 3]&#10;Color: (0, 255, 255)\" style=\"width: 10px; height: 10px;background-color: rgb(0, 255, 255);\"></td><td title=\"Index: [10, 4]&#10;Color: (0, 255, 255)\" style=\"width: 10px; height: 10px;background-color: rgb(0, 255, 255);\"></td><td title=\"Index: [10, 5]&#10;Color: (0, 255, 255)\" style=\"width: 10px; height: 10px;background-color: rgb(0, 255, 255);\"></td><td title=\"Index: [10, 6]&#10;Color: (0, 255, 255)\" style=\"width: 10px; height: 10px;background-color: rgb(0, 255, 255);\"></td><td title=\"Index: [10, 7]&#10;Color: (0, 255, 255)\" style=\"width: 10px; height: 10px;background-color: rgb(0, 255, 255);\"></td><td title=\"Index: [10, 8]&#10;Color: (0, 255, 255)\" style=\"width: 10px; height: 10px;background-color: rgb(0, 255, 255);\"></td><td title=\"Index: [10, 9]&#10;Color: (0, 255, 255)\" style=\"width: 10px; height: 10px;background-color: rgb(0, 255, 255);\"></td><td title=\"Index: [10, 10]&#10;Color: (255, 116, 116)\" style=\"width: 10px; height: 10px;background-color: rgb(255, 116, 116);\"></td><td title=\"Index: [10, 11]&#10;Color: (255, 116, 116)\" style=\"width: 10px; height: 10px;background-color: rgb(255, 116, 116);\"></td><td title=\"Index: [10, 12]&#10;Color: (255, 116, 116)\" style=\"width: 10px; height: 10px;background-color: rgb(255, 116, 116);\"></td><td title=\"Index: [10, 13]&#10;Color: (255, 116, 116)\" style=\"width: 10px; height: 10px;background-color: rgb(255, 116, 116);\"></td><td title=\"Index: [10, 14]&#10;Color: (255, 116, 116)\" style=\"width: 10px; height: 10px;background-color: rgb(255, 116, 116);\"></td><td title=\"Index: [10, 15]&#10;Color: (255, 116, 116)\" style=\"width: 10px; height: 10px;background-color: rgb(255, 116, 116);\"></td><td title=\"Index: [10, 16]&#10;Color: (255, 116, 116)\" style=\"width: 10px; height: 10px;background-color: rgb(255, 116, 116);\"></td><td title=\"Index: [10, 17]&#10;Color: (255, 116, 116)\" style=\"width: 10px; height: 10px;background-color: rgb(255, 116, 116);\"></td><td title=\"Index: [10, 18]&#10;Color: (255, 116, 116)\" style=\"width: 10px; height: 10px;background-color: rgb(255, 116, 116);\"></td><td title=\"Index: [10, 19]&#10;Color: (255, 116, 116)\" style=\"width: 10px; height: 10px;background-color: rgb(255, 116, 116);\"></td></tr><tr><td title=\"Index: [11, 0]&#10;Color: (0, 255, 255)\" style=\"width: 10px; height: 10px;background-color: rgb(0, 255, 255);\"></td><td title=\"Index: [11, 1]&#10;Color: (0, 255, 255)\" style=\"width: 10px; height: 10px;background-color: rgb(0, 255, 255);\"></td><td title=\"Index: [11, 2]&#10;Color: (0, 255, 255)\" style=\"width: 10px; height: 10px;background-color: rgb(0, 255, 255);\"></td><td title=\"Index: [11, 3]&#10;Color: (0, 255, 255)\" style=\"width: 10px; height: 10px;background-color: rgb(0, 255, 255);\"></td><td title=\"Index: [11, 4]&#10;Color: (0, 255, 255)\" style=\"width: 10px; height: 10px;background-color: rgb(0, 255, 255);\"></td><td title=\"Index: [11, 5]&#10;Color: (0, 255, 255)\" style=\"width: 10px; height: 10px;background-color: rgb(0, 255, 255);\"></td><td title=\"Index: [11, 6]&#10;Color: (0, 255, 255)\" style=\"width: 10px; height: 10px;background-color: rgb(0, 255, 255);\"></td><td title=\"Index: [11, 7]&#10;Color: (0, 255, 255)\" style=\"width: 10px; height: 10px;background-color: rgb(0, 255, 255);\"></td><td title=\"Index: [11, 8]&#10;Color: (0, 255, 255)\" style=\"width: 10px; height: 10px;background-color: rgb(0, 255, 255);\"></td><td title=\"Index: [11, 9]&#10;Color: (0, 255, 255)\" style=\"width: 10px; height: 10px;background-color: rgb(0, 255, 255);\"></td><td title=\"Index: [11, 10]&#10;Color: (255, 116, 116)\" style=\"width: 10px; height: 10px;background-color: rgb(255, 116, 116);\"></td><td title=\"Index: [11, 11]&#10;Color: (255, 116, 116)\" style=\"width: 10px; height: 10px;background-color: rgb(255, 116, 116);\"></td><td title=\"Index: [11, 12]&#10;Color: (255, 116, 116)\" style=\"width: 10px; height: 10px;background-color: rgb(255, 116, 116);\"></td><td title=\"Index: [11, 13]&#10;Color: (255, 116, 116)\" style=\"width: 10px; height: 10px;background-color: rgb(255, 116, 116);\"></td><td title=\"Index: [11, 14]&#10;Color: (255, 116, 116)\" style=\"width: 10px; height: 10px;background-color: rgb(255, 116, 116);\"></td><td title=\"Index: [11, 15]&#10;Color: (255, 116, 116)\" style=\"width: 10px; height: 10px;background-color: rgb(255, 116, 116);\"></td><td title=\"Index: [11, 16]&#10;Color: (255, 116, 116)\" style=\"width: 10px; height: 10px;background-color: rgb(255, 116, 116);\"></td><td title=\"Index: [11, 17]&#10;Color: (255, 116, 116)\" style=\"width: 10px; height: 10px;background-color: rgb(255, 116, 116);\"></td><td title=\"Index: [11, 18]&#10;Color: (255, 116, 116)\" style=\"width: 10px; height: 10px;background-color: rgb(255, 116, 116);\"></td><td title=\"Index: [11, 19]&#10;Color: (255, 116, 116)\" style=\"width: 10px; height: 10px;background-color: rgb(255, 116, 116);\"></td></tr><tr><td title=\"Index: [12, 0]&#10;Color: (0, 255, 255)\" style=\"width: 10px; height: 10px;background-color: rgb(0, 255, 255);\"></td><td title=\"Index: [12, 1]&#10;Color: (0, 255, 255)\" style=\"width: 10px; height: 10px;background-color: rgb(0, 255, 255);\"></td><td title=\"Index: [12, 2]&#10;Color: (0, 255, 255)\" style=\"width: 10px; height: 10px;background-color: rgb(0, 255, 255);\"></td><td title=\"Index: [12, 3]&#10;Color: (0, 255, 255)\" style=\"width: 10px; height: 10px;background-color: rgb(0, 255, 255);\"></td><td title=\"Index: [12, 4]&#10;Color: (0, 255, 255)\" style=\"width: 10px; height: 10px;background-color: rgb(0, 255, 255);\"></td><td title=\"Index: [12, 5]&#10;Color: (0, 255, 255)\" style=\"width: 10px; height: 10px;background-color: rgb(0, 255, 255);\"></td><td title=\"Index: [12, 6]&#10;Color: (0, 255, 255)\" style=\"width: 10px; height: 10px;background-color: rgb(0, 255, 255);\"></td><td title=\"Index: [12, 7]&#10;Color: (0, 255, 255)\" style=\"width: 10px; height: 10px;background-color: rgb(0, 255, 255);\"></td><td title=\"Index: [12, 8]&#10;Color: (0, 255, 255)\" style=\"width: 10px; height: 10px;background-color: rgb(0, 255, 255);\"></td><td title=\"Index: [12, 9]&#10;Color: (0, 255, 255)\" style=\"width: 10px; height: 10px;background-color: rgb(0, 255, 255);\"></td><td title=\"Index: [12, 10]&#10;Color: (255, 116, 116)\" style=\"width: 10px; height: 10px;background-color: rgb(255, 116, 116);\"></td><td title=\"Index: [12, 11]&#10;Color: (255, 116, 116)\" style=\"width: 10px; height: 10px;background-color: rgb(255, 116, 116);\"></td><td title=\"Index: [12, 12]&#10;Color: (255, 116, 116)\" style=\"width: 10px; height: 10px;background-color: rgb(255, 116, 116);\"></td><td title=\"Index: [12, 13]&#10;Color: (255, 116, 116)\" style=\"width: 10px; height: 10px;background-color: rgb(255, 116, 116);\"></td><td title=\"Index: [12, 14]&#10;Color: (255, 116, 116)\" style=\"width: 10px; height: 10px;background-color: rgb(255, 116, 116);\"></td><td title=\"Index: [12, 15]&#10;Color: (255, 116, 116)\" style=\"width: 10px; height: 10px;background-color: rgb(255, 116, 116);\"></td><td title=\"Index: [12, 16]&#10;Color: (255, 116, 116)\" style=\"width: 10px; height: 10px;background-color: rgb(255, 116, 116);\"></td><td title=\"Index: [12, 17]&#10;Color: (255, 116, 116)\" style=\"width: 10px; height: 10px;background-color: rgb(255, 116, 116);\"></td><td title=\"Index: [12, 18]&#10;Color: (255, 116, 116)\" style=\"width: 10px; height: 10px;background-color: rgb(255, 116, 116);\"></td><td title=\"Index: [12, 19]&#10;Color: (255, 116, 116)\" style=\"width: 10px; height: 10px;background-color: rgb(255, 116, 116);\"></td></tr><tr><td title=\"Index: [13, 0]&#10;Color: (0, 255, 255)\" style=\"width: 10px; height: 10px;background-color: rgb(0, 255, 255);\"></td><td title=\"Index: [13, 1]&#10;Color: (0, 255, 255)\" style=\"width: 10px; height: 10px;background-color: rgb(0, 255, 255);\"></td><td title=\"Index: [13, 2]&#10;Color: (0, 255, 255)\" style=\"width: 10px; height: 10px;background-color: rgb(0, 255, 255);\"></td><td title=\"Index: [13, 3]&#10;Color: (0, 255, 255)\" style=\"width: 10px; height: 10px;background-color: rgb(0, 255, 255);\"></td><td title=\"Index: [13, 4]&#10;Color: (0, 255, 255)\" style=\"width: 10px; height: 10px;background-color: rgb(0, 255, 255);\"></td><td title=\"Index: [13, 5]&#10;Color: (0, 255, 255)\" style=\"width: 10px; height: 10px;background-color: rgb(0, 255, 255);\"></td><td title=\"Index: [13, 6]&#10;Color: (0, 255, 255)\" style=\"width: 10px; height: 10px;background-color: rgb(0, 255, 255);\"></td><td title=\"Index: [13, 7]&#10;Color: (0, 255, 255)\" style=\"width: 10px; height: 10px;background-color: rgb(0, 255, 255);\"></td><td title=\"Index: [13, 8]&#10;Color: (0, 255, 255)\" style=\"width: 10px; height: 10px;background-color: rgb(0, 255, 255);\"></td><td title=\"Index: [13, 9]&#10;Color: (0, 255, 255)\" style=\"width: 10px; height: 10px;background-color: rgb(0, 255, 255);\"></td><td title=\"Index: [13, 10]&#10;Color: (255, 116, 116)\" style=\"width: 10px; height: 10px;background-color: rgb(255, 116, 116);\"></td><td title=\"Index: [13, 11]&#10;Color: (255, 116, 116)\" style=\"width: 10px; height: 10px;background-color: rgb(255, 116, 116);\"></td><td title=\"Index: [13, 12]&#10;Color: (255, 116, 116)\" style=\"width: 10px; height: 10px;background-color: rgb(255, 116, 116);\"></td><td title=\"Index: [13, 13]&#10;Color: (255, 116, 116)\" style=\"width: 10px; height: 10px;background-color: rgb(255, 116, 116);\"></td><td title=\"Index: [13, 14]&#10;Color: (255, 116, 116)\" style=\"width: 10px; height: 10px;background-color: rgb(255, 116, 116);\"></td><td title=\"Index: [13, 15]&#10;Color: (255, 116, 116)\" style=\"width: 10px; height: 10px;background-color: rgb(255, 116, 116);\"></td><td title=\"Index: [13, 16]&#10;Color: (255, 116, 116)\" style=\"width: 10px; height: 10px;background-color: rgb(255, 116, 116);\"></td><td title=\"Index: [13, 17]&#10;Color: (255, 116, 116)\" style=\"width: 10px; height: 10px;background-color: rgb(255, 116, 116);\"></td><td title=\"Index: [13, 18]&#10;Color: (255, 116, 116)\" style=\"width: 10px; height: 10px;background-color: rgb(255, 116, 116);\"></td><td title=\"Index: [13, 19]&#10;Color: (255, 116, 116)\" style=\"width: 10px; height: 10px;background-color: rgb(255, 116, 116);\"></td></tr><tr><td title=\"Index: [14, 0]&#10;Color: (0, 255, 255)\" style=\"width: 10px; height: 10px;background-color: rgb(0, 255, 255);\"></td><td title=\"Index: [14, 1]&#10;Color: (0, 255, 255)\" style=\"width: 10px; height: 10px;background-color: rgb(0, 255, 255);\"></td><td title=\"Index: [14, 2]&#10;Color: (0, 255, 255)\" style=\"width: 10px; height: 10px;background-color: rgb(0, 255, 255);\"></td><td title=\"Index: [14, 3]&#10;Color: (0, 255, 255)\" style=\"width: 10px; height: 10px;background-color: rgb(0, 255, 255);\"></td><td title=\"Index: [14, 4]&#10;Color: (0, 255, 255)\" style=\"width: 10px; height: 10px;background-color: rgb(0, 255, 255);\"></td><td title=\"Index: [14, 5]&#10;Color: (0, 255, 255)\" style=\"width: 10px; height: 10px;background-color: rgb(0, 255, 255);\"></td><td title=\"Index: [14, 6]&#10;Color: (0, 255, 255)\" style=\"width: 10px; height: 10px;background-color: rgb(0, 255, 255);\"></td><td title=\"Index: [14, 7]&#10;Color: (0, 255, 255)\" style=\"width: 10px; height: 10px;background-color: rgb(0, 255, 255);\"></td><td title=\"Index: [14, 8]&#10;Color: (0, 255, 255)\" style=\"width: 10px; height: 10px;background-color: rgb(0, 255, 255);\"></td><td title=\"Index: [14, 9]&#10;Color: (0, 255, 255)\" style=\"width: 10px; height: 10px;background-color: rgb(0, 255, 255);\"></td><td title=\"Index: [14, 10]&#10;Color: (255, 116, 116)\" style=\"width: 10px; height: 10px;background-color: rgb(255, 116, 116);\"></td><td title=\"Index: [14, 11]&#10;Color: (255, 116, 116)\" style=\"width: 10px; height: 10px;background-color: rgb(255, 116, 116);\"></td><td title=\"Index: [14, 12]&#10;Color: (255, 116, 116)\" style=\"width: 10px; height: 10px;background-color: rgb(255, 116, 116);\"></td><td title=\"Index: [14, 13]&#10;Color: (255, 116, 116)\" style=\"width: 10px; height: 10px;background-color: rgb(255, 116, 116);\"></td><td title=\"Index: [14, 14]&#10;Color: (255, 116, 116)\" style=\"width: 10px; height: 10px;background-color: rgb(255, 116, 116);\"></td><td title=\"Index: [14, 15]&#10;Color: (255, 116, 116)\" style=\"width: 10px; height: 10px;background-color: rgb(255, 116, 116);\"></td><td title=\"Index: [14, 16]&#10;Color: (255, 116, 116)\" style=\"width: 10px; height: 10px;background-color: rgb(255, 116, 116);\"></td><td title=\"Index: [14, 17]&#10;Color: (255, 116, 116)\" style=\"width: 10px; height: 10px;background-color: rgb(255, 116, 116);\"></td><td title=\"Index: [14, 18]&#10;Color: (255, 116, 116)\" style=\"width: 10px; height: 10px;background-color: rgb(255, 116, 116);\"></td><td title=\"Index: [14, 19]&#10;Color: (255, 116, 116)\" style=\"width: 10px; height: 10px;background-color: rgb(255, 116, 116);\"></td></tr><tr><td title=\"Index: [15, 0]&#10;Color: (0, 255, 255)\" style=\"width: 10px; height: 10px;background-color: rgb(0, 255, 255);\"></td><td title=\"Index: [15, 1]&#10;Color: (0, 255, 255)\" style=\"width: 10px; height: 10px;background-color: rgb(0, 255, 255);\"></td><td title=\"Index: [15, 2]&#10;Color: (0, 255, 255)\" style=\"width: 10px; height: 10px;background-color: rgb(0, 255, 255);\"></td><td title=\"Index: [15, 3]&#10;Color: (0, 255, 255)\" style=\"width: 10px; height: 10px;background-color: rgb(0, 255, 255);\"></td><td title=\"Index: [15, 4]&#10;Color: (0, 255, 255)\" style=\"width: 10px; height: 10px;background-color: rgb(0, 255, 255);\"></td><td title=\"Index: [15, 5]&#10;Color: (0, 255, 255)\" style=\"width: 10px; height: 10px;background-color: rgb(0, 255, 255);\"></td><td title=\"Index: [15, 6]&#10;Color: (0, 255, 255)\" style=\"width: 10px; height: 10px;background-color: rgb(0, 255, 255);\"></td><td title=\"Index: [15, 7]&#10;Color: (0, 255, 255)\" style=\"width: 10px; height: 10px;background-color: rgb(0, 255, 255);\"></td><td title=\"Index: [15, 8]&#10;Color: (0, 255, 255)\" style=\"width: 10px; height: 10px;background-color: rgb(0, 255, 255);\"></td><td title=\"Index: [15, 9]&#10;Color: (0, 255, 255)\" style=\"width: 10px; height: 10px;background-color: rgb(0, 255, 255);\"></td><td title=\"Index: [15, 10]&#10;Color: (255, 116, 116)\" style=\"width: 10px; height: 10px;background-color: rgb(255, 116, 116);\"></td><td title=\"Index: [15, 11]&#10;Color: (255, 116, 116)\" style=\"width: 10px; height: 10px;background-color: rgb(255, 116, 116);\"></td><td title=\"Index: [15, 12]&#10;Color: (255, 116, 116)\" style=\"width: 10px; height: 10px;background-color: rgb(255, 116, 116);\"></td><td title=\"Index: [15, 13]&#10;Color: (255, 116, 116)\" style=\"width: 10px; height: 10px;background-color: rgb(255, 116, 116);\"></td><td title=\"Index: [15, 14]&#10;Color: (255, 116, 116)\" style=\"width: 10px; height: 10px;background-color: rgb(255, 116, 116);\"></td><td title=\"Index: [15, 15]&#10;Color: (255, 116, 116)\" style=\"width: 10px; height: 10px;background-color: rgb(255, 116, 116);\"></td><td title=\"Index: [15, 16]&#10;Color: (255, 116, 116)\" style=\"width: 10px; height: 10px;background-color: rgb(255, 116, 116);\"></td><td title=\"Index: [15, 17]&#10;Color: (255, 116, 116)\" style=\"width: 10px; height: 10px;background-color: rgb(255, 116, 116);\"></td><td title=\"Index: [15, 18]&#10;Color: (255, 116, 116)\" style=\"width: 10px; height: 10px;background-color: rgb(255, 116, 116);\"></td><td title=\"Index: [15, 19]&#10;Color: (255, 116, 116)\" style=\"width: 10px; height: 10px;background-color: rgb(255, 116, 116);\"></td></tr><tr><td title=\"Index: [16, 0]&#10;Color: (0, 255, 255)\" style=\"width: 10px; height: 10px;background-color: rgb(0, 255, 255);\"></td><td title=\"Index: [16, 1]&#10;Color: (0, 255, 255)\" style=\"width: 10px; height: 10px;background-color: rgb(0, 255, 255);\"></td><td title=\"Index: [16, 2]&#10;Color: (0, 255, 255)\" style=\"width: 10px; height: 10px;background-color: rgb(0, 255, 255);\"></td><td title=\"Index: [16, 3]&#10;Color: (0, 255, 255)\" style=\"width: 10px; height: 10px;background-color: rgb(0, 255, 255);\"></td><td title=\"Index: [16, 4]&#10;Color: (0, 255, 255)\" style=\"width: 10px; height: 10px;background-color: rgb(0, 255, 255);\"></td><td title=\"Index: [16, 5]&#10;Color: (0, 255, 255)\" style=\"width: 10px; height: 10px;background-color: rgb(0, 255, 255);\"></td><td title=\"Index: [16, 6]&#10;Color: (0, 255, 255)\" style=\"width: 10px; height: 10px;background-color: rgb(0, 255, 255);\"></td><td title=\"Index: [16, 7]&#10;Color: (0, 255, 255)\" style=\"width: 10px; height: 10px;background-color: rgb(0, 255, 255);\"></td><td title=\"Index: [16, 8]&#10;Color: (0, 255, 255)\" style=\"width: 10px; height: 10px;background-color: rgb(0, 255, 255);\"></td><td title=\"Index: [16, 9]&#10;Color: (0, 255, 255)\" style=\"width: 10px; height: 10px;background-color: rgb(0, 255, 255);\"></td><td title=\"Index: [16, 10]&#10;Color: (255, 116, 116)\" style=\"width: 10px; height: 10px;background-color: rgb(255, 116, 116);\"></td><td title=\"Index: [16, 11]&#10;Color: (255, 116, 116)\" style=\"width: 10px; height: 10px;background-color: rgb(255, 116, 116);\"></td><td title=\"Index: [16, 12]&#10;Color: (255, 116, 116)\" style=\"width: 10px; height: 10px;background-color: rgb(255, 116, 116);\"></td><td title=\"Index: [16, 13]&#10;Color: (255, 116, 116)\" style=\"width: 10px; height: 10px;background-color: rgb(255, 116, 116);\"></td><td title=\"Index: [16, 14]&#10;Color: (255, 116, 116)\" style=\"width: 10px; height: 10px;background-color: rgb(255, 116, 116);\"></td><td title=\"Index: [16, 15]&#10;Color: (255, 116, 116)\" style=\"width: 10px; height: 10px;background-color: rgb(255, 116, 116);\"></td><td title=\"Index: [16, 16]&#10;Color: (255, 116, 116)\" style=\"width: 10px; height: 10px;background-color: rgb(255, 116, 116);\"></td><td title=\"Index: [16, 17]&#10;Color: (255, 116, 116)\" style=\"width: 10px; height: 10px;background-color: rgb(255, 116, 116);\"></td><td title=\"Index: [16, 18]&#10;Color: (255, 116, 116)\" style=\"width: 10px; height: 10px;background-color: rgb(255, 116, 116);\"></td><td title=\"Index: [16, 19]&#10;Color: (255, 116, 116)\" style=\"width: 10px; height: 10px;background-color: rgb(255, 116, 116);\"></td></tr><tr><td title=\"Index: [17, 0]&#10;Color: (0, 255, 255)\" style=\"width: 10px; height: 10px;background-color: rgb(0, 255, 255);\"></td><td title=\"Index: [17, 1]&#10;Color: (0, 255, 255)\" style=\"width: 10px; height: 10px;background-color: rgb(0, 255, 255);\"></td><td title=\"Index: [17, 2]&#10;Color: (0, 255, 255)\" style=\"width: 10px; height: 10px;background-color: rgb(0, 255, 255);\"></td><td title=\"Index: [17, 3]&#10;Color: (0, 255, 255)\" style=\"width: 10px; height: 10px;background-color: rgb(0, 255, 255);\"></td><td title=\"Index: [17, 4]&#10;Color: (0, 255, 255)\" style=\"width: 10px; height: 10px;background-color: rgb(0, 255, 255);\"></td><td title=\"Index: [17, 5]&#10;Color: (0, 255, 255)\" style=\"width: 10px; height: 10px;background-color: rgb(0, 255, 255);\"></td><td title=\"Index: [17, 6]&#10;Color: (0, 255, 255)\" style=\"width: 10px; height: 10px;background-color: rgb(0, 255, 255);\"></td><td title=\"Index: [17, 7]&#10;Color: (0, 255, 255)\" style=\"width: 10px; height: 10px;background-color: rgb(0, 255, 255);\"></td><td title=\"Index: [17, 8]&#10;Color: (0, 255, 255)\" style=\"width: 10px; height: 10px;background-color: rgb(0, 255, 255);\"></td><td title=\"Index: [17, 9]&#10;Color: (0, 255, 255)\" style=\"width: 10px; height: 10px;background-color: rgb(0, 255, 255);\"></td><td title=\"Index: [17, 10]&#10;Color: (255, 255, 0)\" style=\"width: 10px; height: 10px;background-color: rgb(255, 255, 0);\"></td><td title=\"Index: [17, 11]&#10;Color: (255, 255, 0)\" style=\"width: 10px; height: 10px;background-color: rgb(255, 255, 0);\"></td><td title=\"Index: [17, 12]&#10;Color: (255, 255, 0)\" style=\"width: 10px; height: 10px;background-color: rgb(255, 255, 0);\"></td><td title=\"Index: [17, 13]&#10;Color: (255, 255, 0)\" style=\"width: 10px; height: 10px;background-color: rgb(255, 255, 0);\"></td><td title=\"Index: [17, 14]&#10;Color: (255, 255, 0)\" style=\"width: 10px; height: 10px;background-color: rgb(255, 255, 0);\"></td><td title=\"Index: [17, 15]&#10;Color: (255, 255, 0)\" style=\"width: 10px; height: 10px;background-color: rgb(255, 255, 0);\"></td><td title=\"Index: [17, 16]&#10;Color: (255, 255, 0)\" style=\"width: 10px; height: 10px;background-color: rgb(255, 255, 0);\"></td><td title=\"Index: [17, 17]&#10;Color: (255, 255, 0)\" style=\"width: 10px; height: 10px;background-color: rgb(255, 255, 0);\"></td><td title=\"Index: [17, 18]&#10;Color: (255, 255, 0)\" style=\"width: 10px; height: 10px;background-color: rgb(255, 255, 0);\"></td><td title=\"Index: [17, 19]&#10;Color: (255, 255, 0)\" style=\"width: 10px; height: 10px;background-color: rgb(255, 255, 0);\"></td></tr><tr><td title=\"Index: [18, 0]&#10;Color: (0, 255, 255)\" style=\"width: 10px; height: 10px;background-color: rgb(0, 255, 255);\"></td><td title=\"Index: [18, 1]&#10;Color: (0, 255, 255)\" style=\"width: 10px; height: 10px;background-color: rgb(0, 255, 255);\"></td><td title=\"Index: [18, 2]&#10;Color: (0, 255, 255)\" style=\"width: 10px; height: 10px;background-color: rgb(0, 255, 255);\"></td><td title=\"Index: [18, 3]&#10;Color: (0, 255, 255)\" style=\"width: 10px; height: 10px;background-color: rgb(0, 255, 255);\"></td><td title=\"Index: [18, 4]&#10;Color: (0, 255, 255)\" style=\"width: 10px; height: 10px;background-color: rgb(0, 255, 255);\"></td><td title=\"Index: [18, 5]&#10;Color: (0, 255, 255)\" style=\"width: 10px; height: 10px;background-color: rgb(0, 255, 255);\"></td><td title=\"Index: [18, 6]&#10;Color: (0, 255, 255)\" style=\"width: 10px; height: 10px;background-color: rgb(0, 255, 255);\"></td><td title=\"Index: [18, 7]&#10;Color: (0, 255, 255)\" style=\"width: 10px; height: 10px;background-color: rgb(0, 255, 255);\"></td><td title=\"Index: [18, 8]&#10;Color: (0, 255, 255)\" style=\"width: 10px; height: 10px;background-color: rgb(0, 255, 255);\"></td><td title=\"Index: [18, 9]&#10;Color: (0, 255, 255)\" style=\"width: 10px; height: 10px;background-color: rgb(0, 255, 255);\"></td><td title=\"Index: [18, 10]&#10;Color: (255, 116, 116)\" style=\"width: 10px; height: 10px;background-color: rgb(255, 116, 116);\"></td><td title=\"Index: [18, 11]&#10;Color: (255, 116, 116)\" style=\"width: 10px; height: 10px;background-color: rgb(255, 116, 116);\"></td><td title=\"Index: [18, 12]&#10;Color: (255, 116, 116)\" style=\"width: 10px; height: 10px;background-color: rgb(255, 116, 116);\"></td><td title=\"Index: [18, 13]&#10;Color: (255, 116, 116)\" style=\"width: 10px; height: 10px;background-color: rgb(255, 116, 116);\"></td><td title=\"Index: [18, 14]&#10;Color: (255, 116, 116)\" style=\"width: 10px; height: 10px;background-color: rgb(255, 116, 116);\"></td><td title=\"Index: [18, 15]&#10;Color: (255, 116, 116)\" style=\"width: 10px; height: 10px;background-color: rgb(255, 116, 116);\"></td><td title=\"Index: [18, 16]&#10;Color: (255, 116, 116)\" style=\"width: 10px; height: 10px;background-color: rgb(255, 116, 116);\"></td><td title=\"Index: [18, 17]&#10;Color: (255, 116, 116)\" style=\"width: 10px; height: 10px;background-color: rgb(255, 116, 116);\"></td><td title=\"Index: [18, 18]&#10;Color: (255, 116, 116)\" style=\"width: 10px; height: 10px;background-color: rgb(255, 116, 116);\"></td><td title=\"Index: [18, 19]&#10;Color: (255, 116, 116)\" style=\"width: 10px; height: 10px;background-color: rgb(255, 116, 116);\"></td></tr><tr><td title=\"Index: [19, 0]&#10;Color: (0, 255, 255)\" style=\"width: 10px; height: 10px;background-color: rgb(0, 255, 255);\"></td><td title=\"Index: [19, 1]&#10;Color: (0, 255, 255)\" style=\"width: 10px; height: 10px;background-color: rgb(0, 255, 255);\"></td><td title=\"Index: [19, 2]&#10;Color: (0, 255, 255)\" style=\"width: 10px; height: 10px;background-color: rgb(0, 255, 255);\"></td><td title=\"Index: [19, 3]&#10;Color: (0, 255, 255)\" style=\"width: 10px; height: 10px;background-color: rgb(0, 255, 255);\"></td><td title=\"Index: [19, 4]&#10;Color: (0, 255, 255)\" style=\"width: 10px; height: 10px;background-color: rgb(0, 255, 255);\"></td><td title=\"Index: [19, 5]&#10;Color: (0, 255, 255)\" style=\"width: 10px; height: 10px;background-color: rgb(0, 255, 255);\"></td><td title=\"Index: [19, 6]&#10;Color: (0, 255, 255)\" style=\"width: 10px; height: 10px;background-color: rgb(0, 255, 255);\"></td><td title=\"Index: [19, 7]&#10;Color: (0, 255, 255)\" style=\"width: 10px; height: 10px;background-color: rgb(0, 255, 255);\"></td><td title=\"Index: [19, 8]&#10;Color: (0, 255, 255)\" style=\"width: 10px; height: 10px;background-color: rgb(0, 255, 255);\"></td><td title=\"Index: [19, 9]&#10;Color: (0, 255, 255)\" style=\"width: 10px; height: 10px;background-color: rgb(0, 255, 255);\"></td><td title=\"Index: [19, 10]&#10;Color: (255, 116, 116)\" style=\"width: 10px; height: 10px;background-color: rgb(255, 116, 116);\"></td><td title=\"Index: [19, 11]&#10;Color: (255, 116, 116)\" style=\"width: 10px; height: 10px;background-color: rgb(255, 116, 116);\"></td><td title=\"Index: [19, 12]&#10;Color: (255, 116, 116)\" style=\"width: 10px; height: 10px;background-color: rgb(255, 116, 116);\"></td><td title=\"Index: [19, 13]&#10;Color: (255, 116, 116)\" style=\"width: 10px; height: 10px;background-color: rgb(255, 116, 116);\"></td><td title=\"Index: [19, 14]&#10;Color: (255, 116, 116)\" style=\"width: 10px; height: 10px;background-color: rgb(255, 116, 116);\"></td><td title=\"Index: [19, 15]&#10;Color: (255, 116, 116)\" style=\"width: 10px; height: 10px;background-color: rgb(255, 116, 116);\"></td><td title=\"Index: [19, 16]&#10;Color: (255, 116, 116)\" style=\"width: 10px; height: 10px;background-color: rgb(255, 116, 116);\"></td><td title=\"Index: [19, 17]&#10;Color: (255, 116, 116)\" style=\"width: 10px; height: 10px;background-color: rgb(255, 116, 116);\"></td><td title=\"Index: [19, 18]&#10;Color: (255, 116, 116)\" style=\"width: 10px; height: 10px;background-color: rgb(255, 116, 116);\"></td><td title=\"Index: [19, 19]&#10;Color: (255, 116, 116)\" style=\"width: 10px; height: 10px;background-color: rgb(255, 116, 116);\"></td></tr></tbody></table>"
      ],
      "text/plain": [
       "<ipythonblocks.BlockGrid at 0x10fe9a3c8>"
      ]
     },
     "execution_count": 52,
     "metadata": {},
     "output_type": "execute_result"
    }
   ],
   "source": [
    "invert(grid20)"
   ]
  },
  {
   "cell_type": "code",
   "execution_count": 54,
   "metadata": {},
   "outputs": [
    {
     "data": {
      "text/plain": [
       "{'abc': 1, 'def': 2}"
      ]
     },
     "execution_count": 54,
     "metadata": {},
     "output_type": "execute_result"
    }
   ],
   "source": [
    "True, False  # booleans\n",
    "None # None\n",
    "1, 2, 3 # integers\n",
    "2.5, 3.14 # floating point\n",
    "'abc', 'Hello' # strings\n",
    "[1, 2, 3, 'abc', 'def']  # list\n",
    "(1, 2, 3, 'abc', 'def')  # tuple\n",
    "{'abc': 1, 'def': 2}  # dictionary"
   ]
  },
  {
   "cell_type": "code",
   "execution_count": 55,
   "metadata": {
    "collapsed": true
   },
   "outputs": [],
   "source": [
    "string = 'Hello scipy!'"
   ]
  },
  {
   "cell_type": "code",
   "execution_count": 56,
   "metadata": {},
   "outputs": [
    {
     "data": {
      "text/plain": [
       "'Hello'"
      ]
     },
     "execution_count": 56,
     "metadata": {},
     "output_type": "execute_result"
    }
   ],
   "source": [
    "string[:5]"
   ]
  },
  {
   "cell_type": "code",
   "execution_count": 57,
   "metadata": {},
   "outputs": [
    {
     "data": {
      "text/plain": [
       "'l'"
      ]
     },
     "execution_count": 57,
     "metadata": {},
     "output_type": "execute_result"
    }
   ],
   "source": [
    "string[2]"
   ]
  },
  {
   "cell_type": "code",
   "execution_count": 58,
   "metadata": {},
   "outputs": [
    {
     "data": {
      "text/plain": [
       "'hello scipy!'"
      ]
     },
     "execution_count": 58,
     "metadata": {},
     "output_type": "execute_result"
    }
   ],
   "source": [
    "string.lower()"
   ]
  },
  {
   "cell_type": "code",
   "execution_count": 59,
   "metadata": {
    "collapsed": true
   },
   "outputs": [],
   "source": [
    "demo_list = [1, 2, 3, 'abc', 'def']"
   ]
  },
  {
   "cell_type": "code",
   "execution_count": 60,
   "metadata": {},
   "outputs": [
    {
     "data": {
      "text/plain": [
       "[1, 2]"
      ]
     },
     "execution_count": 60,
     "metadata": {},
     "output_type": "execute_result"
    }
   ],
   "source": [
    "demo_list[:2]"
   ]
  },
  {
   "cell_type": "code",
   "execution_count": 61,
   "metadata": {
    "collapsed": true
   },
   "outputs": [],
   "source": [
    "demo_list.append(16)"
   ]
  },
  {
   "cell_type": "code",
   "execution_count": 62,
   "metadata": {},
   "outputs": [
    {
     "data": {
      "text/plain": [
       "[1, 2, 3, 'abc', 'def', 16]"
      ]
     },
     "execution_count": 62,
     "metadata": {},
     "output_type": "execute_result"
    }
   ],
   "source": [
    "demo_list"
   ]
  },
  {
   "cell_type": "code",
   "execution_count": 63,
   "metadata": {},
   "outputs": [
    {
     "data": {
      "text/plain": [
       "6"
      ]
     },
     "execution_count": 63,
     "metadata": {},
     "output_type": "execute_result"
    }
   ],
   "source": [
    "len(demo_list)"
   ]
  },
  {
   "cell_type": "code",
   "execution_count": 66,
   "metadata": {},
   "outputs": [
    {
     "data": {
      "text/plain": [
       "3"
      ]
     },
     "execution_count": 66,
     "metadata": {},
     "output_type": "execute_result"
    }
   ],
   "source": [
    "demo_list[2]"
   ]
  },
  {
   "cell_type": "code",
   "execution_count": 65,
   "metadata": {
    "collapsed": true
   },
   "outputs": [],
   "source": [
    "dictionary = {'abc': 1, 'def': 2}"
   ]
  },
  {
   "cell_type": "code",
   "execution_count": 67,
   "metadata": {},
   "outputs": [
    {
     "data": {
      "text/plain": [
       "2"
      ]
     },
     "execution_count": 67,
     "metadata": {},
     "output_type": "execute_result"
    }
   ],
   "source": [
    "dictionary['def']"
   ]
  },
  {
   "cell_type": "code",
   "execution_count": 68,
   "metadata": {},
   "outputs": [
    {
     "data": {
      "text/plain": [
       "{'abc': 1, 'def': 2, 'hello': 'scipy'}"
      ]
     },
     "execution_count": 68,
     "metadata": {},
     "output_type": "execute_result"
    }
   ],
   "source": [
    "dictionary['hello'] = 'scipy'\n",
    "dictionary"
   ]
  },
  {
   "cell_type": "code",
   "execution_count": 69,
   "metadata": {
    "collapsed": true
   },
   "outputs": [],
   "source": [
    "dictionary['container'] = [1, 2, 3, 4, 5]"
   ]
  },
  {
   "cell_type": "code",
   "execution_count": 70,
   "metadata": {},
   "outputs": [
    {
     "data": {
      "text/plain": [
       "{'abc': 1, 'def': 2, 'hello': 'scipy', 'container': [1, 2, 3, 4, 5]}"
      ]
     },
     "execution_count": 70,
     "metadata": {},
     "output_type": "execute_result"
    }
   ],
   "source": [
    "dictionary"
   ]
  },
  {
   "cell_type": "code",
   "execution_count": 71,
   "metadata": {},
   "outputs": [
    {
     "data": {
      "text/plain": [
       "[1, 2, 3, 'abc', 'def', 16]"
      ]
     },
     "execution_count": 71,
     "metadata": {},
     "output_type": "execute_result"
    }
   ],
   "source": [
    "demo_list"
   ]
  },
  {
   "cell_type": "code",
   "execution_count": 73,
   "metadata": {},
   "outputs": [
    {
     "data": {
      "text/plain": [
       "[6, 9, 10, 14]"
      ]
     },
     "execution_count": 73,
     "metadata": {},
     "output_type": "execute_result"
    }
   ],
   "source": [
    "sorted([10, 6, 9, 14])"
   ]
  },
  {
   "cell_type": "code",
   "execution_count": null,
   "metadata": {
    "collapsed": true
   },
   "outputs": [],
   "source": [
    "example_list.sort()"
   ]
  },
  {
   "cell_type": "code",
   "execution_count": 74,
   "metadata": {},
   "outputs": [
    {
     "data": {
      "text/plain": [
       "(2, '2')"
      ]
     },
     "execution_count": 74,
     "metadata": {},
     "output_type": "execute_result"
    }
   ],
   "source": [
    "2, '2'"
   ]
  },
  {
   "cell_type": "code",
   "execution_count": 75,
   "metadata": {},
   "outputs": [
    {
     "data": {
      "text/plain": [
       "(int, str)"
      ]
     },
     "execution_count": 75,
     "metadata": {},
     "output_type": "execute_result"
    }
   ],
   "source": [
    "type(2), type('2')"
   ]
  },
  {
   "cell_type": "code",
   "execution_count": 77,
   "metadata": {},
   "outputs": [
    {
     "data": {
      "text/plain": [
       "False"
      ]
     },
     "execution_count": 77,
     "metadata": {},
     "output_type": "execute_result"
    }
   ],
   "source": [
    "2 < int('2')"
   ]
  },
  {
   "cell_type": "code",
   "execution_count": 78,
   "metadata": {},
   "outputs": [
    {
     "data": {
      "text/plain": [
       "(int, float, '2')"
      ]
     },
     "execution_count": 78,
     "metadata": {},
     "output_type": "execute_result"
    }
   ],
   "source": [
    "int, float, str(2)"
   ]
  },
  {
   "cell_type": "code",
   "execution_count": 79,
   "metadata": {
    "scrolled": false
   },
   "outputs": [
    {
     "name": "stdout",
     "output_type": "stream",
     "text": [
      "The Zen of Python, by Tim Peters\n",
      "\n",
      "Beautiful is better than ugly.\n",
      "Explicit is better than implicit.\n",
      "Simple is better than complex.\n",
      "Complex is better than complicated.\n",
      "Flat is better than nested.\n",
      "Sparse is better than dense.\n",
      "Readability counts.\n",
      "Special cases aren't special enough to break the rules.\n",
      "Although practicality beats purity.\n",
      "Errors should never pass silently.\n",
      "Unless explicitly silenced.\n",
      "In the face of ambiguity, refuse the temptation to guess.\n",
      "There should be one-- and preferably only one --obvious way to do it.\n",
      "Although that way may not be obvious at first unless you're Dutch.\n",
      "Now is better than never.\n",
      "Although never is often better than *right* now.\n",
      "If the implementation is hard to explain, it's a bad idea.\n",
      "If the implementation is easy to explain, it may be a good idea.\n",
      "Namespaces are one honking great idea -- let's do more of those!\n"
     ]
    }
   ],
   "source": [
    "import this"
   ]
  },
  {
   "cell_type": "code",
   "execution_count": null,
   "metadata": {
    "collapsed": true
   },
   "outputs": [],
   "source": []
  }
 ],
 "metadata": {
  "kernelspec": {
   "display_name": "Python 3",
   "language": "python",
   "name": "python3"
  },
  "language_info": {
   "codemirror_mode": {
    "name": "ipython",
    "version": 3
   },
   "file_extension": ".py",
   "mimetype": "text/x-python",
   "name": "python",
   "nbconvert_exporter": "python",
   "pygments_lexer": "ipython3",
   "version": "3.6.3"
  }
 },
 "nbformat": 4,
 "nbformat_minor": 1
}
